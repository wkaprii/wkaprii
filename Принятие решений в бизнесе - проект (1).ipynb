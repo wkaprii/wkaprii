{
 "cells": [
  {
   "cell_type": "markdown",
   "metadata": {},
   "source": [
    "<H1>Проектная работа \"Принятие решений в бизнесе\" </H1>\n",
    "\n",
    "**Введение**:\n",
    "Небходимо провести аналитический проект для крупного интернет-магазина. При помощи отдела маркетинга был подготовен список гипотез для увеличения выручки.\n",
    "\n",
    "**Цель**: Провести А/В тестирование для интернет-магазина, опираясь на цель максимизации выручки.\n",
    "\n",
    "**Исходные данные**:\n",
    "- данные о каждом заказе интернет-магазина (дата, выручка, группа для теста)\n",
    "- данные о кол-ве пользователях по датам\n",
    "\n",
    "**План**:\n",
    "1. Первичная обработка данных\n",
    "- обзор данных\n",
    "- проверка на пропуски\n",
    "- проверка на дубликаты\n",
    "- проверка на корректность типов данных\n",
    "2. Приоритизация гипотез методами ICE и RICE\n",
    "- подсчет оценок ICE и RICE \n",
    "- выявление приоритетных гипотез\n",
    "3. Анализ А/В теста:\n",
    "- Кумулятивная выручка по группам\n",
    "- Кумулятивный средний чек по группам\n",
    "- Кумулятивное среднее количество заказов по группам\n",
    "- Проверка на проблемы аномалий\n",
    "- Удаление аномалий\n",
    "- Сравнение выводов для \"сырых\" и обработанных данных\n",
    "- Принятие решения об окончании или продлении проведения теста, резюмирование результатов, выявление победившей группы.\n"
   ]
  },
  {
   "cell_type": "markdown",
   "metadata": {},
   "source": [
    "### Первичная обработка данных"
   ]
  },
  {
   "cell_type": "code",
   "execution_count": 1,
   "metadata": {},
   "outputs": [],
   "source": [
    "import pandas as pd\n",
    "import datetime as dt\n",
    "import numpy as np\n",
    "from matplotlib import pyplot as plt\n",
    "from scipy import stats as st"
   ]
  },
  {
   "cell_type": "code",
   "execution_count": 2,
   "metadata": {},
   "outputs": [],
   "source": [
    "orders = pd.read_csv('/datasets/orders.csv')\n",
    "visitors = pd.read_csv('/datasets/visitors.csv')"
   ]
  },
  {
   "cell_type": "code",
   "execution_count": 3,
   "metadata": {},
   "outputs": [
    {
     "data": {
      "text/html": [
       "<div>\n",
       "<style scoped>\n",
       "    .dataframe tbody tr th:only-of-type {\n",
       "        vertical-align: middle;\n",
       "    }\n",
       "\n",
       "    .dataframe tbody tr th {\n",
       "        vertical-align: top;\n",
       "    }\n",
       "\n",
       "    .dataframe thead th {\n",
       "        text-align: right;\n",
       "    }\n",
       "</style>\n",
       "<table border=\"1\" class=\"dataframe\">\n",
       "  <thead>\n",
       "    <tr style=\"text-align: right;\">\n",
       "      <th></th>\n",
       "      <th>transactionId</th>\n",
       "      <th>visitorId</th>\n",
       "      <th>date</th>\n",
       "      <th>revenue</th>\n",
       "      <th>group</th>\n",
       "    </tr>\n",
       "  </thead>\n",
       "  <tbody>\n",
       "    <tr>\n",
       "      <th>0</th>\n",
       "      <td>3667963787</td>\n",
       "      <td>3312258926</td>\n",
       "      <td>2019-08-15</td>\n",
       "      <td>1650</td>\n",
       "      <td>B</td>\n",
       "    </tr>\n",
       "    <tr>\n",
       "      <th>1</th>\n",
       "      <td>2804400009</td>\n",
       "      <td>3642806036</td>\n",
       "      <td>2019-08-15</td>\n",
       "      <td>730</td>\n",
       "      <td>B</td>\n",
       "    </tr>\n",
       "    <tr>\n",
       "      <th>2</th>\n",
       "      <td>2961555356</td>\n",
       "      <td>4069496402</td>\n",
       "      <td>2019-08-15</td>\n",
       "      <td>400</td>\n",
       "      <td>A</td>\n",
       "    </tr>\n",
       "    <tr>\n",
       "      <th>3</th>\n",
       "      <td>3797467345</td>\n",
       "      <td>1196621759</td>\n",
       "      <td>2019-08-15</td>\n",
       "      <td>9759</td>\n",
       "      <td>B</td>\n",
       "    </tr>\n",
       "    <tr>\n",
       "      <th>4</th>\n",
       "      <td>2282983706</td>\n",
       "      <td>2322279887</td>\n",
       "      <td>2019-08-15</td>\n",
       "      <td>2308</td>\n",
       "      <td>B</td>\n",
       "    </tr>\n",
       "  </tbody>\n",
       "</table>\n",
       "</div>"
      ],
      "text/plain": [
       "   transactionId   visitorId        date  revenue group\n",
       "0     3667963787  3312258926  2019-08-15     1650     B\n",
       "1     2804400009  3642806036  2019-08-15      730     B\n",
       "2     2961555356  4069496402  2019-08-15      400     A\n",
       "3     3797467345  1196621759  2019-08-15     9759     B\n",
       "4     2282983706  2322279887  2019-08-15     2308     B"
      ]
     },
     "metadata": {},
     "output_type": "display_data"
    },
    {
     "data": {
      "text/html": [
       "<div>\n",
       "<style scoped>\n",
       "    .dataframe tbody tr th:only-of-type {\n",
       "        vertical-align: middle;\n",
       "    }\n",
       "\n",
       "    .dataframe tbody tr th {\n",
       "        vertical-align: top;\n",
       "    }\n",
       "\n",
       "    .dataframe thead th {\n",
       "        text-align: right;\n",
       "    }\n",
       "</style>\n",
       "<table border=\"1\" class=\"dataframe\">\n",
       "  <thead>\n",
       "    <tr style=\"text-align: right;\">\n",
       "      <th></th>\n",
       "      <th>date</th>\n",
       "      <th>group</th>\n",
       "      <th>visitors</th>\n",
       "    </tr>\n",
       "  </thead>\n",
       "  <tbody>\n",
       "    <tr>\n",
       "      <th>0</th>\n",
       "      <td>2019-08-01</td>\n",
       "      <td>A</td>\n",
       "      <td>719</td>\n",
       "    </tr>\n",
       "    <tr>\n",
       "      <th>1</th>\n",
       "      <td>2019-08-02</td>\n",
       "      <td>A</td>\n",
       "      <td>619</td>\n",
       "    </tr>\n",
       "    <tr>\n",
       "      <th>2</th>\n",
       "      <td>2019-08-03</td>\n",
       "      <td>A</td>\n",
       "      <td>507</td>\n",
       "    </tr>\n",
       "    <tr>\n",
       "      <th>3</th>\n",
       "      <td>2019-08-04</td>\n",
       "      <td>A</td>\n",
       "      <td>717</td>\n",
       "    </tr>\n",
       "    <tr>\n",
       "      <th>4</th>\n",
       "      <td>2019-08-05</td>\n",
       "      <td>A</td>\n",
       "      <td>756</td>\n",
       "    </tr>\n",
       "  </tbody>\n",
       "</table>\n",
       "</div>"
      ],
      "text/plain": [
       "         date group  visitors\n",
       "0  2019-08-01     A       719\n",
       "1  2019-08-02     A       619\n",
       "2  2019-08-03     A       507\n",
       "3  2019-08-04     A       717\n",
       "4  2019-08-05     A       756"
      ]
     },
     "metadata": {},
     "output_type": "display_data"
    }
   ],
   "source": [
    "display(orders.head(5))\n",
    "display(visitors.head(5))"
   ]
  },
  {
   "cell_type": "code",
   "execution_count": 4,
   "metadata": {},
   "outputs": [
    {
     "name": "stdout",
     "output_type": "stream",
     "text": [
      "<class 'pandas.core.frame.DataFrame'>\n",
      "RangeIndex: 1197 entries, 0 to 1196\n",
      "Data columns (total 5 columns):\n",
      " #   Column         Non-Null Count  Dtype \n",
      "---  ------         --------------  ----- \n",
      " 0   transactionId  1197 non-null   int64 \n",
      " 1   visitorId      1197 non-null   int64 \n",
      " 2   date           1197 non-null   object\n",
      " 3   revenue        1197 non-null   int64 \n",
      " 4   group          1197 non-null   object\n",
      "dtypes: int64(3), object(2)\n",
      "memory usage: 46.9+ KB\n"
     ]
    },
    {
     "data": {
      "text/plain": [
       "None"
      ]
     },
     "metadata": {},
     "output_type": "display_data"
    },
    {
     "name": "stdout",
     "output_type": "stream",
     "text": [
      "<class 'pandas.core.frame.DataFrame'>\n",
      "RangeIndex: 62 entries, 0 to 61\n",
      "Data columns (total 3 columns):\n",
      " #   Column    Non-Null Count  Dtype \n",
      "---  ------    --------------  ----- \n",
      " 0   date      62 non-null     object\n",
      " 1   group     62 non-null     object\n",
      " 2   visitors  62 non-null     int64 \n",
      "dtypes: int64(1), object(2)\n",
      "memory usage: 1.6+ KB\n"
     ]
    },
    {
     "data": {
      "text/plain": [
       "None"
      ]
     },
     "metadata": {},
     "output_type": "display_data"
    }
   ],
   "source": [
    "display(orders.info())\n",
    "display(visitors.info())"
   ]
  },
  {
   "cell_type": "markdown",
   "metadata": {},
   "source": [
    "Пропусков в данных нет."
   ]
  },
  {
   "cell_type": "code",
   "execution_count": 5,
   "metadata": {},
   "outputs": [],
   "source": [
    "orders['date'] = pd.to_datetime(orders['date']) #меняем тип данных на дату\n",
    "visitors['date'] = pd.to_datetime(visitors['date'])"
   ]
  },
  {
   "cell_type": "code",
   "execution_count": 6,
   "metadata": {},
   "outputs": [
    {
     "name": "stdout",
     "output_type": "stream",
     "text": [
      "0\n",
      "0\n"
     ]
    }
   ],
   "source": [
    "print(orders.duplicated().sum()) #явных дубликатов в таблицах нет\n",
    "print(visitors.duplicated().sum())"
   ]
  },
  {
   "cell_type": "code",
   "execution_count": 7,
   "metadata": {},
   "outputs": [
    {
     "name": "stdout",
     "output_type": "stream",
     "text": [
      "557 640\n"
     ]
    }
   ],
   "source": [
    "A = orders.query('group == \"A\"')\n",
    "B = orders.query('group == \"B\"')\n",
    "print(len(A), len(B))"
   ]
  },
  {
   "cell_type": "code",
   "execution_count": 8,
   "metadata": {},
   "outputs": [
    {
     "name": "stdout",
     "output_type": "stream",
     "text": [
      "Пользователей, попавших в обе группы: 58\n",
      "Доля таких пользователей: 5.63\n"
     ]
    }
   ],
   "source": [
    "visitors_A = list(A['visitorId'].unique())\n",
    "visitors_B = list(B['visitorId'].unique())\n",
    "\n",
    "common_elements = list(set(visitors_A) & set(visitors_B))\n",
    "print('Пользователей, попавших в обе группы:', len(common_elements))\n",
    "print('Доля таких пользователей:', np.round(len(common_elements) / orders['visitorId'].nunique() * 100, 2))"
   ]
  },
  {
   "cell_type": "markdown",
   "metadata": {},
   "source": [
    "Пользователей, попавших в обе группы: 5.6%. \\\n",
    "Доля небольшая, однако ее достаточно для того, чтобы исказить результаты теста. Поэтому уберем этих пользователей из группы, так как мы не знаем, к какой группе их лучше отнести."
   ]
  },
  {
   "cell_type": "code",
   "execution_count": 9,
   "metadata": {},
   "outputs": [
    {
     "name": "stdout",
     "output_type": "stream",
     "text": [
      "Осталось наблюдений: 1016\n"
     ]
    }
   ],
   "source": [
    "orders = orders[~orders['visitorId'].isin(common_elements)]\n",
    "print('Осталось наблюдений:', orders.shape[0])"
   ]
  },
  {
   "cell_type": "markdown",
   "metadata": {},
   "source": [
    "### Приоритизация гипотез методами ICE и RICE"
   ]
  },
  {
   "cell_type": "code",
   "execution_count": 10,
   "metadata": {},
   "outputs": [
    {
     "data": {
      "text/html": [
       "<div>\n",
       "<style scoped>\n",
       "    .dataframe tbody tr th:only-of-type {\n",
       "        vertical-align: middle;\n",
       "    }\n",
       "\n",
       "    .dataframe tbody tr th {\n",
       "        vertical-align: top;\n",
       "    }\n",
       "\n",
       "    .dataframe thead th {\n",
       "        text-align: right;\n",
       "    }\n",
       "</style>\n",
       "<table border=\"1\" class=\"dataframe\">\n",
       "  <thead>\n",
       "    <tr style=\"text-align: right;\">\n",
       "      <th></th>\n",
       "      <th>Hypothesis</th>\n",
       "      <th>Reach</th>\n",
       "      <th>Impact</th>\n",
       "      <th>Confidence</th>\n",
       "      <th>Efforts</th>\n",
       "    </tr>\n",
       "  </thead>\n",
       "  <tbody>\n",
       "    <tr>\n",
       "      <th>0</th>\n",
       "      <td>Добавить два новых канала привлечения трафика,...</td>\n",
       "      <td>3</td>\n",
       "      <td>10</td>\n",
       "      <td>8</td>\n",
       "      <td>6</td>\n",
       "    </tr>\n",
       "    <tr>\n",
       "      <th>1</th>\n",
       "      <td>Запустить собственную службу доставки, что сок...</td>\n",
       "      <td>2</td>\n",
       "      <td>5</td>\n",
       "      <td>4</td>\n",
       "      <td>10</td>\n",
       "    </tr>\n",
       "    <tr>\n",
       "      <th>2</th>\n",
       "      <td>Добавить блоки рекомендаций товаров на сайт ин...</td>\n",
       "      <td>8</td>\n",
       "      <td>3</td>\n",
       "      <td>7</td>\n",
       "      <td>3</td>\n",
       "    </tr>\n",
       "    <tr>\n",
       "      <th>3</th>\n",
       "      <td>Изменить структура категорий, что увеличит кон...</td>\n",
       "      <td>8</td>\n",
       "      <td>3</td>\n",
       "      <td>3</td>\n",
       "      <td>8</td>\n",
       "    </tr>\n",
       "    <tr>\n",
       "      <th>4</th>\n",
       "      <td>Изменить цвет фона главной страницы, чтобы уве...</td>\n",
       "      <td>3</td>\n",
       "      <td>1</td>\n",
       "      <td>1</td>\n",
       "      <td>1</td>\n",
       "    </tr>\n",
       "    <tr>\n",
       "      <th>5</th>\n",
       "      <td>Добавить страницу отзывов клиентов о магазине,...</td>\n",
       "      <td>3</td>\n",
       "      <td>2</td>\n",
       "      <td>2</td>\n",
       "      <td>3</td>\n",
       "    </tr>\n",
       "    <tr>\n",
       "      <th>6</th>\n",
       "      <td>Показать на главной странице баннеры с актуаль...</td>\n",
       "      <td>5</td>\n",
       "      <td>3</td>\n",
       "      <td>8</td>\n",
       "      <td>3</td>\n",
       "    </tr>\n",
       "    <tr>\n",
       "      <th>7</th>\n",
       "      <td>Добавить форму подписки на все основные страни...</td>\n",
       "      <td>10</td>\n",
       "      <td>7</td>\n",
       "      <td>8</td>\n",
       "      <td>5</td>\n",
       "    </tr>\n",
       "    <tr>\n",
       "      <th>8</th>\n",
       "      <td>Запустить акцию, дающую скидку на товар в день...</td>\n",
       "      <td>1</td>\n",
       "      <td>9</td>\n",
       "      <td>9</td>\n",
       "      <td>5</td>\n",
       "    </tr>\n",
       "  </tbody>\n",
       "</table>\n",
       "</div>"
      ],
      "text/plain": [
       "                                          Hypothesis  Reach  Impact  \\\n",
       "0  Добавить два новых канала привлечения трафика,...      3      10   \n",
       "1  Запустить собственную службу доставки, что сок...      2       5   \n",
       "2  Добавить блоки рекомендаций товаров на сайт ин...      8       3   \n",
       "3  Изменить структура категорий, что увеличит кон...      8       3   \n",
       "4  Изменить цвет фона главной страницы, чтобы уве...      3       1   \n",
       "5  Добавить страницу отзывов клиентов о магазине,...      3       2   \n",
       "6  Показать на главной странице баннеры с актуаль...      5       3   \n",
       "7  Добавить форму подписки на все основные страни...     10       7   \n",
       "8  Запустить акцию, дающую скидку на товар в день...      1       9   \n",
       "\n",
       "   Confidence  Efforts  \n",
       "0           8        6  \n",
       "1           4       10  \n",
       "2           7        3  \n",
       "3           3        8  \n",
       "4           1        1  \n",
       "5           2        3  \n",
       "6           8        3  \n",
       "7           8        5  \n",
       "8           9        5  "
      ]
     },
     "execution_count": 10,
     "metadata": {},
     "output_type": "execute_result"
    }
   ],
   "source": [
    "hypothesis = pd.read_csv('/datasets/hypothesis.csv')\n",
    "hypothesis"
   ]
  },
  {
   "cell_type": "markdown",
   "metadata": {},
   "source": [
    "Гипотез много, а ресурсы и время всегда ограничены. Поэтому нужно проверять, какие гипотезы следует тестировать в первую оченедь. \\\n",
    "Метод ICE - один из самых популярных способов приоритизации задач. \\\n",
    "Он рассчитывается на основе оценки влияния на пользователей (impact), оценки нашей уверенности в том, что измение повлияет именно таким образом (comfidence) и затрат на данную гипотезу (efforts). \\\n",
    "\n",
    "У метода ICE есть аналог - метод RICE. К формуле ICE добавляется оценка количества пользоватлеей, которых затронет изменение (reach)"
   ]
  },
  {
   "cell_type": "code",
   "execution_count": 11,
   "metadata": {},
   "outputs": [],
   "source": [
    "hypothesis['ice'] = hypothesis['Impact'] * hypothesis['Confidence'] / hypothesis['Efforts']\n",
    "hypothesis['rice'] = hypothesis['Reach'] * hypothesis['Impact'] * hypothesis['Confidence'] / hypothesis['Efforts']"
   ]
  },
  {
   "cell_type": "code",
   "execution_count": 12,
   "metadata": {},
   "outputs": [
    {
     "data": {
      "text/html": [
       "<div>\n",
       "<style scoped>\n",
       "    .dataframe tbody tr th:only-of-type {\n",
       "        vertical-align: middle;\n",
       "    }\n",
       "\n",
       "    .dataframe tbody tr th {\n",
       "        vertical-align: top;\n",
       "    }\n",
       "\n",
       "    .dataframe thead th {\n",
       "        text-align: right;\n",
       "    }\n",
       "</style>\n",
       "<table border=\"1\" class=\"dataframe\">\n",
       "  <thead>\n",
       "    <tr style=\"text-align: right;\">\n",
       "      <th></th>\n",
       "      <th>Hypothesis</th>\n",
       "      <th>ice</th>\n",
       "    </tr>\n",
       "  </thead>\n",
       "  <tbody>\n",
       "    <tr>\n",
       "      <th>8</th>\n",
       "      <td>Запустить акцию, дающую скидку на товар в день рождения</td>\n",
       "      <td>16.200000</td>\n",
       "    </tr>\n",
       "    <tr>\n",
       "      <th>0</th>\n",
       "      <td>Добавить два новых канала привлечения трафика, что позволит привлекать на 30% больше пользователей</td>\n",
       "      <td>13.333333</td>\n",
       "    </tr>\n",
       "    <tr>\n",
       "      <th>7</th>\n",
       "      <td>Добавить форму подписки на все основные страницы, чтобы собрать базу клиентов для email-рассылок</td>\n",
       "      <td>11.200000</td>\n",
       "    </tr>\n",
       "    <tr>\n",
       "      <th>6</th>\n",
       "      <td>Показать на главной странице баннеры с актуальными акциями и распродажами, чтобы увеличить конверсию</td>\n",
       "      <td>8.000000</td>\n",
       "    </tr>\n",
       "    <tr>\n",
       "      <th>2</th>\n",
       "      <td>Добавить блоки рекомендаций товаров на сайт интернет магазина, чтобы повысить конверсию и средний чек заказа</td>\n",
       "      <td>7.000000</td>\n",
       "    </tr>\n",
       "    <tr>\n",
       "      <th>1</th>\n",
       "      <td>Запустить собственную службу доставки, что сократит срок доставки заказов</td>\n",
       "      <td>2.000000</td>\n",
       "    </tr>\n",
       "    <tr>\n",
       "      <th>5</th>\n",
       "      <td>Добавить страницу отзывов клиентов о магазине, что позволит увеличить количество заказов</td>\n",
       "      <td>1.333333</td>\n",
       "    </tr>\n",
       "    <tr>\n",
       "      <th>3</th>\n",
       "      <td>Изменить структура категорий, что увеличит конверсию, т.к. пользователи быстрее найдут нужный товар</td>\n",
       "      <td>1.125000</td>\n",
       "    </tr>\n",
       "    <tr>\n",
       "      <th>4</th>\n",
       "      <td>Изменить цвет фона главной страницы, чтобы увеличить вовлеченность пользователей</td>\n",
       "      <td>1.000000</td>\n",
       "    </tr>\n",
       "  </tbody>\n",
       "</table>\n",
       "</div>"
      ],
      "text/plain": [
       "                                                                                                     Hypothesis  \\\n",
       "8                                                       Запустить акцию, дающую скидку на товар в день рождения   \n",
       "0            Добавить два новых канала привлечения трафика, что позволит привлекать на 30% больше пользователей   \n",
       "7              Добавить форму подписки на все основные страницы, чтобы собрать базу клиентов для email-рассылок   \n",
       "6          Показать на главной странице баннеры с актуальными акциями и распродажами, чтобы увеличить конверсию   \n",
       "2  Добавить блоки рекомендаций товаров на сайт интернет магазина, чтобы повысить конверсию и средний чек заказа   \n",
       "1                                     Запустить собственную службу доставки, что сократит срок доставки заказов   \n",
       "5                      Добавить страницу отзывов клиентов о магазине, что позволит увеличить количество заказов   \n",
       "3           Изменить структура категорий, что увеличит конверсию, т.к. пользователи быстрее найдут нужный товар   \n",
       "4                              Изменить цвет фона главной страницы, чтобы увеличить вовлеченность пользователей   \n",
       "\n",
       "         ice  \n",
       "8  16.200000  \n",
       "0  13.333333  \n",
       "7  11.200000  \n",
       "6   8.000000  \n",
       "2   7.000000  \n",
       "1   2.000000  \n",
       "5   1.333333  \n",
       "3   1.125000  \n",
       "4   1.000000  "
      ]
     },
     "execution_count": 12,
     "metadata": {},
     "output_type": "execute_result"
    }
   ],
   "source": [
    "#ICE:\n",
    "pd.options.display.max_colwidth = 400\n",
    "\n",
    "hypothesis[['Hypothesis', 'ice']].sort_values(by='ice', ascending=False)"
   ]
  },
  {
   "cell_type": "markdown",
   "metadata": {},
   "source": [
    "Судя по ICE SCORE в первую очередь следует провести тест гипотез c индексами 8, 0, 7 и 6."
   ]
  },
  {
   "cell_type": "code",
   "execution_count": 13,
   "metadata": {},
   "outputs": [
    {
     "data": {
      "text/html": [
       "<div>\n",
       "<style scoped>\n",
       "    .dataframe tbody tr th:only-of-type {\n",
       "        vertical-align: middle;\n",
       "    }\n",
       "\n",
       "    .dataframe tbody tr th {\n",
       "        vertical-align: top;\n",
       "    }\n",
       "\n",
       "    .dataframe thead th {\n",
       "        text-align: right;\n",
       "    }\n",
       "</style>\n",
       "<table border=\"1\" class=\"dataframe\">\n",
       "  <thead>\n",
       "    <tr style=\"text-align: right;\">\n",
       "      <th></th>\n",
       "      <th>Hypothesis</th>\n",
       "      <th>rice</th>\n",
       "    </tr>\n",
       "  </thead>\n",
       "  <tbody>\n",
       "    <tr>\n",
       "      <th>7</th>\n",
       "      <td>Добавить форму подписки на все основные страницы, чтобы собрать базу клиентов для email-рассылок</td>\n",
       "      <td>112.0</td>\n",
       "    </tr>\n",
       "    <tr>\n",
       "      <th>2</th>\n",
       "      <td>Добавить блоки рекомендаций товаров на сайт интернет магазина, чтобы повысить конверсию и средний чек заказа</td>\n",
       "      <td>56.0</td>\n",
       "    </tr>\n",
       "    <tr>\n",
       "      <th>0</th>\n",
       "      <td>Добавить два новых канала привлечения трафика, что позволит привлекать на 30% больше пользователей</td>\n",
       "      <td>40.0</td>\n",
       "    </tr>\n",
       "    <tr>\n",
       "      <th>6</th>\n",
       "      <td>Показать на главной странице баннеры с актуальными акциями и распродажами, чтобы увеличить конверсию</td>\n",
       "      <td>40.0</td>\n",
       "    </tr>\n",
       "    <tr>\n",
       "      <th>8</th>\n",
       "      <td>Запустить акцию, дающую скидку на товар в день рождения</td>\n",
       "      <td>16.2</td>\n",
       "    </tr>\n",
       "    <tr>\n",
       "      <th>3</th>\n",
       "      <td>Изменить структура категорий, что увеличит конверсию, т.к. пользователи быстрее найдут нужный товар</td>\n",
       "      <td>9.0</td>\n",
       "    </tr>\n",
       "    <tr>\n",
       "      <th>1</th>\n",
       "      <td>Запустить собственную службу доставки, что сократит срок доставки заказов</td>\n",
       "      <td>4.0</td>\n",
       "    </tr>\n",
       "    <tr>\n",
       "      <th>5</th>\n",
       "      <td>Добавить страницу отзывов клиентов о магазине, что позволит увеличить количество заказов</td>\n",
       "      <td>4.0</td>\n",
       "    </tr>\n",
       "    <tr>\n",
       "      <th>4</th>\n",
       "      <td>Изменить цвет фона главной страницы, чтобы увеличить вовлеченность пользователей</td>\n",
       "      <td>3.0</td>\n",
       "    </tr>\n",
       "  </tbody>\n",
       "</table>\n",
       "</div>"
      ],
      "text/plain": [
       "                                                                                                     Hypothesis  \\\n",
       "7              Добавить форму подписки на все основные страницы, чтобы собрать базу клиентов для email-рассылок   \n",
       "2  Добавить блоки рекомендаций товаров на сайт интернет магазина, чтобы повысить конверсию и средний чек заказа   \n",
       "0            Добавить два новых канала привлечения трафика, что позволит привлекать на 30% больше пользователей   \n",
       "6          Показать на главной странице баннеры с актуальными акциями и распродажами, чтобы увеличить конверсию   \n",
       "8                                                       Запустить акцию, дающую скидку на товар в день рождения   \n",
       "3           Изменить структура категорий, что увеличит конверсию, т.к. пользователи быстрее найдут нужный товар   \n",
       "1                                     Запустить собственную службу доставки, что сократит срок доставки заказов   \n",
       "5                      Добавить страницу отзывов клиентов о магазине, что позволит увеличить количество заказов   \n",
       "4                              Изменить цвет фона главной страницы, чтобы увеличить вовлеченность пользователей   \n",
       "\n",
       "    rice  \n",
       "7  112.0  \n",
       "2   56.0  \n",
       "0   40.0  \n",
       "6   40.0  \n",
       "8   16.2  \n",
       "3    9.0  \n",
       "1    4.0  \n",
       "5    4.0  \n",
       "4    3.0  "
      ]
     },
     "execution_count": 13,
     "metadata": {},
     "output_type": "execute_result"
    }
   ],
   "source": [
    "#RICE:\n",
    "\n",
    "hypothesis[['Hypothesis', 'rice']].sort_values(by='rice', ascending=False)"
   ]
  },
  {
   "cell_type": "markdown",
   "metadata": {},
   "source": [
    "После приоритизации гимпозу методом RICE мы получили важность тех же гипотез с индексами 7, 0 и 6. Однако, также важной оказалась гипотеза-2, а вот восьмая ушла на 5 место. "
   ]
  },
  {
   "cell_type": "markdown",
   "metadata": {},
   "source": [
    "Вывод: первый приоритет стоит отдать гипотезе с индексом 7: \"Добавить форму подписки на все основные страницы, чтобы собрать базу клиентов для email-рассылок\". \\\n",
    "И дальше гипотезе с индексом 0: \"Добавить два новых канала привлечения трафика, что позволит привлекать на 30% больше пользователей\"."
   ]
  },
  {
   "cell_type": "code",
   "execution_count": 14,
   "metadata": {},
   "outputs": [
    {
     "name": "stdout",
     "output_type": "stream",
     "text": [
      "Добавить форму подписки на все основные страницы, чтобы собрать базу клиентов для email-рассылок\n",
      "Добавить два новых канала привлечения трафика, что позволит привлекать на 30% больше пользователей\n"
     ]
    }
   ],
   "source": [
    "print(hypothesis.loc[7, 'Hypothesis'])\n",
    "print(hypothesis.loc[0, 'Hypothesis'])"
   ]
  },
  {
   "cell_type": "markdown",
   "metadata": {},
   "source": [
    "### Анализ А/В теста"
   ]
  },
  {
   "cell_type": "markdown",
   "metadata": {},
   "source": [
    "#### Кумулятивная выручка по группам"
   ]
  },
  {
   "cell_type": "code",
   "execution_count": 15,
   "metadata": {},
   "outputs": [
    {
     "name": "stdout",
     "output_type": "stream",
     "text": [
      "        date group  orders  buyers  revenue  visitors\n",
      "0 2019-08-01     A      23      19   142779       719\n",
      "1 2019-08-01     B      17      17    59758       713\n",
      "2 2019-08-02     A      42      36   234381      1338\n",
      "3 2019-08-02     B      40      39   221801      1294\n",
      "4 2019-08-03     A      66      60   346854      1845\n"
     ]
    }
   ],
   "source": [
    "datesGroups = orders[['date','group']].drop_duplicates()\n",
    "\n",
    "#создаем аггрегированные таблицы для заказов и посетителям сгрупированные по датам и группам\n",
    "ordersAggregated = datesGroups.apply(\n",
    "    lambda x: orders[np.logical_and(orders['date'] <= x['date'], orders['group'] == x['group'])].agg({\n",
    "'date' : 'max',\n",
    "'group' : 'max',\n",
    "'transactionId' : pd.Series.nunique,\n",
    "'visitorId' : pd.Series.nunique,\n",
    "'revenue' : 'sum'}), axis=1).sort_values(by=['date','group'])\n",
    "\n",
    "\n",
    "visitorsAggregated = datesGroups.apply(lambda x: visitors[np.logical_and(visitors['date'] <= x['date'], \\\n",
    "    visitors['group'] == x['group'])].agg({\n",
    "    'date' : 'max', \n",
    "    'group' : 'max', \n",
    "    'visitors' : 'sum'}), axis=1).sort_values(by=['date','group'])\n",
    "\n",
    "#созединяем таблицы\n",
    "cumulativeData = ordersAggregated.merge(visitorsAggregated, left_on=['date', 'group'], right_on=['date', 'group'])\n",
    "\n",
    "#переиновывем столбцы\n",
    "cumulativeData.columns = ['date', 'group', 'orders', 'buyers', 'revenue', 'visitors']\n",
    "\n",
    "print(cumulativeData.head(5))"
   ]
  },
  {
   "cell_type": "code",
   "execution_count": 16,
   "metadata": {},
   "outputs": [
    {
     "data": {
      "image/png": "[encoded data removed]",
      "text/plain": [
       "<Figure size 792x360 with 1 Axes>"
      ]
     },
     "metadata": {
      "needs_background": "light"
     },
     "output_type": "display_data"
    }
   ],
   "source": [
    "#создаем отдельные таблицы для групп\n",
    "cumulativeRevenueA = cumulativeData.query('group == \"A\"')[['date','revenue', 'orders']]\n",
    "\n",
    "cumulativeRevenueB = cumulativeData.query('group == \"B\"')[['date','revenue', 'orders']]\n",
    "\n",
    "\n",
    "plt.figure(figsize=(11, 5))\n",
    "# Строим график выручки группы А\n",
    "plt.plot(cumulativeRevenueA['date'], cumulativeRevenueA['revenue'], label='A')\n",
    "\n",
    "# Строим график выручки группы B\n",
    "plt.plot(cumulativeRevenueB['date'], cumulativeRevenueB['revenue'], label='B')\n",
    "plt.title('Кумулятивная выручка по группам')\n",
    "plt.ylabel('Выручка')\n",
    "plt.xlabel('Дата')\n",
    "plt.legend() ;"
   ]
  },
  {
   "cell_type": "markdown",
   "metadata": {},
   "source": [
    "В середине теста группа В резко выросла в кумулятивной выручке. Что-то произошло 18-20 августа 2019 года в группе В. Возможно, аномальная покупка, это нужно будет проверить, чтобы выбросы не повлияли на результаты теста. "
   ]
  },
  {
   "cell_type": "markdown",
   "metadata": {},
   "source": [
    "#### Кумулятивные средние чеки по группам"
   ]
  },
  {
   "cell_type": "code",
   "execution_count": 17,
   "metadata": {},
   "outputs": [
    {
     "data": {
      "image/png": "[encoded data removed]",
      "text/plain": [
       "<Figure size 792x360 with 1 Axes>"
      ]
     },
     "metadata": {
      "needs_background": "light"
     },
     "output_type": "display_data"
    }
   ],
   "source": [
    "plt.figure(figsize=(11, 5))\n",
    "plt.plot(cumulativeRevenueA['date'], cumulativeRevenueA['revenue']/cumulativeRevenueA['orders'], label='A')\n",
    "plt.plot(cumulativeRevenueB['date'], cumulativeRevenueB['revenue']/cumulativeRevenueB['orders'], label='B')\n",
    "plt.title('Кумулятивные средние чеки по группам')\n",
    "plt.ylabel('Средние чеки')\n",
    "plt.xlabel('Дата')\n",
    "plt.legend();"
   ]
  },
  {
   "cell_type": "markdown",
   "metadata": {},
   "source": [
    "Средние чеки в обеих группах на протяжении всего теста колеблются, особенно группа В. \\\n",
    "Перед окончатлельным решением и проверкой гипотезы проверить данные на выбросы, и в случае их наличия, исключить их из теста. Так как наличие экстремально больших заказов - не результат изменения продукта для группы В, а лишь случайность."
   ]
  },
  {
   "cell_type": "markdown",
   "metadata": {},
   "source": [
    "####  Относительное изменение кумулятивного среднего чека группы B к группе A"
   ]
  },
  {
   "cell_type": "code",
   "execution_count": 18,
   "metadata": {},
   "outputs": [
    {
     "data": {
      "image/png": "[encoded data removed]",
      "text/plain": [
       "<Figure size 792x360 with 1 Axes>"
      ]
     },
     "metadata": {
      "needs_background": "light"
     },
     "output_type": "display_data"
    }
   ],
   "source": [
    "# собираем данные в одном датафрейме\n",
    "mergedCumulativeRevenue = cumulativeRevenueA.merge(cumulativeRevenueB, left_on='date', right_on='date', how='left', suffixes=['A', 'B'])\n",
    "\n",
    "plt.figure(figsize=(11, 5))\n",
    "# cтроим отношение средних чеков\n",
    "plt.plot(mergedCumulativeRevenue['date'], (mergedCumulativeRevenue['revenueB']/mergedCumulativeRevenue['ordersB'])/(mergedCumulativeRevenue['revenueA']/mergedCumulativeRevenue['ordersA'])-1)\n",
    "plt.title('Относительное изменение кумулятивного среднего чека группы B к группе A')\n",
    "plt.ylabel('Отношение среднего чека группы В к группе А')\n",
    "plt.xlabel('Дата')\n",
    "# добавляем ось X\n",
    "plt.axhline(y=0, color='black', linestyle='--');"
   ]
  },
  {
   "cell_type": "markdown",
   "metadata": {},
   "source": [
    "В начале теста средний чек пользователей из группы В стремительно рос и превышал средний первой группы. Однако, позже на протяжении всего теста успешность группы В варьировалась от -10% до 50%. Скорее всего, эти колебания связаны именно с наличием заказов-выбросов в эти даты."
   ]
  },
  {
   "cell_type": "markdown",
   "metadata": {},
   "source": [
    "#### Кумулятивное среднее количество заказов на посетителя по группам"
   ]
  },
  {
   "cell_type": "code",
   "execution_count": 19,
   "metadata": {},
   "outputs": [
    {
     "data": {
      "image/png": "[encoded data removed]",
      "text/plain": [
       "<Figure size 792x360 with 1 Axes>"
      ]
     },
     "metadata": {
      "needs_background": "light"
     },
     "output_type": "display_data"
    }
   ],
   "source": [
    "cumulativeData['conversion'] = cumulativeData['orders']/cumulativeData['visitors']\n",
    "\n",
    "# отделяем данные по группе A\n",
    "cumulativeDataA = cumulativeData[cumulativeData['group']=='A']\n",
    "\n",
    "# отделяем данные по группе B\n",
    "cumulativeDataB = cumulativeData[cumulativeData['group']=='B']\n",
    "\n",
    "# строим графики\n",
    "plt.figure(figsize=(11, 5))\n",
    "plt.plot(cumulativeDataA['date'], cumulativeDataA['conversion'], label='A')\n",
    "plt.plot(cumulativeDataB['date'], cumulativeDataB['conversion'], label='B')\n",
    "plt.title('Кумулятивное среднее количество заказов на посетителя по группам')\n",
    "plt.ylabel('Кол-во заказов')\n",
    "plt.xlabel('Дата')\n",
    "plt.legend();"
   ]
  },
  {
   "cell_type": "markdown",
   "metadata": {},
   "source": [
    "Спустя 5 дней проведения теста группа В значительно превысила группу А по кол-ву заказов на одного покупателя. "
   ]
  },
  {
   "cell_type": "markdown",
   "metadata": {},
   "source": [
    "#### Относительное изменение кумулятивного среднего количества заказов на посетителя группы B к группе A"
   ]
  },
  {
   "cell_type": "code",
   "execution_count": 20,
   "metadata": {},
   "outputs": [
    {
     "data": {
      "image/png": "[encoded data removed]",
      "text/plain": [
       "<Figure size 792x360 with 1 Axes>"
      ]
     },
     "metadata": {
      "needs_background": "light"
     },
     "output_type": "display_data"
    }
   ],
   "source": [
    "# собираем данные в одном датафрейме\n",
    "mergedCumulativeConversion = cumulativeDataA[['date','conversion']].merge(cumulativeDataB[['date','conversion']], \n",
    "                                                   left_on='date', right_on='date', how='left', suffixes=['A','B'])\n",
    "plt.figure(figsize=(11, 5))\n",
    "# cтроим отношение среднего количества заказов\n",
    "plt.plot(mergedCumulativeConversion['conversionB'] / mergedCumulativeConversion['conversionA'] - 1)\n",
    "plt.title(\"Относительный прирост кумулятивного среднего количества заказов на посетителя группы B относительно группы A\")\n",
    "# добавляем ось X\n",
    "plt.axhline(y=0, color='black', linestyle='--')\n",
    "plt.axhline(y=0.15, color='grey', linestyle='--');"
   ]
  },
  {
   "cell_type": "markdown",
   "metadata": {},
   "source": [
    "Почти с самого начала теста группа B лидирует по метрике. Спустя неделю зафиксировалась на уровке около 15%."
   ]
  },
  {
   "cell_type": "markdown",
   "metadata": {},
   "source": [
    "#### Поиск аномалий: количество заказов на пользователей"
   ]
  },
  {
   "cell_type": "code",
   "execution_count": 21,
   "metadata": {},
   "outputs": [],
   "source": [
    "ordersByUsers = orders.groupby('visitorId', as_index=False).agg({'transactionId': 'nunique'})"
   ]
  },
  {
   "cell_type": "code",
   "execution_count": 22,
   "metadata": {},
   "outputs": [
    {
     "data": {
      "image/png": "[encoded data removed]",
      "text/plain": [
       "<Figure size 432x288 with 1 Axes>"
      ]
     },
     "metadata": {
      "needs_background": "light"
     },
     "output_type": "display_data"
    }
   ],
   "source": [
    "x_values = pd.Series(range(0, len(ordersByUsers['transactionId'])))\n",
    "                           \n",
    "plt.scatter(x_values, ordersByUsers['transactionId'])\n",
    "plt.title('Количество заказов по пользователям');"
   ]
  },
  {
   "cell_type": "markdown",
   "metadata": {},
   "source": [
    "В основном пользователи совершили за период проведения теста до 2-3 заказов. \\\n",
    "Случаев, когда заказов на пользователя больше - немного. Далее посмотрим, во сколько заказов укладывается 95% пользователей."
   ]
  },
  {
   "cell_type": "code",
   "execution_count": 23,
   "metadata": {},
   "outputs": [
    {
     "data": {
      "text/plain": [
       "array([1., 2., 2.])"
      ]
     },
     "execution_count": 23,
     "metadata": {},
     "output_type": "execute_result"
    }
   ],
   "source": [
    "np.percentile(ordersByUsers['transactionId'], [95, 98, 99])"
   ]
  },
  {
   "cell_type": "markdown",
   "metadata": {},
   "source": [
    "Меньше 1% пользователей оформило заказ больше 2 раз, и менее 5% - больше 1 раза. \\\n",
    "Лучше взять 98-й перцентиль - 2 заказа. \\\n",
    "Тогда, мы отбросим лишь менее 1% пользователей из данных, которые совершили более 2 заказов"
   ]
  },
  {
   "cell_type": "markdown",
   "metadata": {},
   "source": [
    "#### Поиск аномалий: стоимость заказов"
   ]
  },
  {
   "cell_type": "code",
   "execution_count": 24,
   "metadata": {},
   "outputs": [],
   "source": [
    "sumsByUsers = orders.groupby('visitorId', as_index=False).agg({'revenue': 'sum'})"
   ]
  },
  {
   "cell_type": "code",
   "execution_count": 25,
   "metadata": {},
   "outputs": [
    {
     "data": {
      "image/png": "[encoded data removed]",
      "text/plain": [
       "<Figure size 432x288 with 1 Axes>"
      ]
     },
     "metadata": {
      "needs_background": "light"
     },
     "output_type": "display_data"
    }
   ],
   "source": [
    "x_values = pd.Series(range(0, len(sumsByUsers['revenue'])))\n",
    "plt.scatter(x_values, sumsByUsers['revenue'])\n",
    "plt.title('Суммы заказов');"
   ]
  },
  {
   "cell_type": "markdown",
   "metadata": {},
   "source": [
    "Есть явный аномальный заказ суммой на 120 тыс. В остальном, все заказы в основном до 70 тыс. Проверим на процентных соотношениях:"
   ]
  },
  {
   "cell_type": "code",
   "execution_count": 26,
   "metadata": {},
   "outputs": [
    {
     "data": {
      "text/plain": [
       "array([28910., 59082.])"
      ]
     },
     "execution_count": 26,
     "metadata": {},
     "output_type": "execute_result"
    }
   ],
   "source": [
    "np.percentile(sumsByUsers['revenue'], [95, 99])"
   ]
  },
  {
   "cell_type": "markdown",
   "metadata": {},
   "source": [
    "Как и было видно по графику, практически все заказы были совершены до 100 тыс. Однако, с помощью перцентилей мы может сделать более точные выводы:\n",
    "- Менее 1% пользователей совершали покупки более чем на 59 082 рублей;\n",
    "- Менее 5% пользователей тратили более 28 910 рублей.\n",
    "\n",
    "Признаем аномальными пользователей, совершивших заказы в сумме более чем на 59 082 рублей."
   ]
  },
  {
   "cell_type": "markdown",
   "metadata": {},
   "source": [
    "#### Статистическая значимость различий в среднем количестве заказов на посетителя между группами по «сырым» данным"
   ]
  },
  {
   "cell_type": "markdown",
   "metadata": {},
   "source": [
    "Применим непараматрический тест Манна-Уитни:"
   ]
  },
  {
   "cell_type": "markdown",
   "metadata": {},
   "source": [
    "Н0 - среднее кол-во заказов на посетителя группы А и В не отличаются, или отличаются не значимо \\\n",
    "Н1 - присутствует статистически значимая разница между средним кол-вом заказов на пользователя."
   ]
  },
  {
   "cell_type": "code",
   "execution_count": 27,
   "metadata": {},
   "outputs": [],
   "source": [
    "ordersByUsersA = orders.query('group == \"A\"').groupby('visitorId', as_index=False).agg({'transactionId': 'nunique'})\n",
    "ordersByUsersB = orders.query('group == \"B\"').groupby('visitorId', as_index=False).agg({'transactionId': 'nunique'})\n",
    "\n",
    "#считаем ежедневное кол-во посетителей:\n",
    "visitorsADaily = visitors[visitors['group'] == 'A'][['date', 'visitors']]\n",
    "visitorsADaily.columns = ['date', 'visitorsPerDateA']\n",
    "\n",
    "visitorsBDaily = visitors[visitors['group'] == 'B'][['date', 'visitors']]\n",
    "visitorsBDaily.columns = ['date', 'visitorsPerDateB']\n",
    "\n",
    "#создаем группы со всеми пользователями по группам:\n",
    "sampleA = pd.concat([ordersByUsersA['transactionId'],pd.Series(0, index=np.arange(visitorsADaily['visitorsPerDateA'].sum() - len(ordersByUsersA['transactionId'])), name='transactionId')],axis=0)\n",
    "\n",
    "sampleB = pd.concat([ordersByUsersB['transactionId'],pd.Series(0, index=np.arange(visitorsBDaily['visitorsPerDateB'].sum() - len(ordersByUsersB['transactionId'])), name='transactionId')],axis=0)"
   ]
  },
  {
   "cell_type": "code",
   "execution_count": 28,
   "metadata": {},
   "outputs": [
    {
     "name": "stdout",
     "output_type": "stream",
     "text": [
      "P-value = 0.01102\n",
      "Отношение В к А =  0.160\n"
     ]
    }
   ],
   "source": [
    "print('P-value =', \"{0:.5f}\".format(st.mannwhitneyu(sampleA, sampleB)[1]))\n",
    "print('Отношение В к А = ', \"{0:.3f}\".format(sampleB.mean() / sampleA.mean() - 1))"
   ]
  },
  {
   "cell_type": "markdown",
   "metadata": {},
   "source": [
    "P-value значительно меньше 5%, значит, судя по \"сырым\" данным, нулевая гипотеза о схожести конверсий двух групп отвергается. \\\n",
    "В среднем в количестве заказов на посетителя группы В на 16.0% выше группы А."
   ]
  },
  {
   "cell_type": "markdown",
   "metadata": {},
   "source": [
    "#### Статистическая значимость различий в среднем чеке заказа между группами по «сырым» данным"
   ]
  },
  {
   "cell_type": "markdown",
   "metadata": {},
   "source": [
    "Н0 - средний чек групп А и В не отличаются, или отличаются не значимо \\\n",
    "Н1 - присутствует статистически значимая разница между средним чеком."
   ]
  },
  {
   "cell_type": "code",
   "execution_count": 29,
   "metadata": {},
   "outputs": [
    {
     "name": "stdout",
     "output_type": "stream",
     "text": [
      "P-value = 0.829\n",
      "Отношение В к А =  0.287\n"
     ]
    }
   ],
   "source": [
    "print('P-value =', '{0:.3f}'.format(st.mannwhitneyu(orders[orders['group']=='A']['revenue'], orders[orders['group']=='B']['revenue'])[1]))\n",
    "print('Отношение В к А = ', '{0:.3f}'.format(orders[orders['group']=='B']['revenue'].mean()/orders[orders['group']=='A']['revenue'].mean()-1))"
   ]
  },
  {
   "cell_type": "markdown",
   "metadata": {},
   "source": [
    "Нулевая гипотеза о равенстве средних чеков двух групп не отвергается, так как p-value сильно больше 5%. \\\n",
    "Наблюдаемая разница - средний чек группы В на 28.7% превосходит средний чек группы А - не является значимой, судя по \"сырым\" данным."
   ]
  },
  {
   "cell_type": "markdown",
   "metadata": {},
   "source": [
    "#### Статистическая значимость различий в среднем количестве заказов на посетителя между группами по «очищенным» данным"
   ]
  },
  {
   "cell_type": "markdown",
   "metadata": {},
   "source": [
    "Мы приняли за аномалии:\n",
    "- заказы в сумме более чем на 59 082 рублей\n",
    "- пользователи, совершившие более 2 заказов"
   ]
  },
  {
   "cell_type": "code",
   "execution_count": 30,
   "metadata": {},
   "outputs": [
    {
     "name": "stdout",
     "output_type": "stream",
     "text": [
      "1099    148427295\n",
      "33      249864742\n",
      "58      611059232\n",
      "949     887908475\n",
      "744     888512513\n",
      "Name: visitorId, dtype: int64\n"
     ]
    }
   ],
   "source": [
    "#аномальные значения:\n",
    "usersWithManyOrders = pd.concat(\n",
    "    [\n",
    "        ordersByUsersA[ordersByUsersA['transactionId'] > 2]['visitorId'],\n",
    "        ordersByUsersB[ordersByUsersB['transactionId'] > 2]['visitorId'],\n",
    "    ],\n",
    "    axis=0,\n",
    ")\n",
    "usersWithExpensiveOrders = orders[orders['revenue'] > 59082]['visitorId']\n",
    "abnormalUsers = (\n",
    "    pd.concat([usersWithManyOrders, usersWithExpensiveOrders], axis=0)\n",
    "    .drop_duplicates()\n",
    "    .sort_values()\n",
    ")\n",
    "print(abnormalUsers.head(5))"
   ]
  },
  {
   "cell_type": "markdown",
   "metadata": {},
   "source": [
    "Всего аномальных пользователей - пятеро. Исключим их из данных и снова проверим гипотезы."
   ]
  },
  {
   "cell_type": "code",
   "execution_count": 31,
   "metadata": {},
   "outputs": [
    {
     "name": "stdout",
     "output_type": "stream",
     "text": [
      "0.00641\n",
      "0.191\n"
     ]
    }
   ],
   "source": [
    "sampleAFiltered = pd.concat(\n",
    "    [\n",
    "        ordersByUsersA[\n",
    "            np.logical_not(ordersByUsersA['visitorId'].isin(abnormalUsers))\n",
    "        ]['transactionId'],\n",
    "        pd.Series(\n",
    "            0,\n",
    "            index=np.arange(\n",
    "                visitorsADaily['visitorsPerDateA'].sum() - len(ordersByUsersA['transactionId'])\n",
    "            ),\n",
    "            name='transactionId',\n",
    "        ),\n",
    "    ],\n",
    "    axis=0,\n",
    ")\n",
    "\n",
    "sampleBFiltered = pd.concat(\n",
    "    [\n",
    "        ordersByUsersB[\n",
    "            np.logical_not(ordersByUsersB['visitorId'].isin(abnormalUsers))\n",
    "        ]['transactionId'],\n",
    "        pd.Series(\n",
    "            0,\n",
    "            index=np.arange(\n",
    "                visitorsBDaily['visitorsPerDateB'].sum() - len(ordersByUsersB['transactionId'])\n",
    "            ),\n",
    "            name='transactionId',\n",
    "        ),\n",
    "    ],\n",
    "    axis=0,\n",
    ")\n",
    "\n",
    "print('{0:.5f}'.format(st.mannwhitneyu(sampleAFiltered, sampleBFiltered)[1]))\n",
    "print('{0:.3f}'.format(sampleBFiltered.mean()/sampleAFiltered.mean()-1))"
   ]
  },
  {
   "cell_type": "markdown",
   "metadata": {},
   "source": [
    "После очищения данных от выбросов, p-value практически не изменился. Он также значительно меньше 5% - мы отвергаем нулевую гипотезу о равенстве среднего количества заказов на посетителя. \\\n",
    "Среднее кол-во заказов пользователей из группы В на 19.1% больше пользователей из группы А (тот же результат по сырым данным - 16.0%)."
   ]
  },
  {
   "cell_type": "markdown",
   "metadata": {},
   "source": [
    "#### Статистическая значимость различий в среднем чеке заказа между группами по «очищенным» данным"
   ]
  },
  {
   "cell_type": "code",
   "execution_count": 32,
   "metadata": {},
   "outputs": [
    {
     "name": "stdout",
     "output_type": "stream",
     "text": [
      "0.827\n",
      "-0.017\n"
     ]
    }
   ],
   "source": [
    "print(\n",
    "    '{0:.3f}'.format(\n",
    "        st.mannwhitneyu(\n",
    "            orders[\n",
    "                np.logical_and(\n",
    "                    orders['group'] == 'A',\n",
    "                    np.logical_not(orders['visitorId'].isin(abnormalUsers)),\n",
    "                )\n",
    "            ]['revenue'],\n",
    "            orders[\n",
    "                np.logical_and(\n",
    "                    orders['group'] == 'B',\n",
    "                    np.logical_not(orders['visitorId'].isin(abnormalUsers)),\n",
    "                )\n",
    "            ]['revenue'],\n",
    "        )[1]\n",
    "    )\n",
    ")\n",
    "\n",
    "print(\n",
    "    \"{0:.3f}\".format(\n",
    "        orders[\n",
    "            np.logical_and(\n",
    "                orders['group'] == 'B',\n",
    "                np.logical_not(orders['visitorId'].isin(abnormalUsers)),\n",
    "            )\n",
    "        ]['revenue'].mean()\n",
    "        / orders[\n",
    "            np.logical_and(\n",
    "                orders['group'] == 'A',\n",
    "                np.logical_not(orders['visitorId'].isin(abnormalUsers)),\n",
    "            )\n",
    "        ]['revenue'].mean()\n",
    "        - 1\n",
    "    )\n",
    ")"
   ]
  },
  {
   "cell_type": "markdown",
   "metadata": {},
   "source": [
    "Мы не можем отвергнуть нулевую гипотезу о равенстве средних чеков двух групп. \\\n",
    "Средний чек группы В оказался меньше ср. чека группы А на 1.7%, и эта разница не является статистически значимой.\n"
   ]
  },
  {
   "cell_type": "markdown",
   "metadata": {},
   "source": [
    "### Решение по результатам теста"
   ]
  },
  {
   "cell_type": "markdown",
   "metadata": {},
   "source": [
    "После начала теста и разделения пользователей по группам мы получили неоднозначные результаты:\n",
    "- Среднее кол-во заказов пользователей из группы В больше на 19.1%\n",
    "- А вот значимой разницы в средних чеках нет (по окончании теста средний чек группы В оказался меньше ср.чека группы А, и всего на 1.7%)"
   ]
  },
  {
   "cell_type": "markdown",
   "metadata": {},
   "source": [
    "По всей видимости нововведение/улучшение продукта для группы В сильно повлияло на количество заказов, они выросли на 19.1%, что является очень хорошим результатом. Средний чек не изменился, но благодаря росту кол-ва заказов группы В - общий доход с таких заказов - да. \n",
    "\n",
    "Поэтому, тест успешный, и победившей группой можно признать группу В. Количество заказов группы В значительно больше, чем у группы А, и применение нововведения принесет бизнесу больший доход. \\\n",
    "Тест можно завершать."
   ]
  }
 ],
 "metadata": {
  "ExecuteTimeLog": [
   {
    "duration": 395,
    "start_time": "2024-10-23T21:33:53.784Z"
   },
   {
    "duration": 172,
    "start_time": "2024-10-23T21:34:29.312Z"
   },
   {
    "duration": 17,
    "start_time": "2024-10-23T21:34:50.032Z"
   },
   {
    "duration": 9,
    "start_time": "2024-10-23T21:35:03.993Z"
   },
   {
    "duration": 17,
    "start_time": "2024-10-23T21:35:23.771Z"
   },
   {
    "duration": 60,
    "start_time": "2024-10-23T21:36:51.695Z"
   },
   {
    "duration": 7,
    "start_time": "2024-10-23T21:37:47.779Z"
   },
   {
    "duration": 4,
    "start_time": "2024-10-23T21:37:57.220Z"
   },
   {
    "duration": 5,
    "start_time": "2024-10-23T21:38:30.978Z"
   },
   {
    "duration": 17,
    "start_time": "2024-10-23T21:38:34.485Z"
   },
   {
    "duration": 6,
    "start_time": "2024-10-23T21:38:56.834Z"
   },
   {
    "duration": 74,
    "start_time": "2024-10-23T21:39:35.378Z"
   },
   {
    "duration": 30,
    "start_time": "2024-10-23T21:39:42.132Z"
   },
   {
    "duration": 30,
    "start_time": "2024-10-23T21:40:00.903Z"
   },
   {
    "duration": 32,
    "start_time": "2024-10-23T21:40:09.213Z"
   },
   {
    "duration": 28,
    "start_time": "2024-10-23T21:41:09.472Z"
   },
   {
    "duration": 30,
    "start_time": "2024-10-23T21:43:33.896Z"
   },
   {
    "duration": 4,
    "start_time": "2024-10-23T21:44:51.818Z"
   },
   {
    "duration": 9,
    "start_time": "2024-10-23T21:44:58.466Z"
   },
   {
    "duration": 3,
    "start_time": "2024-10-23T21:45:07.478Z"
   },
   {
    "duration": 6,
    "start_time": "2024-10-23T21:45:49.697Z"
   },
   {
    "duration": 9,
    "start_time": "2024-10-23T21:48:07.539Z"
   },
   {
    "duration": 10,
    "start_time": "2024-10-23T21:49:27.843Z"
   },
   {
    "duration": 8,
    "start_time": "2024-10-23T21:49:31.988Z"
   },
   {
    "duration": 4,
    "start_time": "2024-10-23T21:53:56.581Z"
   },
   {
    "duration": 3,
    "start_time": "2024-10-23T22:00:56.910Z"
   },
   {
    "duration": 4,
    "start_time": "2024-10-23T22:01:55.014Z"
   },
   {
    "duration": 72,
    "start_time": "2024-10-23T22:04:15.306Z"
   },
   {
    "duration": 324,
    "start_time": "2024-10-23T22:04:22.027Z"
   },
   {
    "duration": 2,
    "start_time": "2024-10-23T22:04:37.435Z"
   },
   {
    "duration": 312,
    "start_time": "2024-10-23T22:04:42.064Z"
   },
   {
    "duration": 22,
    "start_time": "2024-10-23T22:06:09.548Z"
   },
   {
    "duration": 279,
    "start_time": "2024-10-23T22:06:53.554Z"
   },
   {
    "duration": 267,
    "start_time": "2024-10-23T22:08:01.419Z"
   },
   {
    "duration": 247,
    "start_time": "2024-10-23T22:08:16.044Z"
   },
   {
    "duration": 19,
    "start_time": "2024-10-23T22:09:18.654Z"
   },
   {
    "duration": 235,
    "start_time": "2024-10-23T22:09:49.558Z"
   },
   {
    "duration": 332,
    "start_time": "2024-10-23T22:10:10.782Z"
   },
   {
    "duration": 464,
    "start_time": "2024-10-23T22:10:14.321Z"
   },
   {
    "duration": 411,
    "start_time": "2024-10-23T22:10:19.089Z"
   },
   {
    "duration": 386,
    "start_time": "2024-10-23T22:10:55.926Z"
   },
   {
    "duration": 375,
    "start_time": "2024-10-23T22:11:04.325Z"
   },
   {
    "duration": 363,
    "start_time": "2024-10-23T22:11:09.387Z"
   },
   {
    "duration": 377,
    "start_time": "2024-10-23T22:11:13.856Z"
   },
   {
    "duration": 414,
    "start_time": "2024-10-23T22:11:19.247Z"
   },
   {
    "duration": 370,
    "start_time": "2024-10-23T22:11:24.528Z"
   },
   {
    "duration": 558,
    "start_time": "2024-10-23T22:12:25.231Z"
   },
   {
    "duration": 61,
    "start_time": "2024-10-23T22:12:25.792Z"
   },
   {
    "duration": 13,
    "start_time": "2024-10-23T22:12:25.855Z"
   },
   {
    "duration": 24,
    "start_time": "2024-10-23T22:12:25.869Z"
   },
   {
    "duration": 5,
    "start_time": "2024-10-23T22:12:25.894Z"
   },
   {
    "duration": 40,
    "start_time": "2024-10-23T22:12:25.900Z"
   },
   {
    "duration": 15,
    "start_time": "2024-10-23T22:12:25.941Z"
   },
   {
    "duration": 29,
    "start_time": "2024-10-23T22:12:25.957Z"
   },
   {
    "duration": 14,
    "start_time": "2024-10-23T22:12:25.989Z"
   },
   {
    "duration": 5,
    "start_time": "2024-10-23T22:12:26.005Z"
   },
   {
    "duration": 279,
    "start_time": "2024-10-23T22:12:26.012Z"
   },
   {
    "duration": 259,
    "start_time": "2024-10-23T22:12:26.292Z"
   },
   {
    "duration": 151,
    "start_time": "2024-10-23T22:15:46.102Z"
   },
   {
    "duration": 159,
    "start_time": "2024-10-23T22:16:20.471Z"
   },
   {
    "duration": 331,
    "start_time": "2024-10-23T22:19:16.846Z"
   },
   {
    "duration": 251,
    "start_time": "2024-10-23T22:20:03.832Z"
   },
   {
    "duration": 284,
    "start_time": "2024-10-23T22:20:12.289Z"
   },
   {
    "duration": 128,
    "start_time": "2024-10-23T22:24:48.757Z"
   },
   {
    "duration": 158,
    "start_time": "2024-10-23T22:24:56.629Z"
   },
   {
    "duration": 173,
    "start_time": "2024-10-23T22:25:10.902Z"
   },
   {
    "duration": 93,
    "start_time": "2024-10-23T22:25:13.872Z"
   },
   {
    "duration": 186,
    "start_time": "2024-10-23T22:25:17.249Z"
   },
   {
    "duration": 7,
    "start_time": "2024-10-23T22:30:02.218Z"
   },
   {
    "duration": 16,
    "start_time": "2024-10-23T22:30:05.254Z"
   },
   {
    "duration": 7,
    "start_time": "2024-10-23T22:30:24.832Z"
   },
   {
    "duration": 16,
    "start_time": "2024-10-23T22:30:26.280Z"
   },
   {
    "duration": 15,
    "start_time": "2024-10-23T22:30:47.505Z"
   },
   {
    "duration": 73,
    "start_time": "2024-10-23T22:32:06.196Z"
   },
   {
    "duration": 69,
    "start_time": "2024-10-23T22:32:11.733Z"
   },
   {
    "duration": 21,
    "start_time": "2024-10-23T22:32:32.432Z"
   },
   {
    "duration": 106,
    "start_time": "2024-10-23T22:32:40.843Z"
   },
   {
    "duration": 231,
    "start_time": "2024-10-23T22:33:06.285Z"
   },
   {
    "duration": 213,
    "start_time": "2024-10-23T22:34:17.534Z"
   },
   {
    "duration": 332,
    "start_time": "2024-10-23T22:34:29.014Z"
   },
   {
    "duration": 344,
    "start_time": "2024-10-23T22:34:49.197Z"
   },
   {
    "duration": 234,
    "start_time": "2024-10-23T22:35:02.177Z"
   },
   {
    "duration": 247,
    "start_time": "2024-10-23T22:35:31.682Z"
   },
   {
    "duration": 4,
    "start_time": "2024-10-23T22:35:44.902Z"
   },
   {
    "duration": 130,
    "start_time": "2024-10-23T22:35:51.248Z"
   },
   {
    "duration": 219,
    "start_time": "2024-10-23T22:35:58.857Z"
   },
   {
    "duration": 252,
    "start_time": "2024-10-23T22:36:12.211Z"
   },
   {
    "duration": 254,
    "start_time": "2024-10-23T22:36:14.915Z"
   },
   {
    "duration": 244,
    "start_time": "2024-10-23T22:36:35.220Z"
   },
   {
    "duration": 10,
    "start_time": "2024-10-23T22:40:06.635Z"
   },
   {
    "duration": 12,
    "start_time": "2024-10-23T22:40:37.036Z"
   },
   {
    "duration": 12,
    "start_time": "2024-10-23T22:40:59.643Z"
   },
   {
    "duration": 5,
    "start_time": "2024-10-23T22:41:18.552Z"
   },
   {
    "duration": 10,
    "start_time": "2024-10-23T22:41:21.642Z"
   },
   {
    "duration": 5,
    "start_time": "2024-10-23T22:41:24.480Z"
   },
   {
    "duration": 63,
    "start_time": "2024-10-23T22:42:47.783Z"
   },
   {
    "duration": 101,
    "start_time": "2024-10-23T22:43:01.432Z"
   },
   {
    "duration": 97,
    "start_time": "2024-10-23T22:43:05.203Z"
   },
   {
    "duration": 97,
    "start_time": "2024-10-23T22:43:51.520Z"
   },
   {
    "duration": 5,
    "start_time": "2024-10-23T22:47:01.977Z"
   },
   {
    "duration": 4,
    "start_time": "2024-10-23T22:47:16.106Z"
   },
   {
    "duration": 4,
    "start_time": "2024-10-23T22:47:21.830Z"
   },
   {
    "duration": 4,
    "start_time": "2024-10-23T22:47:28.480Z"
   },
   {
    "duration": 4,
    "start_time": "2024-10-23T22:47:37.249Z"
   },
   {
    "duration": 5,
    "start_time": "2024-10-23T22:47:40.497Z"
   },
   {
    "duration": 5,
    "start_time": "2024-10-23T22:50:40.116Z"
   },
   {
    "duration": 112,
    "start_time": "2024-10-23T22:51:36.800Z"
   },
   {
    "duration": 154,
    "start_time": "2024-10-23T22:51:44.153Z"
   },
   {
    "duration": 74,
    "start_time": "2024-10-23T22:52:01.984Z"
   },
   {
    "duration": 103,
    "start_time": "2024-10-23T22:52:07.913Z"
   },
   {
    "duration": 5,
    "start_time": "2024-10-23T22:55:05.186Z"
   },
   {
    "duration": 808,
    "start_time": "2024-10-24T08:49:13.835Z"
   },
   {
    "duration": 169,
    "start_time": "2024-10-24T08:49:14.645Z"
   },
   {
    "duration": 18,
    "start_time": "2024-10-24T08:49:14.815Z"
   },
   {
    "duration": 29,
    "start_time": "2024-10-24T08:49:14.834Z"
   },
   {
    "duration": 23,
    "start_time": "2024-10-24T08:49:14.865Z"
   },
   {
    "duration": 97,
    "start_time": "2024-10-24T08:49:14.889Z"
   },
   {
    "duration": 6,
    "start_time": "2024-10-24T08:49:14.987Z"
   },
   {
    "duration": 33,
    "start_time": "2024-10-24T08:49:14.995Z"
   },
   {
    "duration": 41,
    "start_time": "2024-10-24T08:49:15.029Z"
   },
   {
    "duration": 39,
    "start_time": "2024-10-24T08:49:15.071Z"
   },
   {
    "duration": 326,
    "start_time": "2024-10-24T08:49:15.112Z"
   },
   {
    "duration": 290,
    "start_time": "2024-10-24T08:49:15.440Z"
   },
   {
    "duration": 204,
    "start_time": "2024-10-24T08:49:15.731Z"
   },
   {
    "duration": 307,
    "start_time": "2024-10-24T08:49:15.937Z"
   },
   {
    "duration": 281,
    "start_time": "2024-10-24T08:49:16.245Z"
   },
   {
    "duration": 262,
    "start_time": "2024-10-24T08:49:16.527Z"
   },
   {
    "duration": 11,
    "start_time": "2024-10-24T08:49:16.791Z"
   },
   {
    "duration": 137,
    "start_time": "2024-10-24T08:49:16.804Z"
   },
   {
    "duration": 5,
    "start_time": "2024-10-24T08:49:16.942Z"
   },
   {
    "duration": 9,
    "start_time": "2024-10-24T08:49:16.948Z"
   },
   {
    "duration": 141,
    "start_time": "2024-10-24T08:49:16.958Z"
   },
   {
    "duration": 5,
    "start_time": "2024-10-24T08:49:17.101Z"
   },
   {
    "duration": 11,
    "start_time": "2024-10-24T09:16:06.454Z"
   },
   {
    "duration": 13,
    "start_time": "2024-10-24T09:18:44.835Z"
   },
   {
    "duration": 855,
    "start_time": "2024-10-24T09:19:40.222Z"
   },
   {
    "duration": 11,
    "start_time": "2024-10-24T09:20:08.173Z"
   },
   {
    "duration": 9,
    "start_time": "2024-10-24T09:20:31.214Z"
   },
   {
    "duration": 9,
    "start_time": "2024-10-24T09:20:47.649Z"
   },
   {
    "duration": 463,
    "start_time": "2024-10-24T09:21:09.876Z"
   },
   {
    "duration": 47,
    "start_time": "2024-10-24T09:21:35.660Z"
   },
   {
    "duration": 6,
    "start_time": "2024-10-24T09:21:44.967Z"
   },
   {
    "duration": 6,
    "start_time": "2024-10-24T09:21:51.008Z"
   },
   {
    "duration": 5,
    "start_time": "2024-10-24T09:21:57.883Z"
   },
   {
    "duration": 9,
    "start_time": "2024-10-24T09:23:46.452Z"
   },
   {
    "duration": 76,
    "start_time": "2024-10-24T09:24:01.565Z"
   },
   {
    "duration": 269,
    "start_time": "2024-10-24T09:24:02.910Z"
   },
   {
    "duration": 74,
    "start_time": "2024-10-24T09:24:19.697Z"
   },
   {
    "duration": 14,
    "start_time": "2024-10-24T09:24:20.247Z"
   },
   {
    "duration": 77,
    "start_time": "2024-10-24T09:24:57.594Z"
   },
   {
    "duration": 262,
    "start_time": "2024-10-24T09:24:59.327Z"
   },
   {
    "duration": 11,
    "start_time": "2024-10-24T09:25:12.339Z"
   },
   {
    "duration": 7,
    "start_time": "2024-10-24T09:25:13.469Z"
   },
   {
    "duration": 7,
    "start_time": "2024-10-24T09:25:21.456Z"
   },
   {
    "duration": 6,
    "start_time": "2024-10-24T09:25:25.323Z"
   },
   {
    "duration": 6,
    "start_time": "2024-10-24T09:25:33.716Z"
   },
   {
    "duration": 6,
    "start_time": "2024-10-24T09:26:01.184Z"
   },
   {
    "duration": 14,
    "start_time": "2024-10-24T09:26:58.759Z"
   },
   {
    "duration": 16,
    "start_time": "2024-10-24T09:27:03.426Z"
   },
   {
    "duration": 16,
    "start_time": "2024-10-24T09:27:12.878Z"
   },
   {
    "duration": 4,
    "start_time": "2024-10-24T09:30:27.011Z"
   },
   {
    "duration": 3,
    "start_time": "2024-10-24T09:30:32.333Z"
   },
   {
    "duration": 20,
    "start_time": "2024-10-24T09:32:49.367Z"
   },
   {
    "duration": 17,
    "start_time": "2024-10-24T09:33:32.380Z"
   },
   {
    "duration": 33,
    "start_time": "2024-10-24T09:33:34.736Z"
   },
   {
    "duration": 8,
    "start_time": "2024-10-24T09:33:58.276Z"
   },
   {
    "duration": 25,
    "start_time": "2024-10-24T09:34:05.017Z"
   },
   {
    "duration": 25,
    "start_time": "2024-10-24T09:35:46.226Z"
   },
   {
    "duration": 17,
    "start_time": "2024-10-24T09:36:43.217Z"
   },
   {
    "duration": 24,
    "start_time": "2024-10-24T09:36:43.685Z"
   },
   {
    "duration": 9,
    "start_time": "2024-10-24T09:41:19.257Z"
   },
   {
    "duration": 10,
    "start_time": "2024-10-24T09:41:50.754Z"
   },
   {
    "duration": 13,
    "start_time": "2024-10-24T09:41:54.604Z"
   },
   {
    "duration": 16,
    "start_time": "2024-10-24T09:45:00.493Z"
   },
   {
    "duration": 10,
    "start_time": "2024-10-24T09:45:34.715Z"
   },
   {
    "duration": 6,
    "start_time": "2024-10-24T09:45:48.235Z"
   },
   {
    "duration": 742,
    "start_time": "2024-10-24T09:46:06.722Z"
   },
   {
    "duration": 751,
    "start_time": "2024-10-24T09:46:16.138Z"
   },
   {
    "duration": 10,
    "start_time": "2024-10-24T09:47:13.007Z"
   },
   {
    "duration": 12,
    "start_time": "2024-10-24T09:47:18.295Z"
   },
   {
    "duration": 788,
    "start_time": "2024-10-24T09:53:30.108Z"
   },
   {
    "duration": 8,
    "start_time": "2024-10-24T09:53:41.348Z"
   },
   {
    "duration": 19,
    "start_time": "2024-10-24T09:54:28.470Z"
   },
   {
    "duration": 31,
    "start_time": "2024-10-24T09:54:29.416Z"
   },
   {
    "duration": 11,
    "start_time": "2024-10-24T09:54:34.945Z"
   },
   {
    "duration": 10,
    "start_time": "2024-10-24T09:54:38.589Z"
   },
   {
    "duration": 9,
    "start_time": "2024-10-24T09:54:54.152Z"
   },
   {
    "duration": 740,
    "start_time": "2024-10-24T09:56:47.031Z"
   },
   {
    "duration": 11,
    "start_time": "2024-10-24T09:57:02.515Z"
   },
   {
    "duration": 9,
    "start_time": "2024-10-24T09:57:38.731Z"
   },
   {
    "duration": 14,
    "start_time": "2024-10-24T09:57:49.161Z"
   },
   {
    "duration": 32,
    "start_time": "2024-10-24T09:57:53.325Z"
   },
   {
    "duration": 11,
    "start_time": "2024-10-24T10:02:17.408Z"
   },
   {
    "duration": 762,
    "start_time": "2024-10-24T10:02:25.495Z"
   },
   {
    "duration": 14,
    "start_time": "2024-10-24T10:02:35.308Z"
   },
   {
    "duration": 7,
    "start_time": "2024-10-24T10:03:50.567Z"
   },
   {
    "duration": 7,
    "start_time": "2024-10-24T10:03:56.465Z"
   },
   {
    "duration": 1125,
    "start_time": "2024-10-24T10:04:13.153Z"
   },
   {
    "duration": 72,
    "start_time": "2024-10-24T10:04:14.279Z"
   },
   {
    "duration": 20,
    "start_time": "2024-10-24T10:04:14.352Z"
   },
   {
    "duration": 20,
    "start_time": "2024-10-24T10:04:14.374Z"
   },
   {
    "duration": 20,
    "start_time": "2024-10-24T10:04:14.396Z"
   },
   {
    "duration": 29,
    "start_time": "2024-10-24T10:04:14.419Z"
   },
   {
    "duration": 8,
    "start_time": "2024-10-24T10:04:14.450Z"
   },
   {
    "duration": 10,
    "start_time": "2024-10-24T10:04:14.460Z"
   },
   {
    "duration": 19,
    "start_time": "2024-10-24T10:04:14.472Z"
   },
   {
    "duration": 7,
    "start_time": "2024-10-24T10:04:14.494Z"
   },
   {
    "duration": 368,
    "start_time": "2024-10-24T10:04:14.503Z"
   },
   {
    "duration": 332,
    "start_time": "2024-10-24T10:04:14.873Z"
   },
   {
    "duration": 235,
    "start_time": "2024-10-24T10:04:15.207Z"
   },
   {
    "duration": 315,
    "start_time": "2024-10-24T10:04:15.444Z"
   },
   {
    "duration": 230,
    "start_time": "2024-10-24T10:04:15.760Z"
   },
   {
    "duration": 287,
    "start_time": "2024-10-24T10:04:15.992Z"
   },
   {
    "duration": 17,
    "start_time": "2024-10-24T10:04:16.281Z"
   },
   {
    "duration": 158,
    "start_time": "2024-10-24T10:04:16.300Z"
   },
   {
    "duration": 4,
    "start_time": "2024-10-24T10:04:16.460Z"
   },
   {
    "duration": 22,
    "start_time": "2024-10-24T10:04:16.466Z"
   },
   {
    "duration": 146,
    "start_time": "2024-10-24T10:04:16.489Z"
   },
   {
    "duration": 6,
    "start_time": "2024-10-24T10:04:16.636Z"
   },
   {
    "duration": 99,
    "start_time": "2024-10-24T10:04:16.644Z"
   },
   {
    "duration": 51,
    "start_time": "2024-10-24T10:04:16.744Z"
   },
   {
    "duration": 12,
    "start_time": "2024-10-24T10:04:16.797Z"
   },
   {
    "duration": 12,
    "start_time": "2024-10-24T10:04:16.811Z"
   },
   {
    "duration": 43,
    "start_time": "2024-10-24T10:04:16.824Z"
   },
   {
    "duration": 14,
    "start_time": "2024-10-24T10:04:16.870Z"
   },
   {
    "duration": 16,
    "start_time": "2024-10-24T10:16:11.023Z"
   },
   {
    "duration": 235,
    "start_time": "2024-10-24T10:19:27.923Z"
   },
   {
    "duration": 351,
    "start_time": "2024-10-24T10:20:17.295Z"
   },
   {
    "duration": 259,
    "start_time": "2024-10-24T10:20:34.176Z"
   },
   {
    "duration": 373,
    "start_time": "2024-10-24T10:21:23.775Z"
   },
   {
    "duration": 213,
    "start_time": "2024-10-24T10:21:53.406Z"
   },
   {
    "duration": 267,
    "start_time": "2024-10-24T10:22:20.851Z"
   },
   {
    "duration": 244,
    "start_time": "2024-10-24T10:22:28.783Z"
   },
   {
    "duration": 1812,
    "start_time": "2024-10-24T10:48:15.045Z"
   },
   {
    "duration": 60,
    "start_time": "2024-10-24T10:48:16.859Z"
   },
   {
    "duration": 17,
    "start_time": "2024-10-24T10:48:16.920Z"
   },
   {
    "duration": 31,
    "start_time": "2024-10-24T10:48:16.939Z"
   },
   {
    "duration": 10,
    "start_time": "2024-10-24T10:48:16.972Z"
   },
   {
    "duration": 36,
    "start_time": "2024-10-24T10:48:16.983Z"
   },
   {
    "duration": 9,
    "start_time": "2024-10-24T10:48:17.021Z"
   },
   {
    "duration": 21,
    "start_time": "2024-10-24T10:48:17.032Z"
   },
   {
    "duration": 23,
    "start_time": "2024-10-24T10:48:17.055Z"
   },
   {
    "duration": 18,
    "start_time": "2024-10-24T10:48:17.081Z"
   },
   {
    "duration": 327,
    "start_time": "2024-10-24T10:48:17.101Z"
   },
   {
    "duration": 302,
    "start_time": "2024-10-24T10:48:17.430Z"
   },
   {
    "duration": 204,
    "start_time": "2024-10-24T10:48:17.734Z"
   },
   {
    "duration": 307,
    "start_time": "2024-10-24T10:48:17.940Z"
   },
   {
    "duration": 269,
    "start_time": "2024-10-24T10:48:18.249Z"
   },
   {
    "duration": 298,
    "start_time": "2024-10-24T10:48:18.520Z"
   },
   {
    "duration": 7,
    "start_time": "2024-10-24T10:48:18.819Z"
   },
   {
    "duration": 139,
    "start_time": "2024-10-24T10:48:18.828Z"
   },
   {
    "duration": 4,
    "start_time": "2024-10-24T10:48:18.969Z"
   },
   {
    "duration": 24,
    "start_time": "2024-10-24T10:48:18.975Z"
   },
   {
    "duration": 148,
    "start_time": "2024-10-24T10:48:19.001Z"
   },
   {
    "duration": 5,
    "start_time": "2024-10-24T10:48:19.151Z"
   },
   {
    "duration": 53,
    "start_time": "2024-10-24T10:48:19.158Z"
   },
   {
    "duration": 42,
    "start_time": "2024-10-24T10:48:19.212Z"
   },
   {
    "duration": 9,
    "start_time": "2024-10-24T10:48:19.256Z"
   },
   {
    "duration": 22,
    "start_time": "2024-10-24T10:48:19.267Z"
   },
   {
    "duration": 46,
    "start_time": "2024-10-24T10:48:19.290Z"
   },
   {
    "duration": 12,
    "start_time": "2024-10-24T10:48:19.339Z"
   },
   {
    "duration": 1155,
    "start_time": "2024-10-24T16:51:18.183Z"
   },
   {
    "duration": 175,
    "start_time": "2024-10-24T16:51:19.340Z"
   },
   {
    "duration": 20,
    "start_time": "2024-10-24T16:51:20.878Z"
   },
   {
    "duration": 20,
    "start_time": "2024-10-24T16:51:22.314Z"
   },
   {
    "duration": 5,
    "start_time": "2024-10-24T16:51:24.774Z"
   },
   {
    "duration": 92,
    "start_time": "2024-10-24T16:52:03.643Z"
   },
   {
    "duration": 7,
    "start_time": "2024-10-24T16:52:09.174Z"
   },
   {
    "duration": 8,
    "start_time": "2024-10-24T16:52:16.893Z"
   },
   {
    "duration": 5,
    "start_time": "2024-10-24T16:52:26.424Z"
   },
   {
    "duration": 7,
    "start_time": "2024-10-24T16:52:54.942Z"
   },
   {
    "duration": 6,
    "start_time": "2024-10-24T16:53:07.532Z"
   },
   {
    "duration": 5,
    "start_time": "2024-10-24T16:53:31.207Z"
   },
   {
    "duration": 4,
    "start_time": "2024-10-24T16:53:51.924Z"
   },
   {
    "duration": 76,
    "start_time": "2024-10-24T16:56:40.232Z"
   },
   {
    "duration": 6,
    "start_time": "2024-10-24T16:56:42.266Z"
   },
   {
    "duration": 8,
    "start_time": "2024-10-24T16:56:42.846Z"
   },
   {
    "duration": 8,
    "start_time": "2024-10-24T16:57:00.310Z"
   },
   {
    "duration": 8,
    "start_time": "2024-10-24T16:57:15.078Z"
   },
   {
    "duration": 3,
    "start_time": "2024-10-24T16:57:19.659Z"
   },
   {
    "duration": 5,
    "start_time": "2024-10-24T16:59:07.455Z"
   },
   {
    "duration": 12,
    "start_time": "2024-10-24T16:59:15.266Z"
   },
   {
    "duration": 4,
    "start_time": "2024-10-24T16:59:35.446Z"
   },
   {
    "duration": 6,
    "start_time": "2024-10-24T17:14:54.240Z"
   },
   {
    "duration": 11,
    "start_time": "2024-10-24T17:15:06.981Z"
   },
   {
    "duration": 5,
    "start_time": "2024-10-24T17:15:26.240Z"
   },
   {
    "duration": 14,
    "start_time": "2024-10-24T17:15:33.164Z"
   },
   {
    "duration": 8,
    "start_time": "2024-10-24T17:15:57.234Z"
   },
   {
    "duration": 6,
    "start_time": "2024-10-24T17:16:00.944Z"
   },
   {
    "duration": 5,
    "start_time": "2024-10-24T17:16:28.589Z"
   },
   {
    "duration": 12,
    "start_time": "2024-10-24T17:16:41.990Z"
   },
   {
    "duration": 10,
    "start_time": "2024-10-24T17:17:49.471Z"
   },
   {
    "duration": 3,
    "start_time": "2024-10-24T17:17:58.510Z"
   },
   {
    "duration": 5,
    "start_time": "2024-10-24T17:18:37.772Z"
   },
   {
    "duration": 6,
    "start_time": "2024-10-24T17:18:48.289Z"
   },
   {
    "duration": 7,
    "start_time": "2024-10-24T17:19:00.004Z"
   },
   {
    "duration": 6,
    "start_time": "2024-10-24T17:19:07.470Z"
   },
   {
    "duration": 3,
    "start_time": "2024-10-24T17:19:15.689Z"
   },
   {
    "duration": 94,
    "start_time": "2024-10-24T17:19:15.693Z"
   },
   {
    "duration": 10,
    "start_time": "2024-10-24T17:19:15.788Z"
   },
   {
    "duration": 27,
    "start_time": "2024-10-24T17:19:15.799Z"
   },
   {
    "duration": 19,
    "start_time": "2024-10-24T17:19:15.827Z"
   },
   {
    "duration": 12,
    "start_time": "2024-10-24T17:19:15.848Z"
   },
   {
    "duration": 7,
    "start_time": "2024-10-24T17:19:17.912Z"
   },
   {
    "duration": 6,
    "start_time": "2024-10-24T17:19:50.912Z"
   },
   {
    "duration": 10,
    "start_time": "2024-10-24T17:19:54.909Z"
   },
   {
    "duration": 3,
    "start_time": "2024-10-24T17:20:29.045Z"
   },
   {
    "duration": 3,
    "start_time": "2024-10-24T17:20:39.562Z"
   },
   {
    "duration": 5,
    "start_time": "2024-10-24T17:20:55.684Z"
   },
   {
    "duration": 5,
    "start_time": "2024-10-24T17:21:01.972Z"
   },
   {
    "duration": 7,
    "start_time": "2024-10-24T17:22:27.012Z"
   },
   {
    "duration": 3,
    "start_time": "2024-10-24T17:22:30.699Z"
   },
   {
    "duration": 5,
    "start_time": "2024-10-24T17:22:33.679Z"
   },
   {
    "duration": 4,
    "start_time": "2024-10-24T17:22:45.701Z"
   },
   {
    "duration": 7,
    "start_time": "2024-10-24T17:23:19.953Z"
   },
   {
    "duration": 7,
    "start_time": "2024-10-24T17:23:36.465Z"
   },
   {
    "duration": 6,
    "start_time": "2024-10-24T17:23:59.929Z"
   },
   {
    "duration": 5,
    "start_time": "2024-10-24T17:24:46.358Z"
   },
   {
    "duration": 7,
    "start_time": "2024-10-24T17:24:47.452Z"
   },
   {
    "duration": 6,
    "start_time": "2024-10-24T17:24:56.496Z"
   },
   {
    "duration": 13,
    "start_time": "2024-10-24T17:25:05.581Z"
   },
   {
    "duration": 5,
    "start_time": "2024-10-24T17:25:14.503Z"
   },
   {
    "duration": 10,
    "start_time": "2024-10-24T17:25:22.735Z"
   },
   {
    "duration": 3,
    "start_time": "2024-10-24T17:26:17.148Z"
   },
   {
    "duration": 5,
    "start_time": "2024-10-24T17:28:00.485Z"
   },
   {
    "duration": 5,
    "start_time": "2024-10-24T17:28:10.989Z"
   },
   {
    "duration": 157,
    "start_time": "2024-10-24T17:29:32.855Z"
   },
   {
    "duration": 5,
    "start_time": "2024-10-24T17:29:35.121Z"
   },
   {
    "duration": 11,
    "start_time": "2024-10-24T17:32:50.161Z"
   },
   {
    "duration": 9,
    "start_time": "2024-10-24T17:33:17.428Z"
   },
   {
    "duration": 4,
    "start_time": "2024-10-24T17:33:43.307Z"
   },
   {
    "duration": 6,
    "start_time": "2024-10-24T17:33:50.992Z"
   },
   {
    "duration": 1948,
    "start_time": "2024-10-24T17:34:13.175Z"
   },
   {
    "duration": 4,
    "start_time": "2024-10-24T17:34:26.479Z"
   },
   {
    "duration": 5,
    "start_time": "2024-10-24T17:34:38.784Z"
   },
   {
    "duration": 5,
    "start_time": "2024-10-24T17:34:51.089Z"
   },
   {
    "duration": 5,
    "start_time": "2024-10-24T17:35:26.915Z"
   },
   {
    "duration": 6,
    "start_time": "2024-10-24T17:35:30.353Z"
   },
   {
    "duration": 10,
    "start_time": "2024-10-24T17:35:43.149Z"
   },
   {
    "duration": 2,
    "start_time": "2024-10-24T17:35:50.906Z"
   },
   {
    "duration": 144,
    "start_time": "2024-10-24T17:35:50.910Z"
   },
   {
    "duration": 13,
    "start_time": "2024-10-24T17:35:51.055Z"
   },
   {
    "duration": 34,
    "start_time": "2024-10-24T17:35:51.069Z"
   },
   {
    "duration": 34,
    "start_time": "2024-10-24T17:35:51.104Z"
   },
   {
    "duration": 32,
    "start_time": "2024-10-24T17:35:51.139Z"
   },
   {
    "duration": 41,
    "start_time": "2024-10-24T17:35:51.172Z"
   },
   {
    "duration": 26,
    "start_time": "2024-10-24T17:35:51.214Z"
   },
   {
    "duration": 10,
    "start_time": "2024-10-24T17:35:53.818Z"
   },
   {
    "duration": 6,
    "start_time": "2024-10-24T17:36:04.746Z"
   },
   {
    "duration": 5,
    "start_time": "2024-10-24T17:36:12.834Z"
   },
   {
    "duration": 4,
    "start_time": "2024-10-24T17:36:40.840Z"
   },
   {
    "duration": 2,
    "start_time": "2024-10-24T17:36:46.629Z"
   },
   {
    "duration": 78,
    "start_time": "2024-10-24T17:36:46.633Z"
   },
   {
    "duration": 11,
    "start_time": "2024-10-24T17:36:46.712Z"
   },
   {
    "duration": 84,
    "start_time": "2024-10-24T17:36:46.724Z"
   },
   {
    "duration": 4,
    "start_time": "2024-10-24T17:36:46.810Z"
   },
   {
    "duration": 32,
    "start_time": "2024-10-24T17:36:46.816Z"
   },
   {
    "duration": 27,
    "start_time": "2024-10-24T17:36:46.849Z"
   },
   {
    "duration": 7,
    "start_time": "2024-10-24T17:36:46.878Z"
   },
   {
    "duration": 4,
    "start_time": "2024-10-24T17:36:50.814Z"
   },
   {
    "duration": 4,
    "start_time": "2024-10-24T17:37:18.457Z"
   },
   {
    "duration": 306,
    "start_time": "2024-10-24T17:37:38.143Z"
   },
   {
    "duration": 293,
    "start_time": "2024-10-24T17:37:41.727Z"
   },
   {
    "duration": 190,
    "start_time": "2024-10-24T17:37:46.590Z"
   },
   {
    "duration": 332,
    "start_time": "2024-10-24T17:37:49.001Z"
   },
   {
    "duration": 234,
    "start_time": "2024-10-24T17:37:52.586Z"
   },
   {
    "duration": 272,
    "start_time": "2024-10-24T17:37:56.902Z"
   },
   {
    "duration": 7,
    "start_time": "2024-10-24T17:37:59.931Z"
   },
   {
    "duration": 129,
    "start_time": "2024-10-24T17:38:00.647Z"
   },
   {
    "duration": 4,
    "start_time": "2024-10-24T17:38:24.391Z"
   },
   {
    "duration": 5,
    "start_time": "2024-10-24T17:39:07.575Z"
   },
   {
    "duration": 108,
    "start_time": "2024-10-24T17:39:08.629Z"
   },
   {
    "duration": 4,
    "start_time": "2024-10-24T17:39:17.105Z"
   },
   {
    "duration": 17,
    "start_time": "2024-10-24T17:39:48.001Z"
   },
   {
    "duration": 21,
    "start_time": "2024-10-24T17:39:49.566Z"
   },
   {
    "duration": 19,
    "start_time": "2024-10-24T17:40:05.636Z"
   },
   {
    "duration": 31,
    "start_time": "2024-10-24T17:40:22.512Z"
   },
   {
    "duration": 9,
    "start_time": "2024-10-24T17:45:14.431Z"
   },
   {
    "duration": 9,
    "start_time": "2024-10-24T17:48:50.297Z"
   },
   {
    "duration": 24,
    "start_time": "2024-10-24T17:49:17.576Z"
   },
   {
    "duration": 12,
    "start_time": "2024-10-24T17:50:25.109Z"
   },
   {
    "duration": 59,
    "start_time": "2024-10-24T19:14:35.108Z"
   },
   {
    "duration": 1015,
    "start_time": "2024-10-25T06:19:46.927Z"
   },
   {
    "duration": 64,
    "start_time": "2024-10-25T06:19:47.943Z"
   },
   {
    "duration": 15,
    "start_time": "2024-10-25T06:19:48.008Z"
   },
   {
    "duration": 18,
    "start_time": "2024-10-25T06:19:48.025Z"
   },
   {
    "duration": 5,
    "start_time": "2024-10-25T06:19:48.044Z"
   },
   {
    "duration": 11,
    "start_time": "2024-10-25T06:19:48.050Z"
   },
   {
    "duration": 13,
    "start_time": "2024-10-25T06:19:48.063Z"
   },
   {
    "duration": 18,
    "start_time": "2024-10-25T06:19:48.077Z"
   },
   {
    "duration": 27,
    "start_time": "2024-10-25T06:19:48.096Z"
   },
   {
    "duration": 39,
    "start_time": "2024-10-25T06:19:48.126Z"
   },
   {
    "duration": 5,
    "start_time": "2024-10-25T06:19:48.166Z"
   },
   {
    "duration": 23,
    "start_time": "2024-10-25T06:19:48.172Z"
   },
   {
    "duration": 30,
    "start_time": "2024-10-25T06:19:48.196Z"
   },
   {
    "duration": 9,
    "start_time": "2024-10-25T06:19:48.227Z"
   },
   {
    "duration": 275,
    "start_time": "2024-10-25T06:19:48.237Z"
   },
   {
    "duration": 260,
    "start_time": "2024-10-25T06:19:48.514Z"
   },
   {
    "duration": 185,
    "start_time": "2024-10-25T06:19:48.776Z"
   },
   {
    "duration": 264,
    "start_time": "2024-10-25T06:19:48.963Z"
   },
   {
    "duration": 204,
    "start_time": "2024-10-25T06:19:49.228Z"
   },
   {
    "duration": 236,
    "start_time": "2024-10-25T06:19:49.434Z"
   },
   {
    "duration": 6,
    "start_time": "2024-10-25T06:19:49.671Z"
   },
   {
    "duration": 162,
    "start_time": "2024-10-25T06:19:49.678Z"
   },
   {
    "duration": 5,
    "start_time": "2024-10-25T06:19:49.841Z"
   },
   {
    "duration": 21,
    "start_time": "2024-10-25T06:19:49.847Z"
   },
   {
    "duration": 140,
    "start_time": "2024-10-25T06:19:49.869Z"
   },
   {
    "duration": 4,
    "start_time": "2024-10-25T06:19:50.010Z"
   },
   {
    "duration": 34,
    "start_time": "2024-10-25T06:19:50.015Z"
   },
   {
    "duration": 41,
    "start_time": "2024-10-25T06:19:50.052Z"
   },
   {
    "duration": 8,
    "start_time": "2024-10-25T06:19:50.095Z"
   },
   {
    "duration": 24,
    "start_time": "2024-10-25T06:19:50.104Z"
   },
   {
    "duration": 76,
    "start_time": "2024-10-25T06:19:50.130Z"
   },
   {
    "duration": 22,
    "start_time": "2024-10-25T06:19:50.208Z"
   }
  ],
  "kernelspec": {
   "display_name": "Python 3 (ipykernel)",
   "language": "python",
   "name": "python3"
  },
  "language_info": {
   "codemirror_mode": {
    "name": "ipython",
    "version": 3
   },
   "file_extension": ".py",
   "mimetype": "text/x-python",
   "name": "python",
   "nbconvert_exporter": "python",
   "pygments_lexer": "ipython3",
   "version": "3.12.4"
  },
  "toc": {
   "base_numbering": 1,
   "nav_menu": {},
   "number_sections": true,
   "sideBar": true,
   "skip_h1_title": true,
   "title_cell": "Table of Contents",
   "title_sidebar": "Contents",
   "toc_cell": false,
   "toc_position": {
    "height": "calc(100% - 180px)",
    "left": "10px",
    "top": "150px",
    "width": "165px"
   },
   "toc_section_display": true,
   "toc_window_display": true
  }
 },
 "nbformat": 4,
 "nbformat_minor": 4
}
