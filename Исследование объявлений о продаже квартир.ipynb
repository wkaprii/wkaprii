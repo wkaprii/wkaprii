{
 "cells": [
  {
   "cell_type": "markdown",
   "metadata": {
    "id": "-VFbjcb3Awb7"
   },
   "source": [
    "# Исследование объявлений о продаже квартир\n",
    "\n",
    "В вашем распоряжении данные сервиса Яндекс Недвижимость — архив объявлений о продаже квартир в Санкт-Петербурге и соседних населённых пунктах за несколько лет. Определим рыночную стоимость объектов недвижимости. Для этого проведем исследовательский анализ данных и установим параметры, влияющие на цену объектов. Это позволит построить автоматизированную систему: она отследит аномалии и мошенническую деятельность.\n",
    "\n",
    "По каждой квартире на продажу доступны два вида данных. Первые вписаны пользователем, вторые — получены автоматически на основе картографических данных. Например, расстояние до центра, аэропорта и других объектов — эти данные автоматически получены из геосервисов. Количество парков и водоёмов также заполняется без участия пользователя."
   ]
  },
  {
   "cell_type": "code",
   "execution_count": 301,
   "metadata": {},
   "outputs": [],
   "source": [
    "import pandas as pd\n",
    "import matplotlib.pyplot as plt"
   ]
  },
  {
   "cell_type": "code",
   "execution_count": 302,
   "metadata": {
    "id": "7MZxY65pAwb9"
   },
   "outputs": [
    {
     "data": {
      "text/html": [
       "<div>\n",
       "<style scoped>\n",
       "    .dataframe tbody tr th:only-of-type {\n",
       "        vertical-align: middle;\n",
       "    }\n",
       "\n",
       "    .dataframe tbody tr th {\n",
       "        vertical-align: top;\n",
       "    }\n",
       "\n",
       "    .dataframe thead th {\n",
       "        text-align: right;\n",
       "    }\n",
       "</style>\n",
       "<table border=\"1\" class=\"dataframe\">\n",
       "  <thead>\n",
       "    <tr style=\"text-align: right;\">\n",
       "      <th></th>\n",
       "      <th>total_images</th>\n",
       "      <th>last_price</th>\n",
       "      <th>total_area</th>\n",
       "      <th>first_day_exposition</th>\n",
       "      <th>rooms</th>\n",
       "      <th>ceiling_height</th>\n",
       "      <th>floors_total</th>\n",
       "      <th>living_area</th>\n",
       "      <th>floor</th>\n",
       "      <th>is_apartment</th>\n",
       "      <th>...</th>\n",
       "      <th>kitchen_area</th>\n",
       "      <th>balcony</th>\n",
       "      <th>locality_name</th>\n",
       "      <th>airports_nearest</th>\n",
       "      <th>cityCenters_nearest</th>\n",
       "      <th>parks_around3000</th>\n",
       "      <th>parks_nearest</th>\n",
       "      <th>ponds_around3000</th>\n",
       "      <th>ponds_nearest</th>\n",
       "      <th>days_exposition</th>\n",
       "    </tr>\n",
       "  </thead>\n",
       "  <tbody>\n",
       "    <tr>\n",
       "      <th>0</th>\n",
       "      <td>20</td>\n",
       "      <td>13000000.0</td>\n",
       "      <td>108.0</td>\n",
       "      <td>2019-03-07T00:00:00</td>\n",
       "      <td>3</td>\n",
       "      <td>2.70</td>\n",
       "      <td>16.0</td>\n",
       "      <td>51.0</td>\n",
       "      <td>8</td>\n",
       "      <td>NaN</td>\n",
       "      <td>...</td>\n",
       "      <td>25.0</td>\n",
       "      <td>NaN</td>\n",
       "      <td>Санкт-Петербург</td>\n",
       "      <td>18863.0</td>\n",
       "      <td>16028.0</td>\n",
       "      <td>1.0</td>\n",
       "      <td>482.0</td>\n",
       "      <td>2.0</td>\n",
       "      <td>755.0</td>\n",
       "      <td>NaN</td>\n",
       "    </tr>\n",
       "    <tr>\n",
       "      <th>1</th>\n",
       "      <td>7</td>\n",
       "      <td>3350000.0</td>\n",
       "      <td>40.4</td>\n",
       "      <td>2018-12-04T00:00:00</td>\n",
       "      <td>1</td>\n",
       "      <td>NaN</td>\n",
       "      <td>11.0</td>\n",
       "      <td>18.6</td>\n",
       "      <td>1</td>\n",
       "      <td>NaN</td>\n",
       "      <td>...</td>\n",
       "      <td>11.0</td>\n",
       "      <td>2.0</td>\n",
       "      <td>посёлок Шушары</td>\n",
       "      <td>12817.0</td>\n",
       "      <td>18603.0</td>\n",
       "      <td>0.0</td>\n",
       "      <td>NaN</td>\n",
       "      <td>0.0</td>\n",
       "      <td>NaN</td>\n",
       "      <td>81.0</td>\n",
       "    </tr>\n",
       "    <tr>\n",
       "      <th>2</th>\n",
       "      <td>10</td>\n",
       "      <td>5196000.0</td>\n",
       "      <td>56.0</td>\n",
       "      <td>2015-08-20T00:00:00</td>\n",
       "      <td>2</td>\n",
       "      <td>NaN</td>\n",
       "      <td>5.0</td>\n",
       "      <td>34.3</td>\n",
       "      <td>4</td>\n",
       "      <td>NaN</td>\n",
       "      <td>...</td>\n",
       "      <td>8.3</td>\n",
       "      <td>0.0</td>\n",
       "      <td>Санкт-Петербург</td>\n",
       "      <td>21741.0</td>\n",
       "      <td>13933.0</td>\n",
       "      <td>1.0</td>\n",
       "      <td>90.0</td>\n",
       "      <td>2.0</td>\n",
       "      <td>574.0</td>\n",
       "      <td>558.0</td>\n",
       "    </tr>\n",
       "    <tr>\n",
       "      <th>3</th>\n",
       "      <td>0</td>\n",
       "      <td>64900000.0</td>\n",
       "      <td>159.0</td>\n",
       "      <td>2015-07-24T00:00:00</td>\n",
       "      <td>3</td>\n",
       "      <td>NaN</td>\n",
       "      <td>14.0</td>\n",
       "      <td>NaN</td>\n",
       "      <td>9</td>\n",
       "      <td>NaN</td>\n",
       "      <td>...</td>\n",
       "      <td>NaN</td>\n",
       "      <td>0.0</td>\n",
       "      <td>Санкт-Петербург</td>\n",
       "      <td>28098.0</td>\n",
       "      <td>6800.0</td>\n",
       "      <td>2.0</td>\n",
       "      <td>84.0</td>\n",
       "      <td>3.0</td>\n",
       "      <td>234.0</td>\n",
       "      <td>424.0</td>\n",
       "    </tr>\n",
       "    <tr>\n",
       "      <th>4</th>\n",
       "      <td>2</td>\n",
       "      <td>10000000.0</td>\n",
       "      <td>100.0</td>\n",
       "      <td>2018-06-19T00:00:00</td>\n",
       "      <td>2</td>\n",
       "      <td>3.03</td>\n",
       "      <td>14.0</td>\n",
       "      <td>32.0</td>\n",
       "      <td>13</td>\n",
       "      <td>NaN</td>\n",
       "      <td>...</td>\n",
       "      <td>41.0</td>\n",
       "      <td>NaN</td>\n",
       "      <td>Санкт-Петербург</td>\n",
       "      <td>31856.0</td>\n",
       "      <td>8098.0</td>\n",
       "      <td>2.0</td>\n",
       "      <td>112.0</td>\n",
       "      <td>1.0</td>\n",
       "      <td>48.0</td>\n",
       "      <td>121.0</td>\n",
       "    </tr>\n",
       "  </tbody>\n",
       "</table>\n",
       "<p>5 rows × 22 columns</p>\n",
       "</div>"
      ],
      "text/plain": [
       "   total_images  last_price  total_area first_day_exposition  rooms  \\\n",
       "0            20  13000000.0       108.0  2019-03-07T00:00:00      3   \n",
       "1             7   3350000.0        40.4  2018-12-04T00:00:00      1   \n",
       "2            10   5196000.0        56.0  2015-08-20T00:00:00      2   \n",
       "3             0  64900000.0       159.0  2015-07-24T00:00:00      3   \n",
       "4             2  10000000.0       100.0  2018-06-19T00:00:00      2   \n",
       "\n",
       "   ceiling_height  floors_total  living_area  floor is_apartment  ...  \\\n",
       "0            2.70          16.0         51.0      8          NaN  ...   \n",
       "1             NaN          11.0         18.6      1          NaN  ...   \n",
       "2             NaN           5.0         34.3      4          NaN  ...   \n",
       "3             NaN          14.0          NaN      9          NaN  ...   \n",
       "4            3.03          14.0         32.0     13          NaN  ...   \n",
       "\n",
       "   kitchen_area  balcony    locality_name  airports_nearest  \\\n",
       "0          25.0      NaN  Санкт-Петербург           18863.0   \n",
       "1          11.0      2.0   посёлок Шушары           12817.0   \n",
       "2           8.3      0.0  Санкт-Петербург           21741.0   \n",
       "3           NaN      0.0  Санкт-Петербург           28098.0   \n",
       "4          41.0      NaN  Санкт-Петербург           31856.0   \n",
       "\n",
       "  cityCenters_nearest  parks_around3000  parks_nearest  ponds_around3000  \\\n",
       "0             16028.0               1.0          482.0               2.0   \n",
       "1             18603.0               0.0            NaN               0.0   \n",
       "2             13933.0               1.0           90.0               2.0   \n",
       "3              6800.0               2.0           84.0               3.0   \n",
       "4              8098.0               2.0          112.0               1.0   \n",
       "\n",
       "   ponds_nearest  days_exposition  \n",
       "0          755.0              NaN  \n",
       "1            NaN             81.0  \n",
       "2          574.0            558.0  \n",
       "3          234.0            424.0  \n",
       "4           48.0            121.0  \n",
       "\n",
       "[5 rows x 22 columns]"
      ]
     },
     "execution_count": 302,
     "metadata": {},
     "output_type": "execute_result"
    }
   ],
   "source": [
    "data = pd.read_csv('/datasets/real_estate_data.csv', sep='\\t')\n",
    "data.head()"
   ]
  },
  {
   "cell_type": "code",
   "execution_count": 303,
   "metadata": {},
   "outputs": [
    {
     "name": "stdout",
     "output_type": "stream",
     "text": [
      "<class 'pandas.core.frame.DataFrame'>\n",
      "RangeIndex: 23699 entries, 0 to 23698\n",
      "Data columns (total 22 columns):\n",
      " #   Column                Non-Null Count  Dtype  \n",
      "---  ------                --------------  -----  \n",
      " 0   total_images          23699 non-null  int64  \n",
      " 1   last_price            23699 non-null  float64\n",
      " 2   total_area            23699 non-null  float64\n",
      " 3   first_day_exposition  23699 non-null  object \n",
      " 4   rooms                 23699 non-null  int64  \n",
      " 5   ceiling_height        14504 non-null  float64\n",
      " 6   floors_total          23613 non-null  float64\n",
      " 7   living_area           21796 non-null  float64\n",
      " 8   floor                 23699 non-null  int64  \n",
      " 9   is_apartment          2775 non-null   object \n",
      " 10  studio                23699 non-null  bool   \n",
      " 11  open_plan             23699 non-null  bool   \n",
      " 12  kitchen_area          21421 non-null  float64\n",
      " 13  balcony               12180 non-null  float64\n",
      " 14  locality_name         23650 non-null  object \n",
      " 15  airports_nearest      18157 non-null  float64\n",
      " 16  cityCenters_nearest   18180 non-null  float64\n",
      " 17  parks_around3000      18181 non-null  float64\n",
      " 18  parks_nearest         8079 non-null   float64\n",
      " 19  ponds_around3000      18181 non-null  float64\n",
      " 20  ponds_nearest         9110 non-null   float64\n",
      " 21  days_exposition       20518 non-null  float64\n",
      "dtypes: bool(2), float64(14), int64(3), object(3)\n",
      "memory usage: 3.7+ MB\n"
     ]
    }
   ],
   "source": [
    "data.info()"
   ]
  },
  {
   "cell_type": "code",
   "execution_count": 304,
   "metadata": {},
   "outputs": [
    {
     "data": {
      "image/png": "[encoded data removed]",
      "text/plain": [
       "<Figure size 1080x1440 with 20 Axes>"
      ]
     },
     "metadata": {
      "needs_background": "light"
     },
     "output_type": "display_data"
    }
   ],
   "source": [
    "data.hist(figsize=(15, 20));"
   ]
  },
  {
   "cell_type": "markdown",
   "metadata": {},
   "source": [
    "Визуализировала все необходимые показатели с помощью гистограмм. \n",
    "\n",
    "Показатели необходимо проверить на аномалии, восполнить пропуски, убрать нетипичные значения и провести предобработку данных"
   ]
  },
  {
   "cell_type": "markdown",
   "metadata": {
    "id": "-O5NtivEAwb9"
   },
   "source": [
    "## Предобработка данных"
   ]
  },
  {
   "cell_type": "code",
   "execution_count": 305,
   "metadata": {
    "id": "7v3vAeTuAwb-"
   },
   "outputs": [
    {
     "name": "stdout",
     "output_type": "stream",
     "text": [
      "(23699, 22)\n"
     ]
    },
    {
     "data": {
      "text/plain": [
       "total_images                0\n",
       "last_price                  0\n",
       "total_area                  0\n",
       "first_day_exposition        0\n",
       "rooms                       0\n",
       "ceiling_height           9195\n",
       "floors_total               86\n",
       "living_area              1903\n",
       "floor                       0\n",
       "is_apartment            20924\n",
       "studio                      0\n",
       "open_plan                   0\n",
       "kitchen_area             2278\n",
       "balcony                 11519\n",
       "locality_name              49\n",
       "airports_nearest         5542\n",
       "cityCenters_nearest      5519\n",
       "parks_around3000         5518\n",
       "parks_nearest           15620\n",
       "ponds_around3000         5518\n",
       "ponds_nearest           14589\n",
       "days_exposition          3181\n",
       "dtype: int64"
      ]
     },
     "execution_count": 305,
     "metadata": {},
     "output_type": "execute_result"
    }
   ],
   "source": [
    "print(data.shape)\n",
    "data.isna().sum() #счиаем кол-во пропущенных значений"
   ]
  },
  {
   "cell_type": "markdown",
   "metadata": {},
   "source": [
    "Пропуски в информации о наличии балкона в квартире (столбец balcony) можно заменить 0, так как раз продавец не указал данную информацию, скорее всего этих балкона просто нет. Та же ситуация и с данными, является ли жилье апартаментами (is_apartment) - если данные не заполнены, то, скорее всего, это не апартаменты.\n",
    "\n",
    "Данные о кол-ве ближайших парков, прудов (parks_around3000, ponds_around3000) были занесены автоматически на основе картографических данных, и пропуски могут означать, что парков, прудов поблизости нет.\n",
    "\n",
    "Пропуски в \"высота потолка\" (ceiling_height) возможны из-за того, что в данных квартирах потолки низкие, что может оттолкнуть покупателя, и поэтому продавец не стал указывать эту информацию. По той же причине возможны пропуске и в данных о жилой площади (living_area). Это важная информация для покупателя, но по каким-то соображениям продавец не стал указывать данную информацию.\n",
    "\n",
    "Квартиры, с пропущенными данными о расстоянии до ближайшего центра города (cityCenters_nearest),   скорее всего пропущенны из-за ошибки в выгрузке данных, и об этом стоит сообщить в отчете, так как эта информация важна для потенциальных покупателей.\n",
    "\n",
    "А вот пропуски в данных о расстоянии до ближайшего аэропорта (airports_nearest), пруда (ponds_nearest), парка (parks_nearest), могут означать, что жилье находится чересчур далеко от них, и смысла указывать такое расстояние не имеет смысла."
   ]
  },
  {
   "cell_type": "code",
   "execution_count": 306,
   "metadata": {},
   "outputs": [
    {
     "data": {
      "text/plain": [
       "array([False,  True])"
      ]
     },
     "execution_count": 306,
     "metadata": {},
     "output_type": "execute_result"
    }
   ],
   "source": [
    "data['is_apartment'] = data['is_apartment'].fillna(False) #заменяем пропуски на False\n",
    "data['is_apartment'].unique()"
   ]
  },
  {
   "cell_type": "code",
   "execution_count": 307,
   "metadata": {},
   "outputs": [
    {
     "name": "stdout",
     "output_type": "stream",
     "text": [
      "[0 2 1 5 4 3]\n"
     ]
    }
   ],
   "source": [
    "data['balcony'] = data['balcony'].fillna(0) #заполняем пропуски на 0\n",
    "data['balcony'] = data['balcony'].astype('int') #изменяем тип данных на integer\n",
    "print(data['balcony'].unique())"
   ]
  },
  {
   "cell_type": "code",
   "execution_count": 308,
   "metadata": {},
   "outputs": [],
   "source": [
    "data['parks_around3000'] = data['parks_around3000'].fillna(0)\n",
    "data['ponds_around3000'] = data['ponds_around3000'].fillna(0)"
   ]
  },
  {
   "cell_type": "markdown",
   "metadata": {},
   "source": [
    "1. Заменим пропущенные значения в данных о кол-ве дней, которое объявление было размещено (days_exposition), медианным значением.\n",
    "\n",
    "2. Данные о расстоянии до ближайшего парка/пруда заменим на медианное расстояние группы, к которой относится жилье. Группы выделим по кол-ву парков и прудов в радиусе 3 км. Данные жилья, по близости которого нет парка,пруда, остануться NA."
   ]
  },
  {
   "cell_type": "code",
   "execution_count": 309,
   "metadata": {},
   "outputs": [
    {
     "data": {
      "text/plain": [
       "365"
      ]
     },
     "execution_count": 309,
     "metadata": {},
     "output_type": "execute_result"
    }
   ],
   "source": [
    "len(data['locality_name'].unique()) #уникальные названия насел.пункотов до обработки"
   ]
  },
  {
   "cell_type": "code",
   "execution_count": 310,
   "metadata": {},
   "outputs": [
    {
     "name": "stdout",
     "output_type": "stream",
     "text": [
      "49\n"
     ]
    },
    {
     "data": {
      "text/plain": [
       "0.002067597788936242"
      ]
     },
     "execution_count": 310,
     "metadata": {},
     "output_type": "execute_result"
    }
   ],
   "source": [
    "#чистим данные с наименованием населенного пункта\n",
    "data['locality_name'] = data['locality_name'].str.lower()\n",
    "data['locality_name'] = data['locality_name'].str.replace('ё', 'е').replace(['городской поселок', 'коттеджный поселок', 'поселок городского типа'], 'поселок', regex=True)\n",
    "\n",
    "print(data['locality_name'].isna().sum())\n",
    "data['locality_name'].isna().mean()"
   ]
  },
  {
   "cell_type": "markdown",
   "metadata": {},
   "source": [
    "В 49 объявлениях не указан населенный пункт. Такие объявления составляют всего 0.2% из общей выборки, поэтому их множно просто удалить."
   ]
  },
  {
   "cell_type": "code",
   "execution_count": 311,
   "metadata": {},
   "outputs": [],
   "source": [
    "data = data[~data['locality_name'].isna()]"
   ]
  },
  {
   "cell_type": "code",
   "execution_count": 312,
   "metadata": {},
   "outputs": [
    {
     "data": {
      "text/plain": [
       "321"
      ]
     },
     "execution_count": 312,
     "metadata": {},
     "output_type": "execute_result"
    }
   ],
   "source": [
    "len(data['locality_name'].unique()) "
   ]
  },
  {
   "cell_type": "code",
   "execution_count": 313,
   "metadata": {},
   "outputs": [
    {
     "data": {
      "text/plain": [
       "0"
      ]
     },
     "execution_count": 313,
     "metadata": {},
     "output_type": "execute_result"
    }
   ],
   "source": [
    "data['locality_name'].isna().sum() #проверка на кол-во пропусков"
   ]
  },
  {
   "cell_type": "code",
   "execution_count": 315,
   "metadata": {},
   "outputs": [
    {
     "data": {
      "text/plain": [
       "Index(['rooms', 'koef'], dtype='object')"
      ]
     },
     "execution_count": 315,
     "metadata": {},
     "output_type": "execute_result"
    }
   ],
   "source": [
    "koef_area = (data.query('~living_area.isna()').groupby('rooms')['living_area'].sum() \\\n",
    "/ data.query('~living_area.isna()').groupby('rooms')['total_area'].sum()).to_frame()\n",
    "koef_area.columns = ['koef']\n",
    "koef_area = koef_area.reset_index()\n",
    "koef_area.columns"
   ]
  },
  {
   "cell_type": "code",
   "execution_count": 316,
   "metadata": {},
   "outputs": [],
   "source": [
    "data = data.merge(koef_area, on = 'rooms', how='left')"
   ]
  },
  {
   "cell_type": "code",
   "execution_count": 317,
   "metadata": {},
   "outputs": [],
   "source": [
    "data['living_area'] = data['living_area'].fillna(data['total_area']*data['koef'])"
   ]
  },
  {
   "cell_type": "code",
   "execution_count": 318,
   "metadata": {},
   "outputs": [
    {
     "data": {
      "text/plain": [
       "0"
      ]
     },
     "execution_count": 318,
     "metadata": {},
     "output_type": "execute_result"
    }
   ],
   "source": [
    "data['living_area'].isna().sum()"
   ]
  },
  {
   "cell_type": "code",
   "execution_count": 319,
   "metadata": {},
   "outputs": [
    {
     "data": {
      "text/plain": [
       "total_images                0\n",
       "last_price                  0\n",
       "total_area                  0\n",
       "first_day_exposition        0\n",
       "rooms                       0\n",
       "ceiling_height           9160\n",
       "floors_total               85\n",
       "living_area                 0\n",
       "floor                       0\n",
       "is_apartment                0\n",
       "studio                      0\n",
       "open_plan                   0\n",
       "kitchen_area             2269\n",
       "balcony                     0\n",
       "locality_name               0\n",
       "airports_nearest         5534\n",
       "cityCenters_nearest      5511\n",
       "parks_around3000            0\n",
       "parks_nearest           15586\n",
       "ponds_around3000            0\n",
       "ponds_nearest           14565\n",
       "days_exposition          3180\n",
       "koef                        0\n",
       "dtype: int64"
      ]
     },
     "execution_count": 319,
     "metadata": {},
     "output_type": "execute_result"
    }
   ],
   "source": [
    "data.isna().sum()"
   ]
  },
  {
   "cell_type": "code",
   "execution_count": 320,
   "metadata": {},
   "outputs": [
    {
     "name": "stdout",
     "output_type": "stream",
     "text": [
      "<class 'pandas.core.frame.DataFrame'>\n",
      "Int64Index: 23650 entries, 0 to 23649\n",
      "Data columns (total 23 columns):\n",
      " #   Column                Non-Null Count  Dtype  \n",
      "---  ------                --------------  -----  \n",
      " 0   total_images          23650 non-null  int64  \n",
      " 1   last_price            23650 non-null  float64\n",
      " 2   total_area            23650 non-null  float64\n",
      " 3   first_day_exposition  23650 non-null  object \n",
      " 4   rooms                 23650 non-null  int64  \n",
      " 5   ceiling_height        14490 non-null  float64\n",
      " 6   floors_total          23565 non-null  float64\n",
      " 7   living_area           23650 non-null  float64\n",
      " 8   floor                 23650 non-null  int64  \n",
      " 9   is_apartment          23650 non-null  bool   \n",
      " 10  studio                23650 non-null  bool   \n",
      " 11  open_plan             23650 non-null  bool   \n",
      " 12  kitchen_area          21381 non-null  float64\n",
      " 13  balcony               23650 non-null  int64  \n",
      " 14  locality_name         23650 non-null  object \n",
      " 15  airports_nearest      18116 non-null  float64\n",
      " 16  cityCenters_nearest   18139 non-null  float64\n",
      " 17  parks_around3000      23650 non-null  float64\n",
      " 18  parks_nearest         8064 non-null   float64\n",
      " 19  ponds_around3000      23650 non-null  float64\n",
      " 20  ponds_nearest         9085 non-null   float64\n",
      " 21  days_exposition       20470 non-null  float64\n",
      " 22  koef                  23650 non-null  float64\n",
      "dtypes: bool(3), float64(14), int64(4), object(2)\n",
      "memory usage: 3.9+ MB\n"
     ]
    }
   ],
   "source": [
    "data.info()"
   ]
  },
  {
   "cell_type": "code",
   "execution_count": 321,
   "metadata": {},
   "outputs": [
    {
     "data": {
      "text/plain": [
       "(23650, 23)"
      ]
     },
     "execution_count": 321,
     "metadata": {},
     "output_type": "execute_result"
    }
   ],
   "source": [
    "data.shape"
   ]
  },
  {
   "cell_type": "markdown",
   "metadata": {},
   "source": [
    "1. Дату публикации объявления (first_day_exposition) необходимо из типа данных object перевести в datetime, чтобы использовать позвожности Python для вычисления времени\n",
    "2. Общее кол-во этажей (floors_total) перевести в int64 - оно всегда целочисленное\n",
    "3. Кол-во парков и прудов в радиусе 3 км (parks_around3000, ponds_around3000) перевести в int64 - кол-во также целочисленное\n",
    "4. Кол-во дней размещения объявления (days_exposition) перевести в int64 - всегда целочисленное"
   ]
  },
  {
   "cell_type": "code",
   "execution_count": 322,
   "metadata": {},
   "outputs": [],
   "source": [
    "data['first_day_exposition'] = pd.to_datetime(data['first_day_exposition'], format = '%Y-%m-%dT%H:%M:%S')\n",
    "data['parks_around3000'] = data['parks_around3000'].astype('int')\n",
    "data['ponds_around3000'] = data['ponds_around3000'].astype('int')\n",
    "data['last_price'] = data['last_price'].astype('int')\n",
    "\n",
    "data['floors_total'] = data['floors_total'].fillna(-1) #для перевода в int, для выделения на графике NA\n",
    "data['floors_total'] = data['floors_total'].astype('int')"
   ]
  },
  {
   "cell_type": "code",
   "execution_count": 323,
   "metadata": {},
   "outputs": [
    {
     "name": "stdout",
     "output_type": "stream",
     "text": [
      "<class 'pandas.core.frame.DataFrame'>\n",
      "Int64Index: 23650 entries, 0 to 23649\n",
      "Data columns (total 23 columns):\n",
      " #   Column                Non-Null Count  Dtype         \n",
      "---  ------                --------------  -----         \n",
      " 0   total_images          23650 non-null  int64         \n",
      " 1   last_price            23650 non-null  int64         \n",
      " 2   total_area            23650 non-null  float64       \n",
      " 3   first_day_exposition  23650 non-null  datetime64[ns]\n",
      " 4   rooms                 23650 non-null  int64         \n",
      " 5   ceiling_height        14490 non-null  float64       \n",
      " 6   floors_total          23650 non-null  int64         \n",
      " 7   living_area           23650 non-null  float64       \n",
      " 8   floor                 23650 non-null  int64         \n",
      " 9   is_apartment          23650 non-null  bool          \n",
      " 10  studio                23650 non-null  bool          \n",
      " 11  open_plan             23650 non-null  bool          \n",
      " 12  kitchen_area          21381 non-null  float64       \n",
      " 13  balcony               23650 non-null  int64         \n",
      " 14  locality_name         23650 non-null  object        \n",
      " 15  airports_nearest      18116 non-null  float64       \n",
      " 16  cityCenters_nearest   18139 non-null  float64       \n",
      " 17  parks_around3000      23650 non-null  int64         \n",
      " 18  parks_nearest         8064 non-null   float64       \n",
      " 19  ponds_around3000      23650 non-null  int64         \n",
      " 20  ponds_nearest         9085 non-null   float64       \n",
      " 21  days_exposition       20470 non-null  float64       \n",
      " 22  koef                  23650 non-null  float64       \n",
      "dtypes: bool(3), datetime64[ns](1), float64(10), int64(8), object(1)\n",
      "memory usage: 3.9+ MB\n"
     ]
    }
   ],
   "source": [
    "data.info()"
   ]
  },
  {
   "cell_type": "markdown",
   "metadata": {
    "id": "QCcvyY6YAwb-"
   },
   "source": [
    "## Новые столбцы в данных:"
   ]
  },
  {
   "cell_type": "code",
   "execution_count": 324,
   "metadata": {
    "id": "Z8eJek3IAwb-"
   },
   "outputs": [
    {
     "data": {
      "text/html": [
       "<div>\n",
       "<style scoped>\n",
       "    .dataframe tbody tr th:only-of-type {\n",
       "        vertical-align: middle;\n",
       "    }\n",
       "\n",
       "    .dataframe tbody tr th {\n",
       "        vertical-align: top;\n",
       "    }\n",
       "\n",
       "    .dataframe thead th {\n",
       "        text-align: right;\n",
       "    }\n",
       "</style>\n",
       "<table border=\"1\" class=\"dataframe\">\n",
       "  <thead>\n",
       "    <tr style=\"text-align: right;\">\n",
       "      <th></th>\n",
       "      <th>total_images</th>\n",
       "      <th>last_price</th>\n",
       "      <th>total_area</th>\n",
       "      <th>first_day_exposition</th>\n",
       "      <th>rooms</th>\n",
       "      <th>ceiling_height</th>\n",
       "      <th>floors_total</th>\n",
       "      <th>living_area</th>\n",
       "      <th>floor</th>\n",
       "      <th>is_apartment</th>\n",
       "      <th>...</th>\n",
       "      <th>locality_name</th>\n",
       "      <th>airports_nearest</th>\n",
       "      <th>cityCenters_nearest</th>\n",
       "      <th>parks_around3000</th>\n",
       "      <th>parks_nearest</th>\n",
       "      <th>ponds_around3000</th>\n",
       "      <th>ponds_nearest</th>\n",
       "      <th>days_exposition</th>\n",
       "      <th>koef</th>\n",
       "      <th>metre_price</th>\n",
       "    </tr>\n",
       "  </thead>\n",
       "  <tbody>\n",
       "    <tr>\n",
       "      <th>0</th>\n",
       "      <td>20</td>\n",
       "      <td>13000000</td>\n",
       "      <td>108.0</td>\n",
       "      <td>2019-03-07</td>\n",
       "      <td>3</td>\n",
       "      <td>2.70</td>\n",
       "      <td>16</td>\n",
       "      <td>51.000000</td>\n",
       "      <td>8</td>\n",
       "      <td>False</td>\n",
       "      <td>...</td>\n",
       "      <td>санкт-петербург</td>\n",
       "      <td>18863.0</td>\n",
       "      <td>16028.0</td>\n",
       "      <td>1</td>\n",
       "      <td>482.0</td>\n",
       "      <td>2</td>\n",
       "      <td>755.0</td>\n",
       "      <td>NaN</td>\n",
       "      <td>0.612030</td>\n",
       "      <td>120370.37</td>\n",
       "    </tr>\n",
       "    <tr>\n",
       "      <th>1</th>\n",
       "      <td>7</td>\n",
       "      <td>3350000</td>\n",
       "      <td>40.4</td>\n",
       "      <td>2018-12-04</td>\n",
       "      <td>1</td>\n",
       "      <td>NaN</td>\n",
       "      <td>11</td>\n",
       "      <td>18.600000</td>\n",
       "      <td>1</td>\n",
       "      <td>False</td>\n",
       "      <td>...</td>\n",
       "      <td>поселок шушары</td>\n",
       "      <td>12817.0</td>\n",
       "      <td>18603.0</td>\n",
       "      <td>0</td>\n",
       "      <td>NaN</td>\n",
       "      <td>0</td>\n",
       "      <td>NaN</td>\n",
       "      <td>81.0</td>\n",
       "      <td>0.477421</td>\n",
       "      <td>82920.79</td>\n",
       "    </tr>\n",
       "    <tr>\n",
       "      <th>2</th>\n",
       "      <td>10</td>\n",
       "      <td>5196000</td>\n",
       "      <td>56.0</td>\n",
       "      <td>2015-08-20</td>\n",
       "      <td>2</td>\n",
       "      <td>NaN</td>\n",
       "      <td>5</td>\n",
       "      <td>34.300000</td>\n",
       "      <td>4</td>\n",
       "      <td>False</td>\n",
       "      <td>...</td>\n",
       "      <td>санкт-петербург</td>\n",
       "      <td>21741.0</td>\n",
       "      <td>13933.0</td>\n",
       "      <td>1</td>\n",
       "      <td>90.0</td>\n",
       "      <td>2</td>\n",
       "      <td>574.0</td>\n",
       "      <td>558.0</td>\n",
       "      <td>0.569304</td>\n",
       "      <td>92785.71</td>\n",
       "    </tr>\n",
       "    <tr>\n",
       "      <th>3</th>\n",
       "      <td>0</td>\n",
       "      <td>64900000</td>\n",
       "      <td>159.0</td>\n",
       "      <td>2015-07-24</td>\n",
       "      <td>3</td>\n",
       "      <td>NaN</td>\n",
       "      <td>14</td>\n",
       "      <td>97.312694</td>\n",
       "      <td>9</td>\n",
       "      <td>False</td>\n",
       "      <td>...</td>\n",
       "      <td>санкт-петербург</td>\n",
       "      <td>28098.0</td>\n",
       "      <td>6800.0</td>\n",
       "      <td>2</td>\n",
       "      <td>84.0</td>\n",
       "      <td>3</td>\n",
       "      <td>234.0</td>\n",
       "      <td>424.0</td>\n",
       "      <td>0.612030</td>\n",
       "      <td>408176.10</td>\n",
       "    </tr>\n",
       "    <tr>\n",
       "      <th>4</th>\n",
       "      <td>2</td>\n",
       "      <td>10000000</td>\n",
       "      <td>100.0</td>\n",
       "      <td>2018-06-19</td>\n",
       "      <td>2</td>\n",
       "      <td>3.03</td>\n",
       "      <td>14</td>\n",
       "      <td>32.000000</td>\n",
       "      <td>13</td>\n",
       "      <td>False</td>\n",
       "      <td>...</td>\n",
       "      <td>санкт-петербург</td>\n",
       "      <td>31856.0</td>\n",
       "      <td>8098.0</td>\n",
       "      <td>2</td>\n",
       "      <td>112.0</td>\n",
       "      <td>1</td>\n",
       "      <td>48.0</td>\n",
       "      <td>121.0</td>\n",
       "      <td>0.569304</td>\n",
       "      <td>100000.00</td>\n",
       "    </tr>\n",
       "  </tbody>\n",
       "</table>\n",
       "<p>5 rows × 24 columns</p>\n",
       "</div>"
      ],
      "text/plain": [
       "   total_images  last_price  total_area first_day_exposition  rooms  \\\n",
       "0            20    13000000       108.0           2019-03-07      3   \n",
       "1             7     3350000        40.4           2018-12-04      1   \n",
       "2            10     5196000        56.0           2015-08-20      2   \n",
       "3             0    64900000       159.0           2015-07-24      3   \n",
       "4             2    10000000       100.0           2018-06-19      2   \n",
       "\n",
       "   ceiling_height  floors_total  living_area  floor  is_apartment  ...  \\\n",
       "0            2.70            16    51.000000      8         False  ...   \n",
       "1             NaN            11    18.600000      1         False  ...   \n",
       "2             NaN             5    34.300000      4         False  ...   \n",
       "3             NaN            14    97.312694      9         False  ...   \n",
       "4            3.03            14    32.000000     13         False  ...   \n",
       "\n",
       "     locality_name  airports_nearest  cityCenters_nearest  parks_around3000  \\\n",
       "0  санкт-петербург           18863.0              16028.0                 1   \n",
       "1   поселок шушары           12817.0              18603.0                 0   \n",
       "2  санкт-петербург           21741.0              13933.0                 1   \n",
       "3  санкт-петербург           28098.0               6800.0                 2   \n",
       "4  санкт-петербург           31856.0               8098.0                 2   \n",
       "\n",
       "  parks_nearest  ponds_around3000  ponds_nearest  days_exposition      koef  \\\n",
       "0         482.0                 2          755.0              NaN  0.612030   \n",
       "1           NaN                 0            NaN             81.0  0.477421   \n",
       "2          90.0                 2          574.0            558.0  0.569304   \n",
       "3          84.0                 3          234.0            424.0  0.612030   \n",
       "4         112.0                 1           48.0            121.0  0.569304   \n",
       "\n",
       "   metre_price  \n",
       "0    120370.37  \n",
       "1     82920.79  \n",
       "2     92785.71  \n",
       "3    408176.10  \n",
       "4    100000.00  \n",
       "\n",
       "[5 rows x 24 columns]"
      ]
     },
     "execution_count": 324,
     "metadata": {},
     "output_type": "execute_result"
    }
   ],
   "source": [
    "data['metre_price'] = (data['last_price'] / data['total_area']).round(2)\n",
    "data.head()"
   ]
  },
  {
   "cell_type": "code",
   "execution_count": 325,
   "metadata": {},
   "outputs": [
    {
     "data": {
      "text/html": [
       "<div>\n",
       "<style scoped>\n",
       "    .dataframe tbody tr th:only-of-type {\n",
       "        vertical-align: middle;\n",
       "    }\n",
       "\n",
       "    .dataframe tbody tr th {\n",
       "        vertical-align: top;\n",
       "    }\n",
       "\n",
       "    .dataframe thead th {\n",
       "        text-align: right;\n",
       "    }\n",
       "</style>\n",
       "<table border=\"1\" class=\"dataframe\">\n",
       "  <thead>\n",
       "    <tr style=\"text-align: right;\">\n",
       "      <th></th>\n",
       "      <th>total_images</th>\n",
       "      <th>last_price</th>\n",
       "      <th>total_area</th>\n",
       "      <th>first_day_exposition</th>\n",
       "      <th>rooms</th>\n",
       "      <th>ceiling_height</th>\n",
       "      <th>floors_total</th>\n",
       "      <th>living_area</th>\n",
       "      <th>floor</th>\n",
       "      <th>is_apartment</th>\n",
       "      <th>...</th>\n",
       "      <th>parks_around3000</th>\n",
       "      <th>parks_nearest</th>\n",
       "      <th>ponds_around3000</th>\n",
       "      <th>ponds_nearest</th>\n",
       "      <th>days_exposition</th>\n",
       "      <th>koef</th>\n",
       "      <th>metre_price</th>\n",
       "      <th>weekday_publicatin</th>\n",
       "      <th>month_publication</th>\n",
       "      <th>year_publication</th>\n",
       "    </tr>\n",
       "  </thead>\n",
       "  <tbody>\n",
       "    <tr>\n",
       "      <th>0</th>\n",
       "      <td>20</td>\n",
       "      <td>13000000</td>\n",
       "      <td>108.0</td>\n",
       "      <td>2019-03-07</td>\n",
       "      <td>3</td>\n",
       "      <td>2.70</td>\n",
       "      <td>16</td>\n",
       "      <td>51.000000</td>\n",
       "      <td>8</td>\n",
       "      <td>False</td>\n",
       "      <td>...</td>\n",
       "      <td>1</td>\n",
       "      <td>482.0</td>\n",
       "      <td>2</td>\n",
       "      <td>755.0</td>\n",
       "      <td>NaN</td>\n",
       "      <td>0.612030</td>\n",
       "      <td>120370.37</td>\n",
       "      <td>3</td>\n",
       "      <td>3</td>\n",
       "      <td>2019</td>\n",
       "    </tr>\n",
       "    <tr>\n",
       "      <th>1</th>\n",
       "      <td>7</td>\n",
       "      <td>3350000</td>\n",
       "      <td>40.4</td>\n",
       "      <td>2018-12-04</td>\n",
       "      <td>1</td>\n",
       "      <td>NaN</td>\n",
       "      <td>11</td>\n",
       "      <td>18.600000</td>\n",
       "      <td>1</td>\n",
       "      <td>False</td>\n",
       "      <td>...</td>\n",
       "      <td>0</td>\n",
       "      <td>NaN</td>\n",
       "      <td>0</td>\n",
       "      <td>NaN</td>\n",
       "      <td>81.0</td>\n",
       "      <td>0.477421</td>\n",
       "      <td>82920.79</td>\n",
       "      <td>1</td>\n",
       "      <td>12</td>\n",
       "      <td>2018</td>\n",
       "    </tr>\n",
       "    <tr>\n",
       "      <th>2</th>\n",
       "      <td>10</td>\n",
       "      <td>5196000</td>\n",
       "      <td>56.0</td>\n",
       "      <td>2015-08-20</td>\n",
       "      <td>2</td>\n",
       "      <td>NaN</td>\n",
       "      <td>5</td>\n",
       "      <td>34.300000</td>\n",
       "      <td>4</td>\n",
       "      <td>False</td>\n",
       "      <td>...</td>\n",
       "      <td>1</td>\n",
       "      <td>90.0</td>\n",
       "      <td>2</td>\n",
       "      <td>574.0</td>\n",
       "      <td>558.0</td>\n",
       "      <td>0.569304</td>\n",
       "      <td>92785.71</td>\n",
       "      <td>3</td>\n",
       "      <td>8</td>\n",
       "      <td>2015</td>\n",
       "    </tr>\n",
       "    <tr>\n",
       "      <th>3</th>\n",
       "      <td>0</td>\n",
       "      <td>64900000</td>\n",
       "      <td>159.0</td>\n",
       "      <td>2015-07-24</td>\n",
       "      <td>3</td>\n",
       "      <td>NaN</td>\n",
       "      <td>14</td>\n",
       "      <td>97.312694</td>\n",
       "      <td>9</td>\n",
       "      <td>False</td>\n",
       "      <td>...</td>\n",
       "      <td>2</td>\n",
       "      <td>84.0</td>\n",
       "      <td>3</td>\n",
       "      <td>234.0</td>\n",
       "      <td>424.0</td>\n",
       "      <td>0.612030</td>\n",
       "      <td>408176.10</td>\n",
       "      <td>4</td>\n",
       "      <td>7</td>\n",
       "      <td>2015</td>\n",
       "    </tr>\n",
       "    <tr>\n",
       "      <th>4</th>\n",
       "      <td>2</td>\n",
       "      <td>10000000</td>\n",
       "      <td>100.0</td>\n",
       "      <td>2018-06-19</td>\n",
       "      <td>2</td>\n",
       "      <td>3.03</td>\n",
       "      <td>14</td>\n",
       "      <td>32.000000</td>\n",
       "      <td>13</td>\n",
       "      <td>False</td>\n",
       "      <td>...</td>\n",
       "      <td>2</td>\n",
       "      <td>112.0</td>\n",
       "      <td>1</td>\n",
       "      <td>48.0</td>\n",
       "      <td>121.0</td>\n",
       "      <td>0.569304</td>\n",
       "      <td>100000.00</td>\n",
       "      <td>1</td>\n",
       "      <td>6</td>\n",
       "      <td>2018</td>\n",
       "    </tr>\n",
       "  </tbody>\n",
       "</table>\n",
       "<p>5 rows × 27 columns</p>\n",
       "</div>"
      ],
      "text/plain": [
       "   total_images  last_price  total_area first_day_exposition  rooms  \\\n",
       "0            20    13000000       108.0           2019-03-07      3   \n",
       "1             7     3350000        40.4           2018-12-04      1   \n",
       "2            10     5196000        56.0           2015-08-20      2   \n",
       "3             0    64900000       159.0           2015-07-24      3   \n",
       "4             2    10000000       100.0           2018-06-19      2   \n",
       "\n",
       "   ceiling_height  floors_total  living_area  floor  is_apartment  ...  \\\n",
       "0            2.70            16    51.000000      8         False  ...   \n",
       "1             NaN            11    18.600000      1         False  ...   \n",
       "2             NaN             5    34.300000      4         False  ...   \n",
       "3             NaN            14    97.312694      9         False  ...   \n",
       "4            3.03            14    32.000000     13         False  ...   \n",
       "\n",
       "   parks_around3000  parks_nearest  ponds_around3000  ponds_nearest  \\\n",
       "0                 1          482.0                 2          755.0   \n",
       "1                 0            NaN                 0            NaN   \n",
       "2                 1           90.0                 2          574.0   \n",
       "3                 2           84.0                 3          234.0   \n",
       "4                 2          112.0                 1           48.0   \n",
       "\n",
       "  days_exposition      koef  metre_price  weekday_publicatin  \\\n",
       "0             NaN  0.612030    120370.37                   3   \n",
       "1            81.0  0.477421     82920.79                   1   \n",
       "2           558.0  0.569304     92785.71                   3   \n",
       "3           424.0  0.612030    408176.10                   4   \n",
       "4           121.0  0.569304    100000.00                   1   \n",
       "\n",
       "   month_publication  year_publication  \n",
       "0                  3              2019  \n",
       "1                 12              2018  \n",
       "2                  8              2015  \n",
       "3                  7              2015  \n",
       "4                  6              2018  \n",
       "\n",
       "[5 rows x 27 columns]"
      ]
     },
     "execution_count": 325,
     "metadata": {},
     "output_type": "execute_result"
    }
   ],
   "source": [
    "data['weekday_publicatin'] = data['first_day_exposition'].dt.weekday\n",
    "data['month_publication'] = data['first_day_exposition'].dt.month\n",
    "data['year_publication'] = data['first_day_exposition'].dt.year\n",
    "data.head()"
   ]
  },
  {
   "cell_type": "code",
   "execution_count": 326,
   "metadata": {},
   "outputs": [
    {
     "data": {
      "text/html": [
       "<div>\n",
       "<style scoped>\n",
       "    .dataframe tbody tr th:only-of-type {\n",
       "        vertical-align: middle;\n",
       "    }\n",
       "\n",
       "    .dataframe tbody tr th {\n",
       "        vertical-align: top;\n",
       "    }\n",
       "\n",
       "    .dataframe thead th {\n",
       "        text-align: right;\n",
       "    }\n",
       "</style>\n",
       "<table border=\"1\" class=\"dataframe\">\n",
       "  <thead>\n",
       "    <tr style=\"text-align: right;\">\n",
       "      <th></th>\n",
       "      <th>total_images</th>\n",
       "      <th>last_price</th>\n",
       "      <th>total_area</th>\n",
       "      <th>first_day_exposition</th>\n",
       "      <th>rooms</th>\n",
       "      <th>ceiling_height</th>\n",
       "      <th>floors_total</th>\n",
       "      <th>living_area</th>\n",
       "      <th>floor</th>\n",
       "      <th>is_apartment</th>\n",
       "      <th>...</th>\n",
       "      <th>parks_nearest</th>\n",
       "      <th>ponds_around3000</th>\n",
       "      <th>ponds_nearest</th>\n",
       "      <th>days_exposition</th>\n",
       "      <th>koef</th>\n",
       "      <th>metre_price</th>\n",
       "      <th>weekday_publicatin</th>\n",
       "      <th>month_publication</th>\n",
       "      <th>year_publication</th>\n",
       "      <th>floor_type</th>\n",
       "    </tr>\n",
       "  </thead>\n",
       "  <tbody>\n",
       "    <tr>\n",
       "      <th>0</th>\n",
       "      <td>20</td>\n",
       "      <td>13000000</td>\n",
       "      <td>108.0</td>\n",
       "      <td>2019-03-07</td>\n",
       "      <td>3</td>\n",
       "      <td>2.70</td>\n",
       "      <td>16</td>\n",
       "      <td>51.000000</td>\n",
       "      <td>8</td>\n",
       "      <td>False</td>\n",
       "      <td>...</td>\n",
       "      <td>482.0</td>\n",
       "      <td>2</td>\n",
       "      <td>755.0</td>\n",
       "      <td>NaN</td>\n",
       "      <td>0.612030</td>\n",
       "      <td>120370.37</td>\n",
       "      <td>3</td>\n",
       "      <td>3</td>\n",
       "      <td>2019</td>\n",
       "      <td>другой</td>\n",
       "    </tr>\n",
       "    <tr>\n",
       "      <th>1</th>\n",
       "      <td>7</td>\n",
       "      <td>3350000</td>\n",
       "      <td>40.4</td>\n",
       "      <td>2018-12-04</td>\n",
       "      <td>1</td>\n",
       "      <td>NaN</td>\n",
       "      <td>11</td>\n",
       "      <td>18.600000</td>\n",
       "      <td>1</td>\n",
       "      <td>False</td>\n",
       "      <td>...</td>\n",
       "      <td>NaN</td>\n",
       "      <td>0</td>\n",
       "      <td>NaN</td>\n",
       "      <td>81.0</td>\n",
       "      <td>0.477421</td>\n",
       "      <td>82920.79</td>\n",
       "      <td>1</td>\n",
       "      <td>12</td>\n",
       "      <td>2018</td>\n",
       "      <td>первый</td>\n",
       "    </tr>\n",
       "    <tr>\n",
       "      <th>2</th>\n",
       "      <td>10</td>\n",
       "      <td>5196000</td>\n",
       "      <td>56.0</td>\n",
       "      <td>2015-08-20</td>\n",
       "      <td>2</td>\n",
       "      <td>NaN</td>\n",
       "      <td>5</td>\n",
       "      <td>34.300000</td>\n",
       "      <td>4</td>\n",
       "      <td>False</td>\n",
       "      <td>...</td>\n",
       "      <td>90.0</td>\n",
       "      <td>2</td>\n",
       "      <td>574.0</td>\n",
       "      <td>558.0</td>\n",
       "      <td>0.569304</td>\n",
       "      <td>92785.71</td>\n",
       "      <td>3</td>\n",
       "      <td>8</td>\n",
       "      <td>2015</td>\n",
       "      <td>другой</td>\n",
       "    </tr>\n",
       "    <tr>\n",
       "      <th>3</th>\n",
       "      <td>0</td>\n",
       "      <td>64900000</td>\n",
       "      <td>159.0</td>\n",
       "      <td>2015-07-24</td>\n",
       "      <td>3</td>\n",
       "      <td>NaN</td>\n",
       "      <td>14</td>\n",
       "      <td>97.312694</td>\n",
       "      <td>9</td>\n",
       "      <td>False</td>\n",
       "      <td>...</td>\n",
       "      <td>84.0</td>\n",
       "      <td>3</td>\n",
       "      <td>234.0</td>\n",
       "      <td>424.0</td>\n",
       "      <td>0.612030</td>\n",
       "      <td>408176.10</td>\n",
       "      <td>4</td>\n",
       "      <td>7</td>\n",
       "      <td>2015</td>\n",
       "      <td>другой</td>\n",
       "    </tr>\n",
       "    <tr>\n",
       "      <th>4</th>\n",
       "      <td>2</td>\n",
       "      <td>10000000</td>\n",
       "      <td>100.0</td>\n",
       "      <td>2018-06-19</td>\n",
       "      <td>2</td>\n",
       "      <td>3.03</td>\n",
       "      <td>14</td>\n",
       "      <td>32.000000</td>\n",
       "      <td>13</td>\n",
       "      <td>False</td>\n",
       "      <td>...</td>\n",
       "      <td>112.0</td>\n",
       "      <td>1</td>\n",
       "      <td>48.0</td>\n",
       "      <td>121.0</td>\n",
       "      <td>0.569304</td>\n",
       "      <td>100000.00</td>\n",
       "      <td>1</td>\n",
       "      <td>6</td>\n",
       "      <td>2018</td>\n",
       "      <td>другой</td>\n",
       "    </tr>\n",
       "  </tbody>\n",
       "</table>\n",
       "<p>5 rows × 28 columns</p>\n",
       "</div>"
      ],
      "text/plain": [
       "   total_images  last_price  total_area first_day_exposition  rooms  \\\n",
       "0            20    13000000       108.0           2019-03-07      3   \n",
       "1             7     3350000        40.4           2018-12-04      1   \n",
       "2            10     5196000        56.0           2015-08-20      2   \n",
       "3             0    64900000       159.0           2015-07-24      3   \n",
       "4             2    10000000       100.0           2018-06-19      2   \n",
       "\n",
       "   ceiling_height  floors_total  living_area  floor  is_apartment  ...  \\\n",
       "0            2.70            16    51.000000      8         False  ...   \n",
       "1             NaN            11    18.600000      1         False  ...   \n",
       "2             NaN             5    34.300000      4         False  ...   \n",
       "3             NaN            14    97.312694      9         False  ...   \n",
       "4            3.03            14    32.000000     13         False  ...   \n",
       "\n",
       "   parks_nearest  ponds_around3000  ponds_nearest  days_exposition      koef  \\\n",
       "0          482.0                 2          755.0              NaN  0.612030   \n",
       "1            NaN                 0            NaN             81.0  0.477421   \n",
       "2           90.0                 2          574.0            558.0  0.569304   \n",
       "3           84.0                 3          234.0            424.0  0.612030   \n",
       "4          112.0                 1           48.0            121.0  0.569304   \n",
       "\n",
       "   metre_price  weekday_publicatin  month_publication  year_publication  \\\n",
       "0    120370.37                   3                  3              2019   \n",
       "1     82920.79                   1                 12              2018   \n",
       "2     92785.71                   3                  8              2015   \n",
       "3    408176.10                   4                  7              2015   \n",
       "4    100000.00                   1                  6              2018   \n",
       "\n",
       "   floor_type  \n",
       "0      другой  \n",
       "1      первый  \n",
       "2      другой  \n",
       "3      другой  \n",
       "4      другой  \n",
       "\n",
       "[5 rows x 28 columns]"
      ]
     },
     "execution_count": 326,
     "metadata": {},
     "output_type": "execute_result"
    }
   ],
   "source": [
    "def floor_typization(row):\n",
    "    if row['floor'] == 1:\n",
    "        return 'первый'\n",
    "    elif row['floor'] == row['floors_total']:\n",
    "        return 'последний'\n",
    "    else:\n",
    "        return 'другой'\n",
    "        \n",
    "data['floor_type'] = data.apply(floor_typization, axis=1)\n",
    "data.head()"
   ]
  },
  {
   "cell_type": "code",
   "execution_count": 327,
   "metadata": {},
   "outputs": [
    {
     "data": {
      "text/html": [
       "<div>\n",
       "<style scoped>\n",
       "    .dataframe tbody tr th:only-of-type {\n",
       "        vertical-align: middle;\n",
       "    }\n",
       "\n",
       "    .dataframe tbody tr th {\n",
       "        vertical-align: top;\n",
       "    }\n",
       "\n",
       "    .dataframe thead th {\n",
       "        text-align: right;\n",
       "    }\n",
       "</style>\n",
       "<table border=\"1\" class=\"dataframe\">\n",
       "  <thead>\n",
       "    <tr style=\"text-align: right;\">\n",
       "      <th></th>\n",
       "      <th>total_images</th>\n",
       "      <th>last_price</th>\n",
       "      <th>total_area</th>\n",
       "      <th>first_day_exposition</th>\n",
       "      <th>rooms</th>\n",
       "      <th>ceiling_height</th>\n",
       "      <th>floors_total</th>\n",
       "      <th>living_area</th>\n",
       "      <th>floor</th>\n",
       "      <th>is_apartment</th>\n",
       "      <th>...</th>\n",
       "      <th>ponds_around3000</th>\n",
       "      <th>ponds_nearest</th>\n",
       "      <th>days_exposition</th>\n",
       "      <th>koef</th>\n",
       "      <th>metre_price</th>\n",
       "      <th>weekday_publicatin</th>\n",
       "      <th>month_publication</th>\n",
       "      <th>year_publication</th>\n",
       "      <th>floor_type</th>\n",
       "      <th>cityCenters_nearest_km</th>\n",
       "    </tr>\n",
       "  </thead>\n",
       "  <tbody>\n",
       "    <tr>\n",
       "      <th>0</th>\n",
       "      <td>20</td>\n",
       "      <td>13000000</td>\n",
       "      <td>108.0</td>\n",
       "      <td>2019-03-07</td>\n",
       "      <td>3</td>\n",
       "      <td>2.70</td>\n",
       "      <td>16</td>\n",
       "      <td>51.000000</td>\n",
       "      <td>8</td>\n",
       "      <td>False</td>\n",
       "      <td>...</td>\n",
       "      <td>2</td>\n",
       "      <td>755.0</td>\n",
       "      <td>NaN</td>\n",
       "      <td>0.612030</td>\n",
       "      <td>120370.37</td>\n",
       "      <td>3</td>\n",
       "      <td>3</td>\n",
       "      <td>2019</td>\n",
       "      <td>другой</td>\n",
       "      <td>16.0</td>\n",
       "    </tr>\n",
       "    <tr>\n",
       "      <th>1</th>\n",
       "      <td>7</td>\n",
       "      <td>3350000</td>\n",
       "      <td>40.4</td>\n",
       "      <td>2018-12-04</td>\n",
       "      <td>1</td>\n",
       "      <td>NaN</td>\n",
       "      <td>11</td>\n",
       "      <td>18.600000</td>\n",
       "      <td>1</td>\n",
       "      <td>False</td>\n",
       "      <td>...</td>\n",
       "      <td>0</td>\n",
       "      <td>NaN</td>\n",
       "      <td>81.0</td>\n",
       "      <td>0.477421</td>\n",
       "      <td>82920.79</td>\n",
       "      <td>1</td>\n",
       "      <td>12</td>\n",
       "      <td>2018</td>\n",
       "      <td>первый</td>\n",
       "      <td>19.0</td>\n",
       "    </tr>\n",
       "    <tr>\n",
       "      <th>2</th>\n",
       "      <td>10</td>\n",
       "      <td>5196000</td>\n",
       "      <td>56.0</td>\n",
       "      <td>2015-08-20</td>\n",
       "      <td>2</td>\n",
       "      <td>NaN</td>\n",
       "      <td>5</td>\n",
       "      <td>34.300000</td>\n",
       "      <td>4</td>\n",
       "      <td>False</td>\n",
       "      <td>...</td>\n",
       "      <td>2</td>\n",
       "      <td>574.0</td>\n",
       "      <td>558.0</td>\n",
       "      <td>0.569304</td>\n",
       "      <td>92785.71</td>\n",
       "      <td>3</td>\n",
       "      <td>8</td>\n",
       "      <td>2015</td>\n",
       "      <td>другой</td>\n",
       "      <td>14.0</td>\n",
       "    </tr>\n",
       "    <tr>\n",
       "      <th>3</th>\n",
       "      <td>0</td>\n",
       "      <td>64900000</td>\n",
       "      <td>159.0</td>\n",
       "      <td>2015-07-24</td>\n",
       "      <td>3</td>\n",
       "      <td>NaN</td>\n",
       "      <td>14</td>\n",
       "      <td>97.312694</td>\n",
       "      <td>9</td>\n",
       "      <td>False</td>\n",
       "      <td>...</td>\n",
       "      <td>3</td>\n",
       "      <td>234.0</td>\n",
       "      <td>424.0</td>\n",
       "      <td>0.612030</td>\n",
       "      <td>408176.10</td>\n",
       "      <td>4</td>\n",
       "      <td>7</td>\n",
       "      <td>2015</td>\n",
       "      <td>другой</td>\n",
       "      <td>7.0</td>\n",
       "    </tr>\n",
       "    <tr>\n",
       "      <th>4</th>\n",
       "      <td>2</td>\n",
       "      <td>10000000</td>\n",
       "      <td>100.0</td>\n",
       "      <td>2018-06-19</td>\n",
       "      <td>2</td>\n",
       "      <td>3.03</td>\n",
       "      <td>14</td>\n",
       "      <td>32.000000</td>\n",
       "      <td>13</td>\n",
       "      <td>False</td>\n",
       "      <td>...</td>\n",
       "      <td>1</td>\n",
       "      <td>48.0</td>\n",
       "      <td>121.0</td>\n",
       "      <td>0.569304</td>\n",
       "      <td>100000.00</td>\n",
       "      <td>1</td>\n",
       "      <td>6</td>\n",
       "      <td>2018</td>\n",
       "      <td>другой</td>\n",
       "      <td>8.0</td>\n",
       "    </tr>\n",
       "  </tbody>\n",
       "</table>\n",
       "<p>5 rows × 29 columns</p>\n",
       "</div>"
      ],
      "text/plain": [
       "   total_images  last_price  total_area first_day_exposition  rooms  \\\n",
       "0            20    13000000       108.0           2019-03-07      3   \n",
       "1             7     3350000        40.4           2018-12-04      1   \n",
       "2            10     5196000        56.0           2015-08-20      2   \n",
       "3             0    64900000       159.0           2015-07-24      3   \n",
       "4             2    10000000       100.0           2018-06-19      2   \n",
       "\n",
       "   ceiling_height  floors_total  living_area  floor  is_apartment  ...  \\\n",
       "0            2.70            16    51.000000      8         False  ...   \n",
       "1             NaN            11    18.600000      1         False  ...   \n",
       "2             NaN             5    34.300000      4         False  ...   \n",
       "3             NaN            14    97.312694      9         False  ...   \n",
       "4            3.03            14    32.000000     13         False  ...   \n",
       "\n",
       "   ponds_around3000  ponds_nearest  days_exposition      koef metre_price  \\\n",
       "0                 2          755.0              NaN  0.612030   120370.37   \n",
       "1                 0            NaN             81.0  0.477421    82920.79   \n",
       "2                 2          574.0            558.0  0.569304    92785.71   \n",
       "3                 3          234.0            424.0  0.612030   408176.10   \n",
       "4                 1           48.0            121.0  0.569304   100000.00   \n",
       "\n",
       "   weekday_publicatin  month_publication  year_publication  floor_type  \\\n",
       "0                   3                  3              2019      другой   \n",
       "1                   1                 12              2018      первый   \n",
       "2                   3                  8              2015      другой   \n",
       "3                   4                  7              2015      другой   \n",
       "4                   1                  6              2018      другой   \n",
       "\n",
       "   cityCenters_nearest_km  \n",
       "0                    16.0  \n",
       "1                    19.0  \n",
       "2                    14.0  \n",
       "3                     7.0  \n",
       "4                     8.0  \n",
       "\n",
       "[5 rows x 29 columns]"
      ]
     },
     "execution_count": 327,
     "metadata": {},
     "output_type": "execute_result"
    }
   ],
   "source": [
    "data['cityCenters_nearest_km'] = round(data['cityCenters_nearest'] / 1000)\n",
    "data.head()"
   ]
  },
  {
   "cell_type": "code",
   "execution_count": 328,
   "metadata": {},
   "outputs": [
    {
     "name": "stdout",
     "output_type": "stream",
     "text": [
      "total_images\n",
      "last_price\n",
      "total_area\n",
      "first_day_exposition\n",
      "rooms\n",
      "ceiling_height\n",
      "floors_total\n",
      "living_area\n",
      "floor\n",
      "is_apartment\n",
      "studio\n",
      "open_plan\n",
      "kitchen_area\n",
      "balcony\n",
      "locality_name\n",
      "airports_nearest\n",
      "cityCenters_nearest\n",
      "parks_around3000\n",
      "parks_nearest\n",
      "ponds_around3000\n",
      "ponds_nearest\n",
      "days_exposition\n",
      "koef\n",
      "metre_price\n",
      "weekday_publicatin\n",
      "month_publication\n",
      "year_publication\n",
      "floor_type\n",
      "cityCenters_nearest_km\n"
     ]
    }
   ],
   "source": [
    "for i in data.columns:\n",
    "    print(i)"
   ]
  },
  {
   "cell_type": "markdown",
   "metadata": {
    "id": "pPyxrKWTAwb-"
   },
   "source": [
    "## Исследовательский анализ данных"
   ]
  },
  {
   "cell_type": "markdown",
   "metadata": {},
   "source": [
    "<H3> Общая площадь </H3>"
   ]
  },
  {
   "cell_type": "code",
   "execution_count": 329,
   "metadata": {
    "id": "V2f0D3kLAwb-"
   },
   "outputs": [
    {
     "name": "stdout",
     "output_type": "stream",
     "text": [
      "Доля объявлений с общей площадью более 400 кв.м.: 0.00097\n",
      "Всего объявлений: 23650\n"
     ]
    },
    {
     "data": {
      "image/png": "[encoded data removed]",
      "text/plain": [
       "<Figure size 432x288 with 1 Axes>"
      ]
     },
     "metadata": {
      "needs_background": "light"
     },
     "output_type": "display_data"
    }
   ],
   "source": [
    "data['total_area'].hist(bins=1000);\n",
    "print('Доля объявлений с общей площадью более 400 кв.м.:', \\\n",
    "      round(data[data['total_area'] > 400]['total_area'].count() / data['total_area'].count(), 5))\n",
    "print('Всего объявлений:', data.shape[0])"
   ]
  },
  {
   "cell_type": "code",
   "execution_count": 330,
   "metadata": {},
   "outputs": [
    {
     "name": "stdout",
     "output_type": "stream",
     "text": [
      "Всего объявлений: 23627\n"
     ]
    },
    {
     "data": {
      "image/png": "[encoded data removed]",
      "text/plain": [
       "<Figure size 432x288 with 1 Axes>"
      ]
     },
     "metadata": {
      "needs_background": "light"
     },
     "output_type": "display_data"
    }
   ],
   "source": [
    "data = data.query('total_area <= 400 | total_area.isna()')\n",
    "data['total_area'].hist(bins=100);\n",
    "print('Всего объявлений:', data.shape[0])"
   ]
  },
  {
   "cell_type": "markdown",
   "metadata": {},
   "source": [
    "<H3> Жилая площадь </H3>"
   ]
  },
  {
   "cell_type": "code",
   "execution_count": 331,
   "metadata": {},
   "outputs": [
    {
     "name": "stdout",
     "output_type": "stream",
     "text": [
      "Доля объявлений с жилой площадью более 200 кв.м.: 0.00089\n",
      "Всего объявлений: 23627\n"
     ]
    },
    {
     "data": {
      "image/png": "[encoded data removed]",
      "text/plain": [
       "<Figure size 432x288 with 1 Axes>"
      ]
     },
     "metadata": {
      "needs_background": "light"
     },
     "output_type": "display_data"
    }
   ],
   "source": [
    "data['living_area'].hist(bins=100);\n",
    "print('Доля объявлений с жилой площадью более 200 кв.м.:', \\\n",
    "      round(data[data['living_area'] > 200]['living_area'].count() / data['living_area'].count(), 5))\n",
    "print('Всего объявлений:', data.shape[0])"
   ]
  },
  {
   "cell_type": "code",
   "execution_count": 332,
   "metadata": {},
   "outputs": [
    {
     "name": "stdout",
     "output_type": "stream",
     "text": [
      "Всего объявлений: 23606\n"
     ]
    },
    {
     "data": {
      "image/png": "[encoded data removed]",
      "text/plain": [
       "<Figure size 432x288 with 1 Axes>"
      ]
     },
     "metadata": {
      "needs_background": "light"
     },
     "output_type": "display_data"
    }
   ],
   "source": [
    "data = data.query('living_area <= 200 | living_area.isna()')\n",
    "data['living_area'].hist(bins=100);\n",
    "print('Всего объявлений:', data.shape[0])"
   ]
  },
  {
   "cell_type": "markdown",
   "metadata": {},
   "source": [
    "<H3> Площадь кухни </H3>"
   ]
  },
  {
   "cell_type": "code",
   "execution_count": 333,
   "metadata": {},
   "outputs": [
    {
     "name": "stdout",
     "output_type": "stream",
     "text": [
      "Доля объявлений с площадью кухни более 50 кв.м.: 0.00178\n",
      "Всего объявлений: 23606\n"
     ]
    },
    {
     "data": {
      "image/png": "[encoded data removed]",
      "text/plain": [
       "<Figure size 432x288 with 1 Axes>"
      ]
     },
     "metadata": {
      "needs_background": "light"
     },
     "output_type": "display_data"
    }
   ],
   "source": [
    "data['kitchen_area'].hist(bins=100);\n",
    "print('Доля объявлений с площадью кухни более 50 кв.м.:', \\\n",
    "      round(data[data['kitchen_area'] > 50]['kitchen_area'].count() / data['kitchen_area'].count(), 5))\n",
    "print('Всего объявлений:', data.shape[0])"
   ]
  },
  {
   "cell_type": "code",
   "execution_count": 334,
   "metadata": {},
   "outputs": [
    {
     "name": "stdout",
     "output_type": "stream",
     "text": [
      "Всего объявлений: 23568\n"
     ]
    },
    {
     "data": {
      "image/png": "[encoded data removed]",
      "text/plain": [
       "<Figure size 432x288 with 1 Axes>"
      ]
     },
     "metadata": {
      "needs_background": "light"
     },
     "output_type": "display_data"
    }
   ],
   "source": [
    "data = data.query('kitchen_area <= 50 | kitchen_area.isna()')\n",
    "data['kitchen_area'].hist(bins=100);\n",
    "print('Всего объявлений:', data.shape[0])"
   ]
  },
  {
   "cell_type": "markdown",
   "metadata": {},
   "source": [
    "<H3> Цена объекта </H3>"
   ]
  },
  {
   "cell_type": "code",
   "execution_count": 335,
   "metadata": {},
   "outputs": [
    {
     "name": "stdout",
     "output_type": "stream",
     "text": [
      "Доля объявлений с ценой объекта более 90 000 000 руб.: 0.00102\n",
      "Всего объявлений: 23568\n"
     ]
    },
    {
     "data": {
      "image/png": "[encoded data removed]",
      "text/plain": [
       "<Figure size 432x288 with 1 Axes>"
      ]
     },
     "metadata": {
      "needs_background": "light"
     },
     "output_type": "display_data"
    }
   ],
   "source": [
    "data['last_price'].hist(bins=100);\n",
    "print('Доля объявлений с ценой объекта более 90 000 000 руб.:', \\\n",
    "      round(data[data['last_price'] > 90000000]['last_price'].count() / data['last_price'].count(), 5))\n",
    "print('Всего объявлений:', data.shape[0])"
   ]
  },
  {
   "cell_type": "code",
   "execution_count": 336,
   "metadata": {},
   "outputs": [
    {
     "name": "stdout",
     "output_type": "stream",
     "text": [
      "Всего объявлений: 23544\n"
     ]
    },
    {
     "data": {
      "image/png": "[encoded data removed]",
      "text/plain": [
       "<Figure size 432x288 with 1 Axes>"
      ]
     },
     "metadata": {
      "needs_background": "light"
     },
     "output_type": "display_data"
    }
   ],
   "source": [
    "data = data.query('last_price <= 90000000 | last_price.isna()')\n",
    "data['last_price'].hist(bins=100);\n",
    "print('Всего объявлений:', data.shape[0])"
   ]
  },
  {
   "cell_type": "markdown",
   "metadata": {},
   "source": [
    "<H3> Количество комнат </H3>"
   ]
  },
  {
   "cell_type": "code",
   "execution_count": 337,
   "metadata": {},
   "outputs": [
    {
     "name": "stdout",
     "output_type": "stream",
     "text": [
      "Доля объявлений с кол-вом комнат более 7: 0.00098\n",
      "Всего объявлений: 23544\n"
     ]
    },
    {
     "data": {
      "image/png": "[encoded data removed]",
      "text/plain": [
       "<Figure size 432x288 with 1 Axes>"
      ]
     },
     "metadata": {
      "needs_background": "light"
     },
     "output_type": "display_data"
    }
   ],
   "source": [
    "data['rooms'].hist(bins=100);\n",
    "print('Доля объявлений с кол-вом комнат более 7:', \\\n",
    "      round(data[data['rooms'] > 7]['rooms'].count() / data['rooms'].count(), 5))\n",
    "print('Всего объявлений:', data.shape[0])"
   ]
  },
  {
   "cell_type": "markdown",
   "metadata": {},
   "source": [
    "<H3> Высота потолков </H3>"
   ]
  },
  {
   "cell_type": "code",
   "execution_count": 338,
   "metadata": {},
   "outputs": [
    {
     "name": "stdout",
     "output_type": "stream",
     "text": [
      "Доля объявлений с высотой полотков более 11 м.: 0.00166\n"
     ]
    },
    {
     "data": {
      "image/png": "[encoded data removed]",
      "text/plain": [
       "<Figure size 432x288 with 1 Axes>"
      ]
     },
     "metadata": {
      "needs_background": "light"
     },
     "output_type": "display_data"
    }
   ],
   "source": [
    "data['ceiling_height'].hist(bins=100);\n",
    "print('Доля объявлений с высотой полотков более 11 м.:', \\\n",
    "      round(data[data['ceiling_height'] > 11]['ceiling_height'].count() / data['ceiling_height'].count(), 5))"
   ]
  },
  {
   "cell_type": "code",
   "execution_count": 339,
   "metadata": {},
   "outputs": [
    {
     "data": {
      "text/html": [
       "<div>\n",
       "<style scoped>\n",
       "    .dataframe tbody tr th:only-of-type {\n",
       "        vertical-align: middle;\n",
       "    }\n",
       "\n",
       "    .dataframe tbody tr th {\n",
       "        vertical-align: top;\n",
       "    }\n",
       "\n",
       "    .dataframe thead th {\n",
       "        text-align: right;\n",
       "    }\n",
       "</style>\n",
       "<table border=\"1\" class=\"dataframe\">\n",
       "  <thead>\n",
       "    <tr style=\"text-align: right;\">\n",
       "      <th></th>\n",
       "      <th>total_images</th>\n",
       "      <th>last_price</th>\n",
       "      <th>total_area</th>\n",
       "      <th>first_day_exposition</th>\n",
       "      <th>rooms</th>\n",
       "      <th>ceiling_height</th>\n",
       "      <th>floors_total</th>\n",
       "      <th>living_area</th>\n",
       "      <th>floor</th>\n",
       "      <th>is_apartment</th>\n",
       "      <th>...</th>\n",
       "      <th>ponds_around3000</th>\n",
       "      <th>ponds_nearest</th>\n",
       "      <th>days_exposition</th>\n",
       "      <th>koef</th>\n",
       "      <th>metre_price</th>\n",
       "      <th>weekday_publicatin</th>\n",
       "      <th>month_publication</th>\n",
       "      <th>year_publication</th>\n",
       "      <th>floor_type</th>\n",
       "      <th>cityCenters_nearest_km</th>\n",
       "    </tr>\n",
       "  </thead>\n",
       "  <tbody>\n",
       "    <tr>\n",
       "      <th>355</th>\n",
       "      <td>17</td>\n",
       "      <td>3600000</td>\n",
       "      <td>55.2</td>\n",
       "      <td>2018-07-12</td>\n",
       "      <td>2</td>\n",
       "      <td>25.0</td>\n",
       "      <td>5</td>\n",
       "      <td>32.0</td>\n",
       "      <td>2</td>\n",
       "      <td>False</td>\n",
       "      <td>...</td>\n",
       "      <td>0</td>\n",
       "      <td>NaN</td>\n",
       "      <td>259.0</td>\n",
       "      <td>0.569304</td>\n",
       "      <td>65217.39</td>\n",
       "      <td>3</td>\n",
       "      <td>7</td>\n",
       "      <td>2018</td>\n",
       "      <td>другой</td>\n",
       "      <td>NaN</td>\n",
       "    </tr>\n",
       "    <tr>\n",
       "      <th>3144</th>\n",
       "      <td>14</td>\n",
       "      <td>2900000</td>\n",
       "      <td>75.0</td>\n",
       "      <td>2018-11-12</td>\n",
       "      <td>3</td>\n",
       "      <td>32.0</td>\n",
       "      <td>3</td>\n",
       "      <td>53.0</td>\n",
       "      <td>2</td>\n",
       "      <td>False</td>\n",
       "      <td>...</td>\n",
       "      <td>0</td>\n",
       "      <td>NaN</td>\n",
       "      <td>NaN</td>\n",
       "      <td>0.612030</td>\n",
       "      <td>38666.67</td>\n",
       "      <td>0</td>\n",
       "      <td>11</td>\n",
       "      <td>2018</td>\n",
       "      <td>другой</td>\n",
       "      <td>NaN</td>\n",
       "    </tr>\n",
       "    <tr>\n",
       "      <th>4636</th>\n",
       "      <td>0</td>\n",
       "      <td>4300000</td>\n",
       "      <td>45.0</td>\n",
       "      <td>2018-02-01</td>\n",
       "      <td>2</td>\n",
       "      <td>25.0</td>\n",
       "      <td>9</td>\n",
       "      <td>30.0</td>\n",
       "      <td>2</td>\n",
       "      <td>False</td>\n",
       "      <td>...</td>\n",
       "      <td>1</td>\n",
       "      <td>331.0</td>\n",
       "      <td>181.0</td>\n",
       "      <td>0.569304</td>\n",
       "      <td>95555.56</td>\n",
       "      <td>3</td>\n",
       "      <td>2</td>\n",
       "      <td>2018</td>\n",
       "      <td>другой</td>\n",
       "      <td>13.0</td>\n",
       "    </tr>\n",
       "    <tr>\n",
       "      <th>4868</th>\n",
       "      <td>7</td>\n",
       "      <td>3000000</td>\n",
       "      <td>25.0</td>\n",
       "      <td>2017-09-27</td>\n",
       "      <td>0</td>\n",
       "      <td>27.0</td>\n",
       "      <td>25</td>\n",
       "      <td>17.0</td>\n",
       "      <td>17</td>\n",
       "      <td>False</td>\n",
       "      <td>...</td>\n",
       "      <td>0</td>\n",
       "      <td>NaN</td>\n",
       "      <td>28.0</td>\n",
       "      <td>0.682468</td>\n",
       "      <td>120000.00</td>\n",
       "      <td>2</td>\n",
       "      <td>9</td>\n",
       "      <td>2017</td>\n",
       "      <td>другой</td>\n",
       "      <td>NaN</td>\n",
       "    </tr>\n",
       "    <tr>\n",
       "      <th>5068</th>\n",
       "      <td>0</td>\n",
       "      <td>3850000</td>\n",
       "      <td>30.5</td>\n",
       "      <td>2018-10-03</td>\n",
       "      <td>1</td>\n",
       "      <td>24.0</td>\n",
       "      <td>5</td>\n",
       "      <td>19.5</td>\n",
       "      <td>1</td>\n",
       "      <td>True</td>\n",
       "      <td>...</td>\n",
       "      <td>1</td>\n",
       "      <td>578.0</td>\n",
       "      <td>7.0</td>\n",
       "      <td>0.477421</td>\n",
       "      <td>126229.51</td>\n",
       "      <td>2</td>\n",
       "      <td>10</td>\n",
       "      <td>2018</td>\n",
       "      <td>первый</td>\n",
       "      <td>8.0</td>\n",
       "    </tr>\n",
       "    <tr>\n",
       "      <th>5238</th>\n",
       "      <td>0</td>\n",
       "      <td>2500000</td>\n",
       "      <td>54.0</td>\n",
       "      <td>2017-10-13</td>\n",
       "      <td>2</td>\n",
       "      <td>27.0</td>\n",
       "      <td>5</td>\n",
       "      <td>30.0</td>\n",
       "      <td>3</td>\n",
       "      <td>False</td>\n",
       "      <td>...</td>\n",
       "      <td>0</td>\n",
       "      <td>NaN</td>\n",
       "      <td>540.0</td>\n",
       "      <td>0.569304</td>\n",
       "      <td>46296.30</td>\n",
       "      <td>4</td>\n",
       "      <td>10</td>\n",
       "      <td>2017</td>\n",
       "      <td>другой</td>\n",
       "      <td>NaN</td>\n",
       "    </tr>\n",
       "    <tr>\n",
       "      <th>5660</th>\n",
       "      <td>4</td>\n",
       "      <td>4400000</td>\n",
       "      <td>50.0</td>\n",
       "      <td>2017-08-08</td>\n",
       "      <td>2</td>\n",
       "      <td>26.0</td>\n",
       "      <td>9</td>\n",
       "      <td>21.3</td>\n",
       "      <td>3</td>\n",
       "      <td>False</td>\n",
       "      <td>...</td>\n",
       "      <td>0</td>\n",
       "      <td>NaN</td>\n",
       "      <td>267.0</td>\n",
       "      <td>0.569304</td>\n",
       "      <td>88000.00</td>\n",
       "      <td>1</td>\n",
       "      <td>8</td>\n",
       "      <td>2017</td>\n",
       "      <td>другой</td>\n",
       "      <td>11.0</td>\n",
       "    </tr>\n",
       "    <tr>\n",
       "      <th>5797</th>\n",
       "      <td>17</td>\n",
       "      <td>8150000</td>\n",
       "      <td>80.0</td>\n",
       "      <td>2019-01-09</td>\n",
       "      <td>2</td>\n",
       "      <td>27.0</td>\n",
       "      <td>36</td>\n",
       "      <td>41.0</td>\n",
       "      <td>13</td>\n",
       "      <td>False</td>\n",
       "      <td>...</td>\n",
       "      <td>3</td>\n",
       "      <td>80.0</td>\n",
       "      <td>38.0</td>\n",
       "      <td>0.569304</td>\n",
       "      <td>101875.00</td>\n",
       "      <td>2</td>\n",
       "      <td>1</td>\n",
       "      <td>2019</td>\n",
       "      <td>другой</td>\n",
       "      <td>20.0</td>\n",
       "    </tr>\n",
       "    <tr>\n",
       "      <th>6236</th>\n",
       "      <td>6</td>\n",
       "      <td>3300000</td>\n",
       "      <td>44.4</td>\n",
       "      <td>2019-03-25</td>\n",
       "      <td>2</td>\n",
       "      <td>25.0</td>\n",
       "      <td>5</td>\n",
       "      <td>31.3</td>\n",
       "      <td>5</td>\n",
       "      <td>False</td>\n",
       "      <td>...</td>\n",
       "      <td>2</td>\n",
       "      <td>73.0</td>\n",
       "      <td>NaN</td>\n",
       "      <td>0.569304</td>\n",
       "      <td>74324.32</td>\n",
       "      <td>0</td>\n",
       "      <td>3</td>\n",
       "      <td>2019</td>\n",
       "      <td>последний</td>\n",
       "      <td>51.0</td>\n",
       "    </tr>\n",
       "    <tr>\n",
       "      <th>9363</th>\n",
       "      <td>5</td>\n",
       "      <td>3950000</td>\n",
       "      <td>42.0</td>\n",
       "      <td>2017-03-26</td>\n",
       "      <td>3</td>\n",
       "      <td>25.0</td>\n",
       "      <td>5</td>\n",
       "      <td>30.0</td>\n",
       "      <td>2</td>\n",
       "      <td>False</td>\n",
       "      <td>...</td>\n",
       "      <td>0</td>\n",
       "      <td>NaN</td>\n",
       "      <td>NaN</td>\n",
       "      <td>0.612030</td>\n",
       "      <td>94047.62</td>\n",
       "      <td>6</td>\n",
       "      <td>3</td>\n",
       "      <td>2017</td>\n",
       "      <td>другой</td>\n",
       "      <td>14.0</td>\n",
       "    </tr>\n",
       "    <tr>\n",
       "      <th>10755</th>\n",
       "      <td>8</td>\n",
       "      <td>3800000</td>\n",
       "      <td>58.0</td>\n",
       "      <td>2017-10-13</td>\n",
       "      <td>2</td>\n",
       "      <td>27.0</td>\n",
       "      <td>10</td>\n",
       "      <td>30.1</td>\n",
       "      <td>3</td>\n",
       "      <td>False</td>\n",
       "      <td>...</td>\n",
       "      <td>0</td>\n",
       "      <td>NaN</td>\n",
       "      <td>71.0</td>\n",
       "      <td>0.569304</td>\n",
       "      <td>65517.24</td>\n",
       "      <td>4</td>\n",
       "      <td>10</td>\n",
       "      <td>2017</td>\n",
       "      <td>другой</td>\n",
       "      <td>NaN</td>\n",
       "    </tr>\n",
       "    <tr>\n",
       "      <th>11266</th>\n",
       "      <td>0</td>\n",
       "      <td>1950000</td>\n",
       "      <td>37.0</td>\n",
       "      <td>2019-03-20</td>\n",
       "      <td>1</td>\n",
       "      <td>25.0</td>\n",
       "      <td>5</td>\n",
       "      <td>17.0</td>\n",
       "      <td>4</td>\n",
       "      <td>False</td>\n",
       "      <td>...</td>\n",
       "      <td>0</td>\n",
       "      <td>NaN</td>\n",
       "      <td>18.0</td>\n",
       "      <td>0.477421</td>\n",
       "      <td>52702.70</td>\n",
       "      <td>2</td>\n",
       "      <td>3</td>\n",
       "      <td>2019</td>\n",
       "      <td>другой</td>\n",
       "      <td>NaN</td>\n",
       "    </tr>\n",
       "    <tr>\n",
       "      <th>14357</th>\n",
       "      <td>9</td>\n",
       "      <td>1700000</td>\n",
       "      <td>35.0</td>\n",
       "      <td>2015-12-04</td>\n",
       "      <td>1</td>\n",
       "      <td>25.0</td>\n",
       "      <td>5</td>\n",
       "      <td>20.0</td>\n",
       "      <td>2</td>\n",
       "      <td>False</td>\n",
       "      <td>...</td>\n",
       "      <td>0</td>\n",
       "      <td>NaN</td>\n",
       "      <td>206.0</td>\n",
       "      <td>0.477421</td>\n",
       "      <td>48571.43</td>\n",
       "      <td>4</td>\n",
       "      <td>12</td>\n",
       "      <td>2015</td>\n",
       "      <td>другой</td>\n",
       "      <td>NaN</td>\n",
       "    </tr>\n",
       "    <tr>\n",
       "      <th>17466</th>\n",
       "      <td>15</td>\n",
       "      <td>6700000</td>\n",
       "      <td>92.9</td>\n",
       "      <td>2019-02-19</td>\n",
       "      <td>3</td>\n",
       "      <td>20.0</td>\n",
       "      <td>17</td>\n",
       "      <td>53.2</td>\n",
       "      <td>14</td>\n",
       "      <td>False</td>\n",
       "      <td>...</td>\n",
       "      <td>0</td>\n",
       "      <td>NaN</td>\n",
       "      <td>NaN</td>\n",
       "      <td>0.612030</td>\n",
       "      <td>72120.56</td>\n",
       "      <td>1</td>\n",
       "      <td>2</td>\n",
       "      <td>2019</td>\n",
       "      <td>другой</td>\n",
       "      <td>15.0</td>\n",
       "    </tr>\n",
       "    <tr>\n",
       "      <th>17825</th>\n",
       "      <td>1</td>\n",
       "      <td>3900000</td>\n",
       "      <td>56.0</td>\n",
       "      <td>2017-12-22</td>\n",
       "      <td>3</td>\n",
       "      <td>27.0</td>\n",
       "      <td>5</td>\n",
       "      <td>33.0</td>\n",
       "      <td>4</td>\n",
       "      <td>False</td>\n",
       "      <td>...</td>\n",
       "      <td>0</td>\n",
       "      <td>NaN</td>\n",
       "      <td>73.0</td>\n",
       "      <td>0.612030</td>\n",
       "      <td>69642.86</td>\n",
       "      <td>4</td>\n",
       "      <td>12</td>\n",
       "      <td>2017</td>\n",
       "      <td>другой</td>\n",
       "      <td>16.0</td>\n",
       "    </tr>\n",
       "    <tr>\n",
       "      <th>18512</th>\n",
       "      <td>6</td>\n",
       "      <td>3750000</td>\n",
       "      <td>43.0</td>\n",
       "      <td>2019-03-18</td>\n",
       "      <td>2</td>\n",
       "      <td>25.0</td>\n",
       "      <td>5</td>\n",
       "      <td>29.0</td>\n",
       "      <td>3</td>\n",
       "      <td>False</td>\n",
       "      <td>...</td>\n",
       "      <td>0</td>\n",
       "      <td>NaN</td>\n",
       "      <td>12.0</td>\n",
       "      <td>0.569304</td>\n",
       "      <td>87209.30</td>\n",
       "      <td>0</td>\n",
       "      <td>3</td>\n",
       "      <td>2019</td>\n",
       "      <td>другой</td>\n",
       "      <td>8.0</td>\n",
       "    </tr>\n",
       "    <tr>\n",
       "      <th>20440</th>\n",
       "      <td>11</td>\n",
       "      <td>8000000</td>\n",
       "      <td>45.0</td>\n",
       "      <td>2017-07-18</td>\n",
       "      <td>1</td>\n",
       "      <td>27.0</td>\n",
       "      <td>4</td>\n",
       "      <td>22.0</td>\n",
       "      <td>2</td>\n",
       "      <td>False</td>\n",
       "      <td>...</td>\n",
       "      <td>3</td>\n",
       "      <td>449.0</td>\n",
       "      <td>429.0</td>\n",
       "      <td>0.477421</td>\n",
       "      <td>177777.78</td>\n",
       "      <td>1</td>\n",
       "      <td>7</td>\n",
       "      <td>2017</td>\n",
       "      <td>другой</td>\n",
       "      <td>3.0</td>\n",
       "    </tr>\n",
       "    <tr>\n",
       "      <th>20469</th>\n",
       "      <td>12</td>\n",
       "      <td>5950000</td>\n",
       "      <td>60.0</td>\n",
       "      <td>2018-02-19</td>\n",
       "      <td>2</td>\n",
       "      <td>22.6</td>\n",
       "      <td>14</td>\n",
       "      <td>35.0</td>\n",
       "      <td>11</td>\n",
       "      <td>False</td>\n",
       "      <td>...</td>\n",
       "      <td>0</td>\n",
       "      <td>NaN</td>\n",
       "      <td>40.0</td>\n",
       "      <td>0.569304</td>\n",
       "      <td>99166.67</td>\n",
       "      <td>0</td>\n",
       "      <td>2</td>\n",
       "      <td>2018</td>\n",
       "      <td>другой</td>\n",
       "      <td>13.0</td>\n",
       "    </tr>\n",
       "    <tr>\n",
       "      <th>21334</th>\n",
       "      <td>19</td>\n",
       "      <td>4900000</td>\n",
       "      <td>42.0</td>\n",
       "      <td>2017-04-18</td>\n",
       "      <td>1</td>\n",
       "      <td>27.5</td>\n",
       "      <td>24</td>\n",
       "      <td>37.7</td>\n",
       "      <td>19</td>\n",
       "      <td>False</td>\n",
       "      <td>...</td>\n",
       "      <td>0</td>\n",
       "      <td>NaN</td>\n",
       "      <td>61.0</td>\n",
       "      <td>0.477421</td>\n",
       "      <td>116666.67</td>\n",
       "      <td>1</td>\n",
       "      <td>4</td>\n",
       "      <td>2017</td>\n",
       "      <td>другой</td>\n",
       "      <td>10.0</td>\n",
       "    </tr>\n",
       "    <tr>\n",
       "      <th>21780</th>\n",
       "      <td>20</td>\n",
       "      <td>2450000</td>\n",
       "      <td>44.0</td>\n",
       "      <td>2019-02-12</td>\n",
       "      <td>2</td>\n",
       "      <td>27.0</td>\n",
       "      <td>2</td>\n",
       "      <td>38.0</td>\n",
       "      <td>2</td>\n",
       "      <td>False</td>\n",
       "      <td>...</td>\n",
       "      <td>0</td>\n",
       "      <td>NaN</td>\n",
       "      <td>NaN</td>\n",
       "      <td>0.569304</td>\n",
       "      <td>55681.82</td>\n",
       "      <td>1</td>\n",
       "      <td>2</td>\n",
       "      <td>2019</td>\n",
       "      <td>последний</td>\n",
       "      <td>NaN</td>\n",
       "    </tr>\n",
       "    <tr>\n",
       "      <th>22291</th>\n",
       "      <td>19</td>\n",
       "      <td>9999000</td>\n",
       "      <td>92.4</td>\n",
       "      <td>2019-04-05</td>\n",
       "      <td>2</td>\n",
       "      <td>32.0</td>\n",
       "      <td>6</td>\n",
       "      <td>55.5</td>\n",
       "      <td>5</td>\n",
       "      <td>False</td>\n",
       "      <td>...</td>\n",
       "      <td>3</td>\n",
       "      <td>511.0</td>\n",
       "      <td>NaN</td>\n",
       "      <td>0.569304</td>\n",
       "      <td>108214.29</td>\n",
       "      <td>4</td>\n",
       "      <td>4</td>\n",
       "      <td>2019</td>\n",
       "      <td>другой</td>\n",
       "      <td>4.0</td>\n",
       "    </tr>\n",
       "    <tr>\n",
       "      <th>22822</th>\n",
       "      <td>0</td>\n",
       "      <td>15000000</td>\n",
       "      <td>25.0</td>\n",
       "      <td>2018-07-25</td>\n",
       "      <td>1</td>\n",
       "      <td>100.0</td>\n",
       "      <td>5</td>\n",
       "      <td>14.0</td>\n",
       "      <td>5</td>\n",
       "      <td>True</td>\n",
       "      <td>...</td>\n",
       "      <td>3</td>\n",
       "      <td>30.0</td>\n",
       "      <td>19.0</td>\n",
       "      <td>0.477421</td>\n",
       "      <td>600000.00</td>\n",
       "      <td>2</td>\n",
       "      <td>7</td>\n",
       "      <td>2018</td>\n",
       "      <td>последний</td>\n",
       "      <td>8.0</td>\n",
       "    </tr>\n",
       "    <tr>\n",
       "      <th>22890</th>\n",
       "      <td>14</td>\n",
       "      <td>4000000</td>\n",
       "      <td>98.0</td>\n",
       "      <td>2018-03-15</td>\n",
       "      <td>4</td>\n",
       "      <td>27.0</td>\n",
       "      <td>2</td>\n",
       "      <td>73.0</td>\n",
       "      <td>2</td>\n",
       "      <td>True</td>\n",
       "      <td>...</td>\n",
       "      <td>0</td>\n",
       "      <td>NaN</td>\n",
       "      <td>27.0</td>\n",
       "      <td>0.628047</td>\n",
       "      <td>40816.33</td>\n",
       "      <td>3</td>\n",
       "      <td>3</td>\n",
       "      <td>2018</td>\n",
       "      <td>последний</td>\n",
       "      <td>NaN</td>\n",
       "    </tr>\n",
       "  </tbody>\n",
       "</table>\n",
       "<p>23 rows × 29 columns</p>\n",
       "</div>"
      ],
      "text/plain": [
       "       total_images  last_price  total_area first_day_exposition  rooms  \\\n",
       "355              17     3600000        55.2           2018-07-12      2   \n",
       "3144             14     2900000        75.0           2018-11-12      3   \n",
       "4636              0     4300000        45.0           2018-02-01      2   \n",
       "4868              7     3000000        25.0           2017-09-27      0   \n",
       "5068              0     3850000        30.5           2018-10-03      1   \n",
       "5238              0     2500000        54.0           2017-10-13      2   \n",
       "5660              4     4400000        50.0           2017-08-08      2   \n",
       "5797             17     8150000        80.0           2019-01-09      2   \n",
       "6236              6     3300000        44.4           2019-03-25      2   \n",
       "9363              5     3950000        42.0           2017-03-26      3   \n",
       "10755             8     3800000        58.0           2017-10-13      2   \n",
       "11266             0     1950000        37.0           2019-03-20      1   \n",
       "14357             9     1700000        35.0           2015-12-04      1   \n",
       "17466            15     6700000        92.9           2019-02-19      3   \n",
       "17825             1     3900000        56.0           2017-12-22      3   \n",
       "18512             6     3750000        43.0           2019-03-18      2   \n",
       "20440            11     8000000        45.0           2017-07-18      1   \n",
       "20469            12     5950000        60.0           2018-02-19      2   \n",
       "21334            19     4900000        42.0           2017-04-18      1   \n",
       "21780            20     2450000        44.0           2019-02-12      2   \n",
       "22291            19     9999000        92.4           2019-04-05      2   \n",
       "22822             0    15000000        25.0           2018-07-25      1   \n",
       "22890            14     4000000        98.0           2018-03-15      4   \n",
       "\n",
       "       ceiling_height  floors_total  living_area  floor  is_apartment  ...  \\\n",
       "355              25.0             5         32.0      2         False  ...   \n",
       "3144             32.0             3         53.0      2         False  ...   \n",
       "4636             25.0             9         30.0      2         False  ...   \n",
       "4868             27.0            25         17.0     17         False  ...   \n",
       "5068             24.0             5         19.5      1          True  ...   \n",
       "5238             27.0             5         30.0      3         False  ...   \n",
       "5660             26.0             9         21.3      3         False  ...   \n",
       "5797             27.0            36         41.0     13         False  ...   \n",
       "6236             25.0             5         31.3      5         False  ...   \n",
       "9363             25.0             5         30.0      2         False  ...   \n",
       "10755            27.0            10         30.1      3         False  ...   \n",
       "11266            25.0             5         17.0      4         False  ...   \n",
       "14357            25.0             5         20.0      2         False  ...   \n",
       "17466            20.0            17         53.2     14         False  ...   \n",
       "17825            27.0             5         33.0      4         False  ...   \n",
       "18512            25.0             5         29.0      3         False  ...   \n",
       "20440            27.0             4         22.0      2         False  ...   \n",
       "20469            22.6            14         35.0     11         False  ...   \n",
       "21334            27.5            24         37.7     19         False  ...   \n",
       "21780            27.0             2         38.0      2         False  ...   \n",
       "22291            32.0             6         55.5      5         False  ...   \n",
       "22822           100.0             5         14.0      5          True  ...   \n",
       "22890            27.0             2         73.0      2          True  ...   \n",
       "\n",
       "       ponds_around3000  ponds_nearest  days_exposition      koef metre_price  \\\n",
       "355                   0            NaN            259.0  0.569304    65217.39   \n",
       "3144                  0            NaN              NaN  0.612030    38666.67   \n",
       "4636                  1          331.0            181.0  0.569304    95555.56   \n",
       "4868                  0            NaN             28.0  0.682468   120000.00   \n",
       "5068                  1          578.0              7.0  0.477421   126229.51   \n",
       "5238                  0            NaN            540.0  0.569304    46296.30   \n",
       "5660                  0            NaN            267.0  0.569304    88000.00   \n",
       "5797                  3           80.0             38.0  0.569304   101875.00   \n",
       "6236                  2           73.0              NaN  0.569304    74324.32   \n",
       "9363                  0            NaN              NaN  0.612030    94047.62   \n",
       "10755                 0            NaN             71.0  0.569304    65517.24   \n",
       "11266                 0            NaN             18.0  0.477421    52702.70   \n",
       "14357                 0            NaN            206.0  0.477421    48571.43   \n",
       "17466                 0            NaN              NaN  0.612030    72120.56   \n",
       "17825                 0            NaN             73.0  0.612030    69642.86   \n",
       "18512                 0            NaN             12.0  0.569304    87209.30   \n",
       "20440                 3          449.0            429.0  0.477421   177777.78   \n",
       "20469                 0            NaN             40.0  0.569304    99166.67   \n",
       "21334                 0            NaN             61.0  0.477421   116666.67   \n",
       "21780                 0            NaN              NaN  0.569304    55681.82   \n",
       "22291                 3          511.0              NaN  0.569304   108214.29   \n",
       "22822                 3           30.0             19.0  0.477421   600000.00   \n",
       "22890                 0            NaN             27.0  0.628047    40816.33   \n",
       "\n",
       "       weekday_publicatin  month_publication  year_publication  floor_type  \\\n",
       "355                     3                  7              2018      другой   \n",
       "3144                    0                 11              2018      другой   \n",
       "4636                    3                  2              2018      другой   \n",
       "4868                    2                  9              2017      другой   \n",
       "5068                    2                 10              2018      первый   \n",
       "5238                    4                 10              2017      другой   \n",
       "5660                    1                  8              2017      другой   \n",
       "5797                    2                  1              2019      другой   \n",
       "6236                    0                  3              2019   последний   \n",
       "9363                    6                  3              2017      другой   \n",
       "10755                   4                 10              2017      другой   \n",
       "11266                   2                  3              2019      другой   \n",
       "14357                   4                 12              2015      другой   \n",
       "17466                   1                  2              2019      другой   \n",
       "17825                   4                 12              2017      другой   \n",
       "18512                   0                  3              2019      другой   \n",
       "20440                   1                  7              2017      другой   \n",
       "20469                   0                  2              2018      другой   \n",
       "21334                   1                  4              2017      другой   \n",
       "21780                   1                  2              2019   последний   \n",
       "22291                   4                  4              2019      другой   \n",
       "22822                   2                  7              2018   последний   \n",
       "22890                   3                  3              2018   последний   \n",
       "\n",
       "       cityCenters_nearest_km  \n",
       "355                       NaN  \n",
       "3144                      NaN  \n",
       "4636                     13.0  \n",
       "4868                      NaN  \n",
       "5068                      8.0  \n",
       "5238                      NaN  \n",
       "5660                     11.0  \n",
       "5797                     20.0  \n",
       "6236                     51.0  \n",
       "9363                     14.0  \n",
       "10755                     NaN  \n",
       "11266                     NaN  \n",
       "14357                     NaN  \n",
       "17466                    15.0  \n",
       "17825                    16.0  \n",
       "18512                     8.0  \n",
       "20440                     3.0  \n",
       "20469                    13.0  \n",
       "21334                    10.0  \n",
       "21780                     NaN  \n",
       "22291                     4.0  \n",
       "22822                     8.0  \n",
       "22890                     NaN  \n",
       "\n",
       "[23 rows x 29 columns]"
      ]
     },
     "execution_count": 339,
     "metadata": {},
     "output_type": "execute_result"
    }
   ],
   "source": [
    "data.query('ceiling_height > 15') #потолки выше 11 метров вызывают сомнения"
   ]
  },
  {
   "cell_type": "markdown",
   "metadata": {},
   "source": [
    "Очевидно, что все высоты потолков нужно уменьшить в 10 раз. Такая ошибка могла возникнуть из-за невнимательности заполнения продавцом объявления, либо, например, из-за использовании неверного знака, разделяющего целые числа и дровные (точка и запятая)"
   ]
  },
  {
   "cell_type": "code",
   "execution_count": 340,
   "metadata": {},
   "outputs": [
    {
     "name": "stdout",
     "output_type": "stream",
     "text": [
      "Пропусков: 9128\n",
      "Доля объявлений с высотой полотков более 5 м.: 0.00069\n",
      "Доля объявлений с высотой полотков менее 2 м.: 0.00534\n",
      "Всего объявлений: 23544\n"
     ]
    },
    {
     "data": {
      "image/png": "[encoded data removed]",
      "text/plain": [
       "<Figure size 432x288 with 1 Axes>"
      ]
     },
     "metadata": {
      "needs_background": "light"
     },
     "output_type": "display_data"
    }
   ],
   "source": [
    "data['ceiling_height'] = data['ceiling_height'].where(data['ceiling_height'] < 14, data['ceiling_height'] / 10)\n",
    "data['ceiling_height'].hist(bins=100);\n",
    "print('Пропусков:', data['ceiling_height'].isna().sum())\n",
    "print('Доля объявлений с высотой полотков более 5 м.:', \\\n",
    "      round(data[data['ceiling_height'] > 5]['ceiling_height'].count() / data['ceiling_height'].count(), 5))\n",
    "print('Доля объявлений с высотой полотков менее 2 м.:', \\\n",
    "      round(data[data['ceiling_height'] < 2.5]['ceiling_height'].count() / data['ceiling_height'].count(), 5)) \n",
    "#минимальный стандарт для жилых помещений - 2.5м\n",
    "\n",
    "print('Всего объявлений:', data.shape[0])"
   ]
  },
  {
   "cell_type": "code",
   "execution_count": 341,
   "metadata": {},
   "outputs": [
    {
     "name": "stdout",
     "output_type": "stream",
     "text": [
      "Пропусков: 0\n"
     ]
    }
   ],
   "source": [
    "data['ceiling_height'] = data['ceiling_height'].fillna(data['ceiling_height'].median())\n",
    "print('Пропусков:', data['ceiling_height'].isna().sum())"
   ]
  },
  {
   "cell_type": "code",
   "execution_count": 342,
   "metadata": {},
   "outputs": [
    {
     "name": "stdout",
     "output_type": "stream",
     "text": [
      "Всего объявлений: 23457\n"
     ]
    },
    {
     "data": {
      "image/png": "[encoded data removed]",
      "text/plain": [
       "<Figure size 432x288 with 1 Axes>"
      ]
     },
     "metadata": {
      "needs_background": "light"
     },
     "output_type": "display_data"
    }
   ],
   "source": [
    "data = data.query('(ceiling_height <= 5 & ceiling_height >=2.5) | ceiling_height.isna()')\n",
    "data['ceiling_height'].hist(bins=100);\n",
    "print('Всего объявлений:', data.shape[0])"
   ]
  },
  {
   "cell_type": "markdown",
   "metadata": {},
   "source": [
    "<H3> Тип этажа квартиры </H3>"
   ]
  },
  {
   "cell_type": "code",
   "execution_count": 343,
   "metadata": {},
   "outputs": [
    {
     "data": {
      "image/png": "[encoded data removed]",
      "text/plain": [
       "<Figure size 432x288 with 1 Axes>"
      ]
     },
     "metadata": {
      "needs_background": "light"
     },
     "output_type": "display_data"
    }
   ],
   "source": [
    "data['floor_type'].hist(bins=100);"
   ]
  },
  {
   "cell_type": "markdown",
   "metadata": {},
   "source": [
    "Данные выглядят нормально, кол-во квартир на 1м этаже приблизительно равно кол-ву квартир на последнем. "
   ]
  },
  {
   "cell_type": "markdown",
   "metadata": {},
   "source": [
    "<H3> Общее количество этажей в доме </H3>"
   ]
  },
  {
   "cell_type": "code",
   "execution_count": 344,
   "metadata": {},
   "outputs": [
    {
     "name": "stdout",
     "output_type": "stream",
     "text": [
      "Доля объявлений с кол-вом этажей в квартире более 30: 0.00021\n",
      "Доля объявлений с кол-вом этажей в квартире менее 0: 0.00362\n",
      "Всего объявлений: 23457\n"
     ]
    },
    {
     "data": {
      "image/png": "[encoded data removed]",
      "text/plain": [
       "<Figure size 432x288 with 1 Axes>"
      ]
     },
     "metadata": {
      "needs_background": "light"
     },
     "output_type": "display_data"
    }
   ],
   "source": [
    "data['floors_total'].hist(bins=100);\n",
    "print('Доля объявлений с кол-вом этажей в квартире более 30:', \\\n",
    "      round(data[data['floors_total'] > 35]['floors_total'].count() / data['floors_total'].count(), 5))\n",
    "print('Доля объявлений с кол-вом этажей в квартире менее 0:', \\\n",
    "      round(data[data['floors_total'] <= 0]['floors_total'].count() / data['floors_total'].count(), 5))\n",
    "print('Всего объявлений:', data.shape[0])"
   ]
  },
  {
   "cell_type": "markdown",
   "metadata": {},
   "source": [
    "<H3> Расстояние до центра города в метрах </H3>"
   ]
  },
  {
   "cell_type": "code",
   "execution_count": 345,
   "metadata": {},
   "outputs": [
    {
     "name": "stdout",
     "output_type": "stream",
     "text": [
      "Всего пропусков в показателе: 5476\n",
      "Доля объявлений с расстоянием до центра города в метрах более 55 000 м.: 0.00067\n",
      "Всего объявлений с расстоянием до центра города в метрах более 55 000 м.: 12\n",
      "Всего объявлений: 23457\n"
     ]
    },
    {
     "data": {
      "image/png": "[encoded data removed]",
      "text/plain": [
       "<Figure size 432x288 with 1 Axes>"
      ]
     },
     "metadata": {
      "needs_background": "light"
     },
     "output_type": "display_data"
    }
   ],
   "source": [
    "data['cityCenters_nearest'].hist(bins=100);\n",
    "print('Всего пропусков в показателе:', data['cityCenters_nearest'].isna().sum())\n",
    "print('Доля объявлений с расстоянием до центра города в метрах более 55 000 м.:', \\\n",
    "      round(data[data['cityCenters_nearest'] > 55000]['cityCenters_nearest'].count() / data['cityCenters_nearest'].count(), 5))\n",
    "print('Всего объявлений с расстоянием до центра города в метрах более 55 000 м.:', data[data['cityCenters_nearest'] > 55000]['cityCenters_nearest'].count())\n",
    "print('Всего объявлений:', data.shape[0])"
   ]
  },
  {
   "cell_type": "markdown",
   "metadata": {},
   "source": [
    "<H3> Расстояние до ближайшего парка </H3>"
   ]
  },
  {
   "cell_type": "code",
   "execution_count": 346,
   "metadata": {},
   "outputs": [
    {
     "name": "stdout",
     "output_type": "stream",
     "text": [
      "Всего пропусков в показателе: 15502\n",
      "Всего объявлений: 23457\n"
     ]
    },
    {
     "data": {
      "image/png": "[encoded data removed]",
      "text/plain": [
       "<Figure size 432x288 with 1 Axes>"
      ]
     },
     "metadata": {
      "needs_background": "light"
     },
     "output_type": "display_data"
    }
   ],
   "source": [
    "data['parks_nearest'].hist(bins=100); #ничего удалять не нужно, выбросов нет\n",
    "print('Всего пропусков в показателе:', data['parks_nearest'].isna().sum()) \n",
    "\n",
    "print('Всего объявлений:', data.shape[0])"
   ]
  },
  {
   "cell_type": "markdown",
   "metadata": {},
   "source": [
    "<H3> Промежуточный вывод </H3>\n",
    "\n",
    "Из 23 650 данных, выбросы содержало 193, или же 0.8%. \n",
    "\n",
    "После удаления аномальных значений, осталось 23 457 объявлений"
   ]
  },
  {
   "cell_type": "markdown",
   "metadata": {},
   "source": [
    "<H3> Насколько быстро продавалось жилье</H3>"
   ]
  },
  {
   "cell_type": "code",
   "execution_count": 348,
   "metadata": {},
   "outputs": [
    {
     "name": "stdout",
     "output_type": "stream",
     "text": [
      "count    20309.000000\n",
      "mean       180.395293\n",
      "std        219.586317\n",
      "min          1.000000\n",
      "25%         45.000000\n",
      "50%         95.000000\n",
      "75%        230.000000\n",
      "max       1580.000000\n",
      "Name: days_exposition, dtype: float64\n"
     ]
    },
    {
     "data": {
      "image/png": "[encoded data removed]",
      "text/plain": [
       "<Figure size 432x288 with 1 Axes>"
      ]
     },
     "metadata": {
      "needs_background": "light"
     },
     "output_type": "display_data"
    }
   ],
   "source": [
    "data['days_exposition'].hist(bins=500)\n",
    "print(data['days_exposition'].describe())"
   ]
  },
  {
   "cell_type": "code",
   "execution_count": 353,
   "metadata": {},
   "outputs": [
    {
     "data": {
      "image/png": "[encoded data removed]",
      "text/plain": [
       "<Figure size 432x288 with 1 Axes>"
      ]
     },
     "metadata": {
      "needs_background": "light"
     },
     "output_type": "display_data"
    }
   ],
   "source": [
    "data.query('days_exposition < 400').hist('days_exposition', bins=100);"
   ]
  },
  {
   "cell_type": "code",
   "execution_count": 350,
   "metadata": {},
   "outputs": [
    {
     "data": {
      "text/plain": [
       "45.0    871\n",
       "60.0    538\n",
       "7.0     232\n",
       "30.0    207\n",
       "90.0    200\n",
       "Name: days_exposition, dtype: int64"
      ]
     },
     "execution_count": 350,
     "metadata": {},
     "output_type": "execute_result"
    }
   ],
   "source": [
    "data['days_exposition'].value_counts(ascending=False).head()"
   ]
  },
  {
   "cell_type": "markdown",
   "metadata": {},
   "source": [
    "На гистограмме видны подозрительно большое кол-во объявлений, которые были опубликованы 45 дней. \n",
    "\n",
    "Возможно, платформы, на которых публикуют объявления после 45 дней автоматически снимают его с показа, если продавец не продлевает его (или просто забыл это сделать). Поэтому данные о том, что 871 объявление продержалось 45 дней можно посчитать нереальными."
   ]
  },
  {
   "cell_type": "code",
   "execution_count": 354,
   "metadata": {},
   "outputs": [],
   "source": [
    "data = data[data['days_exposition'] < 550]"
   ]
  },
  {
   "cell_type": "code",
   "execution_count": 355,
   "metadata": {},
   "outputs": [
    {
     "data": {
      "image/png": "[encoded data removed]",
      "text/plain": [
       "<Figure size 432x288 with 1 Axes>"
      ]
     },
     "metadata": {
      "needs_background": "light"
     },
     "output_type": "display_data"
    }
   ],
   "source": [
    "data.query('days_exposition < 400').hist('days_exposition', bins=100);"
   ]
  },
  {
   "cell_type": "markdown",
   "metadata": {},
   "source": [
    "Всего данных о кол-ве дней - 20 204 шт.\n",
    "\n",
    "Среднее кол-во дней - 180\n",
    "\n",
    "Медианное кол-во дней - 95\n",
    "\n",
    "Стандартное отклонение довольно высоко - 219\n",
    "\n",
    "Вывод: Быстрыми можно считать продажи, которые заняли менее 45 дней, долгими - более 230 дней.\n",
    "Чаще всего объявление выставлено около 120 дней"
   ]
  },
  {
   "cell_type": "markdown",
   "metadata": {},
   "source": [
    "<H3> Что влияет на цену жилья</H3>\n",
    "\n"
   ]
  },
  {
   "cell_type": "code",
   "execution_count": 50,
   "metadata": {},
   "outputs": [
    {
     "data": {
      "text/html": [
       "<div>\n",
       "<style scoped>\n",
       "    .dataframe tbody tr th:only-of-type {\n",
       "        vertical-align: middle;\n",
       "    }\n",
       "\n",
       "    .dataframe tbody tr th {\n",
       "        vertical-align: top;\n",
       "    }\n",
       "\n",
       "    .dataframe thead th {\n",
       "        text-align: right;\n",
       "    }\n",
       "</style>\n",
       "<table border=\"1\" class=\"dataframe\">\n",
       "  <thead>\n",
       "    <tr style=\"text-align: right;\">\n",
       "      <th></th>\n",
       "      <th>last_price</th>\n",
       "      <th>total_area</th>\n",
       "      <th>living_area</th>\n",
       "      <th>kitchen_area</th>\n",
       "      <th>rooms</th>\n",
       "      <th>weekday_publicatin</th>\n",
       "      <th>month_publication</th>\n",
       "      <th>year_publication</th>\n",
       "    </tr>\n",
       "  </thead>\n",
       "  <tbody>\n",
       "    <tr>\n",
       "      <th>last_price</th>\n",
       "      <td>1.000000</td>\n",
       "      <td>0.759436</td>\n",
       "      <td>0.665425</td>\n",
       "      <td>0.558200</td>\n",
       "      <td>0.464563</td>\n",
       "      <td>-0.006471</td>\n",
       "      <td>0.010323</td>\n",
       "      <td>-0.051301</td>\n",
       "    </tr>\n",
       "    <tr>\n",
       "      <th>total_area</th>\n",
       "      <td>0.759436</td>\n",
       "      <td>1.000000</td>\n",
       "      <td>0.933279</td>\n",
       "      <td>0.582756</td>\n",
       "      <td>0.778980</td>\n",
       "      <td>-0.010372</td>\n",
       "      <td>0.011426</td>\n",
       "      <td>-0.082602</td>\n",
       "    </tr>\n",
       "    <tr>\n",
       "      <th>living_area</th>\n",
       "      <td>0.665425</td>\n",
       "      <td>0.933279</td>\n",
       "      <td>1.000000</td>\n",
       "      <td>0.376359</td>\n",
       "      <td>0.863273</td>\n",
       "      <td>-0.008455</td>\n",
       "      <td>0.000922</td>\n",
       "      <td>-0.071760</td>\n",
       "    </tr>\n",
       "    <tr>\n",
       "      <th>kitchen_area</th>\n",
       "      <td>0.558200</td>\n",
       "      <td>0.582756</td>\n",
       "      <td>0.376359</td>\n",
       "      <td>1.000000</td>\n",
       "      <td>0.232995</td>\n",
       "      <td>-0.009565</td>\n",
       "      <td>0.009909</td>\n",
       "      <td>-0.055343</td>\n",
       "    </tr>\n",
       "    <tr>\n",
       "      <th>rooms</th>\n",
       "      <td>0.464563</td>\n",
       "      <td>0.778980</td>\n",
       "      <td>0.863273</td>\n",
       "      <td>0.232995</td>\n",
       "      <td>1.000000</td>\n",
       "      <td>-0.005495</td>\n",
       "      <td>-0.000644</td>\n",
       "      <td>-0.051515</td>\n",
       "    </tr>\n",
       "    <tr>\n",
       "      <th>weekday_publicatin</th>\n",
       "      <td>-0.006471</td>\n",
       "      <td>-0.010372</td>\n",
       "      <td>-0.008455</td>\n",
       "      <td>-0.009565</td>\n",
       "      <td>-0.005495</td>\n",
       "      <td>1.000000</td>\n",
       "      <td>0.013849</td>\n",
       "      <td>-0.003103</td>\n",
       "    </tr>\n",
       "    <tr>\n",
       "      <th>month_publication</th>\n",
       "      <td>0.010323</td>\n",
       "      <td>0.011426</td>\n",
       "      <td>0.000922</td>\n",
       "      <td>0.009909</td>\n",
       "      <td>-0.000644</td>\n",
       "      <td>0.013849</td>\n",
       "      <td>1.000000</td>\n",
       "      <td>-0.272841</td>\n",
       "    </tr>\n",
       "    <tr>\n",
       "      <th>year_publication</th>\n",
       "      <td>-0.051301</td>\n",
       "      <td>-0.082602</td>\n",
       "      <td>-0.071760</td>\n",
       "      <td>-0.055343</td>\n",
       "      <td>-0.051515</td>\n",
       "      <td>-0.003103</td>\n",
       "      <td>-0.272841</td>\n",
       "      <td>1.000000</td>\n",
       "    </tr>\n",
       "  </tbody>\n",
       "</table>\n",
       "</div>"
      ],
      "text/plain": [
       "                    last_price  total_area  living_area  kitchen_area  \\\n",
       "last_price            1.000000    0.759436     0.665425      0.558200   \n",
       "total_area            0.759436    1.000000     0.933279      0.582756   \n",
       "living_area           0.665425    0.933279     1.000000      0.376359   \n",
       "kitchen_area          0.558200    0.582756     0.376359      1.000000   \n",
       "rooms                 0.464563    0.778980     0.863273      0.232995   \n",
       "weekday_publicatin   -0.006471   -0.010372    -0.008455     -0.009565   \n",
       "month_publication     0.010323    0.011426     0.000922      0.009909   \n",
       "year_publication     -0.051301   -0.082602    -0.071760     -0.055343   \n",
       "\n",
       "                       rooms  weekday_publicatin  month_publication  \\\n",
       "last_price          0.464563           -0.006471           0.010323   \n",
       "total_area          0.778980           -0.010372           0.011426   \n",
       "living_area         0.863273           -0.008455           0.000922   \n",
       "kitchen_area        0.232995           -0.009565           0.009909   \n",
       "rooms               1.000000           -0.005495          -0.000644   \n",
       "weekday_publicatin -0.005495            1.000000           0.013849   \n",
       "month_publication  -0.000644            0.013849           1.000000   \n",
       "year_publication   -0.051515           -0.003103          -0.272841   \n",
       "\n",
       "                    year_publication  \n",
       "last_price                 -0.051301  \n",
       "total_area                 -0.082602  \n",
       "living_area                -0.071760  \n",
       "kitchen_area               -0.055343  \n",
       "rooms                      -0.051515  \n",
       "weekday_publicatin         -0.003103  \n",
       "month_publication          -0.272841  \n",
       "year_publication            1.000000  "
      ]
     },
     "execution_count": 50,
     "metadata": {},
     "output_type": "execute_result"
    }
   ],
   "source": [
    "data_for_price = data[['last_price', 'total_area', 'living_area', 'kitchen_area', 'rooms', 'floor_type', 'weekday_publicatin', 'month_publication', 'year_publication']]\n",
    "data_for_price.corr()"
   ]
  },
  {
   "cell_type": "code",
   "execution_count": 51,
   "metadata": {},
   "outputs": [
    {
     "data": {
      "image/png": "[encoded data removed]",
      "text/plain": [
       "<Figure size 936x936 with 64 Axes>"
      ]
     },
     "metadata": {
      "needs_background": "light"
     },
     "output_type": "display_data"
    }
   ],
   "source": [
    "pd.plotting.scatter_matrix(data_for_price, figsize=(13, 13));"
   ]
  },
  {
   "cell_type": "markdown",
   "metadata": {},
   "source": [
    "Из матрицы корреляций видно, что на цену жилья влияют:\n",
    "- общая площадь жилья\n",
    "- жилая площадь\n",
    "- площадь кухни\n",
    "\n",
    "Особонно тесна связь этих показателей у жилья, которое стоит до 25 млн. руб.\n",
    "Больше всего, конечно, за цену жилья влияет его общая площадь."
   ]
  },
  {
   "cell_type": "markdown",
   "metadata": {},
   "source": [
    "<H3> Cредняя цена одного квадратного метра в 10 населённых пунктах с наибольшим числом объявлений</H3>\n"
   ]
  },
  {
   "cell_type": "code",
   "execution_count": 52,
   "metadata": {},
   "outputs": [
    {
     "data": {
      "text/html": [
       "<div>\n",
       "<style scoped>\n",
       "    .dataframe tbody tr th:only-of-type {\n",
       "        vertical-align: middle;\n",
       "    }\n",
       "\n",
       "    .dataframe tbody tr th {\n",
       "        vertical-align: top;\n",
       "    }\n",
       "\n",
       "    .dataframe thead th {\n",
       "        text-align: right;\n",
       "    }\n",
       "</style>\n",
       "<table border=\"1\" class=\"dataframe\">\n",
       "  <thead>\n",
       "    <tr style=\"text-align: right;\">\n",
       "      <th></th>\n",
       "      <th>locality_name</th>\n",
       "      <th>count</th>\n",
       "      <th>total_images</th>\n",
       "      <th>last_price</th>\n",
       "      <th>total_area</th>\n",
       "      <th>first_day_exposition</th>\n",
       "      <th>rooms</th>\n",
       "      <th>ceiling_height</th>\n",
       "      <th>floors_total</th>\n",
       "      <th>living_area</th>\n",
       "      <th>...</th>\n",
       "      <th>ponds_around3000</th>\n",
       "      <th>ponds_nearest</th>\n",
       "      <th>days_exposition</th>\n",
       "      <th>living/total_area</th>\n",
       "      <th>metre_price</th>\n",
       "      <th>weekday_publicatin</th>\n",
       "      <th>month_publication</th>\n",
       "      <th>year_publication</th>\n",
       "      <th>floor_type</th>\n",
       "      <th>cityCenters_nearest_km</th>\n",
       "    </tr>\n",
       "  </thead>\n",
       "  <tbody>\n",
       "    <tr>\n",
       "      <th>0</th>\n",
       "      <td>санкт-петербург</td>\n",
       "      <td>15483</td>\n",
       "      <td>20</td>\n",
       "      <td>13000000</td>\n",
       "      <td>108.0</td>\n",
       "      <td>2019-03-07</td>\n",
       "      <td>3</td>\n",
       "      <td>2.70</td>\n",
       "      <td>16</td>\n",
       "      <td>51.0</td>\n",
       "      <td>...</td>\n",
       "      <td>2</td>\n",
       "      <td>755.0</td>\n",
       "      <td>NaN</td>\n",
       "      <td>0.472222</td>\n",
       "      <td>120370.37</td>\n",
       "      <td>3</td>\n",
       "      <td>3</td>\n",
       "      <td>2019</td>\n",
       "      <td>другой</td>\n",
       "      <td>16.0</td>\n",
       "    </tr>\n",
       "    <tr>\n",
       "      <th>1</th>\n",
       "      <td>санкт-петербург</td>\n",
       "      <td>15483</td>\n",
       "      <td>10</td>\n",
       "      <td>5196000</td>\n",
       "      <td>56.0</td>\n",
       "      <td>2015-08-20</td>\n",
       "      <td>2</td>\n",
       "      <td>NaN</td>\n",
       "      <td>5</td>\n",
       "      <td>34.3</td>\n",
       "      <td>...</td>\n",
       "      <td>2</td>\n",
       "      <td>574.0</td>\n",
       "      <td>558.0</td>\n",
       "      <td>0.612500</td>\n",
       "      <td>92785.71</td>\n",
       "      <td>3</td>\n",
       "      <td>8</td>\n",
       "      <td>2015</td>\n",
       "      <td>другой</td>\n",
       "      <td>14.0</td>\n",
       "    </tr>\n",
       "    <tr>\n",
       "      <th>2</th>\n",
       "      <td>санкт-петербург</td>\n",
       "      <td>15483</td>\n",
       "      <td>0</td>\n",
       "      <td>64900000</td>\n",
       "      <td>159.0</td>\n",
       "      <td>2015-07-24</td>\n",
       "      <td>3</td>\n",
       "      <td>NaN</td>\n",
       "      <td>14</td>\n",
       "      <td>NaN</td>\n",
       "      <td>...</td>\n",
       "      <td>3</td>\n",
       "      <td>234.0</td>\n",
       "      <td>424.0</td>\n",
       "      <td>NaN</td>\n",
       "      <td>408176.10</td>\n",
       "      <td>4</td>\n",
       "      <td>7</td>\n",
       "      <td>2015</td>\n",
       "      <td>другой</td>\n",
       "      <td>7.0</td>\n",
       "    </tr>\n",
       "    <tr>\n",
       "      <th>3</th>\n",
       "      <td>санкт-петербург</td>\n",
       "      <td>15483</td>\n",
       "      <td>2</td>\n",
       "      <td>10000000</td>\n",
       "      <td>100.0</td>\n",
       "      <td>2018-06-19</td>\n",
       "      <td>2</td>\n",
       "      <td>3.03</td>\n",
       "      <td>14</td>\n",
       "      <td>32.0</td>\n",
       "      <td>...</td>\n",
       "      <td>1</td>\n",
       "      <td>48.0</td>\n",
       "      <td>121.0</td>\n",
       "      <td>0.320000</td>\n",
       "      <td>100000.00</td>\n",
       "      <td>1</td>\n",
       "      <td>6</td>\n",
       "      <td>2018</td>\n",
       "      <td>другой</td>\n",
       "      <td>8.0</td>\n",
       "    </tr>\n",
       "    <tr>\n",
       "      <th>4</th>\n",
       "      <td>санкт-петербург</td>\n",
       "      <td>15483</td>\n",
       "      <td>5</td>\n",
       "      <td>7915000</td>\n",
       "      <td>71.6</td>\n",
       "      <td>2019-04-18</td>\n",
       "      <td>2</td>\n",
       "      <td>NaN</td>\n",
       "      <td>24</td>\n",
       "      <td>NaN</td>\n",
       "      <td>...</td>\n",
       "      <td>0</td>\n",
       "      <td>NaN</td>\n",
       "      <td>NaN</td>\n",
       "      <td>NaN</td>\n",
       "      <td>110544.69</td>\n",
       "      <td>3</td>\n",
       "      <td>4</td>\n",
       "      <td>2019</td>\n",
       "      <td>другой</td>\n",
       "      <td>12.0</td>\n",
       "    </tr>\n",
       "    <tr>\n",
       "      <th>...</th>\n",
       "      <td>...</td>\n",
       "      <td>...</td>\n",
       "      <td>...</td>\n",
       "      <td>...</td>\n",
       "      <td>...</td>\n",
       "      <td>...</td>\n",
       "      <td>...</td>\n",
       "      <td>...</td>\n",
       "      <td>...</td>\n",
       "      <td>...</td>\n",
       "      <td>...</td>\n",
       "      <td>...</td>\n",
       "      <td>...</td>\n",
       "      <td>...</td>\n",
       "      <td>...</td>\n",
       "      <td>...</td>\n",
       "      <td>...</td>\n",
       "      <td>...</td>\n",
       "      <td>...</td>\n",
       "      <td>...</td>\n",
       "      <td>...</td>\n",
       "    </tr>\n",
       "    <tr>\n",
       "      <th>18731</th>\n",
       "      <td>выборг</td>\n",
       "      <td>235</td>\n",
       "      <td>7</td>\n",
       "      <td>2250000</td>\n",
       "      <td>43.0</td>\n",
       "      <td>2018-01-10</td>\n",
       "      <td>2</td>\n",
       "      <td>2.55</td>\n",
       "      <td>5</td>\n",
       "      <td>NaN</td>\n",
       "      <td>...</td>\n",
       "      <td>0</td>\n",
       "      <td>NaN</td>\n",
       "      <td>50.0</td>\n",
       "      <td>NaN</td>\n",
       "      <td>52325.58</td>\n",
       "      <td>2</td>\n",
       "      <td>1</td>\n",
       "      <td>2018</td>\n",
       "      <td>последний</td>\n",
       "      <td>NaN</td>\n",
       "    </tr>\n",
       "    <tr>\n",
       "      <th>18732</th>\n",
       "      <td>выборг</td>\n",
       "      <td>235</td>\n",
       "      <td>9</td>\n",
       "      <td>4600000</td>\n",
       "      <td>73.0</td>\n",
       "      <td>2016-07-27</td>\n",
       "      <td>3</td>\n",
       "      <td>3.00</td>\n",
       "      <td>7</td>\n",
       "      <td>NaN</td>\n",
       "      <td>...</td>\n",
       "      <td>0</td>\n",
       "      <td>NaN</td>\n",
       "      <td>1005.0</td>\n",
       "      <td>NaN</td>\n",
       "      <td>63013.70</td>\n",
       "      <td>2</td>\n",
       "      <td>7</td>\n",
       "      <td>2016</td>\n",
       "      <td>другой</td>\n",
       "      <td>NaN</td>\n",
       "    </tr>\n",
       "    <tr>\n",
       "      <th>18733</th>\n",
       "      <td>выборг</td>\n",
       "      <td>235</td>\n",
       "      <td>14</td>\n",
       "      <td>2250000</td>\n",
       "      <td>36.0</td>\n",
       "      <td>2017-10-14</td>\n",
       "      <td>1</td>\n",
       "      <td>2.50</td>\n",
       "      <td>5</td>\n",
       "      <td>17.0</td>\n",
       "      <td>...</td>\n",
       "      <td>0</td>\n",
       "      <td>NaN</td>\n",
       "      <td>425.0</td>\n",
       "      <td>0.472222</td>\n",
       "      <td>62500.00</td>\n",
       "      <td>5</td>\n",
       "      <td>10</td>\n",
       "      <td>2017</td>\n",
       "      <td>последний</td>\n",
       "      <td>NaN</td>\n",
       "    </tr>\n",
       "    <tr>\n",
       "      <th>18734</th>\n",
       "      <td>выборг</td>\n",
       "      <td>235</td>\n",
       "      <td>15</td>\n",
       "      <td>7490000</td>\n",
       "      <td>114.0</td>\n",
       "      <td>2018-08-13</td>\n",
       "      <td>4</td>\n",
       "      <td>3.15</td>\n",
       "      <td>4</td>\n",
       "      <td>81.3</td>\n",
       "      <td>...</td>\n",
       "      <td>0</td>\n",
       "      <td>NaN</td>\n",
       "      <td>245.0</td>\n",
       "      <td>0.713158</td>\n",
       "      <td>65701.75</td>\n",
       "      <td>0</td>\n",
       "      <td>8</td>\n",
       "      <td>2018</td>\n",
       "      <td>последний</td>\n",
       "      <td>NaN</td>\n",
       "    </tr>\n",
       "    <tr>\n",
       "      <th>18735</th>\n",
       "      <td>выборг</td>\n",
       "      <td>235</td>\n",
       "      <td>11</td>\n",
       "      <td>2350000</td>\n",
       "      <td>35.6</td>\n",
       "      <td>2016-06-23</td>\n",
       "      <td>1</td>\n",
       "      <td>2.50</td>\n",
       "      <td>5</td>\n",
       "      <td>17.0</td>\n",
       "      <td>...</td>\n",
       "      <td>0</td>\n",
       "      <td>NaN</td>\n",
       "      <td>40.0</td>\n",
       "      <td>0.477528</td>\n",
       "      <td>66011.24</td>\n",
       "      <td>3</td>\n",
       "      <td>6</td>\n",
       "      <td>2016</td>\n",
       "      <td>другой</td>\n",
       "      <td>NaN</td>\n",
       "    </tr>\n",
       "  </tbody>\n",
       "</table>\n",
       "<p>18736 rows × 30 columns</p>\n",
       "</div>"
      ],
      "text/plain": [
       "         locality_name  count  total_images  last_price  total_area  \\\n",
       "0      санкт-петербург  15483            20    13000000       108.0   \n",
       "1      санкт-петербург  15483            10     5196000        56.0   \n",
       "2      санкт-петербург  15483             0    64900000       159.0   \n",
       "3      санкт-петербург  15483             2    10000000       100.0   \n",
       "4      санкт-петербург  15483             5     7915000        71.6   \n",
       "...                ...    ...           ...         ...         ...   \n",
       "18731           выборг    235             7     2250000        43.0   \n",
       "18732           выборг    235             9     4600000        73.0   \n",
       "18733           выборг    235            14     2250000        36.0   \n",
       "18734           выборг    235            15     7490000       114.0   \n",
       "18735           выборг    235            11     2350000        35.6   \n",
       "\n",
       "      first_day_exposition  rooms  ceiling_height  floors_total  living_area  \\\n",
       "0               2019-03-07      3            2.70            16         51.0   \n",
       "1               2015-08-20      2             NaN             5         34.3   \n",
       "2               2015-07-24      3             NaN            14          NaN   \n",
       "3               2018-06-19      2            3.03            14         32.0   \n",
       "4               2019-04-18      2             NaN            24          NaN   \n",
       "...                    ...    ...             ...           ...          ...   \n",
       "18731           2018-01-10      2            2.55             5          NaN   \n",
       "18732           2016-07-27      3            3.00             7          NaN   \n",
       "18733           2017-10-14      1            2.50             5         17.0   \n",
       "18734           2018-08-13      4            3.15             4         81.3   \n",
       "18735           2016-06-23      1            2.50             5         17.0   \n",
       "\n",
       "       ...  ponds_around3000  ponds_nearest  days_exposition  \\\n",
       "0      ...                 2          755.0              NaN   \n",
       "1      ...                 2          574.0            558.0   \n",
       "2      ...                 3          234.0            424.0   \n",
       "3      ...                 1           48.0            121.0   \n",
       "4      ...                 0            NaN              NaN   \n",
       "...    ...               ...            ...              ...   \n",
       "18731  ...                 0            NaN             50.0   \n",
       "18732  ...                 0            NaN           1005.0   \n",
       "18733  ...                 0            NaN            425.0   \n",
       "18734  ...                 0            NaN            245.0   \n",
       "18735  ...                 0            NaN             40.0   \n",
       "\n",
       "       living/total_area  metre_price  weekday_publicatin  month_publication  \\\n",
       "0               0.472222    120370.37                   3                  3   \n",
       "1               0.612500     92785.71                   3                  8   \n",
       "2                    NaN    408176.10                   4                  7   \n",
       "3               0.320000    100000.00                   1                  6   \n",
       "4                    NaN    110544.69                   3                  4   \n",
       "...                  ...          ...                 ...                ...   \n",
       "18731                NaN     52325.58                   2                  1   \n",
       "18732                NaN     63013.70                   2                  7   \n",
       "18733           0.472222     62500.00                   5                 10   \n",
       "18734           0.713158     65701.75                   0                  8   \n",
       "18735           0.477528     66011.24                   3                  6   \n",
       "\n",
       "       year_publication  floor_type  cityCenters_nearest_km  \n",
       "0                  2019      другой                    16.0  \n",
       "1                  2015      другой                    14.0  \n",
       "2                  2015      другой                     7.0  \n",
       "3                  2018      другой                     8.0  \n",
       "4                  2019      другой                    12.0  \n",
       "...                 ...         ...                     ...  \n",
       "18731              2018   последний                     NaN  \n",
       "18732              2016      другой                     NaN  \n",
       "18733              2017   последний                     NaN  \n",
       "18734              2018   последний                     NaN  \n",
       "18735              2016      другой                     NaN  \n",
       "\n",
       "[18736 rows x 30 columns]"
      ]
     },
     "execution_count": 52,
     "metadata": {},
     "output_type": "execute_result"
    }
   ],
   "source": [
    "top_locations = data['locality_name'].value_counts().head(10).to_frame()\n",
    "top_locations = top_locations.reset_index()\n",
    "top_locations.columns = ['locality_name', 'count']\n",
    "top_locations = top_locations.merge(data, on='locality_name', how='left')\n",
    "top_locations"
   ]
  },
  {
   "cell_type": "code",
   "execution_count": 53,
   "metadata": {},
   "outputs": [
    {
     "data": {
      "text/html": [
       "<div>\n",
       "<style scoped>\n",
       "    .dataframe tbody tr th:only-of-type {\n",
       "        vertical-align: middle;\n",
       "    }\n",
       "\n",
       "    .dataframe tbody tr th {\n",
       "        vertical-align: top;\n",
       "    }\n",
       "\n",
       "    .dataframe thead th {\n",
       "        text-align: right;\n",
       "    }\n",
       "</style>\n",
       "<table border=\"1\" class=\"dataframe\">\n",
       "  <thead>\n",
       "    <tr style=\"text-align: right;\">\n",
       "      <th></th>\n",
       "      <th>metre_price</th>\n",
       "    </tr>\n",
       "    <tr>\n",
       "      <th>locality_name</th>\n",
       "      <th></th>\n",
       "    </tr>\n",
       "  </thead>\n",
       "  <tbody>\n",
       "    <tr>\n",
       "      <th>санкт-петербург</th>\n",
       "      <td>113275.170812</td>\n",
       "    </tr>\n",
       "    <tr>\n",
       "      <th>пушкин</th>\n",
       "      <td>102920.402901</td>\n",
       "    </tr>\n",
       "    <tr>\n",
       "      <th>деревня кудрово</th>\n",
       "      <td>92473.547559</td>\n",
       "    </tr>\n",
       "    <tr>\n",
       "      <th>поселок парголово</th>\n",
       "      <td>90205.423374</td>\n",
       "    </tr>\n",
       "    <tr>\n",
       "      <th>поселок мурино</th>\n",
       "      <td>85629.568641</td>\n",
       "    </tr>\n",
       "    <tr>\n",
       "      <th>поселок шушары</th>\n",
       "      <td>78551.344647</td>\n",
       "    </tr>\n",
       "    <tr>\n",
       "      <th>колпино</th>\n",
       "      <td>75352.475595</td>\n",
       "    </tr>\n",
       "    <tr>\n",
       "      <th>гатчина</th>\n",
       "      <td>68746.146515</td>\n",
       "    </tr>\n",
       "    <tr>\n",
       "      <th>всеволожск</th>\n",
       "      <td>68719.320378</td>\n",
       "    </tr>\n",
       "    <tr>\n",
       "      <th>выборг</th>\n",
       "      <td>58238.143277</td>\n",
       "    </tr>\n",
       "  </tbody>\n",
       "</table>\n",
       "</div>"
      ],
      "text/plain": [
       "                     metre_price\n",
       "locality_name                   \n",
       "санкт-петербург    113275.170812\n",
       "пушкин             102920.402901\n",
       "деревня кудрово     92473.547559\n",
       "поселок парголово   90205.423374\n",
       "поселок мурино      85629.568641\n",
       "поселок шушары      78551.344647\n",
       "колпино             75352.475595\n",
       "гатчина             68746.146515\n",
       "всеволожск          68719.320378\n",
       "выборг              58238.143277"
      ]
     },
     "execution_count": 53,
     "metadata": {},
     "output_type": "execute_result"
    }
   ],
   "source": [
    "mean_metre_price = top_locations.pivot_table(index='locality_name', values='metre_price', aggfunc='mean') \n",
    "mean_metre_price.sort_values(by='metre_price', ascending=False)"
   ]
  },
  {
   "cell_type": "markdown",
   "metadata": {},
   "source": [
    "Санкт-Петербург - город, с самой большой стоимостью квадратного метра. В то время, как г. Выборг - с самой низкой. \n"
   ]
  },
  {
   "cell_type": "code",
   "execution_count": 54,
   "metadata": {},
   "outputs": [
    {
     "name": "stdout",
     "output_type": "stream",
     "text": [
      "                          last_price\n",
      "cityCenters_nearest_km              \n",
      "0.0                     2.199051e+07\n",
      "1.0                     1.480346e+07\n",
      "2.0                     1.427968e+07\n",
      "3.0                     1.070004e+07\n",
      "4.0                     1.120422e+07\n",
      "5.0                     1.208911e+07\n",
      "6.0                     1.302634e+07\n",
      "7.0                     1.360686e+07\n",
      "8.0                     9.055654e+06\n",
      "9.0                     6.977974e+06\n",
      "10.0                    6.418696e+06\n",
      "11.0                    6.232649e+06\n",
      "12.0                    5.826739e+06\n",
      "13.0                    6.070949e+06\n",
      "14.0                    5.599465e+06\n",
      "15.0                    5.808007e+06\n",
      "16.0                    5.376025e+06\n",
      "17.0                    5.222683e+06\n",
      "18.0                    5.100913e+06\n",
      "19.0                    5.051410e+06\n",
      "20.0                    5.870706e+06\n",
      "21.0                    5.493469e+06\n",
      "22.0                    5.415524e+06\n",
      "23.0                    5.000798e+06\n",
      "24.0                    3.854430e+06\n",
      "25.0                    4.052840e+06\n",
      "26.0                    4.014287e+06\n",
      "27.0                    8.300000e+06\n",
      "28.0                    5.026429e+06\n",
      "29.0                    4.236667e+06\n"
     ]
    },
    {
     "data": {
      "image/png": "[encoded data removed]",
      "text/plain": [
       "<Figure size 432x288 with 1 Axes>"
      ]
     },
     "metadata": {
      "needs_background": "light"
     },
     "output_type": "display_data"
    }
   ],
   "source": [
    "print(data[data['locality_name'] == 'санкт-петербург'].pivot_table(index='cityCenters_nearest_km', values='last_price', aggfunc='mean'))\n",
    "data[data['locality_name'] == 'санкт-петербург'].pivot_table(index='cityCenters_nearest_km', \\\n",
    "       values='last_price', aggfunc='mean').plot(grid=True, ylabel='Price', xlabel='distance from the city center (km)', \\\n",
    "       title='Prices for housing in St. Petersburg by distance from the city center');"
   ]
  },
  {
   "cell_type": "markdown",
   "metadata": {},
   "source": [
    "В среднем, цена жилья тем меньше, чем дальше оно от центра города. Но, все таки, отдаленность недвижимости - не самый сильный фактор, влияюзий на ее цену, по крайней мере, в Санкт-Перертурге."
   ]
  },
  {
   "cell_type": "code",
   "execution_count": 55,
   "metadata": {},
   "outputs": [
    {
     "data": {
      "text/plain": [
       "7"
      ]
     },
     "execution_count": 55,
     "metadata": {},
     "output_type": "execute_result"
    }
   ],
   "source": [
    "data.query('locality_name == \"санкт-петербург\" & cityCenters_nearest_km == 28')['total_area'].count()"
   ]
  },
  {
   "cell_type": "markdown",
   "metadata": {},
   "source": [
    "В среднем снижение стоимости прослеживается, но оно не абсолютно точное. Например, на отдаллености в 22км и 28км цена жилья больше ожидаемого. Но это связано с небольшим кол-вом объявлений из этой местности. (в отдалении от города на 28 км в датасете представлено всего 7 шт)."
   ]
  },
  {
   "cell_type": "markdown",
   "metadata": {
    "id": "h7VpzkIDAwb-"
   },
   "source": [
    "# Общий вывод"
   ]
  },
  {
   "cell_type": "markdown",
   "metadata": {},
   "source": [
    "Изначально количество предоставленных объявлений было 23 699.\n",
    "Но из-за многочисленных пропусков показателей, необходимых для корректного исследования, некоторые пропуски были заменены медианными значениями. С данных о высоте потолков были встречены ошибки с неверной записью чисел с плавающей точкой. Такие значения были приведены в порядок, и неизвестные значения были заменения медианными.\n",
    "\n",
    "Также, для корректности исследования, были удалены аномальные показатели (чрезвычайно низкие/высокие). В итоге, исследование велось на основе 23 337 объявлений о продажи жилья (удалили около 1.5%). Благодаря этому, изучаемые объявления типичны по своим показателям с большинством объявлений, и сокращение числа единиц совокупности только повысило точность анализа.\n",
    "\n",
    "-----------------\n",
    "\n",
    "\n",
    "На основе 20 204 объявлений были сделаны выводы:\n",
    "\n",
    "1. В среднем, объявление держится 180 дней;\n",
    "2. Чаще всего объявление выставлено около 95 дней\n",
    "3. Быстрыми можно считать продажи, которые заняли менее 45 дней\n",
    "4. Долгими можно считать продажи, которые ждали более 230 дней\n",
    "--------------\n",
    "\n",
    "На цену жилья влияют:\n",
    "\n",
    "- общая площадь жилья (коэф. Пирсона - 0.76)\n",
    "- жилая площадь (коэф. Пирсона - 0.67)\n",
    "- площадь кухни (коэф. Пирсона - 0.56)\n",
    "\n",
    "Особонно тесна связь этих показателей у жилья, которое стоит до 25 млн. руб.\n",
    "\n",
    "Больше всего, конечно, на цену жилья влияет его общая площадь\n",
    "\n",
    "\n",
    "---------------\n",
    "\n",
    "По изучаемой выборке, Санкт-Петербург - город, с самой большой стоимостью квадратного метра. В то время, как г. Выборг - с самой низкой. \n",
    "\n",
    "В среднем, цена жилья тем меньше, чем дальше оно от центра города. Но, все таки, отдаленность недвижимости - не самый сильный фактор, влияющий на ее цену, по крайней мере, в Санкт-Петертурге."
   ]
  }
 ],
 "metadata": {
  "ExecuteTimeLog": [
   {
    "duration": 590,
    "start_time": "2024-07-18T08:26:10.448Z"
   },
   {
    "duration": 152,
    "start_time": "2024-07-18T08:26:24.507Z"
   },
   {
    "duration": 66,
    "start_time": "2024-07-18T08:26:51.638Z"
   },
   {
    "duration": 142,
    "start_time": "2024-07-18T08:28:05.692Z"
   },
   {
    "duration": 127,
    "start_time": "2024-07-18T08:28:13.377Z"
   },
   {
    "duration": 120,
    "start_time": "2024-07-18T08:28:20.652Z"
   },
   {
    "duration": 11,
    "start_time": "2024-07-18T08:29:00.382Z"
   },
   {
    "duration": 8,
    "start_time": "2024-07-18T08:29:26.474Z"
   },
   {
    "duration": 17,
    "start_time": "2024-07-18T08:29:37.763Z"
   },
   {
    "duration": 13,
    "start_time": "2024-07-18T08:29:49.788Z"
   },
   {
    "duration": 2560,
    "start_time": "2024-07-18T08:30:39.320Z"
   },
   {
    "duration": 149,
    "start_time": "2024-07-18T08:32:21.650Z"
   },
   {
    "duration": 163,
    "start_time": "2024-07-18T08:32:43.545Z"
   },
   {
    "duration": 262,
    "start_time": "2024-07-18T08:32:46.909Z"
   },
   {
    "duration": 145,
    "start_time": "2024-07-18T08:32:54.886Z"
   },
   {
    "duration": 232,
    "start_time": "2024-07-18T08:33:16.282Z"
   },
   {
    "duration": 147,
    "start_time": "2024-07-18T08:33:24.187Z"
   },
   {
    "duration": 135,
    "start_time": "2024-07-18T08:33:32.467Z"
   },
   {
    "duration": 143,
    "start_time": "2024-07-18T08:33:35.870Z"
   },
   {
    "duration": 157,
    "start_time": "2024-07-18T08:33:41.266Z"
   },
   {
    "duration": 9,
    "start_time": "2024-07-18T08:34:10.331Z"
   },
   {
    "duration": 12,
    "start_time": "2024-07-18T08:34:45.225Z"
   },
   {
    "duration": 8,
    "start_time": "2024-07-18T09:04:15.503Z"
   },
   {
    "duration": 59,
    "start_time": "2024-07-18T09:05:30.156Z"
   },
   {
    "duration": 67,
    "start_time": "2024-07-18T09:06:14.233Z"
   },
   {
    "duration": 59,
    "start_time": "2024-07-18T09:06:23.060Z"
   },
   {
    "duration": 129,
    "start_time": "2024-07-18T09:06:26.354Z"
   },
   {
    "duration": 2235,
    "start_time": "2024-07-18T09:06:26.485Z"
   },
   {
    "duration": 12,
    "start_time": "2024-07-18T09:06:28.721Z"
   },
   {
    "duration": 60,
    "start_time": "2024-07-18T09:06:28.734Z"
   },
   {
    "duration": 62,
    "start_time": "2024-07-18T09:06:30.572Z"
   },
   {
    "duration": 61,
    "start_time": "2024-07-18T09:06:50.460Z"
   },
   {
    "duration": 94,
    "start_time": "2024-07-18T09:06:55.577Z"
   },
   {
    "duration": 80,
    "start_time": "2024-07-18T09:08:07.416Z"
   },
   {
    "duration": 1028,
    "start_time": "2024-07-18T09:08:56.944Z"
   },
   {
    "duration": 11,
    "start_time": "2024-07-18T09:09:11.824Z"
   },
   {
    "duration": 14,
    "start_time": "2024-07-18T09:09:25.229Z"
   },
   {
    "duration": 8,
    "start_time": "2024-07-18T09:09:58.922Z"
   },
   {
    "duration": 8,
    "start_time": "2024-07-18T09:10:20.887Z"
   },
   {
    "duration": 6,
    "start_time": "2024-07-18T09:11:39.028Z"
   },
   {
    "duration": 7,
    "start_time": "2024-07-18T09:11:48.609Z"
   },
   {
    "duration": 5,
    "start_time": "2024-07-18T09:17:02.877Z"
   },
   {
    "duration": 5,
    "start_time": "2024-07-18T09:17:43.636Z"
   },
   {
    "duration": 6,
    "start_time": "2024-07-18T09:18:05.879Z"
   },
   {
    "duration": 5,
    "start_time": "2024-07-18T09:18:29.106Z"
   },
   {
    "duration": 6,
    "start_time": "2024-07-18T09:18:36.695Z"
   },
   {
    "duration": 6,
    "start_time": "2024-07-18T09:18:43.565Z"
   },
   {
    "duration": 123,
    "start_time": "2024-07-18T09:18:48.772Z"
   },
   {
    "duration": 2168,
    "start_time": "2024-07-18T09:18:48.896Z"
   },
   {
    "duration": 18,
    "start_time": "2024-07-18T09:18:51.066Z"
   },
   {
    "duration": 9,
    "start_time": "2024-07-18T09:18:54.806Z"
   },
   {
    "duration": 6,
    "start_time": "2024-07-18T09:18:55.373Z"
   },
   {
    "duration": 12,
    "start_time": "2024-07-18T09:19:27.799Z"
   },
   {
    "duration": 8,
    "start_time": "2024-07-18T09:19:53.035Z"
   },
   {
    "duration": 6,
    "start_time": "2024-07-18T09:20:05.526Z"
   },
   {
    "duration": 5,
    "start_time": "2024-07-18T09:22:09.466Z"
   },
   {
    "duration": 12,
    "start_time": "2024-07-18T09:22:27.416Z"
   },
   {
    "duration": 145,
    "start_time": "2024-07-18T09:22:44.260Z"
   },
   {
    "duration": 2111,
    "start_time": "2024-07-18T09:22:44.407Z"
   },
   {
    "duration": 9,
    "start_time": "2024-07-18T09:22:56.215Z"
   },
   {
    "duration": 11,
    "start_time": "2024-07-18T09:23:01.227Z"
   },
   {
    "duration": 122,
    "start_time": "2024-07-18T09:23:32.933Z"
   },
   {
    "duration": 2249,
    "start_time": "2024-07-18T09:23:33.057Z"
   },
   {
    "duration": 9,
    "start_time": "2024-07-18T09:23:38.921Z"
   },
   {
    "duration": 11,
    "start_time": "2024-07-18T09:23:43.561Z"
   },
   {
    "duration": 8,
    "start_time": "2024-07-18T09:23:48.746Z"
   },
   {
    "duration": 7,
    "start_time": "2024-07-18T09:23:49.359Z"
   },
   {
    "duration": 5,
    "start_time": "2024-07-18T09:23:49.945Z"
   },
   {
    "duration": 11,
    "start_time": "2024-07-18T09:23:51.048Z"
   },
   {
    "duration": 122,
    "start_time": "2024-07-18T09:24:07.022Z"
   },
   {
    "duration": 2229,
    "start_time": "2024-07-18T09:24:07.146Z"
   },
   {
    "duration": 15,
    "start_time": "2024-07-18T09:24:12.234Z"
   },
   {
    "duration": 8,
    "start_time": "2024-07-18T09:24:14.725Z"
   },
   {
    "duration": 7,
    "start_time": "2024-07-18T09:24:15.235Z"
   },
   {
    "duration": 5,
    "start_time": "2024-07-18T09:24:15.730Z"
   },
   {
    "duration": 11,
    "start_time": "2024-07-18T09:24:16.527Z"
   },
   {
    "duration": 14,
    "start_time": "2024-07-18T09:24:35.995Z"
   },
   {
    "duration": 12,
    "start_time": "2024-07-18T09:25:23.948Z"
   },
   {
    "duration": 16,
    "start_time": "2024-07-18T09:27:04.983Z"
   },
   {
    "duration": 18,
    "start_time": "2024-07-18T09:34:50.105Z"
   },
   {
    "duration": 141,
    "start_time": "2024-07-18T09:38:09.696Z"
   },
   {
    "duration": 185,
    "start_time": "2024-07-18T09:38:24.705Z"
   },
   {
    "duration": 136,
    "start_time": "2024-07-18T09:38:31.972Z"
   },
   {
    "duration": 10,
    "start_time": "2024-07-18T09:39:02.803Z"
   },
   {
    "duration": 535,
    "start_time": "2024-07-18T09:39:22.949Z"
   },
   {
    "duration": 20,
    "start_time": "2024-07-18T09:39:49.923Z"
   },
   {
    "duration": 25,
    "start_time": "2024-07-18T09:42:14.124Z"
   },
   {
    "duration": 134,
    "start_time": "2024-07-18T09:42:29.219Z"
   },
   {
    "duration": 2289,
    "start_time": "2024-07-18T09:42:29.355Z"
   },
   {
    "duration": 12,
    "start_time": "2024-07-18T09:42:31.646Z"
   },
   {
    "duration": 68,
    "start_time": "2024-07-18T09:42:31.660Z"
   },
   {
    "duration": 61,
    "start_time": "2024-07-18T09:42:31.730Z"
   },
   {
    "duration": 25,
    "start_time": "2024-07-18T09:42:31.795Z"
   },
   {
    "duration": 18,
    "start_time": "2024-07-18T09:42:31.822Z"
   },
   {
    "duration": 11,
    "start_time": "2024-07-18T09:42:35.436Z"
   },
   {
    "duration": 15,
    "start_time": "2024-07-18T09:42:36.409Z"
   },
   {
    "duration": 17,
    "start_time": "2024-07-18T09:42:39.792Z"
   },
   {
    "duration": 20,
    "start_time": "2024-07-18T09:42:58.633Z"
   },
   {
    "duration": 35,
    "start_time": "2024-07-18T09:43:19.222Z"
   },
   {
    "duration": 11,
    "start_time": "2024-07-18T09:53:10.978Z"
   },
   {
    "duration": 38,
    "start_time": "2024-07-18T09:53:23.039Z"
   },
   {
    "duration": 19,
    "start_time": "2024-07-18T09:57:17.760Z"
   },
   {
    "duration": 574,
    "start_time": "2024-07-18T13:49:55.387Z"
   },
   {
    "duration": 2338,
    "start_time": "2024-07-18T13:49:57.056Z"
   },
   {
    "duration": 11,
    "start_time": "2024-07-18T13:50:08.086Z"
   },
   {
    "duration": 11,
    "start_time": "2024-07-18T14:13:01.052Z"
   },
   {
    "duration": 16,
    "start_time": "2024-07-18T14:13:23.732Z"
   },
   {
    "duration": 12,
    "start_time": "2024-07-18T14:13:37.985Z"
   },
   {
    "duration": 4,
    "start_time": "2024-07-18T14:13:48.151Z"
   },
   {
    "duration": 14,
    "start_time": "2024-07-18T14:17:56.179Z"
   },
   {
    "duration": 5,
    "start_time": "2024-07-18T14:18:53.726Z"
   },
   {
    "duration": 9,
    "start_time": "2024-07-18T14:19:06.611Z"
   },
   {
    "duration": 81,
    "start_time": "2024-07-18T14:19:35.218Z"
   },
   {
    "duration": 11,
    "start_time": "2024-07-18T14:20:22.261Z"
   },
   {
    "duration": 23,
    "start_time": "2024-07-18T14:20:52.981Z"
   },
   {
    "duration": 86,
    "start_time": "2024-07-18T14:23:40.763Z"
   },
   {
    "duration": 60,
    "start_time": "2024-07-18T14:23:50.007Z"
   },
   {
    "duration": 40,
    "start_time": "2024-07-18T14:24:10.726Z"
   },
   {
    "duration": 38,
    "start_time": "2024-07-18T14:24:53.425Z"
   },
   {
    "duration": 39,
    "start_time": "2024-07-18T14:25:11.128Z"
   },
   {
    "duration": 30,
    "start_time": "2024-07-18T14:25:19.856Z"
   },
   {
    "duration": 30,
    "start_time": "2024-07-18T14:25:30.581Z"
   },
   {
    "duration": 30,
    "start_time": "2024-07-18T14:25:45.355Z"
   },
   {
    "duration": 31,
    "start_time": "2024-07-18T14:25:55.868Z"
   },
   {
    "duration": 12,
    "start_time": "2024-07-18T14:26:53.194Z"
   },
   {
    "duration": 1910,
    "start_time": "2024-07-18T14:30:58.980Z"
   },
   {
    "duration": 1491,
    "start_time": "2024-07-18T14:32:03.963Z"
   },
   {
    "duration": 1415,
    "start_time": "2024-07-18T14:39:07.787Z"
   },
   {
    "duration": 33,
    "start_time": "2024-07-18T14:39:49.625Z"
   },
   {
    "duration": 1436,
    "start_time": "2024-07-18T14:40:06.939Z"
   },
   {
    "duration": 117,
    "start_time": "2024-07-18T14:43:21.919Z"
   },
   {
    "duration": 1949,
    "start_time": "2024-07-18T14:43:22.038Z"
   },
   {
    "duration": 10,
    "start_time": "2024-07-18T14:43:23.989Z"
   },
   {
    "duration": 26,
    "start_time": "2024-07-18T14:43:24.001Z"
   },
   {
    "duration": 11,
    "start_time": "2024-07-18T14:43:24.029Z"
   },
   {
    "duration": 10,
    "start_time": "2024-07-18T14:43:24.041Z"
   },
   {
    "duration": 32,
    "start_time": "2024-07-18T14:43:26.337Z"
   },
   {
    "duration": 1409,
    "start_time": "2024-07-18T14:43:28.658Z"
   },
   {
    "duration": 1398,
    "start_time": "2024-07-18T14:43:40.673Z"
   },
   {
    "duration": 15,
    "start_time": "2024-07-18T14:44:56.776Z"
   },
   {
    "duration": 42,
    "start_time": "2024-07-18T14:54:08.390Z"
   },
   {
    "duration": 12,
    "start_time": "2024-07-18T14:54:35.439Z"
   },
   {
    "duration": 35,
    "start_time": "2024-07-18T14:54:36.112Z"
   },
   {
    "duration": 60,
    "start_time": "2024-07-18T14:54:42.064Z"
   },
   {
    "duration": 1496,
    "start_time": "2024-07-18T14:56:33.246Z"
   },
   {
    "duration": 1414,
    "start_time": "2024-07-18T14:59:19.015Z"
   },
   {
    "duration": 13,
    "start_time": "2024-07-18T14:59:35.126Z"
   },
   {
    "duration": 61,
    "start_time": "2024-07-18T15:00:07.257Z"
   },
   {
    "duration": 72,
    "start_time": "2024-07-18T15:00:17.444Z"
   },
   {
    "duration": 1394,
    "start_time": "2024-07-18T15:00:47.854Z"
   },
   {
    "duration": 31,
    "start_time": "2024-07-18T15:02:53.779Z"
   },
   {
    "duration": 37,
    "start_time": "2024-07-18T15:03:01.721Z"
   },
   {
    "duration": 114,
    "start_time": "2024-07-18T15:03:11.926Z"
   },
   {
    "duration": 1948,
    "start_time": "2024-07-18T15:03:12.042Z"
   },
   {
    "duration": 12,
    "start_time": "2024-07-18T15:03:13.991Z"
   },
   {
    "duration": 16,
    "start_time": "2024-07-18T15:03:14.005Z"
   },
   {
    "duration": 10,
    "start_time": "2024-07-18T15:03:14.039Z"
   },
   {
    "duration": 4,
    "start_time": "2024-07-18T15:03:14.050Z"
   },
   {
    "duration": 34,
    "start_time": "2024-07-18T15:03:16.496Z"
   },
   {
    "duration": 39,
    "start_time": "2024-07-18T15:03:30.226Z"
   },
   {
    "duration": 36,
    "start_time": "2024-07-18T15:03:52.260Z"
   },
   {
    "duration": 35,
    "start_time": "2024-07-18T15:04:58.862Z"
   },
   {
    "duration": 32,
    "start_time": "2024-07-18T15:05:12.040Z"
   },
   {
    "duration": 1399,
    "start_time": "2024-07-18T16:32:24.822Z"
   },
   {
    "duration": 1450,
    "start_time": "2024-07-18T16:32:37.441Z"
   },
   {
    "duration": 113,
    "start_time": "2024-07-18T16:32:44.085Z"
   },
   {
    "duration": 1771,
    "start_time": "2024-07-18T16:32:44.200Z"
   },
   {
    "duration": 9,
    "start_time": "2024-07-18T16:32:45.972Z"
   },
   {
    "duration": 9,
    "start_time": "2024-07-18T16:32:45.983Z"
   },
   {
    "duration": 19,
    "start_time": "2024-07-18T16:32:45.993Z"
   },
   {
    "duration": 112,
    "start_time": "2024-07-18T16:32:46.014Z"
   },
   {
    "duration": 29,
    "start_time": "2024-07-18T16:32:46.127Z"
   },
   {
    "duration": 1493,
    "start_time": "2024-07-18T16:32:48.250Z"
   },
   {
    "duration": 1455,
    "start_time": "2024-07-18T16:32:52.894Z"
   },
   {
    "duration": 1409,
    "start_time": "2024-07-18T16:32:56.248Z"
   },
   {
    "duration": 1434,
    "start_time": "2024-07-18T16:35:30.370Z"
   },
   {
    "duration": 2811,
    "start_time": "2024-07-18T16:36:09.692Z"
   },
   {
    "duration": 14,
    "start_time": "2024-07-18T16:36:24.553Z"
   },
   {
    "duration": 2802,
    "start_time": "2024-07-18T16:37:13.557Z"
   },
   {
    "duration": 5665,
    "start_time": "2024-07-18T16:37:34.400Z"
   },
   {
    "duration": 9,
    "start_time": "2024-07-18T16:39:57.351Z"
   },
   {
    "duration": 8598,
    "start_time": "2024-07-18T16:43:14.445Z"
   },
   {
    "duration": 9,
    "start_time": "2024-07-18T16:43:30.306Z"
   },
   {
    "duration": 6,
    "start_time": "2024-07-18T16:44:01.210Z"
   },
   {
    "duration": 11514,
    "start_time": "2024-07-18T16:48:37.531Z"
   },
   {
    "duration": 10,
    "start_time": "2024-07-18T16:49:00.202Z"
   },
   {
    "duration": 118,
    "start_time": "2024-07-18T16:54:09.381Z"
   },
   {
    "duration": 1791,
    "start_time": "2024-07-18T16:54:09.501Z"
   },
   {
    "duration": 12,
    "start_time": "2024-07-18T16:54:11.293Z"
   },
   {
    "duration": 7,
    "start_time": "2024-07-18T16:54:11.307Z"
   },
   {
    "duration": 26,
    "start_time": "2024-07-18T16:54:11.315Z"
   },
   {
    "duration": 4,
    "start_time": "2024-07-18T16:54:11.342Z"
   },
   {
    "duration": 29,
    "start_time": "2024-07-18T16:54:11.348Z"
   },
   {
    "duration": 8503,
    "start_time": "2024-07-18T16:54:13.307Z"
   },
   {
    "duration": 2838,
    "start_time": "2024-07-18T16:54:25.298Z"
   },
   {
    "duration": 108,
    "start_time": "2024-07-18T16:57:04.832Z"
   },
   {
    "duration": 1924,
    "start_time": "2024-07-18T16:57:04.942Z"
   },
   {
    "duration": 9,
    "start_time": "2024-07-18T16:57:06.868Z"
   },
   {
    "duration": 20,
    "start_time": "2024-07-18T16:57:06.879Z"
   },
   {
    "duration": 20,
    "start_time": "2024-07-18T16:57:06.901Z"
   },
   {
    "duration": 10,
    "start_time": "2024-07-18T16:57:06.922Z"
   },
   {
    "duration": 33,
    "start_time": "2024-07-18T16:57:06.933Z"
   },
   {
    "duration": 9791,
    "start_time": "2024-07-18T16:57:11.299Z"
   },
   {
    "duration": 1633,
    "start_time": "2024-07-18T16:57:25.516Z"
   },
   {
    "duration": 160,
    "start_time": "2024-07-18T16:57:39.238Z"
   },
   {
    "duration": 1660,
    "start_time": "2024-07-18T16:58:57.580Z"
   },
   {
    "duration": 11455,
    "start_time": "2024-07-18T17:00:00.774Z"
   },
   {
    "duration": 14,
    "start_time": "2024-07-18T17:00:12.230Z"
   },
   {
    "duration": 11428,
    "start_time": "2024-07-18T17:01:35.323Z"
   },
   {
    "duration": 11505,
    "start_time": "2024-07-18T17:01:51.802Z"
   },
   {
    "duration": 15,
    "start_time": "2024-07-18T17:02:07.387Z"
   },
   {
    "duration": 9,
    "start_time": "2024-07-18T17:02:10.867Z"
   },
   {
    "duration": 114,
    "start_time": "2024-07-18T17:02:25.360Z"
   },
   {
    "duration": 1785,
    "start_time": "2024-07-18T17:02:25.476Z"
   },
   {
    "duration": 10,
    "start_time": "2024-07-18T17:02:27.263Z"
   },
   {
    "duration": 7,
    "start_time": "2024-07-18T17:02:27.275Z"
   },
   {
    "duration": 10,
    "start_time": "2024-07-18T17:02:27.283Z"
   },
   {
    "duration": 32,
    "start_time": "2024-07-18T17:02:27.295Z"
   },
   {
    "duration": 32,
    "start_time": "2024-07-18T17:02:27.329Z"
   },
   {
    "duration": 12015,
    "start_time": "2024-07-18T17:02:41.838Z"
   },
   {
    "duration": 10,
    "start_time": "2024-07-18T17:02:53.855Z"
   },
   {
    "duration": 3,
    "start_time": "2024-07-18T17:05:03.737Z"
   },
   {
    "duration": 113,
    "start_time": "2024-07-18T17:05:54.921Z"
   },
   {
    "duration": 1728,
    "start_time": "2024-07-18T17:05:55.036Z"
   },
   {
    "duration": 9,
    "start_time": "2024-07-18T17:05:56.766Z"
   },
   {
    "duration": 20,
    "start_time": "2024-07-18T17:05:56.776Z"
   },
   {
    "duration": 7,
    "start_time": "2024-07-18T17:05:56.798Z"
   },
   {
    "duration": 11,
    "start_time": "2024-07-18T17:05:56.806Z"
   },
   {
    "duration": 40,
    "start_time": "2024-07-18T17:05:56.819Z"
   },
   {
    "duration": 3,
    "start_time": "2024-07-18T17:05:59.188Z"
   },
   {
    "duration": 1496,
    "start_time": "2024-07-18T17:06:55.499Z"
   },
   {
    "duration": 10,
    "start_time": "2024-07-18T17:07:11.108Z"
   },
   {
    "duration": 11778,
    "start_time": "2024-07-18T17:08:38.647Z"
   },
   {
    "duration": 9,
    "start_time": "2024-07-18T17:08:56.973Z"
   },
   {
    "duration": 14,
    "start_time": "2024-07-18T17:09:31.418Z"
   },
   {
    "duration": 11,
    "start_time": "2024-07-18T17:11:41.600Z"
   },
   {
    "duration": 15,
    "start_time": "2024-07-18T17:11:49.573Z"
   },
   {
    "duration": 24,
    "start_time": "2024-07-18T17:12:27.542Z"
   },
   {
    "duration": 21,
    "start_time": "2024-07-18T17:12:53.804Z"
   },
   {
    "duration": 26,
    "start_time": "2024-07-18T17:18:14.831Z"
   },
   {
    "duration": 73,
    "start_time": "2024-07-18T17:27:25.778Z"
   },
   {
    "duration": 87,
    "start_time": "2024-07-18T17:28:14.436Z"
   },
   {
    "duration": 7,
    "start_time": "2024-07-18T17:28:16.889Z"
   },
   {
    "duration": 87,
    "start_time": "2024-07-18T17:29:23.946Z"
   },
   {
    "duration": 7,
    "start_time": "2024-07-18T17:29:26.198Z"
   },
   {
    "duration": 3,
    "start_time": "2024-07-18T17:29:29.224Z"
   },
   {
    "duration": 11087,
    "start_time": "2024-07-18T17:29:30.353Z"
   },
   {
    "duration": 9,
    "start_time": "2024-07-18T17:29:41.443Z"
   },
   {
    "duration": 6,
    "start_time": "2024-07-18T17:29:50.114Z"
   },
   {
    "duration": 17,
    "start_time": "2024-07-18T17:33:00.013Z"
   },
   {
    "duration": 3889,
    "start_time": "2024-07-18T17:35:47.913Z"
   },
   {
    "duration": 9,
    "start_time": "2024-07-18T17:35:58.396Z"
   },
   {
    "duration": 3988,
    "start_time": "2024-07-18T17:36:14.991Z"
   },
   {
    "duration": 9,
    "start_time": "2024-07-18T17:36:24.476Z"
   },
   {
    "duration": 7829,
    "start_time": "2024-07-18T17:37:03.177Z"
   },
   {
    "duration": 10,
    "start_time": "2024-07-18T17:37:22.045Z"
   },
   {
    "duration": 7627,
    "start_time": "2024-07-18T17:37:48.474Z"
   },
   {
    "duration": 9,
    "start_time": "2024-07-18T17:37:59.909Z"
   },
   {
    "duration": 113,
    "start_time": "2024-07-18T17:38:16.661Z"
   },
   {
    "duration": 2130,
    "start_time": "2024-07-18T17:38:16.776Z"
   },
   {
    "duration": 11,
    "start_time": "2024-07-18T17:38:18.907Z"
   },
   {
    "duration": 85,
    "start_time": "2024-07-18T17:38:18.920Z"
   },
   {
    "duration": 81,
    "start_time": "2024-07-18T17:38:19.006Z"
   },
   {
    "duration": 46,
    "start_time": "2024-07-18T17:38:19.089Z"
   },
   {
    "duration": 108,
    "start_time": "2024-07-18T17:38:19.137Z"
   },
   {
    "duration": 10,
    "start_time": "2024-07-18T17:38:19.247Z"
   },
   {
    "duration": 83,
    "start_time": "2024-07-18T17:38:19.259Z"
   },
   {
    "duration": 11348,
    "start_time": "2024-07-18T17:38:19.344Z"
   },
   {
    "duration": 7888,
    "start_time": "2024-07-18T17:38:32.932Z"
   },
   {
    "duration": 17,
    "start_time": "2024-07-18T17:38:40.822Z"
   },
   {
    "duration": 760,
    "start_time": "2024-07-19T05:09:05.388Z"
   },
   {
    "duration": 116,
    "start_time": "2024-07-19T05:09:30.198Z"
   },
   {
    "duration": 2119,
    "start_time": "2024-07-19T05:09:30.315Z"
   },
   {
    "duration": 11,
    "start_time": "2024-07-19T05:09:32.435Z"
   },
   {
    "duration": 38,
    "start_time": "2024-07-19T05:09:32.447Z"
   },
   {
    "duration": 42,
    "start_time": "2024-07-19T05:09:32.487Z"
   },
   {
    "duration": 17,
    "start_time": "2024-07-19T05:09:32.530Z"
   },
   {
    "duration": 119,
    "start_time": "2024-07-19T05:09:32.549Z"
   },
   {
    "duration": 7,
    "start_time": "2024-07-19T05:09:32.670Z"
   },
   {
    "duration": 22,
    "start_time": "2024-07-19T05:09:32.682Z"
   },
   {
    "duration": 10399,
    "start_time": "2024-07-19T05:09:32.705Z"
   },
   {
    "duration": 7106,
    "start_time": "2024-07-19T05:09:43.105Z"
   },
   {
    "duration": 11,
    "start_time": "2024-07-19T05:09:50.213Z"
   },
   {
    "duration": 7,
    "start_time": "2024-07-19T05:09:50.226Z"
   },
   {
    "duration": 18,
    "start_time": "2024-07-19T05:09:50.236Z"
   },
   {
    "duration": 38,
    "start_time": "2024-07-19T05:09:50.256Z"
   },
   {
    "duration": 13,
    "start_time": "2024-07-19T05:09:50.296Z"
   },
   {
    "duration": 4,
    "start_time": "2024-07-19T05:13:23.126Z"
   },
   {
    "duration": 23,
    "start_time": "2024-07-19T05:13:30.400Z"
   },
   {
    "duration": 24,
    "start_time": "2024-07-19T05:19:06.881Z"
   },
   {
    "duration": 23,
    "start_time": "2024-07-19T05:19:30.617Z"
   },
   {
    "duration": 23,
    "start_time": "2024-07-19T05:19:55.103Z"
   },
   {
    "duration": 6,
    "start_time": "2024-07-19T05:21:19.853Z"
   },
   {
    "duration": 24,
    "start_time": "2024-07-19T05:21:27.303Z"
   },
   {
    "duration": 25,
    "start_time": "2024-07-19T05:22:35.937Z"
   },
   {
    "duration": 5,
    "start_time": "2024-07-19T05:23:06.565Z"
   },
   {
    "duration": 23,
    "start_time": "2024-07-19T05:23:10.914Z"
   },
   {
    "duration": 6,
    "start_time": "2024-07-19T05:24:04.365Z"
   },
   {
    "duration": 22,
    "start_time": "2024-07-19T05:24:10.384Z"
   },
   {
    "duration": 29,
    "start_time": "2024-07-19T05:24:39.392Z"
   },
   {
    "duration": 68,
    "start_time": "2024-07-19T05:26:59.838Z"
   },
   {
    "duration": 3,
    "start_time": "2024-07-19T05:29:47.250Z"
   },
   {
    "duration": 912,
    "start_time": "2024-07-19T05:30:31.727Z"
   },
   {
    "duration": 886,
    "start_time": "2024-07-19T05:31:18.844Z"
   },
   {
    "duration": 18,
    "start_time": "2024-07-19T05:32:54.034Z"
   },
   {
    "duration": 1175,
    "start_time": "2024-07-19T05:39:29.690Z"
   },
   {
    "duration": 245,
    "start_time": "2024-07-19T05:40:08.356Z"
   },
   {
    "duration": 9,
    "start_time": "2024-07-19T05:40:29.593Z"
   },
   {
    "duration": 66,
    "start_time": "2024-07-19T05:40:43.554Z"
   },
   {
    "duration": 68,
    "start_time": "2024-07-19T05:40:47.678Z"
   },
   {
    "duration": 7,
    "start_time": "2024-07-19T05:41:02.587Z"
   },
   {
    "duration": 95,
    "start_time": "2024-07-19T05:42:29.977Z"
   },
   {
    "duration": 172,
    "start_time": "2024-07-19T05:43:03.094Z"
   },
   {
    "duration": 28,
    "start_time": "2024-07-19T05:43:22.178Z"
   },
   {
    "duration": 3,
    "start_time": "2024-07-19T05:46:15.903Z"
   },
   {
    "duration": 10574,
    "start_time": "2024-07-19T05:46:18.852Z"
   },
   {
    "duration": 119,
    "start_time": "2024-07-19T05:46:32.352Z"
   },
   {
    "duration": 1794,
    "start_time": "2024-07-19T05:46:32.473Z"
   },
   {
    "duration": 14,
    "start_time": "2024-07-19T05:46:34.269Z"
   },
   {
    "duration": 14,
    "start_time": "2024-07-19T05:46:34.285Z"
   },
   {
    "duration": 14,
    "start_time": "2024-07-19T05:46:34.300Z"
   },
   {
    "duration": 4,
    "start_time": "2024-07-19T05:46:34.315Z"
   },
   {
    "duration": 96,
    "start_time": "2024-07-19T05:46:34.320Z"
   },
   {
    "duration": 8,
    "start_time": "2024-07-19T05:46:34.418Z"
   },
   {
    "duration": 3,
    "start_time": "2024-07-19T05:46:36.262Z"
   },
   {
    "duration": 11254,
    "start_time": "2024-07-19T05:46:38.862Z"
   },
   {
    "duration": 3,
    "start_time": "2024-07-19T05:47:05.749Z"
   },
   {
    "duration": 10795,
    "start_time": "2024-07-19T05:47:09.498Z"
   },
   {
    "duration": 4,
    "start_time": "2024-07-19T05:47:37.119Z"
   },
   {
    "duration": 10845,
    "start_time": "2024-07-19T05:47:42.534Z"
   },
   {
    "duration": 8,
    "start_time": "2024-07-19T05:47:55.347Z"
   },
   {
    "duration": 6,
    "start_time": "2024-07-19T05:47:57.398Z"
   },
   {
    "duration": 13,
    "start_time": "2024-07-19T05:47:59.344Z"
   },
   {
    "duration": 13,
    "start_time": "2024-07-19T05:48:01.712Z"
   },
   {
    "duration": 13,
    "start_time": "2024-07-19T05:48:02.206Z"
   },
   {
    "duration": 25,
    "start_time": "2024-07-19T05:48:05.864Z"
   },
   {
    "duration": 30,
    "start_time": "2024-07-19T05:48:07.692Z"
   },
   {
    "duration": 95,
    "start_time": "2024-07-19T05:48:21.669Z"
   },
   {
    "duration": 309,
    "start_time": "2024-07-19T05:49:47.258Z"
   },
   {
    "duration": 316,
    "start_time": "2024-07-19T05:49:54.906Z"
   },
   {
    "duration": 24,
    "start_time": "2024-07-19T05:52:24.759Z"
   },
   {
    "duration": 13,
    "start_time": "2024-07-19T05:52:44.434Z"
   },
   {
    "duration": 24,
    "start_time": "2024-07-19T05:52:59.098Z"
   },
   {
    "duration": 3,
    "start_time": "2024-07-19T05:59:57.124Z"
   },
   {
    "duration": 8,
    "start_time": "2024-07-19T06:00:53.454Z"
   },
   {
    "duration": 8,
    "start_time": "2024-07-19T06:00:55.824Z"
   },
   {
    "duration": 7,
    "start_time": "2024-07-19T06:01:08.841Z"
   },
   {
    "duration": 8,
    "start_time": "2024-07-19T06:01:23.149Z"
   },
   {
    "duration": 7,
    "start_time": "2024-07-19T06:01:28.748Z"
   },
   {
    "duration": 7,
    "start_time": "2024-07-19T06:01:34.012Z"
   },
   {
    "duration": 7,
    "start_time": "2024-07-19T06:01:49.123Z"
   },
   {
    "duration": 3,
    "start_time": "2024-07-19T06:01:52.231Z"
   },
   {
    "duration": 4,
    "start_time": "2024-07-19T06:02:07.811Z"
   },
   {
    "duration": 7,
    "start_time": "2024-07-19T06:03:56.885Z"
   },
   {
    "duration": 69,
    "start_time": "2024-07-19T06:04:15.591Z"
   },
   {
    "duration": 292,
    "start_time": "2024-07-19T06:04:34.822Z"
   },
   {
    "duration": 285,
    "start_time": "2024-07-19T06:04:58.166Z"
   },
   {
    "duration": 1858,
    "start_time": "2024-07-19T06:06:33.225Z"
   },
   {
    "duration": 1079,
    "start_time": "2024-07-19T06:06:44.849Z"
   },
   {
    "duration": 768,
    "start_time": "2024-07-19T06:06:58.334Z"
   },
   {
    "duration": 1162,
    "start_time": "2024-07-19T06:07:09.330Z"
   },
   {
    "duration": 1015,
    "start_time": "2024-07-19T06:07:16.651Z"
   },
   {
    "duration": 1125,
    "start_time": "2024-07-19T06:07:21.198Z"
   },
   {
    "duration": 1204,
    "start_time": "2024-07-19T06:07:47.612Z"
   },
   {
    "duration": 133,
    "start_time": "2024-07-19T06:08:20.884Z"
   },
   {
    "duration": 10,
    "start_time": "2024-07-19T06:08:39.103Z"
   },
   {
    "duration": 723,
    "start_time": "2024-07-19T06:08:42.866Z"
   },
   {
    "duration": 759,
    "start_time": "2024-07-19T06:08:56.768Z"
   },
   {
    "duration": 4,
    "start_time": "2024-07-19T06:09:31.039Z"
   },
   {
    "duration": 3,
    "start_time": "2024-07-19T06:10:12.510Z"
   },
   {
    "duration": 4,
    "start_time": "2024-07-19T06:10:22.993Z"
   },
   {
    "duration": 1193,
    "start_time": "2024-07-19T06:12:17.677Z"
   },
   {
    "duration": 1133,
    "start_time": "2024-07-19T06:24:45.894Z"
   },
   {
    "duration": 1139,
    "start_time": "2024-07-19T06:25:08.582Z"
   },
   {
    "duration": 1172,
    "start_time": "2024-07-19T06:26:11.382Z"
   },
   {
    "duration": 64,
    "start_time": "2024-07-19T06:26:33.650Z"
   },
   {
    "duration": 138,
    "start_time": "2024-07-19T06:27:25.890Z"
   },
   {
    "duration": 104,
    "start_time": "2024-07-19T06:27:39.026Z"
   },
   {
    "duration": 65,
    "start_time": "2024-07-19T06:28:26.685Z"
   },
   {
    "duration": 12,
    "start_time": "2024-07-19T06:28:45.160Z"
   },
   {
    "duration": 15,
    "start_time": "2024-07-19T06:29:11.878Z"
   },
   {
    "duration": 11,
    "start_time": "2024-07-19T06:29:35.787Z"
   },
   {
    "duration": 11,
    "start_time": "2024-07-19T06:29:51.272Z"
   },
   {
    "duration": 249,
    "start_time": "2024-07-19T06:29:53.914Z"
   },
   {
    "duration": 18,
    "start_time": "2024-07-19T06:30:10.225Z"
   },
   {
    "duration": 14,
    "start_time": "2024-07-19T06:30:26.349Z"
   },
   {
    "duration": 8,
    "start_time": "2024-07-19T06:33:14.773Z"
   },
   {
    "duration": 14,
    "start_time": "2024-07-19T06:33:21.784Z"
   },
   {
    "duration": 5,
    "start_time": "2024-07-19T06:34:20.050Z"
   },
   {
    "duration": 8,
    "start_time": "2024-07-19T06:34:46.113Z"
   },
   {
    "duration": 26,
    "start_time": "2024-07-19T06:34:58.243Z"
   },
   {
    "duration": 12,
    "start_time": "2024-07-19T06:35:39.086Z"
   },
   {
    "duration": 14,
    "start_time": "2024-07-19T06:36:16.958Z"
   },
   {
    "duration": 156,
    "start_time": "2024-07-19T06:36:50.680Z"
   },
   {
    "duration": 11,
    "start_time": "2024-07-19T06:37:26.198Z"
   },
   {
    "duration": 120,
    "start_time": "2024-07-19T06:37:38.346Z"
   },
   {
    "duration": 130,
    "start_time": "2024-07-19T06:38:01.635Z"
   },
   {
    "duration": 295,
    "start_time": "2024-07-19T06:38:37.430Z"
   },
   {
    "duration": 440,
    "start_time": "2024-07-19T06:39:10.774Z"
   },
   {
    "duration": 293,
    "start_time": "2024-07-19T06:39:41.021Z"
   },
   {
    "duration": 8,
    "start_time": "2024-07-19T06:50:10.090Z"
   },
   {
    "duration": 16,
    "start_time": "2024-07-19T06:50:52.502Z"
   },
   {
    "duration": 1037,
    "start_time": "2024-07-19T06:50:57.592Z"
   },
   {
    "duration": 24,
    "start_time": "2024-07-19T06:51:08.597Z"
   },
   {
    "duration": 9,
    "start_time": "2024-07-19T06:51:25.789Z"
   },
   {
    "duration": 4,
    "start_time": "2024-07-19T06:51:30.898Z"
   },
   {
    "duration": 135,
    "start_time": "2024-07-19T06:51:59.870Z"
   },
   {
    "duration": 1073,
    "start_time": "2024-07-19T06:52:28.755Z"
   },
   {
    "duration": 127,
    "start_time": "2024-07-19T06:52:53.817Z"
   },
   {
    "duration": 857,
    "start_time": "2024-07-19T06:53:05.511Z"
   },
   {
    "duration": 5,
    "start_time": "2024-07-19T06:54:31.736Z"
   },
   {
    "duration": 141,
    "start_time": "2024-07-19T06:54:46.662Z"
   },
   {
    "duration": 131,
    "start_time": "2024-07-19T06:55:17.943Z"
   },
   {
    "duration": 261,
    "start_time": "2024-07-19T06:55:38.232Z"
   },
   {
    "duration": 371,
    "start_time": "2024-07-19T06:56:05.698Z"
   },
   {
    "duration": 242,
    "start_time": "2024-07-19T06:56:13.934Z"
   },
   {
    "duration": 244,
    "start_time": "2024-07-19T06:56:23.321Z"
   },
   {
    "duration": 176,
    "start_time": "2024-07-19T06:56:27.135Z"
   },
   {
    "duration": 5,
    "start_time": "2024-07-19T06:57:13.535Z"
   },
   {
    "duration": 8,
    "start_time": "2024-07-19T06:57:31.306Z"
   },
   {
    "duration": 7,
    "start_time": "2024-07-19T06:57:47.495Z"
   },
   {
    "duration": 7,
    "start_time": "2024-07-19T06:58:08.830Z"
   },
   {
    "duration": 7,
    "start_time": "2024-07-19T06:58:21.132Z"
   },
   {
    "duration": 119,
    "start_time": "2024-07-19T06:58:32.976Z"
   },
   {
    "duration": 1907,
    "start_time": "2024-07-19T06:58:33.097Z"
   },
   {
    "duration": 12,
    "start_time": "2024-07-19T06:58:35.006Z"
   },
   {
    "duration": 8,
    "start_time": "2024-07-19T06:58:35.019Z"
   },
   {
    "duration": 13,
    "start_time": "2024-07-19T06:58:35.030Z"
   },
   {
    "duration": 5,
    "start_time": "2024-07-19T06:58:35.044Z"
   },
   {
    "duration": 117,
    "start_time": "2024-07-19T06:58:35.050Z"
   },
   {
    "duration": 26,
    "start_time": "2024-07-19T06:58:35.168Z"
   },
   {
    "duration": 4,
    "start_time": "2024-07-19T06:58:35.196Z"
   },
   {
    "duration": 10976,
    "start_time": "2024-07-19T06:58:35.201Z"
   },
   {
    "duration": 7548,
    "start_time": "2024-07-19T06:58:46.188Z"
   },
   {
    "duration": 8,
    "start_time": "2024-07-19T06:58:53.737Z"
   },
   {
    "duration": 5,
    "start_time": "2024-07-19T06:58:53.746Z"
   },
   {
    "duration": 31,
    "start_time": "2024-07-19T06:58:53.753Z"
   },
   {
    "duration": 18,
    "start_time": "2024-07-19T06:58:53.785Z"
   },
   {
    "duration": 13,
    "start_time": "2024-07-19T06:58:53.805Z"
   },
   {
    "duration": 34,
    "start_time": "2024-07-19T06:58:53.820Z"
   },
   {
    "duration": 49,
    "start_time": "2024-07-19T06:58:53.855Z"
   },
   {
    "duration": 340,
    "start_time": "2024-07-19T06:58:53.906Z"
   },
   {
    "duration": 21,
    "start_time": "2024-07-19T06:58:57.950Z"
   },
   {
    "duration": 6,
    "start_time": "2024-07-19T06:59:00.943Z"
   },
   {
    "duration": 997,
    "start_time": "2024-07-19T06:59:07.596Z"
   },
   {
    "duration": 7,
    "start_time": "2024-07-19T06:59:19.150Z"
   },
   {
    "duration": 7,
    "start_time": "2024-07-19T06:59:24.104Z"
   },
   {
    "duration": 7,
    "start_time": "2024-07-19T06:59:31.065Z"
   },
   {
    "duration": 7,
    "start_time": "2024-07-19T06:59:34.342Z"
   },
   {
    "duration": 23,
    "start_time": "2024-07-19T06:59:40.589Z"
   },
   {
    "duration": 8,
    "start_time": "2024-07-19T06:59:45.558Z"
   },
   {
    "duration": 4,
    "start_time": "2024-07-19T06:59:53.929Z"
   },
   {
    "duration": 4,
    "start_time": "2024-07-19T07:00:03.048Z"
   },
   {
    "duration": 5,
    "start_time": "2024-07-19T07:00:24.590Z"
   },
   {
    "duration": 4,
    "start_time": "2024-07-19T07:00:49.101Z"
   },
   {
    "duration": 563,
    "start_time": "2024-07-20T07:21:23.096Z"
   },
   {
    "duration": 2309,
    "start_time": "2024-07-20T07:21:23.661Z"
   },
   {
    "duration": 11,
    "start_time": "2024-07-20T07:21:25.972Z"
   },
   {
    "duration": 19,
    "start_time": "2024-07-20T07:21:25.985Z"
   },
   {
    "duration": 8,
    "start_time": "2024-07-20T07:21:26.006Z"
   },
   {
    "duration": 4,
    "start_time": "2024-07-20T07:21:26.015Z"
   },
   {
    "duration": 102,
    "start_time": "2024-07-20T07:21:26.021Z"
   },
   {
    "duration": 7,
    "start_time": "2024-07-20T07:21:26.125Z"
   },
   {
    "duration": 3,
    "start_time": "2024-07-20T07:21:26.134Z"
   },
   {
    "duration": 11236,
    "start_time": "2024-07-20T07:21:26.140Z"
   },
   {
    "duration": 7456,
    "start_time": "2024-07-20T07:21:37.377Z"
   },
   {
    "duration": 8,
    "start_time": "2024-07-20T07:21:44.835Z"
   },
   {
    "duration": 17,
    "start_time": "2024-07-20T07:21:44.844Z"
   },
   {
    "duration": 15,
    "start_time": "2024-07-20T07:21:44.862Z"
   },
   {
    "duration": 16,
    "start_time": "2024-07-20T07:21:44.878Z"
   },
   {
    "duration": 12,
    "start_time": "2024-07-20T07:21:44.895Z"
   },
   {
    "duration": 26,
    "start_time": "2024-07-20T07:21:44.909Z"
   },
   {
    "duration": 30,
    "start_time": "2024-07-20T07:21:44.961Z"
   },
   {
    "duration": 346,
    "start_time": "2024-07-20T07:21:44.993Z"
   },
   {
    "duration": 26,
    "start_time": "2024-07-20T07:21:45.341Z"
   },
   {
    "duration": 5,
    "start_time": "2024-07-20T07:21:45.369Z"
   },
   {
    "duration": 1141,
    "start_time": "2024-07-20T07:21:45.375Z"
   },
   {
    "duration": 151,
    "start_time": "2024-07-20T07:21:53.990Z"
   },
   {
    "duration": 291,
    "start_time": "2024-07-20T07:21:56.977Z"
   },
   {
    "duration": 131,
    "start_time": "2024-07-20T07:22:15.431Z"
   },
   {
    "duration": 346,
    "start_time": "2024-07-20T07:22:22.544Z"
   },
   {
    "duration": 1359,
    "start_time": "2024-07-20T07:22:38.301Z"
   },
   {
    "duration": 1281,
    "start_time": "2024-07-20T07:23:02.992Z"
   },
   {
    "duration": 1353,
    "start_time": "2024-07-20T07:23:23.898Z"
   },
   {
    "duration": 4,
    "start_time": "2024-07-20T07:38:23.521Z"
   },
   {
    "duration": 12,
    "start_time": "2024-07-20T07:38:25.627Z"
   },
   {
    "duration": 11,
    "start_time": "2024-07-20T07:38:30.455Z"
   },
   {
    "duration": 14,
    "start_time": "2024-07-20T07:39:03.929Z"
   },
   {
    "duration": 14,
    "start_time": "2024-07-20T07:39:35.711Z"
   },
   {
    "duration": 75,
    "start_time": "2024-07-20T07:40:22.922Z"
   },
   {
    "duration": 66,
    "start_time": "2024-07-20T07:40:30.590Z"
   },
   {
    "duration": 16,
    "start_time": "2024-07-20T07:41:10.186Z"
   },
   {
    "duration": 120,
    "start_time": "2024-07-20T07:41:51.392Z"
   },
   {
    "duration": 1911,
    "start_time": "2024-07-20T07:41:51.514Z"
   },
   {
    "duration": 11,
    "start_time": "2024-07-20T07:41:53.427Z"
   },
   {
    "duration": 26,
    "start_time": "2024-07-20T07:41:53.440Z"
   },
   {
    "duration": 9,
    "start_time": "2024-07-20T07:41:53.469Z"
   },
   {
    "duration": 4,
    "start_time": "2024-07-20T07:41:53.479Z"
   },
   {
    "duration": 96,
    "start_time": "2024-07-20T07:41:53.485Z"
   },
   {
    "duration": 7,
    "start_time": "2024-07-20T07:41:53.582Z"
   },
   {
    "duration": 11,
    "start_time": "2024-07-20T07:41:53.591Z"
   },
   {
    "duration": 11319,
    "start_time": "2024-07-20T07:41:53.603Z"
   },
   {
    "duration": 7527,
    "start_time": "2024-07-20T07:42:04.923Z"
   },
   {
    "duration": 17,
    "start_time": "2024-07-20T07:42:12.452Z"
   },
   {
    "duration": 24,
    "start_time": "2024-07-20T07:42:12.471Z"
   },
   {
    "duration": 32,
    "start_time": "2024-07-20T07:42:12.497Z"
   },
   {
    "duration": 39,
    "start_time": "2024-07-20T07:42:12.530Z"
   },
   {
    "duration": 17,
    "start_time": "2024-07-20T07:42:12.571Z"
   },
   {
    "duration": 40,
    "start_time": "2024-07-20T07:42:12.590Z"
   },
   {
    "duration": 34,
    "start_time": "2024-07-20T07:42:12.632Z"
   },
   {
    "duration": 444,
    "start_time": "2024-07-20T07:42:12.668Z"
   },
   {
    "duration": 23,
    "start_time": "2024-07-20T07:42:13.114Z"
   },
   {
    "duration": 5,
    "start_time": "2024-07-20T07:42:13.138Z"
   },
   {
    "duration": 1323,
    "start_time": "2024-07-20T07:42:13.161Z"
   },
   {
    "duration": 144,
    "start_time": "2024-07-20T07:42:14.486Z"
   },
   {
    "duration": 307,
    "start_time": "2024-07-20T07:42:14.632Z"
   },
   {
    "duration": 34,
    "start_time": "2024-07-20T07:43:29.567Z"
   },
   {
    "duration": 31,
    "start_time": "2024-07-20T07:45:11.854Z"
   },
   {
    "duration": 25,
    "start_time": "2024-07-20T07:46:58.792Z"
   },
   {
    "duration": 12,
    "start_time": "2024-07-20T07:47:37.696Z"
   },
   {
    "duration": 13,
    "start_time": "2024-07-20T07:48:02.654Z"
   },
   {
    "duration": 9,
    "start_time": "2024-07-20T07:48:28.512Z"
   },
   {
    "duration": 36,
    "start_time": "2024-07-20T07:49:09.623Z"
   },
   {
    "duration": 35,
    "start_time": "2024-07-20T07:49:28.299Z"
   },
   {
    "duration": 35,
    "start_time": "2024-07-20T07:49:38.022Z"
   },
   {
    "duration": 77,
    "start_time": "2024-07-20T07:50:31.670Z"
   },
   {
    "duration": 36,
    "start_time": "2024-07-20T07:50:34.936Z"
   },
   {
    "duration": 5,
    "start_time": "2024-07-20T07:53:09.505Z"
   },
   {
    "duration": 18,
    "start_time": "2024-07-20T07:53:22.178Z"
   },
   {
    "duration": 125,
    "start_time": "2024-07-20T07:53:44.538Z"
   },
   {
    "duration": 13,
    "start_time": "2024-07-20T07:54:06.793Z"
   },
   {
    "duration": 120,
    "start_time": "2024-07-20T07:54:32.850Z"
   },
   {
    "duration": 1980,
    "start_time": "2024-07-20T07:54:32.972Z"
   },
   {
    "duration": 12,
    "start_time": "2024-07-20T07:54:34.965Z"
   },
   {
    "duration": 12,
    "start_time": "2024-07-20T07:54:34.980Z"
   },
   {
    "duration": 29,
    "start_time": "2024-07-20T07:54:34.995Z"
   },
   {
    "duration": 24,
    "start_time": "2024-07-20T07:54:35.025Z"
   },
   {
    "duration": 86,
    "start_time": "2024-07-20T07:54:35.050Z"
   },
   {
    "duration": 7,
    "start_time": "2024-07-20T07:54:35.137Z"
   },
   {
    "duration": 5,
    "start_time": "2024-07-20T07:54:35.146Z"
   },
   {
    "duration": 11162,
    "start_time": "2024-07-20T07:54:35.152Z"
   },
   {
    "duration": 7591,
    "start_time": "2024-07-20T07:54:46.315Z"
   },
   {
    "duration": 9,
    "start_time": "2024-07-20T07:54:53.908Z"
   },
   {
    "duration": 6,
    "start_time": "2024-07-20T07:54:53.919Z"
   },
   {
    "duration": 41,
    "start_time": "2024-07-20T07:54:53.928Z"
   },
   {
    "duration": 15,
    "start_time": "2024-07-20T07:54:53.971Z"
   },
   {
    "duration": 15,
    "start_time": "2024-07-20T07:54:53.988Z"
   },
   {
    "duration": 27,
    "start_time": "2024-07-20T07:54:54.005Z"
   },
   {
    "duration": 65,
    "start_time": "2024-07-20T07:54:54.034Z"
   },
   {
    "duration": 356,
    "start_time": "2024-07-20T07:54:54.101Z"
   },
   {
    "duration": 23,
    "start_time": "2024-07-20T07:54:54.460Z"
   },
   {
    "duration": 19,
    "start_time": "2024-07-20T07:54:54.485Z"
   },
   {
    "duration": 1458,
    "start_time": "2024-07-20T07:54:54.505Z"
   },
   {
    "duration": 166,
    "start_time": "2024-07-20T07:54:55.965Z"
   },
   {
    "duration": 312,
    "start_time": "2024-07-20T07:54:56.132Z"
   },
   {
    "duration": 43,
    "start_time": "2024-07-20T07:54:56.445Z"
   },
   {
    "duration": 15,
    "start_time": "2024-07-20T07:55:12.076Z"
   },
   {
    "duration": 24,
    "start_time": "2024-07-20T07:55:29.085Z"
   },
   {
    "duration": 5,
    "start_time": "2024-07-20T07:56:01.799Z"
   },
   {
    "duration": 121,
    "start_time": "2024-07-20T07:56:23.809Z"
   },
   {
    "duration": 2005,
    "start_time": "2024-07-20T07:56:23.932Z"
   },
   {
    "duration": 22,
    "start_time": "2024-07-20T07:56:25.939Z"
   },
   {
    "duration": 8,
    "start_time": "2024-07-20T07:56:25.963Z"
   },
   {
    "duration": 9,
    "start_time": "2024-07-20T07:56:25.972Z"
   },
   {
    "duration": 4,
    "start_time": "2024-07-20T07:56:25.982Z"
   },
   {
    "duration": 101,
    "start_time": "2024-07-20T07:56:25.987Z"
   },
   {
    "duration": 8,
    "start_time": "2024-07-20T07:56:26.090Z"
   },
   {
    "duration": 4,
    "start_time": "2024-07-20T07:56:26.100Z"
   },
   {
    "duration": 11170,
    "start_time": "2024-07-20T07:56:26.107Z"
   },
   {
    "duration": 7526,
    "start_time": "2024-07-20T07:56:37.279Z"
   },
   {
    "duration": 8,
    "start_time": "2024-07-20T07:56:44.807Z"
   },
   {
    "duration": 31,
    "start_time": "2024-07-20T07:56:44.817Z"
   },
   {
    "duration": 14,
    "start_time": "2024-07-20T07:56:44.850Z"
   },
   {
    "duration": 13,
    "start_time": "2024-07-20T07:56:44.865Z"
   },
   {
    "duration": 13,
    "start_time": "2024-07-20T07:56:44.879Z"
   },
   {
    "duration": 26,
    "start_time": "2024-07-20T07:56:44.893Z"
   },
   {
    "duration": 58,
    "start_time": "2024-07-20T07:56:44.921Z"
   },
   {
    "duration": 325,
    "start_time": "2024-07-20T07:56:44.981Z"
   },
   {
    "duration": 24,
    "start_time": "2024-07-20T07:56:45.307Z"
   },
   {
    "duration": 6,
    "start_time": "2024-07-20T07:56:45.332Z"
   },
   {
    "duration": 1343,
    "start_time": "2024-07-20T07:56:45.339Z"
   },
   {
    "duration": 135,
    "start_time": "2024-07-20T07:56:46.684Z"
   },
   {
    "duration": 311,
    "start_time": "2024-07-20T07:56:46.820Z"
   },
   {
    "duration": 42,
    "start_time": "2024-07-20T07:56:47.132Z"
   },
   {
    "duration": 7,
    "start_time": "2024-07-20T07:57:05.699Z"
   },
   {
    "duration": 6,
    "start_time": "2024-07-20T07:57:18.965Z"
   },
   {
    "duration": 6,
    "start_time": "2024-07-20T07:58:02.304Z"
   },
   {
    "duration": 9,
    "start_time": "2024-07-20T07:58:36.659Z"
   },
   {
    "duration": 12,
    "start_time": "2024-07-20T07:58:58.230Z"
   },
   {
    "duration": 7,
    "start_time": "2024-07-20T07:59:06.998Z"
   },
   {
    "duration": 6,
    "start_time": "2024-07-20T07:59:18.830Z"
   },
   {
    "duration": 9,
    "start_time": "2024-07-20T08:01:22.268Z"
   },
   {
    "duration": 5,
    "start_time": "2024-07-20T08:01:30.920Z"
   },
   {
    "duration": 6,
    "start_time": "2024-07-20T08:01:33.502Z"
   },
   {
    "duration": 136,
    "start_time": "2024-07-20T08:02:16.885Z"
   },
   {
    "duration": 145,
    "start_time": "2024-07-20T08:02:35.896Z"
   },
   {
    "duration": 4,
    "start_time": "2024-07-20T08:02:48.207Z"
   },
   {
    "duration": 5,
    "start_time": "2024-07-20T08:04:12.017Z"
   },
   {
    "duration": 4,
    "start_time": "2024-07-20T08:04:25.667Z"
   },
   {
    "duration": 4397,
    "start_time": "2024-07-20T08:05:17.765Z"
   },
   {
    "duration": 4364,
    "start_time": "2024-07-20T08:05:31.620Z"
   },
   {
    "duration": 5650,
    "start_time": "2024-07-20T08:06:21.190Z"
   },
   {
    "duration": 5427,
    "start_time": "2024-07-20T08:07:10.555Z"
   },
   {
    "duration": 4,
    "start_time": "2024-07-20T08:07:33.290Z"
   },
   {
    "duration": 8,
    "start_time": "2024-07-20T08:08:15.484Z"
   },
   {
    "duration": 38,
    "start_time": "2024-07-20T08:08:21.366Z"
   },
   {
    "duration": 26,
    "start_time": "2024-07-20T08:09:08.977Z"
   },
   {
    "duration": 9,
    "start_time": "2024-07-20T08:09:51.764Z"
   },
   {
    "duration": 32,
    "start_time": "2024-07-20T08:10:13.567Z"
   },
   {
    "duration": 18,
    "start_time": "2024-07-20T08:15:42.820Z"
   },
   {
    "duration": 18,
    "start_time": "2024-07-20T08:16:16.811Z"
   },
   {
    "duration": 22,
    "start_time": "2024-07-20T08:16:50.476Z"
   },
   {
    "duration": 24,
    "start_time": "2024-07-20T08:18:10.940Z"
   },
   {
    "duration": 115,
    "start_time": "2024-07-20T08:18:37.822Z"
   },
   {
    "duration": 1754,
    "start_time": "2024-07-20T08:18:37.939Z"
   },
   {
    "duration": 12,
    "start_time": "2024-07-20T08:18:39.694Z"
   },
   {
    "duration": 9,
    "start_time": "2024-07-20T08:18:39.707Z"
   },
   {
    "duration": 7,
    "start_time": "2024-07-20T08:18:39.719Z"
   },
   {
    "duration": 37,
    "start_time": "2024-07-20T08:18:39.728Z"
   },
   {
    "duration": 116,
    "start_time": "2024-07-20T08:18:39.767Z"
   },
   {
    "duration": 11,
    "start_time": "2024-07-20T08:18:39.886Z"
   },
   {
    "duration": 6,
    "start_time": "2024-07-20T08:18:39.898Z"
   },
   {
    "duration": 11218,
    "start_time": "2024-07-20T08:18:39.905Z"
   },
   {
    "duration": 7539,
    "start_time": "2024-07-20T08:18:51.124Z"
   },
   {
    "duration": 9,
    "start_time": "2024-07-20T08:18:58.664Z"
   },
   {
    "duration": 40,
    "start_time": "2024-07-20T08:18:58.674Z"
   },
   {
    "duration": 50,
    "start_time": "2024-07-20T08:18:58.717Z"
   },
   {
    "duration": 66,
    "start_time": "2024-07-20T08:18:58.769Z"
   },
   {
    "duration": 56,
    "start_time": "2024-07-20T08:18:58.837Z"
   },
   {
    "duration": 48,
    "start_time": "2024-07-20T08:18:58.895Z"
   },
   {
    "duration": 67,
    "start_time": "2024-07-20T08:18:58.944Z"
   },
   {
    "duration": 327,
    "start_time": "2024-07-20T08:18:59.012Z"
   },
   {
    "duration": 30,
    "start_time": "2024-07-20T08:18:59.340Z"
   },
   {
    "duration": 8,
    "start_time": "2024-07-20T08:18:59.371Z"
   },
   {
    "duration": 1563,
    "start_time": "2024-07-20T08:18:59.380Z"
   },
   {
    "duration": 150,
    "start_time": "2024-07-20T08:19:00.945Z"
   },
   {
    "duration": 310,
    "start_time": "2024-07-20T08:19:01.097Z"
   },
   {
    "duration": 36,
    "start_time": "2024-07-20T08:19:01.409Z"
   },
   {
    "duration": 14,
    "start_time": "2024-07-20T08:19:01.447Z"
   },
   {
    "duration": 40,
    "start_time": "2024-07-20T08:19:01.463Z"
   },
   {
    "duration": 27,
    "start_time": "2024-07-20T08:19:01.505Z"
   },
   {
    "duration": 130,
    "start_time": "2024-07-20T08:19:01.534Z"
   },
   {
    "duration": 5,
    "start_time": "2024-07-20T08:19:01.665Z"
   },
   {
    "duration": 5636,
    "start_time": "2024-07-20T08:19:01.671Z"
   },
   {
    "duration": 4,
    "start_time": "2024-07-20T08:19:07.308Z"
   },
   {
    "duration": 53,
    "start_time": "2024-07-20T08:19:07.314Z"
   },
   {
    "duration": 27,
    "start_time": "2024-07-20T08:19:20.563Z"
   },
   {
    "duration": 25,
    "start_time": "2024-07-20T08:20:03.854Z"
   },
   {
    "duration": 25,
    "start_time": "2024-07-20T08:21:43.533Z"
   },
   {
    "duration": 23,
    "start_time": "2024-07-20T08:21:48.473Z"
   },
   {
    "duration": 1284,
    "start_time": "2024-07-20T08:22:49.991Z"
   },
   {
    "duration": 4,
    "start_time": "2024-07-20T08:23:38.414Z"
   },
   {
    "duration": 7,
    "start_time": "2024-07-20T08:23:59.383Z"
   },
   {
    "duration": 6,
    "start_time": "2024-07-20T08:24:16.469Z"
   },
   {
    "duration": 8,
    "start_time": "2024-07-20T08:25:38.024Z"
   },
   {
    "duration": 1226,
    "start_time": "2024-07-20T08:25:41.678Z"
   },
   {
    "duration": 6,
    "start_time": "2024-07-20T08:28:42.040Z"
   },
   {
    "duration": 2360,
    "start_time": "2024-07-20T08:30:32.937Z"
   },
   {
    "duration": 9,
    "start_time": "2024-07-20T08:31:10.145Z"
   },
   {
    "duration": 16,
    "start_time": "2024-07-20T08:31:14.533Z"
   },
   {
    "duration": 11,
    "start_time": "2024-07-20T08:33:18.955Z"
   },
   {
    "duration": 13,
    "start_time": "2024-07-20T08:35:45.458Z"
   },
   {
    "duration": 14,
    "start_time": "2024-07-20T08:35:47.471Z"
   },
   {
    "duration": 1531,
    "start_time": "2024-07-20T08:35:53.335Z"
   },
   {
    "duration": 28,
    "start_time": "2024-07-20T08:36:22.805Z"
   },
   {
    "duration": 1275,
    "start_time": "2024-07-20T08:36:27.741Z"
   },
   {
    "duration": 27,
    "start_time": "2024-07-20T08:37:30.082Z"
   },
   {
    "duration": 1250,
    "start_time": "2024-07-20T08:37:35.568Z"
   },
   {
    "duration": 1704,
    "start_time": "2024-07-20T08:39:43.407Z"
   },
   {
    "duration": 4160,
    "start_time": "2024-07-20T08:40:26.881Z"
   },
   {
    "duration": 1448,
    "start_time": "2024-07-20T08:44:11.004Z"
   },
   {
    "duration": 1683,
    "start_time": "2024-07-20T08:44:40.540Z"
   },
   {
    "duration": 1994,
    "start_time": "2024-07-20T08:45:13.862Z"
   },
   {
    "duration": 1732,
    "start_time": "2024-07-20T08:45:43.041Z"
   },
   {
    "duration": 111,
    "start_time": "2024-07-20T08:46:43.596Z"
   },
   {
    "duration": 2166,
    "start_time": "2024-07-20T08:46:43.709Z"
   },
   {
    "duration": 11,
    "start_time": "2024-07-20T08:46:45.876Z"
   },
   {
    "duration": 11,
    "start_time": "2024-07-20T08:46:45.889Z"
   },
   {
    "duration": 7,
    "start_time": "2024-07-20T08:46:45.901Z"
   },
   {
    "duration": 4,
    "start_time": "2024-07-20T08:46:45.910Z"
   },
   {
    "duration": 115,
    "start_time": "2024-07-20T08:46:45.915Z"
   },
   {
    "duration": 7,
    "start_time": "2024-07-20T08:46:46.031Z"
   },
   {
    "duration": 4,
    "start_time": "2024-07-20T08:46:46.039Z"
   },
   {
    "duration": 8470,
    "start_time": "2024-07-20T08:46:46.045Z"
   },
   {
    "duration": 7594,
    "start_time": "2024-07-20T08:46:54.516Z"
   },
   {
    "duration": 10,
    "start_time": "2024-07-20T08:47:02.111Z"
   },
   {
    "duration": 32,
    "start_time": "2024-07-20T08:47:02.122Z"
   },
   {
    "duration": 23,
    "start_time": "2024-07-20T08:47:02.155Z"
   },
   {
    "duration": 15,
    "start_time": "2024-07-20T08:47:02.180Z"
   },
   {
    "duration": 18,
    "start_time": "2024-07-20T08:47:02.196Z"
   },
   {
    "duration": 25,
    "start_time": "2024-07-20T08:47:02.216Z"
   },
   {
    "duration": 45,
    "start_time": "2024-07-20T08:47:02.242Z"
   },
   {
    "duration": 343,
    "start_time": "2024-07-20T08:47:02.288Z"
   },
   {
    "duration": 30,
    "start_time": "2024-07-20T08:47:02.633Z"
   },
   {
    "duration": 5,
    "start_time": "2024-07-20T08:47:02.665Z"
   },
   {
    "duration": 1746,
    "start_time": "2024-07-20T08:47:02.671Z"
   },
   {
    "duration": 34,
    "start_time": "2024-07-20T08:47:04.418Z"
   },
   {
    "duration": 2,
    "start_time": "2024-07-20T08:47:04.460Z"
   },
   {
    "duration": 6,
    "start_time": "2024-07-20T08:47:04.463Z"
   },
   {
    "duration": 4,
    "start_time": "2024-07-20T08:47:04.470Z"
   },
   {
    "duration": 130,
    "start_time": "2024-07-20T08:47:04.476Z"
   },
   {
    "duration": 5,
    "start_time": "2024-07-20T08:47:04.609Z"
   },
   {
    "duration": 5706,
    "start_time": "2024-07-20T08:47:04.616Z"
   },
   {
    "duration": 3,
    "start_time": "2024-07-20T08:47:10.324Z"
   },
   {
    "duration": 46,
    "start_time": "2024-07-20T08:47:10.328Z"
   },
   {
    "duration": 6,
    "start_time": "2024-07-20T08:47:10.376Z"
   },
   {
    "duration": 12,
    "start_time": "2024-07-20T08:47:10.383Z"
   },
   {
    "duration": 9,
    "start_time": "2024-07-20T08:47:10.396Z"
   },
   {
    "duration": 1367,
    "start_time": "2024-07-20T08:47:48.091Z"
   },
   {
    "duration": 17,
    "start_time": "2024-07-20T08:48:13.850Z"
   },
   {
    "duration": 1837,
    "start_time": "2024-07-20T08:48:35.594Z"
   },
   {
    "duration": 19,
    "start_time": "2024-07-20T08:48:50.352Z"
   },
   {
    "duration": 1430,
    "start_time": "2024-07-20T08:48:54.521Z"
   },
   {
    "duration": 153,
    "start_time": "2024-07-20T08:51:00.421Z"
   },
   {
    "duration": 146,
    "start_time": "2024-07-20T08:51:06.291Z"
   },
   {
    "duration": 88,
    "start_time": "2024-07-20T08:51:28.757Z"
   },
   {
    "duration": 10,
    "start_time": "2024-07-20T08:51:38.986Z"
   },
   {
    "duration": 143,
    "start_time": "2024-07-20T08:51:56.323Z"
   },
   {
    "duration": 150,
    "start_time": "2024-07-20T08:53:27.767Z"
   },
   {
    "duration": 139,
    "start_time": "2024-07-20T08:53:47.318Z"
   },
   {
    "duration": 76,
    "start_time": "2024-07-20T08:56:34.186Z"
   },
   {
    "duration": 42,
    "start_time": "2024-07-20T09:00:05.808Z"
   },
   {
    "duration": 1009,
    "start_time": "2024-07-20T09:00:53.834Z"
   },
   {
    "duration": 39,
    "start_time": "2024-07-20T09:01:02.033Z"
   },
   {
    "duration": 1752,
    "start_time": "2024-07-20T09:02:00.708Z"
   },
   {
    "duration": 3945,
    "start_time": "2024-07-20T09:03:29.335Z"
   },
   {
    "duration": 3673,
    "start_time": "2024-07-20T09:04:17.380Z"
   },
   {
    "duration": 4051,
    "start_time": "2024-07-20T09:04:34.665Z"
   },
   {
    "duration": 3617,
    "start_time": "2024-07-20T09:04:47.529Z"
   },
   {
    "duration": 4252,
    "start_time": "2024-07-20T09:05:11.676Z"
   },
   {
    "duration": 112,
    "start_time": "2024-07-20T09:05:58.131Z"
   },
   {
    "duration": 1843,
    "start_time": "2024-07-20T09:05:58.245Z"
   },
   {
    "duration": 10,
    "start_time": "2024-07-20T09:06:00.089Z"
   },
   {
    "duration": 48,
    "start_time": "2024-07-20T09:06:00.101Z"
   },
   {
    "duration": 51,
    "start_time": "2024-07-20T09:06:00.151Z"
   },
   {
    "duration": 36,
    "start_time": "2024-07-20T09:06:00.204Z"
   },
   {
    "duration": 109,
    "start_time": "2024-07-20T09:06:00.241Z"
   },
   {
    "duration": 7,
    "start_time": "2024-07-20T09:06:00.352Z"
   },
   {
    "duration": 29,
    "start_time": "2024-07-20T09:06:00.361Z"
   },
   {
    "duration": 8363,
    "start_time": "2024-07-20T09:06:00.391Z"
   },
   {
    "duration": 7808,
    "start_time": "2024-07-20T09:06:08.755Z"
   },
   {
    "duration": 8,
    "start_time": "2024-07-20T09:06:16.565Z"
   },
   {
    "duration": 15,
    "start_time": "2024-07-20T09:06:16.575Z"
   },
   {
    "duration": 12,
    "start_time": "2024-07-20T09:06:16.593Z"
   },
   {
    "duration": 18,
    "start_time": "2024-07-20T09:06:16.607Z"
   },
   {
    "duration": 36,
    "start_time": "2024-07-20T09:06:16.626Z"
   },
   {
    "duration": 25,
    "start_time": "2024-07-20T09:06:16.664Z"
   },
   {
    "duration": 29,
    "start_time": "2024-07-20T09:06:16.691Z"
   },
   {
    "duration": 357,
    "start_time": "2024-07-20T09:06:16.722Z"
   },
   {
    "duration": 22,
    "start_time": "2024-07-20T09:06:17.081Z"
   },
   {
    "duration": 5,
    "start_time": "2024-07-20T09:06:17.104Z"
   },
   {
    "duration": 1729,
    "start_time": "2024-07-20T09:06:17.110Z"
   },
   {
    "duration": 48,
    "start_time": "2024-07-20T09:06:18.841Z"
   },
   {
    "duration": 2,
    "start_time": "2024-07-20T09:06:18.891Z"
   },
   {
    "duration": 8,
    "start_time": "2024-07-20T09:06:18.895Z"
   },
   {
    "duration": 13,
    "start_time": "2024-07-20T09:06:18.905Z"
   },
   {
    "duration": 152,
    "start_time": "2024-07-20T09:06:18.920Z"
   },
   {
    "duration": 5,
    "start_time": "2024-07-20T09:06:19.074Z"
   },
   {
    "duration": 5588,
    "start_time": "2024-07-20T09:06:19.080Z"
   },
   {
    "duration": 3,
    "start_time": "2024-07-20T09:06:24.670Z"
   },
   {
    "duration": 35,
    "start_time": "2024-07-20T09:06:24.675Z"
   },
   {
    "duration": 6,
    "start_time": "2024-07-20T09:06:24.711Z"
   },
   {
    "duration": 8,
    "start_time": "2024-07-20T09:06:24.718Z"
   },
   {
    "duration": 33,
    "start_time": "2024-07-20T09:06:24.728Z"
   },
   {
    "duration": 1984,
    "start_time": "2024-07-20T09:06:24.762Z"
   },
   {
    "duration": 163,
    "start_time": "2024-07-20T09:06:26.747Z"
   },
   {
    "duration": 40,
    "start_time": "2024-07-20T09:06:26.911Z"
   },
   {
    "duration": 3811,
    "start_time": "2024-07-20T09:06:32.270Z"
   },
   {
    "duration": 3765,
    "start_time": "2024-07-20T09:08:34.961Z"
   },
   {
    "duration": 114,
    "start_time": "2024-07-20T09:09:01.414Z"
   },
   {
    "duration": 1850,
    "start_time": "2024-07-20T09:09:01.530Z"
   },
   {
    "duration": 11,
    "start_time": "2024-07-20T09:09:03.382Z"
   },
   {
    "duration": 7,
    "start_time": "2024-07-20T09:09:03.396Z"
   },
   {
    "duration": 10,
    "start_time": "2024-07-20T09:09:03.404Z"
   },
   {
    "duration": 5,
    "start_time": "2024-07-20T09:09:03.415Z"
   },
   {
    "duration": 122,
    "start_time": "2024-07-20T09:09:03.422Z"
   },
   {
    "duration": 8,
    "start_time": "2024-07-20T09:09:03.545Z"
   },
   {
    "duration": 6,
    "start_time": "2024-07-20T09:09:03.561Z"
   },
   {
    "duration": 9516,
    "start_time": "2024-07-20T09:09:03.569Z"
   },
   {
    "duration": 7792,
    "start_time": "2024-07-20T09:09:13.087Z"
   },
   {
    "duration": 9,
    "start_time": "2024-07-20T09:09:20.881Z"
   },
   {
    "duration": 13,
    "start_time": "2024-07-20T09:09:20.892Z"
   },
   {
    "duration": 115,
    "start_time": "2024-07-20T09:09:47.749Z"
   },
   {
    "duration": 11,
    "start_time": "2024-07-20T09:09:51.692Z"
   },
   {
    "duration": 2593,
    "start_time": "2024-07-20T09:10:03.441Z"
   },
   {
    "duration": 1780,
    "start_time": "2024-07-20T09:10:46.665Z"
   },
   {
    "duration": 586,
    "start_time": "2024-07-21T08:34:37.648Z"
   },
   {
    "duration": 2474,
    "start_time": "2024-07-21T08:34:38.235Z"
   },
   {
    "duration": 11,
    "start_time": "2024-07-21T08:34:40.710Z"
   },
   {
    "duration": 8,
    "start_time": "2024-07-21T08:34:40.723Z"
   },
   {
    "duration": 24,
    "start_time": "2024-07-21T08:34:40.733Z"
   },
   {
    "duration": 4,
    "start_time": "2024-07-21T08:34:40.759Z"
   },
   {
    "duration": 95,
    "start_time": "2024-07-21T08:34:40.765Z"
   },
   {
    "duration": 8,
    "start_time": "2024-07-21T08:34:40.862Z"
   },
   {
    "duration": 4,
    "start_time": "2024-07-21T08:34:40.871Z"
   },
   {
    "duration": 8942,
    "start_time": "2024-07-21T08:34:40.878Z"
   },
   {
    "duration": 8033,
    "start_time": "2024-07-21T08:34:49.822Z"
   },
   {
    "duration": 10,
    "start_time": "2024-07-21T08:34:57.857Z"
   },
   {
    "duration": 14,
    "start_time": "2024-07-21T08:34:57.868Z"
   },
   {
    "duration": 27,
    "start_time": "2024-07-21T08:34:57.884Z"
   },
   {
    "duration": 14,
    "start_time": "2024-07-21T08:34:57.912Z"
   },
   {
    "duration": 14,
    "start_time": "2024-07-21T08:34:57.928Z"
   },
   {
    "duration": 25,
    "start_time": "2024-07-21T08:34:57.944Z"
   },
   {
    "duration": 58,
    "start_time": "2024-07-21T08:34:57.970Z"
   },
   {
    "duration": 360,
    "start_time": "2024-07-21T08:34:58.030Z"
   },
   {
    "duration": 28,
    "start_time": "2024-07-21T08:34:58.391Z"
   },
   {
    "duration": 5,
    "start_time": "2024-07-21T08:34:58.421Z"
   },
   {
    "duration": 1896,
    "start_time": "2024-07-21T08:34:58.427Z"
   },
   {
    "duration": 146,
    "start_time": "2024-07-21T08:35:00.325Z"
   },
   {
    "duration": 68,
    "start_time": "2024-07-21T08:35:00.473Z"
   },
   {
    "duration": 132,
    "start_time": "2024-07-21T08:35:00.543Z"
   },
   {
    "duration": 43,
    "start_time": "2024-07-21T08:35:00.677Z"
   },
   {
    "duration": 200,
    "start_time": "2024-07-21T08:35:00.722Z"
   },
   {
    "duration": 6,
    "start_time": "2024-07-21T08:35:00.925Z"
   },
   {
    "duration": 6099,
    "start_time": "2024-07-21T08:35:00.932Z"
   },
   {
    "duration": 3,
    "start_time": "2024-07-21T08:35:07.032Z"
   },
   {
    "duration": 30,
    "start_time": "2024-07-21T08:35:07.037Z"
   },
   {
    "duration": 6,
    "start_time": "2024-07-21T08:35:07.068Z"
   },
   {
    "duration": 31,
    "start_time": "2024-07-21T08:35:07.075Z"
   },
   {
    "duration": 8,
    "start_time": "2024-07-21T08:35:07.108Z"
   },
   {
    "duration": 1598,
    "start_time": "2024-07-21T08:35:07.118Z"
   },
   {
    "duration": 172,
    "start_time": "2024-07-21T08:35:08.718Z"
   },
   {
    "duration": 51,
    "start_time": "2024-07-21T08:35:08.892Z"
   },
   {
    "duration": 4160,
    "start_time": "2024-07-21T08:35:13.630Z"
   },
   {
    "duration": 8,
    "start_time": "2024-07-21T08:39:15.085Z"
   },
   {
    "duration": 13,
    "start_time": "2024-07-21T08:41:26.551Z"
   },
   {
    "duration": 13,
    "start_time": "2024-07-21T08:41:49.694Z"
   },
   {
    "duration": 20,
    "start_time": "2024-07-21T08:42:34.969Z"
   },
   {
    "duration": 77,
    "start_time": "2024-07-21T08:44:19.449Z"
   },
   {
    "duration": 10,
    "start_time": "2024-07-21T08:44:29.430Z"
   },
   {
    "duration": 14,
    "start_time": "2024-07-21T08:44:36.925Z"
   },
   {
    "duration": 12,
    "start_time": "2024-07-21T08:44:45.926Z"
   },
   {
    "duration": 14,
    "start_time": "2024-07-21T08:45:03.323Z"
   },
   {
    "duration": 131,
    "start_time": "2024-07-21T08:45:25.304Z"
   },
   {
    "duration": 13,
    "start_time": "2024-07-21T08:45:44.649Z"
   },
   {
    "duration": 11,
    "start_time": "2024-07-21T08:49:22.568Z"
   },
   {
    "duration": 10,
    "start_time": "2024-07-21T08:49:27.048Z"
   },
   {
    "duration": 20,
    "start_time": "2024-07-21T08:49:35.227Z"
   },
   {
    "duration": 20,
    "start_time": "2024-07-21T08:50:12.642Z"
   },
   {
    "duration": 18,
    "start_time": "2024-07-21T08:50:48.478Z"
   },
   {
    "duration": 19,
    "start_time": "2024-07-21T08:50:52.988Z"
   },
   {
    "duration": 19,
    "start_time": "2024-07-21T08:51:20.486Z"
   },
   {
    "duration": 11,
    "start_time": "2024-07-21T08:58:15.365Z"
   },
   {
    "duration": 9,
    "start_time": "2024-07-21T08:58:27.372Z"
   },
   {
    "duration": 152,
    "start_time": "2024-07-21T09:00:21.168Z"
   },
   {
    "duration": 147,
    "start_time": "2024-07-21T09:00:32.686Z"
   },
   {
    "duration": 166,
    "start_time": "2024-07-21T09:02:57.444Z"
   },
   {
    "duration": 163,
    "start_time": "2024-07-21T09:03:28.639Z"
   },
   {
    "duration": 203,
    "start_time": "2024-07-21T09:03:36.569Z"
   },
   {
    "duration": 75,
    "start_time": "2024-07-21T09:03:45.189Z"
   },
   {
    "duration": 167,
    "start_time": "2024-07-21T09:04:05.453Z"
   },
   {
    "duration": 126,
    "start_time": "2024-07-21T09:12:13.926Z"
   },
   {
    "duration": 15,
    "start_time": "2024-07-21T09:12:14.054Z"
   },
   {
    "duration": 1957,
    "start_time": "2024-07-21T09:12:14.071Z"
   },
   {
    "duration": 13,
    "start_time": "2024-07-21T09:12:16.031Z"
   },
   {
    "duration": 11,
    "start_time": "2024-07-21T09:12:16.047Z"
   },
   {
    "duration": 7,
    "start_time": "2024-07-21T09:12:16.060Z"
   },
   {
    "duration": 5,
    "start_time": "2024-07-21T09:12:16.068Z"
   },
   {
    "duration": 87,
    "start_time": "2024-07-21T09:12:16.105Z"
   },
   {
    "duration": 16,
    "start_time": "2024-07-21T09:12:16.193Z"
   },
   {
    "duration": 6,
    "start_time": "2024-07-21T09:12:16.211Z"
   },
   {
    "duration": 9337,
    "start_time": "2024-07-21T09:12:16.218Z"
   },
   {
    "duration": 8115,
    "start_time": "2024-07-21T09:12:25.558Z"
   },
   {
    "duration": 8,
    "start_time": "2024-07-21T09:12:33.675Z"
   },
   {
    "duration": 21,
    "start_time": "2024-07-21T09:12:33.685Z"
   },
   {
    "duration": 14,
    "start_time": "2024-07-21T09:12:33.707Z"
   },
   {
    "duration": 4,
    "start_time": "2024-07-21T09:12:41.422Z"
   },
   {
    "duration": 118,
    "start_time": "2024-07-21T09:15:12.169Z"
   },
   {
    "duration": 28,
    "start_time": "2024-07-21T09:15:12.289Z"
   },
   {
    "duration": 1982,
    "start_time": "2024-07-21T09:15:12.319Z"
   },
   {
    "duration": 11,
    "start_time": "2024-07-21T09:15:14.302Z"
   },
   {
    "duration": 30,
    "start_time": "2024-07-21T09:15:14.317Z"
   },
   {
    "duration": 12,
    "start_time": "2024-07-21T09:15:14.349Z"
   },
   {
    "duration": 91,
    "start_time": "2024-07-21T09:15:14.363Z"
   },
   {
    "duration": 220,
    "start_time": "2024-07-21T09:15:14.456Z"
   },
   {
    "duration": 7,
    "start_time": "2024-07-21T09:15:14.678Z"
   },
   {
    "duration": 91,
    "start_time": "2024-07-21T09:15:14.687Z"
   },
   {
    "duration": 9275,
    "start_time": "2024-07-21T09:15:14.780Z"
   },
   {
    "duration": 8241,
    "start_time": "2024-07-21T09:15:24.056Z"
   },
   {
    "duration": 13,
    "start_time": "2024-07-21T09:15:32.299Z"
   },
   {
    "duration": 28,
    "start_time": "2024-07-21T09:15:32.316Z"
   },
   {
    "duration": 26,
    "start_time": "2024-07-21T09:15:32.346Z"
   },
   {
    "duration": 9,
    "start_time": "2024-07-21T09:15:32.374Z"
   },
   {
    "duration": 28,
    "start_time": "2024-07-21T09:15:32.384Z"
   },
   {
    "duration": 123,
    "start_time": "2024-07-21T09:15:32.414Z"
   },
   {
    "duration": 42,
    "start_time": "2024-07-21T09:15:32.539Z"
   },
   {
    "duration": 38,
    "start_time": "2024-07-21T09:15:32.582Z"
   },
   {
    "duration": 367,
    "start_time": "2024-07-21T09:15:32.621Z"
   },
   {
    "duration": 34,
    "start_time": "2024-07-21T09:15:32.989Z"
   },
   {
    "duration": 6,
    "start_time": "2024-07-21T09:15:33.024Z"
   },
   {
    "duration": 2065,
    "start_time": "2024-07-21T09:15:33.032Z"
   },
   {
    "duration": 45,
    "start_time": "2024-07-21T09:15:35.099Z"
   },
   {
    "duration": 3,
    "start_time": "2024-07-21T09:15:35.145Z"
   },
   {
    "duration": 7,
    "start_time": "2024-07-21T09:15:35.150Z"
   },
   {
    "duration": 8,
    "start_time": "2024-07-21T09:15:35.159Z"
   },
   {
    "duration": 176,
    "start_time": "2024-07-21T09:15:35.169Z"
   },
   {
    "duration": 6,
    "start_time": "2024-07-21T09:15:35.346Z"
   },
   {
    "duration": 6124,
    "start_time": "2024-07-21T09:15:35.353Z"
   },
   {
    "duration": 5,
    "start_time": "2024-07-21T09:15:41.478Z"
   },
   {
    "duration": 45,
    "start_time": "2024-07-21T09:15:41.485Z"
   },
   {
    "duration": 7,
    "start_time": "2024-07-21T09:15:41.532Z"
   },
   {
    "duration": 8,
    "start_time": "2024-07-21T09:15:41.541Z"
   },
   {
    "duration": 17,
    "start_time": "2024-07-21T09:15:41.551Z"
   },
   {
    "duration": 1573,
    "start_time": "2024-07-21T09:15:41.570Z"
   },
   {
    "duration": 175,
    "start_time": "2024-07-21T09:15:43.144Z"
   },
   {
    "duration": 43,
    "start_time": "2024-07-21T09:15:43.320Z"
   },
   {
    "duration": 4311,
    "start_time": "2024-07-21T09:15:43.364Z"
   },
   {
    "duration": 7,
    "start_time": "2024-07-21T09:15:47.679Z"
   },
   {
    "duration": 29,
    "start_time": "2024-07-21T09:15:47.688Z"
   },
   {
    "duration": 189,
    "start_time": "2024-07-21T09:15:47.719Z"
   },
   {
    "duration": 9,
    "start_time": "2024-07-21T09:15:47.910Z"
   },
   {
    "duration": 3449,
    "start_time": "2024-07-21T09:36:37.958Z"
   },
   {
    "duration": 768,
    "start_time": "2024-07-21T21:59:46.777Z"
   },
   {
    "duration": 15,
    "start_time": "2024-07-21T21:59:47.547Z"
   },
   {
    "duration": 3113,
    "start_time": "2024-07-21T21:59:47.563Z"
   },
   {
    "duration": 10,
    "start_time": "2024-07-21T21:59:50.683Z"
   },
   {
    "duration": 7,
    "start_time": "2024-07-21T21:59:50.695Z"
   },
   {
    "duration": 23,
    "start_time": "2024-07-21T21:59:50.703Z"
   },
   {
    "duration": 8,
    "start_time": "2024-07-21T21:59:50.728Z"
   },
   {
    "duration": 83,
    "start_time": "2024-07-21T21:59:50.737Z"
   },
   {
    "duration": 7,
    "start_time": "2024-07-21T21:59:50.822Z"
   },
   {
    "duration": 6,
    "start_time": "2024-07-21T21:59:50.831Z"
   },
   {
    "duration": 8290,
    "start_time": "2024-07-21T21:59:50.838Z"
   },
   {
    "duration": 7556,
    "start_time": "2024-07-21T21:59:59.130Z"
   },
   {
    "duration": 8,
    "start_time": "2024-07-21T22:00:06.688Z"
   },
   {
    "duration": 6,
    "start_time": "2024-07-21T22:00:06.698Z"
   },
   {
    "duration": 14,
    "start_time": "2024-07-21T22:00:06.705Z"
   },
   {
    "duration": 3,
    "start_time": "2024-07-21T22:00:06.721Z"
   },
   {
    "duration": 16,
    "start_time": "2024-07-21T22:00:06.726Z"
   },
   {
    "duration": 44,
    "start_time": "2024-07-21T22:00:06.743Z"
   },
   {
    "duration": 24,
    "start_time": "2024-07-21T22:00:06.789Z"
   },
   {
    "duration": 31,
    "start_time": "2024-07-21T22:00:06.814Z"
   },
   {
    "duration": 359,
    "start_time": "2024-07-21T22:00:06.846Z"
   },
   {
    "duration": 21,
    "start_time": "2024-07-21T22:00:07.206Z"
   },
   {
    "duration": 4,
    "start_time": "2024-07-21T22:00:07.229Z"
   },
   {
    "duration": 3422,
    "start_time": "2024-07-21T22:00:07.235Z"
   },
   {
    "duration": 46,
    "start_time": "2024-07-21T22:00:10.658Z"
   },
   {
    "duration": 2,
    "start_time": "2024-07-21T22:00:10.705Z"
   },
   {
    "duration": 13,
    "start_time": "2024-07-21T22:00:10.709Z"
   },
   {
    "duration": 6,
    "start_time": "2024-07-21T22:00:10.723Z"
   },
   {
    "duration": 230,
    "start_time": "2024-07-21T22:00:10.730Z"
   },
   {
    "duration": 25,
    "start_time": "2024-07-21T22:00:10.961Z"
   },
   {
    "duration": 5589,
    "start_time": "2024-07-21T22:00:10.988Z"
   },
   {
    "duration": 6,
    "start_time": "2024-07-21T22:00:16.579Z"
   },
   {
    "duration": 29,
    "start_time": "2024-07-21T22:00:16.587Z"
   },
   {
    "duration": 7,
    "start_time": "2024-07-21T22:00:16.618Z"
   },
   {
    "duration": 12,
    "start_time": "2024-07-21T22:00:16.627Z"
   },
   {
    "duration": 11,
    "start_time": "2024-07-21T22:00:16.640Z"
   },
   {
    "duration": 3070,
    "start_time": "2024-07-21T22:00:16.683Z"
   },
   {
    "duration": 317,
    "start_time": "2024-07-21T22:00:19.755Z"
   },
   {
    "duration": 45,
    "start_time": "2024-07-21T22:00:20.073Z"
   },
   {
    "duration": 5381,
    "start_time": "2024-07-21T22:00:20.120Z"
   },
   {
    "duration": 8,
    "start_time": "2024-07-21T22:00:25.504Z"
   },
   {
    "duration": 23,
    "start_time": "2024-07-21T22:00:25.513Z"
   },
   {
    "duration": 457,
    "start_time": "2024-07-21T22:00:25.537Z"
   },
   {
    "duration": 9,
    "start_time": "2024-07-21T22:00:25.996Z"
   },
   {
    "duration": 69,
    "start_time": "2024-07-22T08:13:58.096Z"
   },
   {
    "duration": 634,
    "start_time": "2024-07-22T08:14:07.689Z"
   },
   {
    "duration": 16,
    "start_time": "2024-07-22T08:14:08.324Z"
   },
   {
    "duration": 2587,
    "start_time": "2024-07-22T08:14:08.341Z"
   },
   {
    "duration": 83,
    "start_time": "2024-07-22T08:14:10.930Z"
   },
   {
    "duration": 0,
    "start_time": "2024-07-22T08:14:11.016Z"
   },
   {
    "duration": 0,
    "start_time": "2024-07-22T08:14:11.017Z"
   },
   {
    "duration": 0,
    "start_time": "2024-07-22T08:14:11.018Z"
   },
   {
    "duration": 0,
    "start_time": "2024-07-22T08:14:11.019Z"
   },
   {
    "duration": 0,
    "start_time": "2024-07-22T08:14:11.020Z"
   },
   {
    "duration": 0,
    "start_time": "2024-07-22T08:14:11.021Z"
   },
   {
    "duration": 0,
    "start_time": "2024-07-22T08:14:11.022Z"
   },
   {
    "duration": 0,
    "start_time": "2024-07-22T08:14:11.023Z"
   },
   {
    "duration": 0,
    "start_time": "2024-07-22T08:14:11.025Z"
   },
   {
    "duration": 0,
    "start_time": "2024-07-22T08:14:11.026Z"
   },
   {
    "duration": 0,
    "start_time": "2024-07-22T08:14:11.028Z"
   },
   {
    "duration": 0,
    "start_time": "2024-07-22T08:14:11.029Z"
   },
   {
    "duration": 0,
    "start_time": "2024-07-22T08:14:11.030Z"
   },
   {
    "duration": 0,
    "start_time": "2024-07-22T08:14:11.031Z"
   },
   {
    "duration": 0,
    "start_time": "2024-07-22T08:14:11.032Z"
   },
   {
    "duration": 0,
    "start_time": "2024-07-22T08:14:11.033Z"
   },
   {
    "duration": 1,
    "start_time": "2024-07-22T08:14:11.034Z"
   },
   {
    "duration": 0,
    "start_time": "2024-07-22T08:14:11.036Z"
   },
   {
    "duration": 0,
    "start_time": "2024-07-22T08:14:11.036Z"
   },
   {
    "duration": 0,
    "start_time": "2024-07-22T08:14:11.037Z"
   },
   {
    "duration": 0,
    "start_time": "2024-07-22T08:14:11.038Z"
   },
   {
    "duration": 0,
    "start_time": "2024-07-22T08:14:11.039Z"
   },
   {
    "duration": 0,
    "start_time": "2024-07-22T08:14:11.040Z"
   },
   {
    "duration": 0,
    "start_time": "2024-07-22T08:14:11.041Z"
   },
   {
    "duration": 0,
    "start_time": "2024-07-22T08:14:11.042Z"
   },
   {
    "duration": 0,
    "start_time": "2024-07-22T08:14:11.043Z"
   },
   {
    "duration": 0,
    "start_time": "2024-07-22T08:14:11.044Z"
   },
   {
    "duration": 0,
    "start_time": "2024-07-22T08:14:11.045Z"
   },
   {
    "duration": 0,
    "start_time": "2024-07-22T08:14:11.046Z"
   },
   {
    "duration": 0,
    "start_time": "2024-07-22T08:14:11.048Z"
   },
   {
    "duration": 0,
    "start_time": "2024-07-22T08:14:11.049Z"
   },
   {
    "duration": 0,
    "start_time": "2024-07-22T08:14:11.050Z"
   },
   {
    "duration": 0,
    "start_time": "2024-07-22T08:14:11.065Z"
   },
   {
    "duration": 0,
    "start_time": "2024-07-22T08:14:11.066Z"
   },
   {
    "duration": 0,
    "start_time": "2024-07-22T08:14:11.068Z"
   },
   {
    "duration": 0,
    "start_time": "2024-07-22T08:14:11.069Z"
   },
   {
    "duration": 0,
    "start_time": "2024-07-22T08:14:11.070Z"
   },
   {
    "duration": 0,
    "start_time": "2024-07-22T08:14:11.071Z"
   },
   {
    "duration": 0,
    "start_time": "2024-07-22T08:14:11.072Z"
   },
   {
    "duration": 0,
    "start_time": "2024-07-22T08:14:11.073Z"
   },
   {
    "duration": 0,
    "start_time": "2024-07-22T08:14:11.074Z"
   },
   {
    "duration": 550,
    "start_time": "2024-07-22T08:15:13.050Z"
   },
   {
    "duration": 17,
    "start_time": "2024-07-22T08:15:13.601Z"
   },
   {
    "duration": 2392,
    "start_time": "2024-07-22T08:15:13.620Z"
   },
   {
    "duration": 11,
    "start_time": "2024-07-22T08:15:16.013Z"
   },
   {
    "duration": 20,
    "start_time": "2024-07-22T08:15:16.025Z"
   },
   {
    "duration": 19,
    "start_time": "2024-07-22T08:15:16.046Z"
   },
   {
    "duration": 4,
    "start_time": "2024-07-22T08:15:16.067Z"
   },
   {
    "duration": 95,
    "start_time": "2024-07-22T08:15:16.072Z"
   },
   {
    "duration": 7,
    "start_time": "2024-07-22T08:15:16.168Z"
   },
   {
    "duration": 14,
    "start_time": "2024-07-22T08:15:16.176Z"
   },
   {
    "duration": 9225,
    "start_time": "2024-07-22T08:15:16.192Z"
   },
   {
    "duration": 8187,
    "start_time": "2024-07-22T08:15:25.419Z"
   },
   {
    "duration": 9,
    "start_time": "2024-07-22T08:15:33.608Z"
   },
   {
    "duration": 5,
    "start_time": "2024-07-22T08:15:33.620Z"
   },
   {
    "duration": 16,
    "start_time": "2024-07-22T08:15:33.627Z"
   },
   {
    "duration": 4,
    "start_time": "2024-07-22T08:15:33.664Z"
   },
   {
    "duration": 23,
    "start_time": "2024-07-22T08:15:33.670Z"
   },
   {
    "duration": 15,
    "start_time": "2024-07-22T08:15:33.695Z"
   },
   {
    "duration": 31,
    "start_time": "2024-07-22T08:15:33.712Z"
   },
   {
    "duration": 52,
    "start_time": "2024-07-22T08:15:33.745Z"
   },
   {
    "duration": 373,
    "start_time": "2024-07-22T08:15:33.799Z"
   },
   {
    "duration": 26,
    "start_time": "2024-07-22T08:15:34.173Z"
   },
   {
    "duration": 7,
    "start_time": "2024-07-22T08:15:34.200Z"
   },
   {
    "duration": 2149,
    "start_time": "2024-07-22T08:15:34.208Z"
   },
   {
    "duration": 47,
    "start_time": "2024-07-22T08:15:36.359Z"
   },
   {
    "duration": 3,
    "start_time": "2024-07-22T08:15:36.408Z"
   },
   {
    "duration": 8,
    "start_time": "2024-07-22T08:15:36.412Z"
   },
   {
    "duration": 6,
    "start_time": "2024-07-22T08:15:36.422Z"
   },
   {
    "duration": 189,
    "start_time": "2024-07-22T08:15:36.430Z"
   },
   {
    "duration": 5,
    "start_time": "2024-07-22T08:15:36.621Z"
   },
   {
    "duration": 6216,
    "start_time": "2024-07-22T08:15:36.627Z"
   },
   {
    "duration": 4,
    "start_time": "2024-07-22T08:15:42.844Z"
   },
   {
    "duration": 39,
    "start_time": "2024-07-22T08:15:42.849Z"
   },
   {
    "duration": 6,
    "start_time": "2024-07-22T08:15:42.889Z"
   },
   {
    "duration": 21,
    "start_time": "2024-07-22T08:15:42.897Z"
   },
   {
    "duration": 28,
    "start_time": "2024-07-22T08:15:42.920Z"
   },
   {
    "duration": 1555,
    "start_time": "2024-07-22T08:15:42.950Z"
   },
   {
    "duration": 273,
    "start_time": "2024-07-22T08:15:44.506Z"
   },
   {
    "duration": 42,
    "start_time": "2024-07-22T08:15:44.781Z"
   },
   {
    "duration": 4256,
    "start_time": "2024-07-22T08:15:44.825Z"
   },
   {
    "duration": 7,
    "start_time": "2024-07-22T08:15:49.085Z"
   },
   {
    "duration": 19,
    "start_time": "2024-07-22T08:15:49.093Z"
   },
   {
    "duration": 204,
    "start_time": "2024-07-22T08:15:49.113Z"
   },
   {
    "duration": 9,
    "start_time": "2024-07-22T08:15:49.318Z"
   },
   {
    "duration": 6,
    "start_time": "2024-07-22T09:09:20.538Z"
   },
   {
    "duration": 408,
    "start_time": "2024-07-22T09:51:54.643Z"
   },
   {
    "duration": 204,
    "start_time": "2024-07-22T09:51:55.825Z"
   },
   {
    "duration": 18,
    "start_time": "2024-07-22T09:51:59.942Z"
   },
   {
    "duration": 4355,
    "start_time": "2024-07-22T09:52:04.553Z"
   },
   {
    "duration": 17,
    "start_time": "2024-07-22T09:54:42.980Z"
   },
   {
    "duration": 8,
    "start_time": "2024-07-22T09:54:46.982Z"
   },
   {
    "duration": 8,
    "start_time": "2024-07-22T09:54:49.233Z"
   },
   {
    "duration": 4,
    "start_time": "2024-07-22T09:54:51.399Z"
   },
   {
    "duration": 3,
    "start_time": "2024-07-22T09:55:32.186Z"
   },
   {
    "duration": 172,
    "start_time": "2024-07-22T09:55:32.192Z"
   },
   {
    "duration": 20,
    "start_time": "2024-07-22T09:55:32.366Z"
   },
   {
    "duration": 2111,
    "start_time": "2024-07-22T09:55:32.389Z"
   },
   {
    "duration": 14,
    "start_time": "2024-07-22T09:55:34.502Z"
   },
   {
    "duration": 9,
    "start_time": "2024-07-22T09:55:34.518Z"
   },
   {
    "duration": 7,
    "start_time": "2024-07-22T09:55:34.529Z"
   },
   {
    "duration": 8,
    "start_time": "2024-07-22T09:55:34.537Z"
   },
   {
    "duration": 5,
    "start_time": "2024-07-22T09:55:37.112Z"
   },
   {
    "duration": 5,
    "start_time": "2024-07-22T09:56:04.271Z"
   },
   {
    "duration": 93,
    "start_time": "2024-07-22T09:56:50.377Z"
   },
   {
    "duration": 92,
    "start_time": "2024-07-22T09:56:56.507Z"
   },
   {
    "duration": 121,
    "start_time": "2024-07-22T09:57:59.861Z"
   },
   {
    "duration": 8,
    "start_time": "2024-07-22T09:59:30.853Z"
   },
   {
    "duration": 12,
    "start_time": "2024-07-22T09:59:47.423Z"
   },
   {
    "duration": 6,
    "start_time": "2024-07-22T10:00:06.636Z"
   },
   {
    "duration": 4,
    "start_time": "2024-07-22T10:11:51.705Z"
   },
   {
    "duration": 124,
    "start_time": "2024-07-22T10:11:52.769Z"
   },
   {
    "duration": 18,
    "start_time": "2024-07-22T10:11:55.865Z"
   },
   {
    "duration": 2078,
    "start_time": "2024-07-22T10:12:09.824Z"
   },
   {
    "duration": 10,
    "start_time": "2024-07-22T10:12:37.175Z"
   },
   {
    "duration": 8,
    "start_time": "2024-07-22T10:12:50.835Z"
   },
   {
    "duration": 8,
    "start_time": "2024-07-22T10:12:51.826Z"
   },
   {
    "duration": 5,
    "start_time": "2024-07-22T10:12:52.531Z"
   },
   {
    "duration": 5,
    "start_time": "2024-07-22T10:13:08.145Z"
   },
   {
    "duration": 99,
    "start_time": "2024-07-22T10:13:15.860Z"
   },
   {
    "duration": 8,
    "start_time": "2024-07-22T10:14:55.873Z"
   },
   {
    "duration": 8,
    "start_time": "2024-07-22T10:15:00.503Z"
   },
   {
    "duration": 8,
    "start_time": "2024-07-22T10:15:03.901Z"
   },
   {
    "duration": 11,
    "start_time": "2024-07-22T10:20:31.022Z"
   },
   {
    "duration": 7,
    "start_time": "2024-07-22T10:26:28.876Z"
   },
   {
    "duration": 11,
    "start_time": "2024-07-22T10:26:36.957Z"
   },
   {
    "duration": 33,
    "start_time": "2024-07-22T10:26:56.229Z"
   },
   {
    "duration": 4,
    "start_time": "2024-07-22T10:27:14.071Z"
   },
   {
    "duration": 79,
    "start_time": "2024-07-22T10:28:52.797Z"
   },
   {
    "duration": 6,
    "start_time": "2024-07-22T10:28:56.979Z"
   },
   {
    "duration": 15538,
    "start_time": "2024-07-22T10:28:59.342Z"
   },
   {
    "duration": 10,
    "start_time": "2024-07-22T10:29:21.690Z"
   },
   {
    "duration": 4,
    "start_time": "2024-07-22T10:31:32.907Z"
   },
   {
    "duration": 15502,
    "start_time": "2024-07-22T10:31:34.986Z"
   },
   {
    "duration": 9,
    "start_time": "2024-07-22T10:31:57.701Z"
   },
   {
    "duration": 14,
    "start_time": "2024-07-22T10:32:28.762Z"
   },
   {
    "duration": 4,
    "start_time": "2024-07-22T10:32:31.905Z"
   },
   {
    "duration": 16,
    "start_time": "2024-07-22T10:32:36.784Z"
   },
   {
    "duration": 15,
    "start_time": "2024-07-22T10:32:37.708Z"
   },
   {
    "duration": 27,
    "start_time": "2024-07-22T10:32:42.480Z"
   },
   {
    "duration": 47,
    "start_time": "2024-07-22T10:32:45.845Z"
   },
   {
    "duration": 405,
    "start_time": "2024-07-22T10:32:48.641Z"
   },
   {
    "duration": 26,
    "start_time": "2024-07-22T10:32:55.918Z"
   },
   {
    "duration": 6,
    "start_time": "2024-07-22T10:33:02.931Z"
   },
   {
    "duration": 2,
    "start_time": "2024-07-22T10:33:19.721Z"
   },
   {
    "duration": 121,
    "start_time": "2024-07-22T10:35:28.634Z"
   },
   {
    "duration": 118,
    "start_time": "2024-07-22T10:35:31.670Z"
   },
   {
    "duration": 239,
    "start_time": "2024-07-22T10:39:12.188Z"
   },
   {
    "duration": 281,
    "start_time": "2024-07-22T10:39:45.934Z"
   },
   {
    "duration": 383,
    "start_time": "2024-07-22T10:40:15.179Z"
   },
   {
    "duration": 1564,
    "start_time": "2024-07-22T10:41:03.657Z"
   },
   {
    "duration": 1547,
    "start_time": "2024-07-22T10:41:40.217Z"
   },
   {
    "duration": 1556,
    "start_time": "2024-07-22T10:41:54.707Z"
   },
   {
    "duration": 1519,
    "start_time": "2024-07-22T10:42:11.833Z"
   },
   {
    "duration": 1569,
    "start_time": "2024-07-22T10:43:42.936Z"
   },
   {
    "duration": 76,
    "start_time": "2024-07-22T10:44:10.842Z"
   },
   {
    "duration": 1646,
    "start_time": "2024-07-22T10:44:15.287Z"
   },
   {
    "duration": 1791,
    "start_time": "2024-07-22T10:45:12.737Z"
   },
   {
    "duration": 1571,
    "start_time": "2024-07-22T10:45:33.877Z"
   },
   {
    "duration": 1550,
    "start_time": "2024-07-22T10:46:04.118Z"
   },
   {
    "duration": 255,
    "start_time": "2024-07-22T10:46:17.454Z"
   },
   {
    "duration": 2,
    "start_time": "2024-07-22T10:47:10.768Z"
   },
   {
    "duration": 1529,
    "start_time": "2024-07-22T10:48:35.389Z"
   },
   {
    "duration": 365,
    "start_time": "2024-07-22T10:48:50.027Z"
   },
   {
    "duration": 1468,
    "start_time": "2024-07-22T10:48:54.524Z"
   },
   {
    "duration": 133,
    "start_time": "2024-07-22T10:49:03.458Z"
   },
   {
    "duration": 273,
    "start_time": "2024-07-22T10:49:08.472Z"
   },
   {
    "duration": 247,
    "start_time": "2024-07-22T10:53:41.995Z"
   },
   {
    "duration": 254,
    "start_time": "2024-07-22T10:53:50.047Z"
   },
   {
    "duration": 425,
    "start_time": "2024-07-22T10:54:13.878Z"
   },
   {
    "duration": 249,
    "start_time": "2024-07-22T10:54:19.128Z"
   },
   {
    "duration": 253,
    "start_time": "2024-07-22T10:55:02.394Z"
   },
   {
    "duration": 282,
    "start_time": "2024-07-22T10:55:11.620Z"
   },
   {
    "duration": 263,
    "start_time": "2024-07-22T10:55:16.485Z"
   },
   {
    "duration": 276,
    "start_time": "2024-07-22T10:55:21.920Z"
   },
   {
    "duration": 348,
    "start_time": "2024-07-22T10:55:36.273Z"
   },
   {
    "duration": 51,
    "start_time": "2024-07-22T10:56:08.177Z"
   },
   {
    "duration": 277,
    "start_time": "2024-07-22T10:56:13.980Z"
   },
   {
    "duration": 1572,
    "start_time": "2024-07-22T10:56:56.927Z"
   },
   {
    "duration": 254,
    "start_time": "2024-07-22T10:57:56.704Z"
   },
   {
    "duration": 248,
    "start_time": "2024-07-22T10:58:10.893Z"
   },
   {
    "duration": 258,
    "start_time": "2024-07-22T10:58:48.334Z"
   },
   {
    "duration": 411,
    "start_time": "2024-07-22T10:59:19.964Z"
   },
   {
    "duration": 3,
    "start_time": "2024-07-22T11:00:00.802Z"
   },
   {
    "duration": 218,
    "start_time": "2024-07-22T11:00:00.810Z"
   },
   {
    "duration": 16,
    "start_time": "2024-07-22T11:00:01.031Z"
   },
   {
    "duration": 2088,
    "start_time": "2024-07-22T11:00:01.049Z"
   },
   {
    "duration": 13,
    "start_time": "2024-07-22T11:00:03.139Z"
   },
   {
    "duration": 29,
    "start_time": "2024-07-22T11:00:03.154Z"
   },
   {
    "duration": 7,
    "start_time": "2024-07-22T11:00:03.185Z"
   },
   {
    "duration": 25,
    "start_time": "2024-07-22T11:00:03.194Z"
   },
   {
    "duration": 6,
    "start_time": "2024-07-22T11:00:03.221Z"
   },
   {
    "duration": 131,
    "start_time": "2024-07-22T11:00:03.229Z"
   },
   {
    "duration": 7,
    "start_time": "2024-07-22T11:00:03.364Z"
   },
   {
    "duration": 16,
    "start_time": "2024-07-22T11:00:03.372Z"
   },
   {
    "duration": 9,
    "start_time": "2024-07-22T11:00:03.390Z"
   },
   {
    "duration": 9,
    "start_time": "2024-07-22T11:00:03.400Z"
   },
   {
    "duration": 15950,
    "start_time": "2024-07-22T11:00:03.411Z"
   },
   {
    "duration": 20,
    "start_time": "2024-07-22T11:00:19.363Z"
   },
   {
    "duration": 15,
    "start_time": "2024-07-22T11:00:19.384Z"
   },
   {
    "duration": 4,
    "start_time": "2024-07-22T11:00:19.401Z"
   },
   {
    "duration": 24,
    "start_time": "2024-07-22T11:00:19.406Z"
   },
   {
    "duration": 70,
    "start_time": "2024-07-22T11:00:19.432Z"
   },
   {
    "duration": 137,
    "start_time": "2024-07-22T11:00:19.504Z"
   },
   {
    "duration": 84,
    "start_time": "2024-07-22T11:00:19.643Z"
   },
   {
    "duration": 362,
    "start_time": "2024-07-22T11:00:19.729Z"
   },
   {
    "duration": 25,
    "start_time": "2024-07-22T11:00:20.093Z"
   },
   {
    "duration": 5,
    "start_time": "2024-07-22T11:00:20.120Z"
   },
   {
    "duration": 1516,
    "start_time": "2024-07-22T11:00:20.127Z"
   },
   {
    "duration": 274,
    "start_time": "2024-07-22T11:00:21.644Z"
   },
   {
    "duration": 267,
    "start_time": "2024-07-22T11:00:49.104Z"
   },
   {
    "duration": 285,
    "start_time": "2024-07-22T11:01:06.582Z"
   },
   {
    "duration": 375,
    "start_time": "2024-07-22T11:01:27.369Z"
   },
   {
    "duration": 259,
    "start_time": "2024-07-22T11:01:31.454Z"
   },
   {
    "duration": 259,
    "start_time": "2024-07-22T11:02:36.311Z"
   },
   {
    "duration": 249,
    "start_time": "2024-07-22T11:03:05.366Z"
   },
   {
    "duration": 274,
    "start_time": "2024-07-22T11:03:28.227Z"
   },
   {
    "duration": 255,
    "start_time": "2024-07-22T11:03:51.747Z"
   },
   {
    "duration": 334,
    "start_time": "2024-07-22T11:04:05.423Z"
   },
   {
    "duration": 280,
    "start_time": "2024-07-22T11:04:11.025Z"
   },
   {
    "duration": 253,
    "start_time": "2024-07-22T11:04:16.423Z"
   },
   {
    "duration": 248,
    "start_time": "2024-07-22T11:04:23.351Z"
   },
   {
    "duration": 260,
    "start_time": "2024-07-22T11:04:40.505Z"
   },
   {
    "duration": 344,
    "start_time": "2024-07-22T11:04:43.363Z"
   },
   {
    "duration": 263,
    "start_time": "2024-07-22T11:05:17.291Z"
   },
   {
    "duration": 262,
    "start_time": "2024-07-22T11:05:41.574Z"
   },
   {
    "duration": 272,
    "start_time": "2024-07-22T11:06:02.852Z"
   },
   {
    "duration": 273,
    "start_time": "2024-07-22T11:06:12.951Z"
   },
   {
    "duration": 288,
    "start_time": "2024-07-22T11:06:29.933Z"
   },
   {
    "duration": 398,
    "start_time": "2024-07-22T11:06:33.903Z"
   },
   {
    "duration": 4,
    "start_time": "2024-07-22T11:07:03.091Z"
   },
   {
    "duration": 160,
    "start_time": "2024-07-22T11:07:03.097Z"
   },
   {
    "duration": 26,
    "start_time": "2024-07-22T11:07:03.260Z"
   },
   {
    "duration": 2110,
    "start_time": "2024-07-22T11:07:03.288Z"
   },
   {
    "duration": 12,
    "start_time": "2024-07-22T11:07:05.403Z"
   },
   {
    "duration": 38,
    "start_time": "2024-07-22T11:07:05.416Z"
   },
   {
    "duration": 35,
    "start_time": "2024-07-22T11:07:05.456Z"
   },
   {
    "duration": 34,
    "start_time": "2024-07-22T11:07:05.492Z"
   },
   {
    "duration": 44,
    "start_time": "2024-07-22T11:07:05.528Z"
   },
   {
    "duration": 219,
    "start_time": "2024-07-22T11:07:05.574Z"
   },
   {
    "duration": 8,
    "start_time": "2024-07-22T11:07:05.801Z"
   },
   {
    "duration": 19,
    "start_time": "2024-07-22T11:07:05.811Z"
   },
   {
    "duration": 21,
    "start_time": "2024-07-22T11:07:05.832Z"
   },
   {
    "duration": 10,
    "start_time": "2024-07-22T11:07:05.855Z"
   },
   {
    "duration": 16455,
    "start_time": "2024-07-22T11:07:05.867Z"
   },
   {
    "duration": 10,
    "start_time": "2024-07-22T11:07:22.324Z"
   },
   {
    "duration": 37,
    "start_time": "2024-07-22T11:07:22.335Z"
   },
   {
    "duration": 38,
    "start_time": "2024-07-22T11:07:22.374Z"
   },
   {
    "duration": 37,
    "start_time": "2024-07-22T11:07:22.414Z"
   },
   {
    "duration": 25,
    "start_time": "2024-07-22T11:07:22.453Z"
   },
   {
    "duration": 73,
    "start_time": "2024-07-22T11:07:22.480Z"
   },
   {
    "duration": 45,
    "start_time": "2024-07-22T11:07:22.556Z"
   },
   {
    "duration": 439,
    "start_time": "2024-07-22T11:07:22.603Z"
   },
   {
    "duration": 43,
    "start_time": "2024-07-22T11:07:23.044Z"
   },
   {
    "duration": 6,
    "start_time": "2024-07-22T11:07:23.097Z"
   },
   {
    "duration": 1584,
    "start_time": "2024-07-22T11:07:23.106Z"
   },
   {
    "duration": 269,
    "start_time": "2024-07-22T11:07:24.696Z"
   },
   {
    "duration": 296,
    "start_time": "2024-07-22T11:07:24.967Z"
   },
   {
    "duration": 338,
    "start_time": "2024-07-22T11:07:25.267Z"
   },
   {
    "duration": 467,
    "start_time": "2024-07-22T11:07:25.608Z"
   },
   {
    "duration": 286,
    "start_time": "2024-07-22T11:07:26.082Z"
   },
   {
    "duration": 265,
    "start_time": "2024-07-22T11:07:31.392Z"
   },
   {
    "duration": 262,
    "start_time": "2024-07-22T11:07:40.647Z"
   },
   {
    "duration": 271,
    "start_time": "2024-07-22T11:08:43.235Z"
   },
   {
    "duration": 297,
    "start_time": "2024-07-22T11:08:51.657Z"
   },
   {
    "duration": 371,
    "start_time": "2024-07-22T11:09:00.901Z"
   },
   {
    "duration": 274,
    "start_time": "2024-07-22T11:09:19.295Z"
   },
   {
    "duration": 259,
    "start_time": "2024-07-22T11:11:26.995Z"
   },
   {
    "duration": 36,
    "start_time": "2024-07-22T11:11:34.707Z"
   },
   {
    "duration": 6,
    "start_time": "2024-07-22T11:12:43.166Z"
   },
   {
    "duration": 5,
    "start_time": "2024-07-22T11:13:38.841Z"
   },
   {
    "duration": 265,
    "start_time": "2024-07-22T11:14:04.393Z"
   },
   {
    "duration": 18,
    "start_time": "2024-07-22T11:14:10.008Z"
   },
   {
    "duration": 314,
    "start_time": "2024-07-22T11:14:23.241Z"
   },
   {
    "duration": 342,
    "start_time": "2024-07-22T11:14:46.304Z"
   },
   {
    "duration": 279,
    "start_time": "2024-07-22T11:14:50.946Z"
   },
   {
    "duration": 275,
    "start_time": "2024-07-22T11:15:00.103Z"
   },
   {
    "duration": 261,
    "start_time": "2024-07-22T11:15:29.793Z"
   },
   {
    "duration": 261,
    "start_time": "2024-07-22T11:16:07.238Z"
   },
   {
    "duration": 264,
    "start_time": "2024-07-22T11:16:16.597Z"
   },
   {
    "duration": 360,
    "start_time": "2024-07-22T11:17:32.949Z"
   },
   {
    "duration": 3,
    "start_time": "2024-07-22T11:18:15.593Z"
   },
   {
    "duration": 257,
    "start_time": "2024-07-22T11:18:15.597Z"
   },
   {
    "duration": 15,
    "start_time": "2024-07-22T11:18:15.856Z"
   },
   {
    "duration": 2057,
    "start_time": "2024-07-22T11:18:15.873Z"
   },
   {
    "duration": 13,
    "start_time": "2024-07-22T11:18:17.933Z"
   },
   {
    "duration": 46,
    "start_time": "2024-07-22T11:18:17.948Z"
   },
   {
    "duration": 8,
    "start_time": "2024-07-22T11:18:18.002Z"
   },
   {
    "duration": 7,
    "start_time": "2024-07-22T11:18:18.012Z"
   },
   {
    "duration": 6,
    "start_time": "2024-07-22T11:18:18.022Z"
   },
   {
    "duration": 110,
    "start_time": "2024-07-22T11:18:18.029Z"
   },
   {
    "duration": 7,
    "start_time": "2024-07-22T11:18:18.142Z"
   },
   {
    "duration": 8,
    "start_time": "2024-07-22T11:18:18.151Z"
   },
   {
    "duration": 38,
    "start_time": "2024-07-22T11:18:18.160Z"
   },
   {
    "duration": 6,
    "start_time": "2024-07-22T11:18:18.200Z"
   },
   {
    "duration": 16695,
    "start_time": "2024-07-22T11:18:18.208Z"
   },
   {
    "duration": 10,
    "start_time": "2024-07-22T11:18:34.905Z"
   },
   {
    "duration": 15,
    "start_time": "2024-07-22T11:18:34.916Z"
   },
   {
    "duration": 5,
    "start_time": "2024-07-22T11:18:34.933Z"
   },
   {
    "duration": 61,
    "start_time": "2024-07-22T11:18:34.940Z"
   },
   {
    "duration": 15,
    "start_time": "2024-07-22T11:18:35.003Z"
   },
   {
    "duration": 33,
    "start_time": "2024-07-22T11:18:35.020Z"
   },
   {
    "duration": 47,
    "start_time": "2024-07-22T11:18:35.055Z"
   },
   {
    "duration": 423,
    "start_time": "2024-07-22T11:18:35.103Z"
   },
   {
    "duration": 25,
    "start_time": "2024-07-22T11:18:35.527Z"
   },
   {
    "duration": 8,
    "start_time": "2024-07-22T11:18:35.553Z"
   },
   {
    "duration": 1577,
    "start_time": "2024-07-22T11:18:35.563Z"
   },
   {
    "duration": 268,
    "start_time": "2024-07-22T11:18:37.141Z"
   },
   {
    "duration": 261,
    "start_time": "2024-07-22T11:18:37.411Z"
   },
   {
    "duration": 284,
    "start_time": "2024-07-22T11:18:37.682Z"
   },
   {
    "duration": 443,
    "start_time": "2024-07-22T11:18:37.968Z"
   },
   {
    "duration": 289,
    "start_time": "2024-07-22T11:18:38.413Z"
   },
   {
    "duration": 288,
    "start_time": "2024-07-22T11:18:38.704Z"
   },
   {
    "duration": 275,
    "start_time": "2024-07-22T11:18:38.994Z"
   },
   {
    "duration": 270,
    "start_time": "2024-07-22T11:18:39.271Z"
   },
   {
    "duration": 271,
    "start_time": "2024-07-22T11:18:39.543Z"
   },
   {
    "duration": 380,
    "start_time": "2024-07-22T11:18:39.816Z"
   },
   {
    "duration": 40,
    "start_time": "2024-07-22T11:18:40.200Z"
   },
   {
    "duration": 277,
    "start_time": "2024-07-22T11:36:36.144Z"
   },
   {
    "duration": 281,
    "start_time": "2024-07-22T11:38:37.566Z"
   },
   {
    "duration": 282,
    "start_time": "2024-07-22T11:38:58.669Z"
   },
   {
    "duration": 290,
    "start_time": "2024-07-22T11:39:07.566Z"
   },
   {
    "duration": 2,
    "start_time": "2024-07-22T11:39:18.533Z"
   },
   {
    "duration": 136,
    "start_time": "2024-07-22T11:39:18.537Z"
   },
   {
    "duration": 27,
    "start_time": "2024-07-22T11:39:18.675Z"
   },
   {
    "duration": 2437,
    "start_time": "2024-07-22T11:39:18.704Z"
   },
   {
    "duration": 11,
    "start_time": "2024-07-22T11:39:21.143Z"
   },
   {
    "duration": 21,
    "start_time": "2024-07-22T11:39:21.155Z"
   },
   {
    "duration": 10,
    "start_time": "2024-07-22T11:39:21.182Z"
   },
   {
    "duration": 21,
    "start_time": "2024-07-22T11:39:21.194Z"
   },
   {
    "duration": 20,
    "start_time": "2024-07-22T11:39:21.217Z"
   },
   {
    "duration": 144,
    "start_time": "2024-07-22T11:39:21.238Z"
   },
   {
    "duration": 14,
    "start_time": "2024-07-22T11:39:21.388Z"
   },
   {
    "duration": 11,
    "start_time": "2024-07-22T11:39:21.410Z"
   },
   {
    "duration": 7,
    "start_time": "2024-07-22T11:39:21.423Z"
   },
   {
    "duration": 3,
    "start_time": "2024-07-22T11:39:21.431Z"
   },
   {
    "duration": 17802,
    "start_time": "2024-07-22T11:39:21.436Z"
   },
   {
    "duration": 9,
    "start_time": "2024-07-22T11:39:39.240Z"
   },
   {
    "duration": 15,
    "start_time": "2024-07-22T11:39:39.250Z"
   },
   {
    "duration": 27,
    "start_time": "2024-07-22T11:39:39.267Z"
   },
   {
    "duration": 29,
    "start_time": "2024-07-22T11:39:39.296Z"
   },
   {
    "duration": 29,
    "start_time": "2024-07-22T11:39:39.326Z"
   },
   {
    "duration": 57,
    "start_time": "2024-07-22T11:39:39.356Z"
   },
   {
    "duration": 35,
    "start_time": "2024-07-22T11:39:39.415Z"
   },
   {
    "duration": 500,
    "start_time": "2024-07-22T11:39:39.452Z"
   },
   {
    "duration": 49,
    "start_time": "2024-07-22T11:39:39.954Z"
   },
   {
    "duration": 6,
    "start_time": "2024-07-22T11:39:40.006Z"
   },
   {
    "duration": 1688,
    "start_time": "2024-07-22T11:39:40.014Z"
   },
   {
    "duration": 301,
    "start_time": "2024-07-22T11:39:41.704Z"
   },
   {
    "duration": 301,
    "start_time": "2024-07-22T11:39:42.007Z"
   },
   {
    "duration": 315,
    "start_time": "2024-07-22T11:39:42.314Z"
   },
   {
    "duration": 303,
    "start_time": "2024-07-22T11:39:42.631Z"
   },
   {
    "duration": 294,
    "start_time": "2024-07-22T11:39:42.936Z"
   },
   {
    "duration": 494,
    "start_time": "2024-07-22T11:39:43.232Z"
   },
   {
    "duration": 315,
    "start_time": "2024-07-22T11:39:43.728Z"
   },
   {
    "duration": 328,
    "start_time": "2024-07-22T11:39:44.044Z"
   },
   {
    "duration": 304,
    "start_time": "2024-07-22T11:39:44.374Z"
   },
   {
    "duration": 289,
    "start_time": "2024-07-22T11:39:44.686Z"
   },
   {
    "duration": 54,
    "start_time": "2024-07-22T11:39:44.977Z"
   },
   {
    "duration": 410,
    "start_time": "2024-07-22T11:39:50.095Z"
   },
   {
    "duration": 265,
    "start_time": "2024-07-22T11:40:20.226Z"
   },
   {
    "duration": 1589,
    "start_time": "2024-07-22T11:41:00.163Z"
   },
   {
    "duration": 3,
    "start_time": "2024-07-22T11:41:15.163Z"
   },
   {
    "duration": 166,
    "start_time": "2024-07-22T11:41:15.168Z"
   },
   {
    "duration": 16,
    "start_time": "2024-07-22T11:41:15.336Z"
   },
   {
    "duration": 2205,
    "start_time": "2024-07-22T11:41:15.353Z"
   },
   {
    "duration": 11,
    "start_time": "2024-07-22T11:41:17.560Z"
   },
   {
    "duration": 33,
    "start_time": "2024-07-22T11:41:17.586Z"
   },
   {
    "duration": 13,
    "start_time": "2024-07-22T11:41:17.621Z"
   },
   {
    "duration": 17,
    "start_time": "2024-07-22T11:41:17.636Z"
   },
   {
    "duration": 17,
    "start_time": "2024-07-22T11:41:17.655Z"
   },
   {
    "duration": 114,
    "start_time": "2024-07-22T11:41:17.673Z"
   },
   {
    "duration": 13,
    "start_time": "2024-07-22T11:41:17.793Z"
   },
   {
    "duration": 20,
    "start_time": "2024-07-22T11:41:17.807Z"
   },
   {
    "duration": 20,
    "start_time": "2024-07-22T11:41:17.829Z"
   },
   {
    "duration": 5,
    "start_time": "2024-07-22T11:41:17.851Z"
   },
   {
    "duration": 16581,
    "start_time": "2024-07-22T11:41:17.858Z"
   },
   {
    "duration": 10,
    "start_time": "2024-07-22T11:41:34.441Z"
   },
   {
    "duration": 34,
    "start_time": "2024-07-22T11:41:34.452Z"
   },
   {
    "duration": 6,
    "start_time": "2024-07-22T11:41:34.492Z"
   },
   {
    "duration": 22,
    "start_time": "2024-07-22T11:41:34.500Z"
   },
   {
    "duration": 15,
    "start_time": "2024-07-22T11:41:34.524Z"
   },
   {
    "duration": 28,
    "start_time": "2024-07-22T11:41:34.541Z"
   },
   {
    "duration": 36,
    "start_time": "2024-07-22T11:41:34.588Z"
   },
   {
    "duration": 427,
    "start_time": "2024-07-22T11:41:34.626Z"
   },
   {
    "duration": 40,
    "start_time": "2024-07-22T11:41:35.055Z"
   },
   {
    "duration": 6,
    "start_time": "2024-07-22T11:41:35.097Z"
   },
   {
    "duration": 1620,
    "start_time": "2024-07-22T11:41:35.105Z"
   },
   {
    "duration": 275,
    "start_time": "2024-07-22T11:41:36.727Z"
   },
   {
    "duration": 258,
    "start_time": "2024-07-22T11:41:37.003Z"
   },
   {
    "duration": 426,
    "start_time": "2024-07-22T11:41:37.264Z"
   },
   {
    "duration": 255,
    "start_time": "2024-07-22T11:41:37.694Z"
   },
   {
    "duration": 291,
    "start_time": "2024-07-22T11:41:37.951Z"
   },
   {
    "duration": 281,
    "start_time": "2024-07-22T11:41:38.244Z"
   },
   {
    "duration": 272,
    "start_time": "2024-07-22T11:41:38.527Z"
   },
   {
    "duration": 272,
    "start_time": "2024-07-22T11:41:38.800Z"
   },
   {
    "duration": 379,
    "start_time": "2024-07-22T11:41:39.074Z"
   },
   {
    "duration": 261,
    "start_time": "2024-07-22T11:41:39.455Z"
   },
   {
    "duration": 42,
    "start_time": "2024-07-22T11:41:39.718Z"
   },
   {
    "duration": 266,
    "start_time": "2024-07-22T11:42:03.175Z"
   },
   {
    "duration": 50,
    "start_time": "2024-07-22T11:42:41.451Z"
   },
   {
    "duration": 59,
    "start_time": "2024-07-22T11:42:54.741Z"
   },
   {
    "duration": 35,
    "start_time": "2024-07-22T11:43:07.038Z"
   },
   {
    "duration": 1560,
    "start_time": "2024-07-22T11:43:36.946Z"
   },
   {
    "duration": 290,
    "start_time": "2024-07-22T11:43:47.768Z"
   },
   {
    "duration": 260,
    "start_time": "2024-07-22T11:43:59.231Z"
   },
   {
    "duration": 406,
    "start_time": "2024-07-22T11:44:39.297Z"
   },
   {
    "duration": 2,
    "start_time": "2024-07-22T11:44:47.297Z"
   },
   {
    "duration": 128,
    "start_time": "2024-07-22T11:44:47.301Z"
   },
   {
    "duration": 15,
    "start_time": "2024-07-22T11:44:47.430Z"
   },
   {
    "duration": 2082,
    "start_time": "2024-07-22T11:44:47.447Z"
   },
   {
    "duration": 11,
    "start_time": "2024-07-22T11:44:49.532Z"
   },
   {
    "duration": 8,
    "start_time": "2024-07-22T11:44:49.544Z"
   },
   {
    "duration": 39,
    "start_time": "2024-07-22T11:44:49.553Z"
   },
   {
    "duration": 43,
    "start_time": "2024-07-22T11:44:49.594Z"
   },
   {
    "duration": 7,
    "start_time": "2024-07-22T11:44:49.638Z"
   },
   {
    "duration": 112,
    "start_time": "2024-07-22T11:44:49.646Z"
   },
   {
    "duration": 7,
    "start_time": "2024-07-22T11:44:49.760Z"
   },
   {
    "duration": 58,
    "start_time": "2024-07-22T11:44:49.768Z"
   },
   {
    "duration": 7,
    "start_time": "2024-07-22T11:44:49.828Z"
   },
   {
    "duration": 25,
    "start_time": "2024-07-22T11:44:49.836Z"
   },
   {
    "duration": 16565,
    "start_time": "2024-07-22T11:44:49.863Z"
   },
   {
    "duration": 10,
    "start_time": "2024-07-22T11:45:06.430Z"
   },
   {
    "duration": 31,
    "start_time": "2024-07-22T11:45:06.441Z"
   },
   {
    "duration": 4,
    "start_time": "2024-07-22T11:45:06.473Z"
   },
   {
    "duration": 21,
    "start_time": "2024-07-22T11:45:06.479Z"
   },
   {
    "duration": 16,
    "start_time": "2024-07-22T11:45:06.502Z"
   },
   {
    "duration": 28,
    "start_time": "2024-07-22T11:45:06.520Z"
   },
   {
    "duration": 69,
    "start_time": "2024-07-22T11:45:06.549Z"
   },
   {
    "duration": 410,
    "start_time": "2024-07-22T11:45:06.619Z"
   },
   {
    "duration": 26,
    "start_time": "2024-07-22T11:45:07.030Z"
   },
   {
    "duration": 29,
    "start_time": "2024-07-22T11:45:07.058Z"
   },
   {
    "duration": 1571,
    "start_time": "2024-07-22T11:45:07.093Z"
   },
   {
    "duration": 291,
    "start_time": "2024-07-22T11:45:08.666Z"
   },
   {
    "duration": 278,
    "start_time": "2024-07-22T11:45:08.958Z"
   },
   {
    "duration": 298,
    "start_time": "2024-07-22T11:45:09.239Z"
   },
   {
    "duration": 413,
    "start_time": "2024-07-22T11:45:09.538Z"
   },
   {
    "duration": 295,
    "start_time": "2024-07-22T11:45:09.953Z"
   },
   {
    "duration": 276,
    "start_time": "2024-07-22T11:45:10.249Z"
   },
   {
    "duration": 291,
    "start_time": "2024-07-22T11:45:10.526Z"
   },
   {
    "duration": 319,
    "start_time": "2024-07-22T11:45:10.819Z"
   },
   {
    "duration": 277,
    "start_time": "2024-07-22T11:45:11.140Z"
   },
   {
    "duration": 373,
    "start_time": "2024-07-22T11:45:11.418Z"
   },
   {
    "duration": 38,
    "start_time": "2024-07-22T11:45:11.794Z"
   },
   {
    "duration": 283,
    "start_time": "2024-07-22T11:46:07.355Z"
   },
   {
    "duration": 260,
    "start_time": "2024-07-22T11:46:38.376Z"
   },
   {
    "duration": 3,
    "start_time": "2024-07-22T11:46:54.693Z"
   },
   {
    "duration": 137,
    "start_time": "2024-07-22T11:46:54.698Z"
   },
   {
    "duration": 16,
    "start_time": "2024-07-22T11:46:54.837Z"
   },
   {
    "duration": 2152,
    "start_time": "2024-07-22T11:46:54.855Z"
   },
   {
    "duration": 12,
    "start_time": "2024-07-22T11:46:57.009Z"
   },
   {
    "duration": 12,
    "start_time": "2024-07-22T11:46:57.022Z"
   },
   {
    "duration": 6,
    "start_time": "2024-07-22T11:46:57.036Z"
   },
   {
    "duration": 4,
    "start_time": "2024-07-22T11:46:57.044Z"
   },
   {
    "duration": 47,
    "start_time": "2024-07-22T11:46:57.050Z"
   },
   {
    "duration": 98,
    "start_time": "2024-07-22T11:46:57.099Z"
   },
   {
    "duration": 6,
    "start_time": "2024-07-22T11:46:57.199Z"
   },
   {
    "duration": 22,
    "start_time": "2024-07-22T11:46:57.207Z"
   },
   {
    "duration": 8,
    "start_time": "2024-07-22T11:46:57.230Z"
   },
   {
    "duration": 14,
    "start_time": "2024-07-22T11:46:57.239Z"
   },
   {
    "duration": 17093,
    "start_time": "2024-07-22T11:46:57.255Z"
   },
   {
    "duration": 11,
    "start_time": "2024-07-22T11:47:14.350Z"
   },
   {
    "duration": 36,
    "start_time": "2024-07-22T11:47:14.363Z"
   },
   {
    "duration": 6,
    "start_time": "2024-07-22T11:47:14.401Z"
   },
   {
    "duration": 22,
    "start_time": "2024-07-22T11:47:14.409Z"
   },
   {
    "duration": 19,
    "start_time": "2024-07-22T11:47:14.432Z"
   },
   {
    "duration": 55,
    "start_time": "2024-07-22T11:47:14.454Z"
   },
   {
    "duration": 44,
    "start_time": "2024-07-22T11:47:14.511Z"
   },
   {
    "duration": 439,
    "start_time": "2024-07-22T11:47:14.557Z"
   },
   {
    "duration": 27,
    "start_time": "2024-07-22T11:47:14.999Z"
   },
   {
    "duration": 49,
    "start_time": "2024-07-22T11:47:15.028Z"
   },
   {
    "duration": 1644,
    "start_time": "2024-07-22T11:47:15.079Z"
   },
   {
    "duration": 295,
    "start_time": "2024-07-22T11:47:16.725Z"
   },
   {
    "duration": 410,
    "start_time": "2024-07-22T11:47:17.022Z"
   },
   {
    "duration": 275,
    "start_time": "2024-07-22T11:47:17.433Z"
   },
   {
    "duration": 285,
    "start_time": "2024-07-22T11:47:17.709Z"
   },
   {
    "duration": 293,
    "start_time": "2024-07-22T11:47:17.996Z"
   },
   {
    "duration": 294,
    "start_time": "2024-07-22T11:47:18.291Z"
   },
   {
    "duration": 297,
    "start_time": "2024-07-22T11:47:18.591Z"
   },
   {
    "duration": 372,
    "start_time": "2024-07-22T11:47:18.897Z"
   },
   {
    "duration": 280,
    "start_time": "2024-07-22T11:47:19.270Z"
   },
   {
    "duration": 262,
    "start_time": "2024-07-22T11:47:19.551Z"
   },
   {
    "duration": 37,
    "start_time": "2024-07-22T11:47:19.814Z"
   },
   {
    "duration": 285,
    "start_time": "2024-07-22T11:47:19.852Z"
   },
   {
    "duration": 10,
    "start_time": "2024-07-22T11:48:09.005Z"
   },
   {
    "duration": 9,
    "start_time": "2024-07-22T11:48:20.438Z"
   },
   {
    "duration": 9,
    "start_time": "2024-07-22T11:48:29.830Z"
   },
   {
    "duration": 261,
    "start_time": "2024-07-22T11:48:37.244Z"
   },
   {
    "duration": 342,
    "start_time": "2024-07-22T11:49:02.830Z"
   },
   {
    "duration": 328,
    "start_time": "2024-07-22T11:49:13.772Z"
   },
   {
    "duration": 12,
    "start_time": "2024-07-22T11:49:51.177Z"
   },
   {
    "duration": 5,
    "start_time": "2024-07-22T11:49:57.375Z"
   },
   {
    "duration": 3945,
    "start_time": "2024-07-22T11:52:17.950Z"
   },
   {
    "duration": 12,
    "start_time": "2024-07-22T11:52:24.403Z"
   },
   {
    "duration": 273,
    "start_time": "2024-07-22T11:52:58.648Z"
   },
   {
    "duration": 2553,
    "start_time": "2024-07-22T11:53:20.462Z"
   },
   {
    "duration": 9,
    "start_time": "2024-07-22T11:53:39.151Z"
   },
   {
    "duration": 262,
    "start_time": "2024-07-22T11:53:52.423Z"
   },
   {
    "duration": 268,
    "start_time": "2024-07-22T11:54:08.056Z"
   },
   {
    "duration": 259,
    "start_time": "2024-07-22T11:55:15.469Z"
   },
   {
    "duration": 336,
    "start_time": "2024-07-22T11:55:42.137Z"
   },
   {
    "duration": 269,
    "start_time": "2024-07-22T11:55:59.450Z"
   },
   {
    "duration": 68,
    "start_time": "2024-07-22T11:56:45.728Z"
   },
   {
    "duration": 296,
    "start_time": "2024-07-22T11:57:24.308Z"
   },
   {
    "duration": 280,
    "start_time": "2024-07-22T11:57:49.712Z"
   },
   {
    "duration": 260,
    "start_time": "2024-07-22T11:58:06.355Z"
   },
   {
    "duration": 384,
    "start_time": "2024-07-22T11:58:43.671Z"
   },
   {
    "duration": 287,
    "start_time": "2024-07-22T11:59:38.519Z"
   },
   {
    "duration": 261,
    "start_time": "2024-07-22T11:59:42.630Z"
   },
   {
    "duration": 287,
    "start_time": "2024-07-22T12:03:06.097Z"
   },
   {
    "duration": 270,
    "start_time": "2024-07-22T12:03:15.209Z"
   },
   {
    "duration": 251,
    "start_time": "2024-07-22T12:03:35.205Z"
   },
   {
    "duration": 351,
    "start_time": "2024-07-22T12:04:05.063Z"
   },
   {
    "duration": 267,
    "start_time": "2024-07-22T12:04:09.345Z"
   },
   {
    "duration": 288,
    "start_time": "2024-07-22T12:05:17.296Z"
   },
   {
    "duration": 46,
    "start_time": "2024-07-22T12:06:13.293Z"
   },
   {
    "duration": 9,
    "start_time": "2024-07-22T12:06:26.625Z"
   },
   {
    "duration": 11,
    "start_time": "2024-07-22T12:06:50.023Z"
   },
   {
    "duration": 14,
    "start_time": "2024-07-22T12:09:09.477Z"
   },
   {
    "duration": 267,
    "start_time": "2024-07-22T12:09:26.143Z"
   },
   {
    "duration": 3,
    "start_time": "2024-07-22T12:11:38.055Z"
   },
   {
    "duration": 142,
    "start_time": "2024-07-22T12:11:38.060Z"
   },
   {
    "duration": 17,
    "start_time": "2024-07-22T12:11:38.204Z"
   },
   {
    "duration": 2176,
    "start_time": "2024-07-22T12:11:38.222Z"
   },
   {
    "duration": 12,
    "start_time": "2024-07-22T12:11:40.401Z"
   },
   {
    "duration": 10,
    "start_time": "2024-07-22T12:11:40.414Z"
   },
   {
    "duration": 21,
    "start_time": "2024-07-22T12:11:40.425Z"
   },
   {
    "duration": 35,
    "start_time": "2024-07-22T12:11:40.448Z"
   },
   {
    "duration": 27,
    "start_time": "2024-07-22T12:11:40.484Z"
   },
   {
    "duration": 153,
    "start_time": "2024-07-22T12:11:40.513Z"
   },
   {
    "duration": 8,
    "start_time": "2024-07-22T12:11:40.668Z"
   },
   {
    "duration": 22,
    "start_time": "2024-07-22T12:11:40.678Z"
   },
   {
    "duration": 23,
    "start_time": "2024-07-22T12:11:40.702Z"
   },
   {
    "duration": 11,
    "start_time": "2024-07-22T12:11:40.727Z"
   },
   {
    "duration": 16695,
    "start_time": "2024-07-22T12:11:40.740Z"
   },
   {
    "duration": 10,
    "start_time": "2024-07-22T12:11:57.437Z"
   },
   {
    "duration": 22,
    "start_time": "2024-07-22T12:11:57.449Z"
   },
   {
    "duration": 17,
    "start_time": "2024-07-22T12:11:57.482Z"
   },
   {
    "duration": 15,
    "start_time": "2024-07-22T12:11:57.500Z"
   },
   {
    "duration": 14,
    "start_time": "2024-07-22T12:11:57.517Z"
   },
   {
    "duration": 28,
    "start_time": "2024-07-22T12:11:57.532Z"
   },
   {
    "duration": 58,
    "start_time": "2024-07-22T12:11:57.561Z"
   },
   {
    "duration": 459,
    "start_time": "2024-07-22T12:11:57.621Z"
   },
   {
    "duration": 28,
    "start_time": "2024-07-22T12:11:58.083Z"
   },
   {
    "duration": 6,
    "start_time": "2024-07-22T12:11:58.112Z"
   },
   {
    "duration": 1602,
    "start_time": "2024-07-22T12:12:07.301Z"
   },
   {
    "duration": 391,
    "start_time": "2024-07-22T12:12:16.348Z"
   },
   {
    "duration": 310,
    "start_time": "2024-07-22T12:12:20.680Z"
   },
   {
    "duration": 270,
    "start_time": "2024-07-22T12:12:28.754Z"
   },
   {
    "duration": 291,
    "start_time": "2024-07-22T12:12:33.966Z"
   },
   {
    "duration": 262,
    "start_time": "2024-07-22T12:12:40.240Z"
   },
   {
    "duration": 265,
    "start_time": "2024-07-22T12:12:58.309Z"
   },
   {
    "duration": 366,
    "start_time": "2024-07-22T12:13:01.525Z"
   },
   {
    "duration": 286,
    "start_time": "2024-07-22T12:13:05.337Z"
   },
   {
    "duration": 308,
    "start_time": "2024-07-22T12:13:10.148Z"
   },
   {
    "duration": 358,
    "start_time": "2024-07-22T12:13:14.002Z"
   },
   {
    "duration": 268,
    "start_time": "2024-07-22T12:13:19.362Z"
   },
   {
    "duration": 4686,
    "start_time": "2024-07-22T12:13:29.722Z"
   },
   {
    "duration": 4630,
    "start_time": "2024-07-22T12:13:47.086Z"
   },
   {
    "duration": 345,
    "start_time": "2024-07-22T12:14:09.177Z"
   },
   {
    "duration": 312,
    "start_time": "2024-07-22T12:14:15.905Z"
   },
   {
    "duration": 314,
    "start_time": "2024-07-22T12:14:19.803Z"
   },
   {
    "duration": 283,
    "start_time": "2024-07-22T12:14:27.287Z"
   },
   {
    "duration": 274,
    "start_time": "2024-07-22T12:14:53.230Z"
   },
   {
    "duration": 278,
    "start_time": "2024-07-22T12:15:15.293Z"
   },
   {
    "duration": 391,
    "start_time": "2024-07-22T12:15:33.441Z"
   },
   {
    "duration": 284,
    "start_time": "2024-07-22T12:17:00.956Z"
   },
   {
    "duration": 247,
    "start_time": "2024-07-22T12:18:05.052Z"
   },
   {
    "duration": 234,
    "start_time": "2024-07-22T12:18:17.243Z"
   },
   {
    "duration": 241,
    "start_time": "2024-07-22T12:18:32.500Z"
   },
   {
    "duration": 371,
    "start_time": "2024-07-22T12:18:40.241Z"
   },
   {
    "duration": 272,
    "start_time": "2024-07-22T12:18:53.846Z"
   },
   {
    "duration": 268,
    "start_time": "2024-07-22T12:21:15.194Z"
   },
   {
    "duration": 246,
    "start_time": "2024-07-22T12:21:37.203Z"
   },
   {
    "duration": 57,
    "start_time": "2024-07-22T12:22:40.011Z"
   },
   {
    "duration": 167,
    "start_time": "2024-07-22T12:25:17.583Z"
   },
   {
    "duration": 282,
    "start_time": "2024-07-22T12:25:31.877Z"
   },
   {
    "duration": 386,
    "start_time": "2024-07-22T12:27:06.482Z"
   },
   {
    "duration": 255,
    "start_time": "2024-07-22T12:27:42.838Z"
   },
   {
    "duration": 269,
    "start_time": "2024-07-22T12:27:49.492Z"
   },
   {
    "duration": 272,
    "start_time": "2024-07-22T12:27:56.744Z"
   },
   {
    "duration": 254,
    "start_time": "2024-07-22T12:28:24.574Z"
   },
   {
    "duration": 21,
    "start_time": "2024-07-22T12:30:03.454Z"
   },
   {
    "duration": 7302,
    "start_time": "2024-07-22T12:30:10.175Z"
   },
   {
    "duration": 12,
    "start_time": "2024-07-22T12:31:55.370Z"
   },
   {
    "duration": 28,
    "start_time": "2024-07-22T12:32:10.523Z"
   },
   {
    "duration": 10,
    "start_time": "2024-07-22T12:33:19.644Z"
   },
   {
    "duration": 8,
    "start_time": "2024-07-22T12:34:37.501Z"
   },
   {
    "duration": 7,
    "start_time": "2024-07-22T12:34:40.951Z"
   },
   {
    "duration": 13,
    "start_time": "2024-07-22T12:34:42.699Z"
   },
   {
    "duration": 7,
    "start_time": "2024-07-22T12:34:59.701Z"
   },
   {
    "duration": 63,
    "start_time": "2024-07-22T12:35:29.378Z"
   },
   {
    "duration": 52,
    "start_time": "2024-07-22T12:35:33.178Z"
   },
   {
    "duration": 57,
    "start_time": "2024-07-22T12:35:44.919Z"
   },
   {
    "duration": 60,
    "start_time": "2024-07-22T12:36:15.509Z"
   },
   {
    "duration": 9,
    "start_time": "2024-07-22T12:36:18.019Z"
   },
   {
    "duration": 10,
    "start_time": "2024-07-22T12:37:10.291Z"
   },
   {
    "duration": 12,
    "start_time": "2024-07-22T12:37:28.550Z"
   },
   {
    "duration": 10,
    "start_time": "2024-07-22T12:37:32.863Z"
   },
   {
    "duration": 9,
    "start_time": "2024-07-22T12:37:38.438Z"
   },
   {
    "duration": 12,
    "start_time": "2024-07-22T12:38:03.728Z"
   },
   {
    "duration": 14,
    "start_time": "2024-07-22T12:38:10.486Z"
   },
   {
    "duration": 12,
    "start_time": "2024-07-22T12:38:17.651Z"
   },
   {
    "duration": 7,
    "start_time": "2024-07-22T12:38:29.780Z"
   },
   {
    "duration": 12,
    "start_time": "2024-07-22T12:38:33.592Z"
   },
   {
    "duration": 18,
    "start_time": "2024-07-22T12:38:37.651Z"
   },
   {
    "duration": 9,
    "start_time": "2024-07-22T12:38:41.939Z"
   },
   {
    "duration": 9,
    "start_time": "2024-07-22T12:38:52.767Z"
   },
   {
    "duration": 20,
    "start_time": "2024-07-22T12:39:05.401Z"
   },
   {
    "duration": 17,
    "start_time": "2024-07-22T12:39:09.977Z"
   },
   {
    "duration": 18,
    "start_time": "2024-07-22T12:39:32.327Z"
   },
   {
    "duration": 27,
    "start_time": "2024-07-22T12:40:53.855Z"
   },
   {
    "duration": 36,
    "start_time": "2024-07-22T12:41:11.422Z"
   },
   {
    "duration": 20,
    "start_time": "2024-07-22T12:42:13.513Z"
   },
   {
    "duration": 718,
    "start_time": "2024-07-22T18:19:09.407Z"
   },
   {
    "duration": 331,
    "start_time": "2024-07-22T18:19:10.126Z"
   },
   {
    "duration": 14,
    "start_time": "2024-07-22T18:19:10.459Z"
   },
   {
    "duration": 1651,
    "start_time": "2024-07-22T18:19:10.474Z"
   },
   {
    "duration": 10,
    "start_time": "2024-07-22T18:19:12.126Z"
   },
   {
    "duration": 19,
    "start_time": "2024-07-22T18:19:12.137Z"
   },
   {
    "duration": 32,
    "start_time": "2024-07-22T18:19:12.158Z"
   },
   {
    "duration": 4,
    "start_time": "2024-07-22T18:19:12.191Z"
   },
   {
    "duration": 9,
    "start_time": "2024-07-22T18:19:12.196Z"
   },
   {
    "duration": 80,
    "start_time": "2024-07-22T18:19:12.207Z"
   },
   {
    "duration": 12,
    "start_time": "2024-07-22T18:19:12.288Z"
   },
   {
    "duration": 8,
    "start_time": "2024-07-22T18:19:12.301Z"
   },
   {
    "duration": 5,
    "start_time": "2024-07-22T18:19:12.310Z"
   },
   {
    "duration": 12,
    "start_time": "2024-07-22T18:19:12.316Z"
   },
   {
    "duration": 12287,
    "start_time": "2024-07-22T18:19:12.329Z"
   },
   {
    "duration": 8,
    "start_time": "2024-07-22T18:19:24.617Z"
   },
   {
    "duration": 13,
    "start_time": "2024-07-22T18:19:24.627Z"
   },
   {
    "duration": 4,
    "start_time": "2024-07-22T18:19:24.641Z"
   },
   {
    "duration": 16,
    "start_time": "2024-07-22T18:19:24.647Z"
   },
   {
    "duration": 53,
    "start_time": "2024-07-22T18:19:24.665Z"
   },
   {
    "duration": 22,
    "start_time": "2024-07-22T18:19:24.719Z"
   },
   {
    "duration": 26,
    "start_time": "2024-07-22T18:19:24.742Z"
   },
   {
    "duration": 312,
    "start_time": "2024-07-22T18:19:24.769Z"
   },
   {
    "duration": 28,
    "start_time": "2024-07-22T18:19:25.082Z"
   },
   {
    "duration": 5,
    "start_time": "2024-07-22T18:19:25.112Z"
   },
   {
    "duration": 1268,
    "start_time": "2024-07-22T18:19:25.118Z"
   },
   {
    "duration": 212,
    "start_time": "2024-07-22T18:19:26.387Z"
   },
   {
    "duration": 289,
    "start_time": "2024-07-22T18:19:26.602Z"
   },
   {
    "duration": 220,
    "start_time": "2024-07-22T18:19:26.895Z"
   },
   {
    "duration": 196,
    "start_time": "2024-07-22T18:19:27.117Z"
   },
   {
    "duration": 214,
    "start_time": "2024-07-22T18:19:27.314Z"
   },
   {
    "duration": 215,
    "start_time": "2024-07-22T18:19:27.530Z"
   },
   {
    "duration": 261,
    "start_time": "2024-07-22T18:19:27.746Z"
   },
   {
    "duration": 223,
    "start_time": "2024-07-22T18:19:28.009Z"
   },
   {
    "duration": 218,
    "start_time": "2024-07-22T18:19:28.233Z"
   },
   {
    "duration": 198,
    "start_time": "2024-07-22T18:19:28.452Z"
   },
   {
    "duration": 44,
    "start_time": "2024-07-22T18:19:28.652Z"
   },
   {
    "duration": 187,
    "start_time": "2024-07-22T18:19:28.697Z"
   },
   {
    "duration": 3475,
    "start_time": "2024-07-22T18:19:28.885Z"
   },
   {
    "duration": 203,
    "start_time": "2024-07-22T18:19:32.361Z"
   },
   {
    "duration": 260,
    "start_time": "2024-07-22T18:19:32.565Z"
   },
   {
    "duration": 202,
    "start_time": "2024-07-22T18:19:32.826Z"
   },
   {
    "duration": 204,
    "start_time": "2024-07-22T18:19:33.029Z"
   },
   {
    "duration": 202,
    "start_time": "2024-07-22T18:19:33.234Z"
   },
   {
    "duration": 202,
    "start_time": "2024-07-22T18:19:33.437Z"
   },
   {
    "duration": 261,
    "start_time": "2024-07-22T18:19:33.640Z"
   },
   {
    "duration": 2,
    "start_time": "2024-07-22T18:19:33.902Z"
   },
   {
    "duration": 201,
    "start_time": "2024-07-22T18:19:33.905Z"
   },
   {
    "duration": 16,
    "start_time": "2024-07-22T18:19:34.108Z"
   },
   {
    "duration": 5828,
    "start_time": "2024-07-22T18:19:34.125Z"
   },
   {
    "duration": 8,
    "start_time": "2024-07-22T18:19:48.249Z"
   },
   {
    "duration": 7,
    "start_time": "2024-07-22T18:20:10.120Z"
   },
   {
    "duration": 6,
    "start_time": "2024-07-22T18:20:16.261Z"
   },
   {
    "duration": 7,
    "start_time": "2024-07-22T18:20:24.932Z"
   },
   {
    "duration": 969,
    "start_time": "2024-07-22T18:20:39.459Z"
   },
   {
    "duration": 8,
    "start_time": "2024-07-22T18:20:45.995Z"
   },
   {
    "duration": 902,
    "start_time": "2024-07-22T18:23:40.680Z"
   },
   {
    "duration": 829,
    "start_time": "2024-07-22T18:23:48.252Z"
   },
   {
    "duration": 800,
    "start_time": "2024-07-22T18:23:52.057Z"
   },
   {
    "duration": 9,
    "start_time": "2024-07-22T18:24:05.592Z"
   },
   {
    "duration": 7,
    "start_time": "2024-07-22T18:24:09.238Z"
   },
   {
    "duration": 16,
    "start_time": "2024-07-22T18:25:08.690Z"
   },
   {
    "duration": 13,
    "start_time": "2024-07-22T18:25:15.085Z"
   },
   {
    "duration": 10,
    "start_time": "2024-07-22T18:25:35.585Z"
   },
   {
    "duration": 10,
    "start_time": "2024-07-22T18:26:01.409Z"
   },
   {
    "duration": 19,
    "start_time": "2024-07-22T18:27:01.830Z"
   },
   {
    "duration": 9,
    "start_time": "2024-07-22T18:30:26.685Z"
   },
   {
    "duration": 12,
    "start_time": "2024-07-22T18:31:37.516Z"
   },
   {
    "duration": 11,
    "start_time": "2024-07-22T18:33:34.045Z"
   },
   {
    "duration": 57,
    "start_time": "2024-07-22T18:34:56.106Z"
   },
   {
    "duration": 56,
    "start_time": "2024-07-22T18:35:14.225Z"
   },
   {
    "duration": 55,
    "start_time": "2024-07-22T18:35:19.646Z"
   },
   {
    "duration": 15,
    "start_time": "2024-07-22T18:35:47.242Z"
   },
   {
    "duration": 158,
    "start_time": "2024-07-22T18:36:28.639Z"
   },
   {
    "duration": 160,
    "start_time": "2024-07-22T18:36:40.987Z"
   },
   {
    "duration": 12,
    "start_time": "2024-07-22T18:37:05.947Z"
   },
   {
    "duration": 44,
    "start_time": "2024-07-23T15:30:46.101Z"
   },
   {
    "duration": 811,
    "start_time": "2024-07-23T15:30:51.854Z"
   },
   {
    "duration": 182,
    "start_time": "2024-07-23T15:30:52.668Z"
   },
   {
    "duration": 15,
    "start_time": "2024-07-23T15:30:52.851Z"
   },
   {
    "duration": 1856,
    "start_time": "2024-07-23T15:30:52.868Z"
   },
   {
    "duration": 17,
    "start_time": "2024-07-23T15:30:54.726Z"
   },
   {
    "duration": 7,
    "start_time": "2024-07-23T15:30:54.744Z"
   },
   {
    "duration": 31,
    "start_time": "2024-07-23T15:30:54.753Z"
   },
   {
    "duration": 12,
    "start_time": "2024-07-23T15:30:54.786Z"
   },
   {
    "duration": 20,
    "start_time": "2024-07-23T15:30:54.800Z"
   },
   {
    "duration": 86,
    "start_time": "2024-07-23T15:30:54.822Z"
   },
   {
    "duration": 9,
    "start_time": "2024-07-23T15:30:54.909Z"
   },
   {
    "duration": 43,
    "start_time": "2024-07-23T15:30:54.919Z"
   },
   {
    "duration": 14,
    "start_time": "2024-07-23T15:30:54.964Z"
   },
   {
    "duration": 22,
    "start_time": "2024-07-23T15:30:54.980Z"
   },
   {
    "duration": 14365,
    "start_time": "2024-07-23T15:30:55.004Z"
   },
   {
    "duration": 9,
    "start_time": "2024-07-23T15:31:09.370Z"
   },
   {
    "duration": 43,
    "start_time": "2024-07-23T15:31:09.380Z"
   },
   {
    "duration": 8,
    "start_time": "2024-07-23T15:31:09.424Z"
   },
   {
    "duration": 82,
    "start_time": "2024-07-23T15:31:09.433Z"
   },
   {
    "duration": 27,
    "start_time": "2024-07-23T15:31:09.516Z"
   },
   {
    "duration": 39,
    "start_time": "2024-07-23T15:31:09.544Z"
   },
   {
    "duration": 30,
    "start_time": "2024-07-23T15:31:09.584Z"
   },
   {
    "duration": 325,
    "start_time": "2024-07-23T15:31:09.616Z"
   },
   {
    "duration": 22,
    "start_time": "2024-07-23T15:31:09.943Z"
   },
   {
    "duration": 17,
    "start_time": "2024-07-23T15:31:09.967Z"
   },
   {
    "duration": 1369,
    "start_time": "2024-07-23T15:31:09.985Z"
   },
   {
    "duration": 247,
    "start_time": "2024-07-23T15:31:11.356Z"
   },
   {
    "duration": 338,
    "start_time": "2024-07-23T15:31:11.606Z"
   },
   {
    "duration": 245,
    "start_time": "2024-07-23T15:31:11.945Z"
   },
   {
    "duration": 244,
    "start_time": "2024-07-23T15:31:12.191Z"
   },
   {
    "duration": 203,
    "start_time": "2024-07-23T15:31:12.437Z"
   },
   {
    "duration": 237,
    "start_time": "2024-07-23T15:31:12.642Z"
   },
   {
    "duration": 302,
    "start_time": "2024-07-23T15:31:12.880Z"
   },
   {
    "duration": 232,
    "start_time": "2024-07-23T15:31:13.184Z"
   },
   {
    "duration": 259,
    "start_time": "2024-07-23T15:31:13.418Z"
   },
   {
    "duration": 258,
    "start_time": "2024-07-23T15:31:13.679Z"
   },
   {
    "duration": 228,
    "start_time": "2024-07-23T15:31:13.939Z"
   },
   {
    "duration": 34,
    "start_time": "2024-07-23T15:31:14.169Z"
   },
   {
    "duration": 236,
    "start_time": "2024-07-23T15:31:14.205Z"
   },
   {
    "duration": 4024,
    "start_time": "2024-07-23T15:31:14.443Z"
   },
   {
    "duration": 246,
    "start_time": "2024-07-23T15:31:18.469Z"
   },
   {
    "duration": 210,
    "start_time": "2024-07-23T15:31:18.717Z"
   },
   {
    "duration": 221,
    "start_time": "2024-07-23T15:31:18.929Z"
   },
   {
    "duration": 230,
    "start_time": "2024-07-23T15:31:19.152Z"
   },
   {
    "duration": 244,
    "start_time": "2024-07-23T15:31:19.384Z"
   },
   {
    "duration": 312,
    "start_time": "2024-07-23T15:31:19.638Z"
   },
   {
    "duration": 239,
    "start_time": "2024-07-23T15:31:19.952Z"
   },
   {
    "duration": 3,
    "start_time": "2024-07-23T15:31:20.193Z"
   },
   {
    "duration": 246,
    "start_time": "2024-07-23T15:31:20.197Z"
   },
   {
    "duration": 19,
    "start_time": "2024-07-23T15:31:20.444Z"
   },
   {
    "duration": 6436,
    "start_time": "2024-07-23T15:31:20.465Z"
   },
   {
    "duration": 80,
    "start_time": "2024-07-23T15:31:26.902Z"
   },
   {
    "duration": 25,
    "start_time": "2024-07-23T15:31:26.984Z"
   },
   {
    "duration": 175,
    "start_time": "2024-07-23T15:31:27.010Z"
   },
   {
    "duration": 8,
    "start_time": "2024-07-23T15:31:27.187Z"
   },
   {
    "duration": 56,
    "start_time": "2024-07-23T15:45:46.119Z"
   },
   {
    "duration": 885,
    "start_time": "2024-07-24T06:02:29.311Z"
   },
   {
    "duration": 207,
    "start_time": "2024-07-24T06:02:30.198Z"
   },
   {
    "duration": 19,
    "start_time": "2024-07-24T06:02:30.407Z"
   },
   {
    "duration": 2357,
    "start_time": "2024-07-24T06:02:30.428Z"
   },
   {
    "duration": 16,
    "start_time": "2024-07-24T06:02:32.787Z"
   },
   {
    "duration": 145,
    "start_time": "2024-07-24T06:02:32.805Z"
   },
   {
    "duration": 36,
    "start_time": "2024-07-24T06:02:32.952Z"
   },
   {
    "duration": 10,
    "start_time": "2024-07-24T06:02:32.990Z"
   },
   {
    "duration": 6,
    "start_time": "2024-07-24T06:02:33.002Z"
   },
   {
    "duration": 135,
    "start_time": "2024-07-24T06:02:33.012Z"
   },
   {
    "duration": 11,
    "start_time": "2024-07-24T06:02:33.149Z"
   },
   {
    "duration": 20,
    "start_time": "2024-07-24T06:02:33.162Z"
   },
   {
    "duration": 15,
    "start_time": "2024-07-24T06:02:33.184Z"
   },
   {
    "duration": 4,
    "start_time": "2024-07-24T06:02:33.202Z"
   },
   {
    "duration": 10,
    "start_time": "2024-07-24T06:05:12.367Z"
   },
   {
    "duration": 14,
    "start_time": "2024-07-24T06:05:34.557Z"
   },
   {
    "duration": 13,
    "start_time": "2024-07-24T06:05:49.154Z"
   },
   {
    "duration": 14,
    "start_time": "2024-07-24T06:06:00.087Z"
   },
   {
    "duration": 31,
    "start_time": "2024-07-24T06:07:00.505Z"
   },
   {
    "duration": 17,
    "start_time": "2024-07-24T06:07:11.078Z"
   },
   {
    "duration": 19,
    "start_time": "2024-07-24T06:07:21.105Z"
   },
   {
    "duration": 19,
    "start_time": "2024-07-24T06:07:48.267Z"
   },
   {
    "duration": 18,
    "start_time": "2024-07-24T06:10:03.677Z"
   },
   {
    "duration": 20,
    "start_time": "2024-07-24T06:10:10.548Z"
   },
   {
    "duration": 17,
    "start_time": "2024-07-24T06:10:33.016Z"
   },
   {
    "duration": 22,
    "start_time": "2024-07-24T06:10:36.725Z"
   },
   {
    "duration": 24,
    "start_time": "2024-07-24T06:11:17.863Z"
   },
   {
    "duration": 17,
    "start_time": "2024-07-24T06:11:24.993Z"
   },
   {
    "duration": 21,
    "start_time": "2024-07-24T06:11:27.933Z"
   },
   {
    "duration": 78,
    "start_time": "2024-07-24T06:14:59.567Z"
   },
   {
    "duration": 32,
    "start_time": "2024-07-24T06:17:39.577Z"
   },
   {
    "duration": 2,
    "start_time": "2024-07-24T06:18:03.082Z"
   },
   {
    "duration": 29,
    "start_time": "2024-07-24T06:20:36.296Z"
   },
   {
    "duration": 3,
    "start_time": "2024-07-24T06:21:32.449Z"
   },
   {
    "duration": 14,
    "start_time": "2024-07-24T06:22:06.740Z"
   },
   {
    "duration": 40,
    "start_time": "2024-07-24T06:22:25.221Z"
   },
   {
    "duration": 26,
    "start_time": "2024-07-24T06:22:37.465Z"
   },
   {
    "duration": 8,
    "start_time": "2024-07-24T06:22:50.509Z"
   },
   {
    "duration": 12,
    "start_time": "2024-07-24T06:23:44.550Z"
   },
   {
    "duration": 1292,
    "start_time": "2024-07-24T06:23:56.095Z"
   },
   {
    "duration": 30,
    "start_time": "2024-07-24T06:24:07.596Z"
   },
   {
    "duration": 2,
    "start_time": "2024-07-24T06:24:26.942Z"
   },
   {
    "duration": 132,
    "start_time": "2024-07-24T06:24:26.946Z"
   },
   {
    "duration": 16,
    "start_time": "2024-07-24T06:24:27.080Z"
   },
   {
    "duration": 2120,
    "start_time": "2024-07-24T06:24:27.097Z"
   },
   {
    "duration": 11,
    "start_time": "2024-07-24T06:24:29.219Z"
   },
   {
    "duration": 20,
    "start_time": "2024-07-24T06:24:29.231Z"
   },
   {
    "duration": 7,
    "start_time": "2024-07-24T06:24:29.252Z"
   },
   {
    "duration": 4,
    "start_time": "2024-07-24T06:24:29.260Z"
   },
   {
    "duration": 6,
    "start_time": "2024-07-24T06:24:29.265Z"
   },
   {
    "duration": 114,
    "start_time": "2024-07-24T06:24:29.272Z"
   },
   {
    "duration": 8,
    "start_time": "2024-07-24T06:24:29.388Z"
   },
   {
    "duration": 16,
    "start_time": "2024-07-24T06:24:29.397Z"
   },
   {
    "duration": 7,
    "start_time": "2024-07-24T06:24:29.414Z"
   },
   {
    "duration": 24,
    "start_time": "2024-07-24T06:24:29.422Z"
   },
   {
    "duration": 22,
    "start_time": "2024-07-24T06:24:29.447Z"
   },
   {
    "duration": 44,
    "start_time": "2024-07-24T06:24:34.888Z"
   },
   {
    "duration": 55,
    "start_time": "2024-07-24T06:24:50.398Z"
   },
   {
    "duration": 1012,
    "start_time": "2024-07-24T06:25:18.432Z"
   },
   {
    "duration": 15,
    "start_time": "2024-07-24T06:25:36.175Z"
   },
   {
    "duration": 1201,
    "start_time": "2024-07-24T06:25:53.096Z"
   },
   {
    "duration": 27,
    "start_time": "2024-07-24T06:27:02.236Z"
   },
   {
    "duration": 26,
    "start_time": "2024-07-24T06:27:39.362Z"
   },
   {
    "duration": 27,
    "start_time": "2024-07-24T06:27:56.905Z"
   },
   {
    "duration": 1201,
    "start_time": "2024-07-24T06:28:19.249Z"
   },
   {
    "duration": 31,
    "start_time": "2024-07-24T06:28:30.960Z"
   },
   {
    "duration": 1308,
    "start_time": "2024-07-24T06:28:41.543Z"
   },
   {
    "duration": 3,
    "start_time": "2024-07-24T06:28:47.975Z"
   },
   {
    "duration": 154,
    "start_time": "2024-07-24T06:28:47.981Z"
   },
   {
    "duration": 19,
    "start_time": "2024-07-24T06:28:48.137Z"
   },
   {
    "duration": 2317,
    "start_time": "2024-07-24T06:28:48.159Z"
   },
   {
    "duration": 12,
    "start_time": "2024-07-24T06:28:50.478Z"
   },
   {
    "duration": 9,
    "start_time": "2024-07-24T06:28:50.492Z"
   },
   {
    "duration": 8,
    "start_time": "2024-07-24T06:28:50.503Z"
   },
   {
    "duration": 35,
    "start_time": "2024-07-24T06:28:50.513Z"
   },
   {
    "duration": 8,
    "start_time": "2024-07-24T06:28:50.551Z"
   },
   {
    "duration": 113,
    "start_time": "2024-07-24T06:28:50.561Z"
   },
   {
    "duration": 8,
    "start_time": "2024-07-24T06:28:50.675Z"
   },
   {
    "duration": 27,
    "start_time": "2024-07-24T06:28:50.686Z"
   },
   {
    "duration": 11,
    "start_time": "2024-07-24T06:28:50.714Z"
   },
   {
    "duration": 4,
    "start_time": "2024-07-24T06:28:50.727Z"
   },
   {
    "duration": 34,
    "start_time": "2024-07-24T06:28:50.733Z"
   },
   {
    "duration": 26,
    "start_time": "2024-07-24T06:31:26.495Z"
   },
   {
    "duration": 963,
    "start_time": "2024-07-24T06:31:47.202Z"
   },
   {
    "duration": 21,
    "start_time": "2024-07-24T06:32:17.147Z"
   },
   {
    "duration": 1342,
    "start_time": "2024-07-24T06:33:15.469Z"
   },
   {
    "duration": 3,
    "start_time": "2024-07-24T06:33:21.062Z"
   },
   {
    "duration": 135,
    "start_time": "2024-07-24T06:33:21.067Z"
   },
   {
    "duration": 16,
    "start_time": "2024-07-24T06:33:21.204Z"
   },
   {
    "duration": 2014,
    "start_time": "2024-07-24T06:33:21.222Z"
   },
   {
    "duration": 13,
    "start_time": "2024-07-24T06:33:23.238Z"
   },
   {
    "duration": 25,
    "start_time": "2024-07-24T06:33:23.253Z"
   },
   {
    "duration": 12,
    "start_time": "2024-07-24T06:33:23.281Z"
   },
   {
    "duration": 4,
    "start_time": "2024-07-24T06:33:23.295Z"
   },
   {
    "duration": 7,
    "start_time": "2024-07-24T06:33:23.301Z"
   },
   {
    "duration": 120,
    "start_time": "2024-07-24T06:33:23.310Z"
   },
   {
    "duration": 15,
    "start_time": "2024-07-24T06:33:23.431Z"
   },
   {
    "duration": 9,
    "start_time": "2024-07-24T06:33:23.447Z"
   },
   {
    "duration": 6,
    "start_time": "2024-07-24T06:33:23.457Z"
   },
   {
    "duration": 4,
    "start_time": "2024-07-24T06:33:23.465Z"
   },
   {
    "duration": 221,
    "start_time": "2024-07-24T06:33:23.470Z"
   },
   {
    "duration": 4,
    "start_time": "2024-07-24T06:33:33.604Z"
   },
   {
    "duration": 135,
    "start_time": "2024-07-24T06:33:33.610Z"
   },
   {
    "duration": 15,
    "start_time": "2024-07-24T06:33:33.746Z"
   },
   {
    "duration": 2000,
    "start_time": "2024-07-24T06:33:33.763Z"
   },
   {
    "duration": 15,
    "start_time": "2024-07-24T06:33:35.769Z"
   },
   {
    "duration": 151,
    "start_time": "2024-07-24T06:33:35.786Z"
   },
   {
    "duration": 35,
    "start_time": "2024-07-24T06:33:35.940Z"
   },
   {
    "duration": 11,
    "start_time": "2024-07-24T06:33:35.977Z"
   },
   {
    "duration": 7,
    "start_time": "2024-07-24T06:33:35.991Z"
   },
   {
    "duration": 113,
    "start_time": "2024-07-24T06:33:36.000Z"
   },
   {
    "duration": 9,
    "start_time": "2024-07-24T06:33:36.115Z"
   },
   {
    "duration": 25,
    "start_time": "2024-07-24T06:33:36.126Z"
   },
   {
    "duration": 14,
    "start_time": "2024-07-24T06:33:36.153Z"
   },
   {
    "duration": 13,
    "start_time": "2024-07-24T06:33:36.168Z"
   },
   {
    "duration": 28,
    "start_time": "2024-07-24T06:33:36.183Z"
   },
   {
    "duration": 19,
    "start_time": "2024-07-24T06:33:45.812Z"
   },
   {
    "duration": 1043,
    "start_time": "2024-07-24T06:34:04.405Z"
   },
   {
    "duration": 46,
    "start_time": "2024-07-24T06:34:13.291Z"
   },
   {
    "duration": 61,
    "start_time": "2024-07-24T06:35:42.854Z"
   },
   {
    "duration": 3,
    "start_time": "2024-07-24T06:35:53.520Z"
   },
   {
    "duration": 116,
    "start_time": "2024-07-24T06:35:53.525Z"
   },
   {
    "duration": 15,
    "start_time": "2024-07-24T06:35:53.645Z"
   },
   {
    "duration": 2105,
    "start_time": "2024-07-24T06:35:53.662Z"
   },
   {
    "duration": 11,
    "start_time": "2024-07-24T06:35:55.770Z"
   },
   {
    "duration": 7,
    "start_time": "2024-07-24T06:35:55.783Z"
   },
   {
    "duration": 6,
    "start_time": "2024-07-24T06:35:55.792Z"
   },
   {
    "duration": 4,
    "start_time": "2024-07-24T06:35:55.799Z"
   },
   {
    "duration": 10,
    "start_time": "2024-07-24T06:35:55.805Z"
   },
   {
    "duration": 116,
    "start_time": "2024-07-24T06:35:55.846Z"
   },
   {
    "duration": 11,
    "start_time": "2024-07-24T06:35:55.966Z"
   },
   {
    "duration": 10,
    "start_time": "2024-07-24T06:35:55.979Z"
   },
   {
    "duration": 8,
    "start_time": "2024-07-24T06:35:55.991Z"
   },
   {
    "duration": 5,
    "start_time": "2024-07-24T06:35:56.001Z"
   },
   {
    "duration": 55,
    "start_time": "2024-07-24T06:35:56.008Z"
   },
   {
    "duration": 74,
    "start_time": "2024-07-24T06:36:00.270Z"
   },
   {
    "duration": 84,
    "start_time": "2024-07-24T06:36:30.321Z"
   },
   {
    "duration": 23,
    "start_time": "2024-07-24T06:37:16.964Z"
   },
   {
    "duration": 1098,
    "start_time": "2024-07-24T06:37:25.035Z"
   },
   {
    "duration": 24,
    "start_time": "2024-07-24T06:37:34.808Z"
   },
   {
    "duration": 29,
    "start_time": "2024-07-24T06:40:53.203Z"
   },
   {
    "duration": 1229,
    "start_time": "2024-07-24T06:41:24.075Z"
   },
   {
    "duration": 26,
    "start_time": "2024-07-24T06:41:41.237Z"
   },
   {
    "duration": 287,
    "start_time": "2024-07-24T06:41:56.892Z"
   },
   {
    "duration": 290,
    "start_time": "2024-07-24T06:42:29.219Z"
   },
   {
    "duration": 2,
    "start_time": "2024-07-24T06:42:38.888Z"
   },
   {
    "duration": 151,
    "start_time": "2024-07-24T06:42:38.892Z"
   },
   {
    "duration": 16,
    "start_time": "2024-07-24T06:42:39.046Z"
   },
   {
    "duration": 2194,
    "start_time": "2024-07-24T06:42:39.064Z"
   },
   {
    "duration": 11,
    "start_time": "2024-07-24T06:42:41.260Z"
   },
   {
    "duration": 13,
    "start_time": "2024-07-24T06:42:41.273Z"
   },
   {
    "duration": 8,
    "start_time": "2024-07-24T06:42:41.288Z"
   },
   {
    "duration": 5,
    "start_time": "2024-07-24T06:42:41.299Z"
   },
   {
    "duration": 40,
    "start_time": "2024-07-24T06:42:41.306Z"
   },
   {
    "duration": 115,
    "start_time": "2024-07-24T06:42:41.348Z"
   },
   {
    "duration": 9,
    "start_time": "2024-07-24T06:42:41.464Z"
   },
   {
    "duration": 9,
    "start_time": "2024-07-24T06:42:41.475Z"
   },
   {
    "duration": 13,
    "start_time": "2024-07-24T06:42:41.486Z"
   },
   {
    "duration": 18,
    "start_time": "2024-07-24T06:42:41.501Z"
   },
   {
    "duration": 39,
    "start_time": "2024-07-24T06:42:41.520Z"
   },
   {
    "duration": 29,
    "start_time": "2024-07-24T06:42:41.561Z"
   },
   {
    "duration": 21,
    "start_time": "2024-07-24T06:48:19.184Z"
   },
   {
    "duration": 38,
    "start_time": "2024-07-24T06:48:48.053Z"
   },
   {
    "duration": 5,
    "start_time": "2024-07-24T06:49:01.280Z"
   },
   {
    "duration": 5,
    "start_time": "2024-07-24T06:49:26.173Z"
   },
   {
    "duration": 11,
    "start_time": "2024-07-24T06:49:50.161Z"
   },
   {
    "duration": 250,
    "start_time": "2024-07-24T06:52:16.325Z"
   },
   {
    "duration": 16,
    "start_time": "2024-07-24T06:52:32.647Z"
   },
   {
    "duration": 273,
    "start_time": "2024-07-24T06:52:46.926Z"
   },
   {
    "duration": 3,
    "start_time": "2024-07-24T06:53:37.656Z"
   },
   {
    "duration": 144,
    "start_time": "2024-07-24T06:53:37.662Z"
   },
   {
    "duration": 21,
    "start_time": "2024-07-24T06:53:37.808Z"
   },
   {
    "duration": 2197,
    "start_time": "2024-07-24T06:53:37.849Z"
   },
   {
    "duration": 12,
    "start_time": "2024-07-24T06:53:40.047Z"
   },
   {
    "duration": 47,
    "start_time": "2024-07-24T06:53:40.061Z"
   },
   {
    "duration": 24,
    "start_time": "2024-07-24T06:53:40.110Z"
   },
   {
    "duration": 5,
    "start_time": "2024-07-24T06:53:40.136Z"
   },
   {
    "duration": 7,
    "start_time": "2024-07-24T06:53:40.144Z"
   },
   {
    "duration": 128,
    "start_time": "2024-07-24T06:53:40.153Z"
   },
   {
    "duration": 9,
    "start_time": "2024-07-24T06:53:40.283Z"
   },
   {
    "duration": 9,
    "start_time": "2024-07-24T06:53:40.294Z"
   },
   {
    "duration": 9,
    "start_time": "2024-07-24T06:53:40.304Z"
   },
   {
    "duration": 33,
    "start_time": "2024-07-24T06:53:40.314Z"
   },
   {
    "duration": 21,
    "start_time": "2024-07-24T06:53:40.350Z"
   },
   {
    "duration": 15,
    "start_time": "2024-07-24T06:53:40.372Z"
   },
   {
    "duration": 5,
    "start_time": "2024-07-24T06:53:40.389Z"
   },
   {
    "duration": 5,
    "start_time": "2024-07-24T06:53:40.395Z"
   },
   {
    "duration": 45,
    "start_time": "2024-07-24T06:53:40.401Z"
   },
   {
    "duration": 16,
    "start_time": "2024-07-24T06:53:40.448Z"
   },
   {
    "duration": 5,
    "start_time": "2024-07-24T06:53:40.466Z"
   },
   {
    "duration": 19,
    "start_time": "2024-07-24T06:53:40.473Z"
   },
   {
    "duration": 17,
    "start_time": "2024-07-24T06:53:40.494Z"
   },
   {
    "duration": 77,
    "start_time": "2024-07-24T06:53:40.513Z"
   },
   {
    "duration": 43,
    "start_time": "2024-07-24T06:53:40.592Z"
   },
   {
    "duration": 362,
    "start_time": "2024-07-24T06:53:40.646Z"
   },
   {
    "duration": 25,
    "start_time": "2024-07-24T06:53:41.009Z"
   },
   {
    "duration": 6,
    "start_time": "2024-07-24T06:53:41.045Z"
   },
   {
    "duration": 1527,
    "start_time": "2024-07-24T06:53:41.052Z"
   },
   {
    "duration": 459,
    "start_time": "2024-07-24T06:53:42.581Z"
   },
   {
    "duration": 287,
    "start_time": "2024-07-24T06:53:43.042Z"
   },
   {
    "duration": 279,
    "start_time": "2024-07-24T06:53:43.331Z"
   },
   {
    "duration": 271,
    "start_time": "2024-07-24T06:53:43.612Z"
   },
   {
    "duration": 274,
    "start_time": "2024-07-24T06:53:43.885Z"
   },
   {
    "duration": 359,
    "start_time": "2024-07-24T06:53:44.161Z"
   },
   {
    "duration": 254,
    "start_time": "2024-07-24T06:53:44.521Z"
   },
   {
    "duration": 297,
    "start_time": "2024-07-24T06:53:44.777Z"
   },
   {
    "duration": 272,
    "start_time": "2024-07-24T06:53:45.076Z"
   },
   {
    "duration": 42,
    "start_time": "2024-07-24T06:53:45.349Z"
   },
   {
    "duration": 277,
    "start_time": "2024-07-24T06:53:45.393Z"
   },
   {
    "duration": 8,
    "start_time": "2024-07-24T06:53:45.672Z"
   },
   {
    "duration": 267,
    "start_time": "2024-07-24T06:53:45.685Z"
   },
   {
    "duration": 366,
    "start_time": "2024-07-24T06:53:45.954Z"
   },
   {
    "duration": 269,
    "start_time": "2024-07-24T06:53:46.322Z"
   },
   {
    "duration": 278,
    "start_time": "2024-07-24T06:53:46.594Z"
   },
   {
    "duration": 236,
    "start_time": "2024-07-24T06:54:41.789Z"
   },
   {
    "duration": 1509,
    "start_time": "2024-07-24T06:56:01.301Z"
   },
   {
    "duration": 1018,
    "start_time": "2024-07-24T06:56:18.172Z"
   },
   {
    "duration": 798,
    "start_time": "2024-07-24T06:56:26.720Z"
   },
   {
    "duration": 1013,
    "start_time": "2024-07-24T06:57:14.336Z"
   },
   {
    "duration": 68,
    "start_time": "2024-07-24T06:57:17.985Z"
   },
   {
    "duration": 64,
    "start_time": "2024-07-24T06:57:21.831Z"
   },
   {
    "duration": 2192,
    "start_time": "2024-07-24T06:57:24.752Z"
   },
   {
    "duration": 2117,
    "start_time": "2024-07-24T06:57:28.073Z"
   },
   {
    "duration": 176,
    "start_time": "2024-07-24T06:57:42.854Z"
   },
   {
    "duration": 277,
    "start_time": "2024-07-24T06:57:50.918Z"
   },
   {
    "duration": 134,
    "start_time": "2024-07-24T06:59:35.756Z"
   },
   {
    "duration": 44,
    "start_time": "2024-07-24T06:59:51.389Z"
   },
   {
    "duration": 8,
    "start_time": "2024-07-24T07:00:10.009Z"
   },
   {
    "duration": 18,
    "start_time": "2024-07-24T07:00:29.672Z"
   },
   {
    "duration": 5,
    "start_time": "2024-07-24T07:00:52.512Z"
   },
   {
    "duration": 27,
    "start_time": "2024-07-24T07:01:11.150Z"
   },
   {
    "duration": 10,
    "start_time": "2024-07-24T07:01:25.815Z"
   },
   {
    "duration": 10,
    "start_time": "2024-07-24T07:03:09.601Z"
   },
   {
    "duration": 1164,
    "start_time": "2024-07-24T07:03:21.486Z"
   },
   {
    "duration": 8,
    "start_time": "2024-07-24T07:03:29.572Z"
   },
   {
    "duration": 7,
    "start_time": "2024-07-24T07:03:39.424Z"
   },
   {
    "duration": 9,
    "start_time": "2024-07-24T07:03:51.583Z"
   },
   {
    "duration": 7,
    "start_time": "2024-07-24T07:04:06.566Z"
   },
   {
    "duration": 8,
    "start_time": "2024-07-24T07:04:35.366Z"
   },
   {
    "duration": 8,
    "start_time": "2024-07-24T07:04:48.607Z"
   },
   {
    "duration": 7,
    "start_time": "2024-07-24T07:07:28.227Z"
   },
   {
    "duration": 18,
    "start_time": "2024-07-24T07:07:39.126Z"
   },
   {
    "duration": 7,
    "start_time": "2024-07-24T07:07:45.557Z"
   },
   {
    "duration": 7,
    "start_time": "2024-07-24T07:07:53.790Z"
   },
   {
    "duration": 7,
    "start_time": "2024-07-24T07:08:16.887Z"
   },
   {
    "duration": 7,
    "start_time": "2024-07-24T07:08:22.241Z"
   },
   {
    "duration": 76,
    "start_time": "2024-07-24T07:13:19.590Z"
   },
   {
    "duration": 307,
    "start_time": "2024-07-24T07:13:32.549Z"
   },
   {
    "duration": 3,
    "start_time": "2024-07-24T07:14:02.899Z"
   },
   {
    "duration": 157,
    "start_time": "2024-07-24T07:14:02.907Z"
   },
   {
    "duration": 15,
    "start_time": "2024-07-24T07:14:03.066Z"
   },
   {
    "duration": 2106,
    "start_time": "2024-07-24T07:14:03.083Z"
   },
   {
    "duration": 11,
    "start_time": "2024-07-24T07:14:05.192Z"
   },
   {
    "duration": 15,
    "start_time": "2024-07-24T07:14:05.204Z"
   },
   {
    "duration": 25,
    "start_time": "2024-07-24T07:14:05.221Z"
   },
   {
    "duration": 4,
    "start_time": "2024-07-24T07:14:05.248Z"
   },
   {
    "duration": 21,
    "start_time": "2024-07-24T07:14:05.254Z"
   },
   {
    "duration": 118,
    "start_time": "2024-07-24T07:14:05.277Z"
   },
   {
    "duration": 8,
    "start_time": "2024-07-24T07:14:05.398Z"
   },
   {
    "duration": 8,
    "start_time": "2024-07-24T07:14:05.408Z"
   },
   {
    "duration": 6,
    "start_time": "2024-07-24T07:14:05.417Z"
   },
   {
    "duration": 3,
    "start_time": "2024-07-24T07:14:05.446Z"
   },
   {
    "duration": 26,
    "start_time": "2024-07-24T07:14:05.450Z"
   },
   {
    "duration": 14,
    "start_time": "2024-07-24T07:14:05.477Z"
   },
   {
    "duration": 5,
    "start_time": "2024-07-24T07:14:05.493Z"
   },
   {
    "duration": 6,
    "start_time": "2024-07-24T07:14:05.499Z"
   },
   {
    "duration": 21,
    "start_time": "2024-07-24T07:14:05.506Z"
   },
   {
    "duration": 16,
    "start_time": "2024-07-24T07:14:05.545Z"
   },
   {
    "duration": 18,
    "start_time": "2024-07-24T07:14:05.563Z"
   },
   {
    "duration": 24,
    "start_time": "2024-07-24T07:14:05.582Z"
   },
   {
    "duration": 22,
    "start_time": "2024-07-24T07:14:05.608Z"
   },
   {
    "duration": 26,
    "start_time": "2024-07-24T07:14:05.631Z"
   },
   {
    "duration": 31,
    "start_time": "2024-07-24T07:14:05.658Z"
   },
   {
    "duration": 472,
    "start_time": "2024-07-24T07:14:05.691Z"
   },
   {
    "duration": 24,
    "start_time": "2024-07-24T07:14:06.164Z"
   },
   {
    "duration": 29,
    "start_time": "2024-07-24T07:14:06.189Z"
   },
   {
    "duration": 1513,
    "start_time": "2024-07-24T07:14:06.221Z"
   },
   {
    "duration": 250,
    "start_time": "2024-07-24T07:14:07.736Z"
   },
   {
    "duration": 266,
    "start_time": "2024-07-24T07:14:07.988Z"
   },
   {
    "duration": 293,
    "start_time": "2024-07-24T07:14:08.256Z"
   },
   {
    "duration": 299,
    "start_time": "2024-07-24T07:14:08.551Z"
   },
   {
    "duration": 433,
    "start_time": "2024-07-24T07:14:08.852Z"
   },
   {
    "duration": 254,
    "start_time": "2024-07-24T07:14:09.286Z"
   },
   {
    "duration": 234,
    "start_time": "2024-07-24T07:14:09.545Z"
   },
   {
    "duration": 281,
    "start_time": "2024-07-24T07:14:09.780Z"
   },
   {
    "duration": 242,
    "start_time": "2024-07-24T07:14:10.063Z"
   },
   {
    "duration": 61,
    "start_time": "2024-07-24T07:14:10.307Z"
   },
   {
    "duration": 253,
    "start_time": "2024-07-24T07:14:10.370Z"
   },
   {
    "duration": 6,
    "start_time": "2024-07-24T07:14:10.625Z"
   },
   {
    "duration": 376,
    "start_time": "2024-07-24T07:14:10.633Z"
   },
   {
    "duration": 227,
    "start_time": "2024-07-24T07:14:11.010Z"
   },
   {
    "duration": 243,
    "start_time": "2024-07-24T07:14:11.239Z"
   },
   {
    "duration": 257,
    "start_time": "2024-07-24T07:14:11.484Z"
   },
   {
    "duration": 236,
    "start_time": "2024-07-24T07:14:11.746Z"
   },
   {
    "duration": 2,
    "start_time": "2024-07-24T07:14:11.984Z"
   },
   {
    "duration": 915,
    "start_time": "2024-07-24T07:14:11.988Z"
   },
   {
    "duration": 269,
    "start_time": "2024-07-24T07:14:12.904Z"
   },
   {
    "duration": 6,
    "start_time": "2024-07-24T07:14:13.175Z"
   },
   {
    "duration": 74,
    "start_time": "2024-07-24T07:15:08.366Z"
   },
   {
    "duration": 433,
    "start_time": "2024-07-24T07:15:10.376Z"
   },
   {
    "duration": 3,
    "start_time": "2024-07-24T07:15:43.467Z"
   },
   {
    "duration": 139,
    "start_time": "2024-07-24T07:15:43.473Z"
   },
   {
    "duration": 34,
    "start_time": "2024-07-24T07:15:43.613Z"
   },
   {
    "duration": 1949,
    "start_time": "2024-07-24T07:15:43.649Z"
   },
   {
    "duration": 13,
    "start_time": "2024-07-24T07:15:45.601Z"
   },
   {
    "duration": 9,
    "start_time": "2024-07-24T07:15:45.616Z"
   },
   {
    "duration": 9,
    "start_time": "2024-07-24T07:15:45.647Z"
   },
   {
    "duration": 6,
    "start_time": "2024-07-24T07:15:45.658Z"
   },
   {
    "duration": 12,
    "start_time": "2024-07-24T07:15:45.666Z"
   },
   {
    "duration": 109,
    "start_time": "2024-07-24T07:15:45.680Z"
   },
   {
    "duration": 8,
    "start_time": "2024-07-24T07:15:45.790Z"
   },
   {
    "duration": 9,
    "start_time": "2024-07-24T07:15:45.799Z"
   },
   {
    "duration": 37,
    "start_time": "2024-07-24T07:15:45.809Z"
   },
   {
    "duration": 9,
    "start_time": "2024-07-24T07:15:45.847Z"
   },
   {
    "duration": 20,
    "start_time": "2024-07-24T07:15:45.857Z"
   },
   {
    "duration": 24,
    "start_time": "2024-07-24T07:15:45.879Z"
   },
   {
    "duration": 14,
    "start_time": "2024-07-24T07:15:45.905Z"
   },
   {
    "duration": 8,
    "start_time": "2024-07-24T07:15:45.921Z"
   },
   {
    "duration": 14,
    "start_time": "2024-07-24T07:15:45.931Z"
   },
   {
    "duration": 16,
    "start_time": "2024-07-24T07:15:45.947Z"
   },
   {
    "duration": 4,
    "start_time": "2024-07-24T07:15:45.965Z"
   },
   {
    "duration": 16,
    "start_time": "2024-07-24T07:15:45.971Z"
   },
   {
    "duration": 20,
    "start_time": "2024-07-24T07:15:45.989Z"
   },
   {
    "duration": 49,
    "start_time": "2024-07-24T07:15:46.013Z"
   },
   {
    "duration": 32,
    "start_time": "2024-07-24T07:15:46.063Z"
   },
   {
    "duration": 503,
    "start_time": "2024-07-24T07:15:46.097Z"
   },
   {
    "duration": 23,
    "start_time": "2024-07-24T07:15:46.602Z"
   },
   {
    "duration": 21,
    "start_time": "2024-07-24T07:15:46.627Z"
   },
   {
    "duration": 1506,
    "start_time": "2024-07-24T07:15:46.650Z"
   },
   {
    "duration": 259,
    "start_time": "2024-07-24T07:15:48.158Z"
   },
   {
    "duration": 319,
    "start_time": "2024-07-24T07:15:48.419Z"
   },
   {
    "duration": 263,
    "start_time": "2024-07-24T07:15:48.745Z"
   },
   {
    "duration": 251,
    "start_time": "2024-07-24T07:15:49.009Z"
   },
   {
    "duration": 442,
    "start_time": "2024-07-24T07:15:49.262Z"
   },
   {
    "duration": 262,
    "start_time": "2024-07-24T07:15:49.705Z"
   },
   {
    "duration": 250,
    "start_time": "2024-07-24T07:15:49.969Z"
   },
   {
    "duration": 304,
    "start_time": "2024-07-24T07:15:50.221Z"
   },
   {
    "duration": 256,
    "start_time": "2024-07-24T07:15:50.527Z"
   },
   {
    "duration": 36,
    "start_time": "2024-07-24T07:15:50.785Z"
   },
   {
    "duration": 377,
    "start_time": "2024-07-24T07:15:50.824Z"
   },
   {
    "duration": 8,
    "start_time": "2024-07-24T07:15:51.202Z"
   },
   {
    "duration": 264,
    "start_time": "2024-07-24T07:15:51.212Z"
   },
   {
    "duration": 254,
    "start_time": "2024-07-24T07:15:51.478Z"
   },
   {
    "duration": 257,
    "start_time": "2024-07-24T07:15:51.733Z"
   },
   {
    "duration": 271,
    "start_time": "2024-07-24T07:15:51.991Z"
   },
   {
    "duration": 241,
    "start_time": "2024-07-24T07:15:52.264Z"
   },
   {
    "duration": 2,
    "start_time": "2024-07-24T07:15:52.507Z"
   },
   {
    "duration": 891,
    "start_time": "2024-07-24T07:15:52.511Z"
   },
   {
    "duration": 259,
    "start_time": "2024-07-24T07:15:53.403Z"
   },
   {
    "duration": 6,
    "start_time": "2024-07-24T07:15:53.663Z"
   },
   {
    "duration": 7,
    "start_time": "2024-07-24T07:16:04.124Z"
   },
   {
    "duration": 261,
    "start_time": "2024-07-24T07:16:06.560Z"
   },
   {
    "duration": 378,
    "start_time": "2024-07-24T07:16:15.586Z"
   },
   {
    "duration": 9,
    "start_time": "2024-07-24T07:16:29.244Z"
   },
   {
    "duration": 255,
    "start_time": "2024-07-24T07:16:31.511Z"
   }
  ],
  "colab": {
   "provenance": []
  },
  "kernelspec": {
   "display_name": "Python 3 (ipykernel)",
   "language": "python",
   "name": "python3"
  },
  "language_info": {
   "codemirror_mode": {
    "name": "ipython",
    "version": 3
   },
   "file_extension": ".py",
   "mimetype": "text/x-python",
   "name": "python",
   "nbconvert_exporter": "python",
   "pygments_lexer": "ipython3",
   "version": "3.12.4"
  },
  "toc": {
   "base_numbering": 1,
   "nav_menu": {},
   "number_sections": true,
   "sideBar": true,
   "skip_h1_title": true,
   "title_cell": "Table of Contents",
   "title_sidebar": "Contents",
   "toc_cell": false,
   "toc_position": {},
   "toc_section_display": true,
   "toc_window_display": false
  }
 },
 "nbformat": 4,
 "nbformat_minor": 4
}
